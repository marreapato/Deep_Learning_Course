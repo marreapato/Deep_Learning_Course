{
  "cells": [
    {
      "cell_type": "markdown",
      "metadata": {
        "id": "view-in-github",
        "colab_type": "text"
      },
      "source": [
        "<a href=\"https://colab.research.google.com/github/marreapato/Deep_Learning_Course/blob/main/final_project_mlcrs_course_models_gridsearch/My_FinalProjectAssignment.ipynb\" target=\"_parent\"><img src=\"https://colab.research.google.com/assets/colab-badge.svg\" alt=\"Open In Colab\"/></a>"
      ]
    },
    {
      "cell_type": "code",
      "source": [
        "from google.colab import drive\n",
        "drive.mount('/content/gdrive', force_remount=True)"
      ],
      "metadata": {
        "colab": {
          "base_uri": "https://localhost:8080/"
        },
        "id": "LOkmsz4K98OI",
        "outputId": "badbee10-718b-43c9-c80b-45737bb72ddb"
      },
      "execution_count": null,
      "outputs": [
        {
          "output_type": "stream",
          "name": "stdout",
          "text": [
            "Mounted at /content/gdrive\n"
          ]
        }
      ]
    },
    {
      "cell_type": "code",
      "source": [
        "%cd /content/gdrive/MyDrive/mlcrs\n",
        "\n",
        "!ls"
      ],
      "metadata": {
        "colab": {
          "base_uri": "https://localhost:8080/"
        },
        "id": "Qlyu1YCX98jB",
        "outputId": "43053c51-f1a4-43e1-93d5-b627794dc091"
      },
      "execution_count": null,
      "outputs": [
        {
          "output_type": "stream",
          "name": "stdout",
          "text": [
            "/content/gdrive/MyDrive/mlcrs\n",
            "access_log.txt\t\t\t      KFoldCrossValidation.ipynb     Percentiles.ipynb\n",
            "breakfast.jpg\t\t\t      KMeans.ipynb\t\t     PoliticsExercise.ipynb\n",
            "bridge.jpg\t\t\t      LinearRegression.ipynb\t     PolynomialRegression.ipynb\n",
            "bunny.jpg\t\t\t      mammographic_masses.data.txt   Python101.ipynb\n",
            "castle.jpg\t\t\t      mammographic_masses.names.txt  regression.txt\n",
            "ConditionalProbabilityExercise.ipynb  mammo_masses_project.ipynb     Seaborn.ipynb\n",
            "ConditionalProbabilitySolution.ipynb  MatPlotLib.ipynb\t\t     SparkDecisionTree.py\n",
            "CovarianceCorrelation.ipynb\t      MeanMedianExercise.ipynb\t     SparkKMeans.py\n",
            "DecisionTree.ipynb\t\t      MeanMedianMode.ipynb\t     SparkLinearRegression.py\n",
            "DeepLearningProject.ipynb\t      ml-100k\t\t\t     SparkPCA.py\n",
            "DeepLearningProject-Solution.ipynb    MLCourse.zip\t\t     StdDevVariance.ipynb\n",
            "distancerecomendation-KNN.ipynb       mlcrsItemBasedCF.ipynb\t     subset-small.tsv\n",
            "Distributions.ipynb\t\t      mlcrsQ-Learning.ipynb\t     SVC.ipynb\n",
            "emails\t\t\t\t      mlcrs_SimilarMovies.ipynb      Tensorflow.ipynb\n",
            "fighterjet.jpg\t\t\t      MNIST_data\t\t     TF-IDF.py\n",
            "FinalProjectAssignment.ipynb\t      Moments.ipynb\t\t     TopPages.ipynb\n",
            "firetruck.jpg\t\t\t      MultipleRegression.ipynb\t     TrainTest.ipynb\n",
            "GAN_on_Fashion_MNIST.ipynb\t      MyPlot.png\t\t     TransferLearning.ipynb\n",
            "GenAI\t\t\t\t      NaiveBayes.ipynb\t\t     TTest.ipynb\n",
            "house-votes-84.data.txt\t\t      Outliers.ipynb\t\t     VariationalAutoEncoders.ipynb\n",
            "house-votes-84.names.txt\t      PandasTutorial.ipynb\t     VLA.jpg\n",
            "Keras-CNN.ipynb\t\t\t      PastHires.csv\t\t     XGBoost.ipynb\n",
            "Keras.ipynb\t\t\t      PCA.ipynb\n",
            "Keras-RNN.ipynb\t\t\t      peek.jpg\n"
          ]
        }
      ]
    },
    {
      "cell_type": "code",
      "source": [
        "data_dir = \"/content/gdrive/MyDrive/mlcrs/mammographic_masses.data.txt\"\n",
        "data_dir1 = \"/content/gdrive/MyDrive/mlcrs/mammographic_masses.names.txt\""
      ],
      "metadata": {
        "id": "GWfrihJ49-M3"
      },
      "execution_count": null,
      "outputs": []
    },
    {
      "cell_type": "markdown",
      "metadata": {
        "deletable": true,
        "editable": true,
        "id": "eA34vaLsLhGJ"
      },
      "source": [
        "# Final Project\n",
        "\n",
        "## Predict whether a mammogram mass is benign or malignant\n",
        "\n",
        "We'll be using the \"mammographic masses\" public dataset from the UCI repository (source: https://archive.ics.uci.edu/ml/datasets/Mammographic+Mass)\n",
        "\n",
        "This data contains 961 instances of masses detected in mammograms, and contains the following attributes:\n",
        "\n",
        "\n",
        "   1. BI-RADS assessment: 1 to 5 (ordinal)  \n",
        "   2. Age: patient's age in years (integer)\n",
        "   3. Shape: mass shape: round=1 oval=2 lobular=3 irregular=4 (nominal)\n",
        "   4. Margin: mass margin: circumscribed=1 microlobulated=2 obscured=3 ill-defined=4 spiculated=5 (nominal)\n",
        "   5. Density: mass density high=1 iso=2 low=3 fat-containing=4 (ordinal)\n",
        "   6. Severity: benign=0 or malignant=1 (binominal)\n",
        "   \n",
        "BI-RADS is an assesment of how confident the severity classification is; it is not a \"predictive\" attribute and so we will discard it. The age, shape, margin, and density attributes are the features that we will build our model with, and \"severity\" is the classification we will attempt to predict based on those attributes.\n",
        "\n",
        "Although \"shape\" and \"margin\" are nominal data types, which sklearn typically doesn't deal with well, they are close enough to ordinal that we shouldn't just discard them. The \"shape\" for example is ordered increasingly from round to irregular.\n",
        "\n",
        "A lot of unnecessary anguish and surgery arises from false positives arising from mammogram results. If we can build a better way to interpret them through supervised machine learning, it could improve a lot of lives.\n",
        "\n",
        "## Your assignment\n",
        "\n",
        "Apply several different supervised machine learning techniques to this data set, and see which one yields the highest accuracy as measured with K-Fold cross validation (K=10). Apply:\n",
        "\n",
        "* Decision tree\n",
        "* Random forest\n",
        "* KNN\n",
        "* Naive Bayes\n",
        "* SVM\n",
        "* Logistic Regression\n",
        "* And, as a bonus challenge, a neural network using Keras.\n",
        "\n",
        "The data needs to be cleaned; many rows contain missing data, and there may be erroneous data identifiable as outliers as well.\n",
        "\n",
        "Remember some techniques such as SVM also require the input data to be normalized first.\n",
        "\n",
        "Many techniques also have \"hyperparameters\" that need to be tuned. Once you identify a promising approach, see if you can make it even better by tuning its hyperparameters.\n",
        "\n",
        "I was able to achieve over 80% accuracy - can you beat that?\n",
        "\n",
        "Below I've set up an outline of a notebook for this project, with some guidance and hints. If you're up for a real challenge, try doing this project from scratch in a new, clean notebook!\n"
      ]
    },
    {
      "cell_type": "markdown",
      "metadata": {
        "deletable": true,
        "editable": true,
        "id": "irHaO1u9LhGP"
      },
      "source": [
        "## Let's begin: prepare your data\n",
        "\n",
        "Start by importing the mammographic_masses.data.txt file into a Pandas dataframe (hint: use read_csv) and take a look at it."
      ]
    },
    {
      "cell_type": "code",
      "execution_count": null,
      "metadata": {
        "deletable": true,
        "editable": true,
        "id": "I5amcgl8LhGQ",
        "colab": {
          "base_uri": "https://localhost:8080/",
          "height": 206
        },
        "outputId": "ce8cd28d-4610-42d5-cfda-fc42aeecce09"
      },
      "outputs": [
        {
          "output_type": "execute_result",
          "data": {
            "text/plain": [
              "     0     1    2    3    4  5\n",
              "0  5.0  67.0  3.0  5.0  3.0  1\n",
              "1  4.0  43.0  1.0  1.0  NaN  1\n",
              "2  5.0  58.0  4.0  5.0  3.0  1\n",
              "3  4.0  28.0  1.0  1.0  3.0  0\n",
              "4  5.0  74.0  1.0  5.0  NaN  1"
            ],
            "text/html": [
              "\n",
              "  <div id=\"df-cbe49b33-f631-49f2-922c-edcf55d032e2\" class=\"colab-df-container\">\n",
              "    <div>\n",
              "<style scoped>\n",
              "    .dataframe tbody tr th:only-of-type {\n",
              "        vertical-align: middle;\n",
              "    }\n",
              "\n",
              "    .dataframe tbody tr th {\n",
              "        vertical-align: top;\n",
              "    }\n",
              "\n",
              "    .dataframe thead th {\n",
              "        text-align: right;\n",
              "    }\n",
              "</style>\n",
              "<table border=\"1\" class=\"dataframe\">\n",
              "  <thead>\n",
              "    <tr style=\"text-align: right;\">\n",
              "      <th></th>\n",
              "      <th>0</th>\n",
              "      <th>1</th>\n",
              "      <th>2</th>\n",
              "      <th>3</th>\n",
              "      <th>4</th>\n",
              "      <th>5</th>\n",
              "    </tr>\n",
              "  </thead>\n",
              "  <tbody>\n",
              "    <tr>\n",
              "      <th>0</th>\n",
              "      <td>5.0</td>\n",
              "      <td>67.0</td>\n",
              "      <td>3.0</td>\n",
              "      <td>5.0</td>\n",
              "      <td>3.0</td>\n",
              "      <td>1</td>\n",
              "    </tr>\n",
              "    <tr>\n",
              "      <th>1</th>\n",
              "      <td>4.0</td>\n",
              "      <td>43.0</td>\n",
              "      <td>1.0</td>\n",
              "      <td>1.0</td>\n",
              "      <td>NaN</td>\n",
              "      <td>1</td>\n",
              "    </tr>\n",
              "    <tr>\n",
              "      <th>2</th>\n",
              "      <td>5.0</td>\n",
              "      <td>58.0</td>\n",
              "      <td>4.0</td>\n",
              "      <td>5.0</td>\n",
              "      <td>3.0</td>\n",
              "      <td>1</td>\n",
              "    </tr>\n",
              "    <tr>\n",
              "      <th>3</th>\n",
              "      <td>4.0</td>\n",
              "      <td>28.0</td>\n",
              "      <td>1.0</td>\n",
              "      <td>1.0</td>\n",
              "      <td>3.0</td>\n",
              "      <td>0</td>\n",
              "    </tr>\n",
              "    <tr>\n",
              "      <th>4</th>\n",
              "      <td>5.0</td>\n",
              "      <td>74.0</td>\n",
              "      <td>1.0</td>\n",
              "      <td>5.0</td>\n",
              "      <td>NaN</td>\n",
              "      <td>1</td>\n",
              "    </tr>\n",
              "  </tbody>\n",
              "</table>\n",
              "</div>\n",
              "    <div class=\"colab-df-buttons\">\n",
              "\n",
              "  <div class=\"colab-df-container\">\n",
              "    <button class=\"colab-df-convert\" onclick=\"convertToInteractive('df-cbe49b33-f631-49f2-922c-edcf55d032e2')\"\n",
              "            title=\"Convert this dataframe to an interactive table.\"\n",
              "            style=\"display:none;\">\n",
              "\n",
              "  <svg xmlns=\"http://www.w3.org/2000/svg\" height=\"24px\" viewBox=\"0 -960 960 960\">\n",
              "    <path d=\"M120-120v-720h720v720H120Zm60-500h600v-160H180v160Zm220 220h160v-160H400v160Zm0 220h160v-160H400v160ZM180-400h160v-160H180v160Zm440 0h160v-160H620v160ZM180-180h160v-160H180v160Zm440 0h160v-160H620v160Z\"/>\n",
              "  </svg>\n",
              "    </button>\n",
              "\n",
              "  <style>\n",
              "    .colab-df-container {\n",
              "      display:flex;\n",
              "      gap: 12px;\n",
              "    }\n",
              "\n",
              "    .colab-df-convert {\n",
              "      background-color: #E8F0FE;\n",
              "      border: none;\n",
              "      border-radius: 50%;\n",
              "      cursor: pointer;\n",
              "      display: none;\n",
              "      fill: #1967D2;\n",
              "      height: 32px;\n",
              "      padding: 0 0 0 0;\n",
              "      width: 32px;\n",
              "    }\n",
              "\n",
              "    .colab-df-convert:hover {\n",
              "      background-color: #E2EBFA;\n",
              "      box-shadow: 0px 1px 2px rgba(60, 64, 67, 0.3), 0px 1px 3px 1px rgba(60, 64, 67, 0.15);\n",
              "      fill: #174EA6;\n",
              "    }\n",
              "\n",
              "    .colab-df-buttons div {\n",
              "      margin-bottom: 4px;\n",
              "    }\n",
              "\n",
              "    [theme=dark] .colab-df-convert {\n",
              "      background-color: #3B4455;\n",
              "      fill: #D2E3FC;\n",
              "    }\n",
              "\n",
              "    [theme=dark] .colab-df-convert:hover {\n",
              "      background-color: #434B5C;\n",
              "      box-shadow: 0px 1px 3px 1px rgba(0, 0, 0, 0.15);\n",
              "      filter: drop-shadow(0px 1px 2px rgba(0, 0, 0, 0.3));\n",
              "      fill: #FFFFFF;\n",
              "    }\n",
              "  </style>\n",
              "\n",
              "    <script>\n",
              "      const buttonEl =\n",
              "        document.querySelector('#df-cbe49b33-f631-49f2-922c-edcf55d032e2 button.colab-df-convert');\n",
              "      buttonEl.style.display =\n",
              "        google.colab.kernel.accessAllowed ? 'block' : 'none';\n",
              "\n",
              "      async function convertToInteractive(key) {\n",
              "        const element = document.querySelector('#df-cbe49b33-f631-49f2-922c-edcf55d032e2');\n",
              "        const dataTable =\n",
              "          await google.colab.kernel.invokeFunction('convertToInteractive',\n",
              "                                                    [key], {});\n",
              "        if (!dataTable) return;\n",
              "\n",
              "        const docLinkHtml = 'Like what you see? Visit the ' +\n",
              "          '<a target=\"_blank\" href=https://colab.research.google.com/notebooks/data_table.ipynb>data table notebook</a>'\n",
              "          + ' to learn more about interactive tables.';\n",
              "        element.innerHTML = '';\n",
              "        dataTable['output_type'] = 'display_data';\n",
              "        await google.colab.output.renderOutput(dataTable, element);\n",
              "        const docLink = document.createElement('div');\n",
              "        docLink.innerHTML = docLinkHtml;\n",
              "        element.appendChild(docLink);\n",
              "      }\n",
              "    </script>\n",
              "  </div>\n",
              "\n",
              "\n",
              "<div id=\"df-25bd352b-f746-4cea-995d-cd0ea9456f5e\">\n",
              "  <button class=\"colab-df-quickchart\" onclick=\"quickchart('df-25bd352b-f746-4cea-995d-cd0ea9456f5e')\"\n",
              "            title=\"Suggest charts\"\n",
              "            style=\"display:none;\">\n",
              "\n",
              "<svg xmlns=\"http://www.w3.org/2000/svg\" height=\"24px\"viewBox=\"0 0 24 24\"\n",
              "     width=\"24px\">\n",
              "    <g>\n",
              "        <path d=\"M19 3H5c-1.1 0-2 .9-2 2v14c0 1.1.9 2 2 2h14c1.1 0 2-.9 2-2V5c0-1.1-.9-2-2-2zM9 17H7v-7h2v7zm4 0h-2V7h2v10zm4 0h-2v-4h2v4z\"/>\n",
              "    </g>\n",
              "</svg>\n",
              "  </button>\n",
              "\n",
              "<style>\n",
              "  .colab-df-quickchart {\n",
              "      --bg-color: #E8F0FE;\n",
              "      --fill-color: #1967D2;\n",
              "      --hover-bg-color: #E2EBFA;\n",
              "      --hover-fill-color: #174EA6;\n",
              "      --disabled-fill-color: #AAA;\n",
              "      --disabled-bg-color: #DDD;\n",
              "  }\n",
              "\n",
              "  [theme=dark] .colab-df-quickchart {\n",
              "      --bg-color: #3B4455;\n",
              "      --fill-color: #D2E3FC;\n",
              "      --hover-bg-color: #434B5C;\n",
              "      --hover-fill-color: #FFFFFF;\n",
              "      --disabled-bg-color: #3B4455;\n",
              "      --disabled-fill-color: #666;\n",
              "  }\n",
              "\n",
              "  .colab-df-quickchart {\n",
              "    background-color: var(--bg-color);\n",
              "    border: none;\n",
              "    border-radius: 50%;\n",
              "    cursor: pointer;\n",
              "    display: none;\n",
              "    fill: var(--fill-color);\n",
              "    height: 32px;\n",
              "    padding: 0;\n",
              "    width: 32px;\n",
              "  }\n",
              "\n",
              "  .colab-df-quickchart:hover {\n",
              "    background-color: var(--hover-bg-color);\n",
              "    box-shadow: 0 1px 2px rgba(60, 64, 67, 0.3), 0 1px 3px 1px rgba(60, 64, 67, 0.15);\n",
              "    fill: var(--button-hover-fill-color);\n",
              "  }\n",
              "\n",
              "  .colab-df-quickchart-complete:disabled,\n",
              "  .colab-df-quickchart-complete:disabled:hover {\n",
              "    background-color: var(--disabled-bg-color);\n",
              "    fill: var(--disabled-fill-color);\n",
              "    box-shadow: none;\n",
              "  }\n",
              "\n",
              "  .colab-df-spinner {\n",
              "    border: 2px solid var(--fill-color);\n",
              "    border-color: transparent;\n",
              "    border-bottom-color: var(--fill-color);\n",
              "    animation:\n",
              "      spin 1s steps(1) infinite;\n",
              "  }\n",
              "\n",
              "  @keyframes spin {\n",
              "    0% {\n",
              "      border-color: transparent;\n",
              "      border-bottom-color: var(--fill-color);\n",
              "      border-left-color: var(--fill-color);\n",
              "    }\n",
              "    20% {\n",
              "      border-color: transparent;\n",
              "      border-left-color: var(--fill-color);\n",
              "      border-top-color: var(--fill-color);\n",
              "    }\n",
              "    30% {\n",
              "      border-color: transparent;\n",
              "      border-left-color: var(--fill-color);\n",
              "      border-top-color: var(--fill-color);\n",
              "      border-right-color: var(--fill-color);\n",
              "    }\n",
              "    40% {\n",
              "      border-color: transparent;\n",
              "      border-right-color: var(--fill-color);\n",
              "      border-top-color: var(--fill-color);\n",
              "    }\n",
              "    60% {\n",
              "      border-color: transparent;\n",
              "      border-right-color: var(--fill-color);\n",
              "    }\n",
              "    80% {\n",
              "      border-color: transparent;\n",
              "      border-right-color: var(--fill-color);\n",
              "      border-bottom-color: var(--fill-color);\n",
              "    }\n",
              "    90% {\n",
              "      border-color: transparent;\n",
              "      border-bottom-color: var(--fill-color);\n",
              "    }\n",
              "  }\n",
              "</style>\n",
              "\n",
              "  <script>\n",
              "    async function quickchart(key) {\n",
              "      const quickchartButtonEl =\n",
              "        document.querySelector('#' + key + ' button');\n",
              "      quickchartButtonEl.disabled = true;  // To prevent multiple clicks.\n",
              "      quickchartButtonEl.classList.add('colab-df-spinner');\n",
              "      try {\n",
              "        const charts = await google.colab.kernel.invokeFunction(\n",
              "            'suggestCharts', [key], {});\n",
              "      } catch (error) {\n",
              "        console.error('Error during call to suggestCharts:', error);\n",
              "      }\n",
              "      quickchartButtonEl.classList.remove('colab-df-spinner');\n",
              "      quickchartButtonEl.classList.add('colab-df-quickchart-complete');\n",
              "    }\n",
              "    (() => {\n",
              "      let quickchartButtonEl =\n",
              "        document.querySelector('#df-25bd352b-f746-4cea-995d-cd0ea9456f5e button');\n",
              "      quickchartButtonEl.style.display =\n",
              "        google.colab.kernel.accessAllowed ? 'block' : 'none';\n",
              "    })();\n",
              "  </script>\n",
              "</div>\n",
              "\n",
              "    </div>\n",
              "  </div>\n"
            ]
          },
          "metadata": {},
          "execution_count": 7
        }
      ],
      "source": [
        "import pandas as pd\n",
        "\n",
        "data_mam = pd.read_csv(data_dir, header = None, na_values=\"?\")\n",
        "data_mam.head(5)"
      ]
    },
    {
      "cell_type": "markdown",
      "metadata": {
        "deletable": true,
        "editable": true,
        "id": "XCM4g4h8LhGR"
      },
      "source": [
        "Make sure you use the optional parmaters in read_csv to convert missing data (indicated by a ?) into NaN, and to add the appropriate column names (BI_RADS, age, shape, margin, density, and severity):"
      ]
    },
    {
      "cell_type": "code",
      "execution_count": null,
      "metadata": {
        "deletable": true,
        "editable": true,
        "id": "NFSTN30ZLhGR",
        "colab": {
          "base_uri": "https://localhost:8080/",
          "height": 112
        },
        "outputId": "19145850-b79c-406c-bd80-140d1673f4a5"
      },
      "outputs": [
        {
          "output_type": "execute_result",
          "data": {
            "text/plain": [
              "   BI_RADS   age  shape  margin  density  severity\n",
              "0      5.0  67.0    3.0     5.0      3.0         1\n",
              "1      4.0  43.0    1.0     1.0      NaN         1"
            ],
            "text/html": [
              "\n",
              "  <div id=\"df-3243a7d1-0e8a-455b-acd7-89934c11f119\" class=\"colab-df-container\">\n",
              "    <div>\n",
              "<style scoped>\n",
              "    .dataframe tbody tr th:only-of-type {\n",
              "        vertical-align: middle;\n",
              "    }\n",
              "\n",
              "    .dataframe tbody tr th {\n",
              "        vertical-align: top;\n",
              "    }\n",
              "\n",
              "    .dataframe thead th {\n",
              "        text-align: right;\n",
              "    }\n",
              "</style>\n",
              "<table border=\"1\" class=\"dataframe\">\n",
              "  <thead>\n",
              "    <tr style=\"text-align: right;\">\n",
              "      <th></th>\n",
              "      <th>BI_RADS</th>\n",
              "      <th>age</th>\n",
              "      <th>shape</th>\n",
              "      <th>margin</th>\n",
              "      <th>density</th>\n",
              "      <th>severity</th>\n",
              "    </tr>\n",
              "  </thead>\n",
              "  <tbody>\n",
              "    <tr>\n",
              "      <th>0</th>\n",
              "      <td>5.0</td>\n",
              "      <td>67.0</td>\n",
              "      <td>3.0</td>\n",
              "      <td>5.0</td>\n",
              "      <td>3.0</td>\n",
              "      <td>1</td>\n",
              "    </tr>\n",
              "    <tr>\n",
              "      <th>1</th>\n",
              "      <td>4.0</td>\n",
              "      <td>43.0</td>\n",
              "      <td>1.0</td>\n",
              "      <td>1.0</td>\n",
              "      <td>NaN</td>\n",
              "      <td>1</td>\n",
              "    </tr>\n",
              "  </tbody>\n",
              "</table>\n",
              "</div>\n",
              "    <div class=\"colab-df-buttons\">\n",
              "\n",
              "  <div class=\"colab-df-container\">\n",
              "    <button class=\"colab-df-convert\" onclick=\"convertToInteractive('df-3243a7d1-0e8a-455b-acd7-89934c11f119')\"\n",
              "            title=\"Convert this dataframe to an interactive table.\"\n",
              "            style=\"display:none;\">\n",
              "\n",
              "  <svg xmlns=\"http://www.w3.org/2000/svg\" height=\"24px\" viewBox=\"0 -960 960 960\">\n",
              "    <path d=\"M120-120v-720h720v720H120Zm60-500h600v-160H180v160Zm220 220h160v-160H400v160Zm0 220h160v-160H400v160ZM180-400h160v-160H180v160Zm440 0h160v-160H620v160ZM180-180h160v-160H180v160Zm440 0h160v-160H620v160Z\"/>\n",
              "  </svg>\n",
              "    </button>\n",
              "\n",
              "  <style>\n",
              "    .colab-df-container {\n",
              "      display:flex;\n",
              "      gap: 12px;\n",
              "    }\n",
              "\n",
              "    .colab-df-convert {\n",
              "      background-color: #E8F0FE;\n",
              "      border: none;\n",
              "      border-radius: 50%;\n",
              "      cursor: pointer;\n",
              "      display: none;\n",
              "      fill: #1967D2;\n",
              "      height: 32px;\n",
              "      padding: 0 0 0 0;\n",
              "      width: 32px;\n",
              "    }\n",
              "\n",
              "    .colab-df-convert:hover {\n",
              "      background-color: #E2EBFA;\n",
              "      box-shadow: 0px 1px 2px rgba(60, 64, 67, 0.3), 0px 1px 3px 1px rgba(60, 64, 67, 0.15);\n",
              "      fill: #174EA6;\n",
              "    }\n",
              "\n",
              "    .colab-df-buttons div {\n",
              "      margin-bottom: 4px;\n",
              "    }\n",
              "\n",
              "    [theme=dark] .colab-df-convert {\n",
              "      background-color: #3B4455;\n",
              "      fill: #D2E3FC;\n",
              "    }\n",
              "\n",
              "    [theme=dark] .colab-df-convert:hover {\n",
              "      background-color: #434B5C;\n",
              "      box-shadow: 0px 1px 3px 1px rgba(0, 0, 0, 0.15);\n",
              "      filter: drop-shadow(0px 1px 2px rgba(0, 0, 0, 0.3));\n",
              "      fill: #FFFFFF;\n",
              "    }\n",
              "  </style>\n",
              "\n",
              "    <script>\n",
              "      const buttonEl =\n",
              "        document.querySelector('#df-3243a7d1-0e8a-455b-acd7-89934c11f119 button.colab-df-convert');\n",
              "      buttonEl.style.display =\n",
              "        google.colab.kernel.accessAllowed ? 'block' : 'none';\n",
              "\n",
              "      async function convertToInteractive(key) {\n",
              "        const element = document.querySelector('#df-3243a7d1-0e8a-455b-acd7-89934c11f119');\n",
              "        const dataTable =\n",
              "          await google.colab.kernel.invokeFunction('convertToInteractive',\n",
              "                                                    [key], {});\n",
              "        if (!dataTable) return;\n",
              "\n",
              "        const docLinkHtml = 'Like what you see? Visit the ' +\n",
              "          '<a target=\"_blank\" href=https://colab.research.google.com/notebooks/data_table.ipynb>data table notebook</a>'\n",
              "          + ' to learn more about interactive tables.';\n",
              "        element.innerHTML = '';\n",
              "        dataTable['output_type'] = 'display_data';\n",
              "        await google.colab.output.renderOutput(dataTable, element);\n",
              "        const docLink = document.createElement('div');\n",
              "        docLink.innerHTML = docLinkHtml;\n",
              "        element.appendChild(docLink);\n",
              "      }\n",
              "    </script>\n",
              "  </div>\n",
              "\n",
              "\n",
              "<div id=\"df-dd3e36a3-b411-46ba-b56c-73a47312852a\">\n",
              "  <button class=\"colab-df-quickchart\" onclick=\"quickchart('df-dd3e36a3-b411-46ba-b56c-73a47312852a')\"\n",
              "            title=\"Suggest charts\"\n",
              "            style=\"display:none;\">\n",
              "\n",
              "<svg xmlns=\"http://www.w3.org/2000/svg\" height=\"24px\"viewBox=\"0 0 24 24\"\n",
              "     width=\"24px\">\n",
              "    <g>\n",
              "        <path d=\"M19 3H5c-1.1 0-2 .9-2 2v14c0 1.1.9 2 2 2h14c1.1 0 2-.9 2-2V5c0-1.1-.9-2-2-2zM9 17H7v-7h2v7zm4 0h-2V7h2v10zm4 0h-2v-4h2v4z\"/>\n",
              "    </g>\n",
              "</svg>\n",
              "  </button>\n",
              "\n",
              "<style>\n",
              "  .colab-df-quickchart {\n",
              "      --bg-color: #E8F0FE;\n",
              "      --fill-color: #1967D2;\n",
              "      --hover-bg-color: #E2EBFA;\n",
              "      --hover-fill-color: #174EA6;\n",
              "      --disabled-fill-color: #AAA;\n",
              "      --disabled-bg-color: #DDD;\n",
              "  }\n",
              "\n",
              "  [theme=dark] .colab-df-quickchart {\n",
              "      --bg-color: #3B4455;\n",
              "      --fill-color: #D2E3FC;\n",
              "      --hover-bg-color: #434B5C;\n",
              "      --hover-fill-color: #FFFFFF;\n",
              "      --disabled-bg-color: #3B4455;\n",
              "      --disabled-fill-color: #666;\n",
              "  }\n",
              "\n",
              "  .colab-df-quickchart {\n",
              "    background-color: var(--bg-color);\n",
              "    border: none;\n",
              "    border-radius: 50%;\n",
              "    cursor: pointer;\n",
              "    display: none;\n",
              "    fill: var(--fill-color);\n",
              "    height: 32px;\n",
              "    padding: 0;\n",
              "    width: 32px;\n",
              "  }\n",
              "\n",
              "  .colab-df-quickchart:hover {\n",
              "    background-color: var(--hover-bg-color);\n",
              "    box-shadow: 0 1px 2px rgba(60, 64, 67, 0.3), 0 1px 3px 1px rgba(60, 64, 67, 0.15);\n",
              "    fill: var(--button-hover-fill-color);\n",
              "  }\n",
              "\n",
              "  .colab-df-quickchart-complete:disabled,\n",
              "  .colab-df-quickchart-complete:disabled:hover {\n",
              "    background-color: var(--disabled-bg-color);\n",
              "    fill: var(--disabled-fill-color);\n",
              "    box-shadow: none;\n",
              "  }\n",
              "\n",
              "  .colab-df-spinner {\n",
              "    border: 2px solid var(--fill-color);\n",
              "    border-color: transparent;\n",
              "    border-bottom-color: var(--fill-color);\n",
              "    animation:\n",
              "      spin 1s steps(1) infinite;\n",
              "  }\n",
              "\n",
              "  @keyframes spin {\n",
              "    0% {\n",
              "      border-color: transparent;\n",
              "      border-bottom-color: var(--fill-color);\n",
              "      border-left-color: var(--fill-color);\n",
              "    }\n",
              "    20% {\n",
              "      border-color: transparent;\n",
              "      border-left-color: var(--fill-color);\n",
              "      border-top-color: var(--fill-color);\n",
              "    }\n",
              "    30% {\n",
              "      border-color: transparent;\n",
              "      border-left-color: var(--fill-color);\n",
              "      border-top-color: var(--fill-color);\n",
              "      border-right-color: var(--fill-color);\n",
              "    }\n",
              "    40% {\n",
              "      border-color: transparent;\n",
              "      border-right-color: var(--fill-color);\n",
              "      border-top-color: var(--fill-color);\n",
              "    }\n",
              "    60% {\n",
              "      border-color: transparent;\n",
              "      border-right-color: var(--fill-color);\n",
              "    }\n",
              "    80% {\n",
              "      border-color: transparent;\n",
              "      border-right-color: var(--fill-color);\n",
              "      border-bottom-color: var(--fill-color);\n",
              "    }\n",
              "    90% {\n",
              "      border-color: transparent;\n",
              "      border-bottom-color: var(--fill-color);\n",
              "    }\n",
              "  }\n",
              "</style>\n",
              "\n",
              "  <script>\n",
              "    async function quickchart(key) {\n",
              "      const quickchartButtonEl =\n",
              "        document.querySelector('#' + key + ' button');\n",
              "      quickchartButtonEl.disabled = true;  // To prevent multiple clicks.\n",
              "      quickchartButtonEl.classList.add('colab-df-spinner');\n",
              "      try {\n",
              "        const charts = await google.colab.kernel.invokeFunction(\n",
              "            'suggestCharts', [key], {});\n",
              "      } catch (error) {\n",
              "        console.error('Error during call to suggestCharts:', error);\n",
              "      }\n",
              "      quickchartButtonEl.classList.remove('colab-df-spinner');\n",
              "      quickchartButtonEl.classList.add('colab-df-quickchart-complete');\n",
              "    }\n",
              "    (() => {\n",
              "      let quickchartButtonEl =\n",
              "        document.querySelector('#df-dd3e36a3-b411-46ba-b56c-73a47312852a button');\n",
              "      quickchartButtonEl.style.display =\n",
              "        google.colab.kernel.accessAllowed ? 'block' : 'none';\n",
              "    })();\n",
              "  </script>\n",
              "</div>\n",
              "\n",
              "    </div>\n",
              "  </div>\n"
            ]
          },
          "metadata": {},
          "execution_count": 8
        }
      ],
      "source": [
        "data_mam.rename(columns={0: \"BI_RADS\", 1:\"age\",2:\"shape\",3:\"margin\",4:\"density\",5:\"severity\"},inplace = True)\n",
        "data_mam.head(2)"
      ]
    },
    {
      "cell_type": "code",
      "source": [
        "#data_mam.replace(to_replace = \"?\",value = None,inplace = True )\n",
        "#data_mam.head(2)"
      ],
      "metadata": {
        "id": "Y8tL201mUs3V"
      },
      "execution_count": null,
      "outputs": []
    },
    {
      "cell_type": "markdown",
      "metadata": {
        "deletable": true,
        "editable": true,
        "id": "A-TySJW7LhGS"
      },
      "source": [
        "Evaluate whether the data needs cleaning; your model is only as good as the data it's given. Hint: use describe() on the dataframe."
      ]
    },
    {
      "cell_type": "code",
      "execution_count": null,
      "metadata": {
        "deletable": true,
        "editable": true,
        "id": "fT26lknuLhGS",
        "colab": {
          "base_uri": "https://localhost:8080/",
          "height": 300
        },
        "outputId": "327948ac-2cab-4366-9a0c-9e12f535ae78"
      },
      "outputs": [
        {
          "output_type": "execute_result",
          "data": {
            "text/plain": [
              "          BI_RADS         age       shape      margin     density    severity\n",
              "count  959.000000  956.000000  930.000000  913.000000  885.000000  961.000000\n",
              "mean     4.348279   55.487448    2.721505    2.796276    2.910734    0.463059\n",
              "std      1.783031   14.480131    1.242792    1.566546    0.380444    0.498893\n",
              "min      0.000000   18.000000    1.000000    1.000000    1.000000    0.000000\n",
              "25%      4.000000   45.000000    2.000000    1.000000    3.000000    0.000000\n",
              "50%      4.000000   57.000000    3.000000    3.000000    3.000000    0.000000\n",
              "75%      5.000000   66.000000    4.000000    4.000000    3.000000    1.000000\n",
              "max     55.000000   96.000000    4.000000    5.000000    4.000000    1.000000"
            ],
            "text/html": [
              "\n",
              "  <div id=\"df-1bb0364b-9687-438d-9af4-e8b99b0de956\" class=\"colab-df-container\">\n",
              "    <div>\n",
              "<style scoped>\n",
              "    .dataframe tbody tr th:only-of-type {\n",
              "        vertical-align: middle;\n",
              "    }\n",
              "\n",
              "    .dataframe tbody tr th {\n",
              "        vertical-align: top;\n",
              "    }\n",
              "\n",
              "    .dataframe thead th {\n",
              "        text-align: right;\n",
              "    }\n",
              "</style>\n",
              "<table border=\"1\" class=\"dataframe\">\n",
              "  <thead>\n",
              "    <tr style=\"text-align: right;\">\n",
              "      <th></th>\n",
              "      <th>BI_RADS</th>\n",
              "      <th>age</th>\n",
              "      <th>shape</th>\n",
              "      <th>margin</th>\n",
              "      <th>density</th>\n",
              "      <th>severity</th>\n",
              "    </tr>\n",
              "  </thead>\n",
              "  <tbody>\n",
              "    <tr>\n",
              "      <th>count</th>\n",
              "      <td>959.000000</td>\n",
              "      <td>956.000000</td>\n",
              "      <td>930.000000</td>\n",
              "      <td>913.000000</td>\n",
              "      <td>885.000000</td>\n",
              "      <td>961.000000</td>\n",
              "    </tr>\n",
              "    <tr>\n",
              "      <th>mean</th>\n",
              "      <td>4.348279</td>\n",
              "      <td>55.487448</td>\n",
              "      <td>2.721505</td>\n",
              "      <td>2.796276</td>\n",
              "      <td>2.910734</td>\n",
              "      <td>0.463059</td>\n",
              "    </tr>\n",
              "    <tr>\n",
              "      <th>std</th>\n",
              "      <td>1.783031</td>\n",
              "      <td>14.480131</td>\n",
              "      <td>1.242792</td>\n",
              "      <td>1.566546</td>\n",
              "      <td>0.380444</td>\n",
              "      <td>0.498893</td>\n",
              "    </tr>\n",
              "    <tr>\n",
              "      <th>min</th>\n",
              "      <td>0.000000</td>\n",
              "      <td>18.000000</td>\n",
              "      <td>1.000000</td>\n",
              "      <td>1.000000</td>\n",
              "      <td>1.000000</td>\n",
              "      <td>0.000000</td>\n",
              "    </tr>\n",
              "    <tr>\n",
              "      <th>25%</th>\n",
              "      <td>4.000000</td>\n",
              "      <td>45.000000</td>\n",
              "      <td>2.000000</td>\n",
              "      <td>1.000000</td>\n",
              "      <td>3.000000</td>\n",
              "      <td>0.000000</td>\n",
              "    </tr>\n",
              "    <tr>\n",
              "      <th>50%</th>\n",
              "      <td>4.000000</td>\n",
              "      <td>57.000000</td>\n",
              "      <td>3.000000</td>\n",
              "      <td>3.000000</td>\n",
              "      <td>3.000000</td>\n",
              "      <td>0.000000</td>\n",
              "    </tr>\n",
              "    <tr>\n",
              "      <th>75%</th>\n",
              "      <td>5.000000</td>\n",
              "      <td>66.000000</td>\n",
              "      <td>4.000000</td>\n",
              "      <td>4.000000</td>\n",
              "      <td>3.000000</td>\n",
              "      <td>1.000000</td>\n",
              "    </tr>\n",
              "    <tr>\n",
              "      <th>max</th>\n",
              "      <td>55.000000</td>\n",
              "      <td>96.000000</td>\n",
              "      <td>4.000000</td>\n",
              "      <td>5.000000</td>\n",
              "      <td>4.000000</td>\n",
              "      <td>1.000000</td>\n",
              "    </tr>\n",
              "  </tbody>\n",
              "</table>\n",
              "</div>\n",
              "    <div class=\"colab-df-buttons\">\n",
              "\n",
              "  <div class=\"colab-df-container\">\n",
              "    <button class=\"colab-df-convert\" onclick=\"convertToInteractive('df-1bb0364b-9687-438d-9af4-e8b99b0de956')\"\n",
              "            title=\"Convert this dataframe to an interactive table.\"\n",
              "            style=\"display:none;\">\n",
              "\n",
              "  <svg xmlns=\"http://www.w3.org/2000/svg\" height=\"24px\" viewBox=\"0 -960 960 960\">\n",
              "    <path d=\"M120-120v-720h720v720H120Zm60-500h600v-160H180v160Zm220 220h160v-160H400v160Zm0 220h160v-160H400v160ZM180-400h160v-160H180v160Zm440 0h160v-160H620v160ZM180-180h160v-160H180v160Zm440 0h160v-160H620v160Z\"/>\n",
              "  </svg>\n",
              "    </button>\n",
              "\n",
              "  <style>\n",
              "    .colab-df-container {\n",
              "      display:flex;\n",
              "      gap: 12px;\n",
              "    }\n",
              "\n",
              "    .colab-df-convert {\n",
              "      background-color: #E8F0FE;\n",
              "      border: none;\n",
              "      border-radius: 50%;\n",
              "      cursor: pointer;\n",
              "      display: none;\n",
              "      fill: #1967D2;\n",
              "      height: 32px;\n",
              "      padding: 0 0 0 0;\n",
              "      width: 32px;\n",
              "    }\n",
              "\n",
              "    .colab-df-convert:hover {\n",
              "      background-color: #E2EBFA;\n",
              "      box-shadow: 0px 1px 2px rgba(60, 64, 67, 0.3), 0px 1px 3px 1px rgba(60, 64, 67, 0.15);\n",
              "      fill: #174EA6;\n",
              "    }\n",
              "\n",
              "    .colab-df-buttons div {\n",
              "      margin-bottom: 4px;\n",
              "    }\n",
              "\n",
              "    [theme=dark] .colab-df-convert {\n",
              "      background-color: #3B4455;\n",
              "      fill: #D2E3FC;\n",
              "    }\n",
              "\n",
              "    [theme=dark] .colab-df-convert:hover {\n",
              "      background-color: #434B5C;\n",
              "      box-shadow: 0px 1px 3px 1px rgba(0, 0, 0, 0.15);\n",
              "      filter: drop-shadow(0px 1px 2px rgba(0, 0, 0, 0.3));\n",
              "      fill: #FFFFFF;\n",
              "    }\n",
              "  </style>\n",
              "\n",
              "    <script>\n",
              "      const buttonEl =\n",
              "        document.querySelector('#df-1bb0364b-9687-438d-9af4-e8b99b0de956 button.colab-df-convert');\n",
              "      buttonEl.style.display =\n",
              "        google.colab.kernel.accessAllowed ? 'block' : 'none';\n",
              "\n",
              "      async function convertToInteractive(key) {\n",
              "        const element = document.querySelector('#df-1bb0364b-9687-438d-9af4-e8b99b0de956');\n",
              "        const dataTable =\n",
              "          await google.colab.kernel.invokeFunction('convertToInteractive',\n",
              "                                                    [key], {});\n",
              "        if (!dataTable) return;\n",
              "\n",
              "        const docLinkHtml = 'Like what you see? Visit the ' +\n",
              "          '<a target=\"_blank\" href=https://colab.research.google.com/notebooks/data_table.ipynb>data table notebook</a>'\n",
              "          + ' to learn more about interactive tables.';\n",
              "        element.innerHTML = '';\n",
              "        dataTable['output_type'] = 'display_data';\n",
              "        await google.colab.output.renderOutput(dataTable, element);\n",
              "        const docLink = document.createElement('div');\n",
              "        docLink.innerHTML = docLinkHtml;\n",
              "        element.appendChild(docLink);\n",
              "      }\n",
              "    </script>\n",
              "  </div>\n",
              "\n",
              "\n",
              "<div id=\"df-e48689c9-a3ad-412e-8c05-89b3300ffa04\">\n",
              "  <button class=\"colab-df-quickchart\" onclick=\"quickchart('df-e48689c9-a3ad-412e-8c05-89b3300ffa04')\"\n",
              "            title=\"Suggest charts\"\n",
              "            style=\"display:none;\">\n",
              "\n",
              "<svg xmlns=\"http://www.w3.org/2000/svg\" height=\"24px\"viewBox=\"0 0 24 24\"\n",
              "     width=\"24px\">\n",
              "    <g>\n",
              "        <path d=\"M19 3H5c-1.1 0-2 .9-2 2v14c0 1.1.9 2 2 2h14c1.1 0 2-.9 2-2V5c0-1.1-.9-2-2-2zM9 17H7v-7h2v7zm4 0h-2V7h2v10zm4 0h-2v-4h2v4z\"/>\n",
              "    </g>\n",
              "</svg>\n",
              "  </button>\n",
              "\n",
              "<style>\n",
              "  .colab-df-quickchart {\n",
              "      --bg-color: #E8F0FE;\n",
              "      --fill-color: #1967D2;\n",
              "      --hover-bg-color: #E2EBFA;\n",
              "      --hover-fill-color: #174EA6;\n",
              "      --disabled-fill-color: #AAA;\n",
              "      --disabled-bg-color: #DDD;\n",
              "  }\n",
              "\n",
              "  [theme=dark] .colab-df-quickchart {\n",
              "      --bg-color: #3B4455;\n",
              "      --fill-color: #D2E3FC;\n",
              "      --hover-bg-color: #434B5C;\n",
              "      --hover-fill-color: #FFFFFF;\n",
              "      --disabled-bg-color: #3B4455;\n",
              "      --disabled-fill-color: #666;\n",
              "  }\n",
              "\n",
              "  .colab-df-quickchart {\n",
              "    background-color: var(--bg-color);\n",
              "    border: none;\n",
              "    border-radius: 50%;\n",
              "    cursor: pointer;\n",
              "    display: none;\n",
              "    fill: var(--fill-color);\n",
              "    height: 32px;\n",
              "    padding: 0;\n",
              "    width: 32px;\n",
              "  }\n",
              "\n",
              "  .colab-df-quickchart:hover {\n",
              "    background-color: var(--hover-bg-color);\n",
              "    box-shadow: 0 1px 2px rgba(60, 64, 67, 0.3), 0 1px 3px 1px rgba(60, 64, 67, 0.15);\n",
              "    fill: var(--button-hover-fill-color);\n",
              "  }\n",
              "\n",
              "  .colab-df-quickchart-complete:disabled,\n",
              "  .colab-df-quickchart-complete:disabled:hover {\n",
              "    background-color: var(--disabled-bg-color);\n",
              "    fill: var(--disabled-fill-color);\n",
              "    box-shadow: none;\n",
              "  }\n",
              "\n",
              "  .colab-df-spinner {\n",
              "    border: 2px solid var(--fill-color);\n",
              "    border-color: transparent;\n",
              "    border-bottom-color: var(--fill-color);\n",
              "    animation:\n",
              "      spin 1s steps(1) infinite;\n",
              "  }\n",
              "\n",
              "  @keyframes spin {\n",
              "    0% {\n",
              "      border-color: transparent;\n",
              "      border-bottom-color: var(--fill-color);\n",
              "      border-left-color: var(--fill-color);\n",
              "    }\n",
              "    20% {\n",
              "      border-color: transparent;\n",
              "      border-left-color: var(--fill-color);\n",
              "      border-top-color: var(--fill-color);\n",
              "    }\n",
              "    30% {\n",
              "      border-color: transparent;\n",
              "      border-left-color: var(--fill-color);\n",
              "      border-top-color: var(--fill-color);\n",
              "      border-right-color: var(--fill-color);\n",
              "    }\n",
              "    40% {\n",
              "      border-color: transparent;\n",
              "      border-right-color: var(--fill-color);\n",
              "      border-top-color: var(--fill-color);\n",
              "    }\n",
              "    60% {\n",
              "      border-color: transparent;\n",
              "      border-right-color: var(--fill-color);\n",
              "    }\n",
              "    80% {\n",
              "      border-color: transparent;\n",
              "      border-right-color: var(--fill-color);\n",
              "      border-bottom-color: var(--fill-color);\n",
              "    }\n",
              "    90% {\n",
              "      border-color: transparent;\n",
              "      border-bottom-color: var(--fill-color);\n",
              "    }\n",
              "  }\n",
              "</style>\n",
              "\n",
              "  <script>\n",
              "    async function quickchart(key) {\n",
              "      const quickchartButtonEl =\n",
              "        document.querySelector('#' + key + ' button');\n",
              "      quickchartButtonEl.disabled = true;  // To prevent multiple clicks.\n",
              "      quickchartButtonEl.classList.add('colab-df-spinner');\n",
              "      try {\n",
              "        const charts = await google.colab.kernel.invokeFunction(\n",
              "            'suggestCharts', [key], {});\n",
              "      } catch (error) {\n",
              "        console.error('Error during call to suggestCharts:', error);\n",
              "      }\n",
              "      quickchartButtonEl.classList.remove('colab-df-spinner');\n",
              "      quickchartButtonEl.classList.add('colab-df-quickchart-complete');\n",
              "    }\n",
              "    (() => {\n",
              "      let quickchartButtonEl =\n",
              "        document.querySelector('#df-e48689c9-a3ad-412e-8c05-89b3300ffa04 button');\n",
              "      quickchartButtonEl.style.display =\n",
              "        google.colab.kernel.accessAllowed ? 'block' : 'none';\n",
              "    })();\n",
              "  </script>\n",
              "</div>\n",
              "\n",
              "    </div>\n",
              "  </div>\n"
            ]
          },
          "metadata": {},
          "execution_count": 10
        }
      ],
      "source": [
        "data_mam.describe()"
      ]
    },
    {
      "cell_type": "markdown",
      "metadata": {
        "deletable": true,
        "editable": true,
        "id": "Bz-FnwxyLhGT"
      },
      "source": [
        "There are quite a few missing values in the data set. Before we just drop every row that's missing data, let's make sure we don't bias our data in doing so. Does there appear to be any sort of correlation to what sort of data has missing fields? If there were, we'd have to try and go back and fill that data in."
      ]
    },
    {
      "cell_type": "code",
      "execution_count": null,
      "metadata": {
        "deletable": true,
        "editable": true,
        "id": "67avMzYwLhGT",
        "colab": {
          "base_uri": "https://localhost:8080/"
        },
        "outputId": "2069f40e-1ecd-4836-a4c4-f2898736a7ba"
      },
      "outputs": [
        {
          "output_type": "stream",
          "name": "stdout",
          "text": [
            "<class 'pandas.core.frame.DataFrame'>\n",
            "RangeIndex: 961 entries, 0 to 960\n",
            "Data columns (total 6 columns):\n",
            " #   Column    Non-Null Count  Dtype  \n",
            "---  ------    --------------  -----  \n",
            " 0   BI_RADS   959 non-null    float64\n",
            " 1   age       956 non-null    float64\n",
            " 2   shape     930 non-null    float64\n",
            " 3   margin    913 non-null    float64\n",
            " 4   density   885 non-null    float64\n",
            " 5   severity  961 non-null    int64  \n",
            "dtypes: float64(5), int64(1)\n",
            "memory usage: 45.2 KB\n"
          ]
        }
      ],
      "source": [
        "data_mam.info()"
      ]
    },
    {
      "cell_type": "markdown",
      "metadata": {
        "deletable": true,
        "editable": true,
        "id": "b42okMcPLhGU"
      },
      "source": [
        "If the missing data seems randomly distributed, go ahead and drop rows with missing data. Hint: use dropna()."
      ]
    },
    {
      "cell_type": "code",
      "execution_count": null,
      "metadata": {
        "deletable": true,
        "editable": true,
        "id": "AMaLGRo4LhGV",
        "colab": {
          "base_uri": "https://localhost:8080/",
          "height": 300
        },
        "outputId": "939888a7-2d37-4199-c6f7-3af377390ee5"
      },
      "outputs": [
        {
          "output_type": "execute_result",
          "data": {
            "text/plain": [
              "          BI_RADS         age       shape      margin     density    severity\n",
              "count  830.000000  830.000000  830.000000  830.000000  830.000000  830.000000\n",
              "mean     4.393976   55.781928    2.781928    2.813253    2.915663    0.485542\n",
              "std      1.888371   14.671782    1.242361    1.567175    0.350936    0.500092\n",
              "min      0.000000   18.000000    1.000000    1.000000    1.000000    0.000000\n",
              "25%      4.000000   46.000000    2.000000    1.000000    3.000000    0.000000\n",
              "50%      4.000000   57.000000    3.000000    3.000000    3.000000    0.000000\n",
              "75%      5.000000   66.000000    4.000000    4.000000    3.000000    1.000000\n",
              "max     55.000000   96.000000    4.000000    5.000000    4.000000    1.000000"
            ],
            "text/html": [
              "\n",
              "  <div id=\"df-1b961593-df59-4992-91bb-7c26eb93f29a\" class=\"colab-df-container\">\n",
              "    <div>\n",
              "<style scoped>\n",
              "    .dataframe tbody tr th:only-of-type {\n",
              "        vertical-align: middle;\n",
              "    }\n",
              "\n",
              "    .dataframe tbody tr th {\n",
              "        vertical-align: top;\n",
              "    }\n",
              "\n",
              "    .dataframe thead th {\n",
              "        text-align: right;\n",
              "    }\n",
              "</style>\n",
              "<table border=\"1\" class=\"dataframe\">\n",
              "  <thead>\n",
              "    <tr style=\"text-align: right;\">\n",
              "      <th></th>\n",
              "      <th>BI_RADS</th>\n",
              "      <th>age</th>\n",
              "      <th>shape</th>\n",
              "      <th>margin</th>\n",
              "      <th>density</th>\n",
              "      <th>severity</th>\n",
              "    </tr>\n",
              "  </thead>\n",
              "  <tbody>\n",
              "    <tr>\n",
              "      <th>count</th>\n",
              "      <td>830.000000</td>\n",
              "      <td>830.000000</td>\n",
              "      <td>830.000000</td>\n",
              "      <td>830.000000</td>\n",
              "      <td>830.000000</td>\n",
              "      <td>830.000000</td>\n",
              "    </tr>\n",
              "    <tr>\n",
              "      <th>mean</th>\n",
              "      <td>4.393976</td>\n",
              "      <td>55.781928</td>\n",
              "      <td>2.781928</td>\n",
              "      <td>2.813253</td>\n",
              "      <td>2.915663</td>\n",
              "      <td>0.485542</td>\n",
              "    </tr>\n",
              "    <tr>\n",
              "      <th>std</th>\n",
              "      <td>1.888371</td>\n",
              "      <td>14.671782</td>\n",
              "      <td>1.242361</td>\n",
              "      <td>1.567175</td>\n",
              "      <td>0.350936</td>\n",
              "      <td>0.500092</td>\n",
              "    </tr>\n",
              "    <tr>\n",
              "      <th>min</th>\n",
              "      <td>0.000000</td>\n",
              "      <td>18.000000</td>\n",
              "      <td>1.000000</td>\n",
              "      <td>1.000000</td>\n",
              "      <td>1.000000</td>\n",
              "      <td>0.000000</td>\n",
              "    </tr>\n",
              "    <tr>\n",
              "      <th>25%</th>\n",
              "      <td>4.000000</td>\n",
              "      <td>46.000000</td>\n",
              "      <td>2.000000</td>\n",
              "      <td>1.000000</td>\n",
              "      <td>3.000000</td>\n",
              "      <td>0.000000</td>\n",
              "    </tr>\n",
              "    <tr>\n",
              "      <th>50%</th>\n",
              "      <td>4.000000</td>\n",
              "      <td>57.000000</td>\n",
              "      <td>3.000000</td>\n",
              "      <td>3.000000</td>\n",
              "      <td>3.000000</td>\n",
              "      <td>0.000000</td>\n",
              "    </tr>\n",
              "    <tr>\n",
              "      <th>75%</th>\n",
              "      <td>5.000000</td>\n",
              "      <td>66.000000</td>\n",
              "      <td>4.000000</td>\n",
              "      <td>4.000000</td>\n",
              "      <td>3.000000</td>\n",
              "      <td>1.000000</td>\n",
              "    </tr>\n",
              "    <tr>\n",
              "      <th>max</th>\n",
              "      <td>55.000000</td>\n",
              "      <td>96.000000</td>\n",
              "      <td>4.000000</td>\n",
              "      <td>5.000000</td>\n",
              "      <td>4.000000</td>\n",
              "      <td>1.000000</td>\n",
              "    </tr>\n",
              "  </tbody>\n",
              "</table>\n",
              "</div>\n",
              "    <div class=\"colab-df-buttons\">\n",
              "\n",
              "  <div class=\"colab-df-container\">\n",
              "    <button class=\"colab-df-convert\" onclick=\"convertToInteractive('df-1b961593-df59-4992-91bb-7c26eb93f29a')\"\n",
              "            title=\"Convert this dataframe to an interactive table.\"\n",
              "            style=\"display:none;\">\n",
              "\n",
              "  <svg xmlns=\"http://www.w3.org/2000/svg\" height=\"24px\" viewBox=\"0 -960 960 960\">\n",
              "    <path d=\"M120-120v-720h720v720H120Zm60-500h600v-160H180v160Zm220 220h160v-160H400v160Zm0 220h160v-160H400v160ZM180-400h160v-160H180v160Zm440 0h160v-160H620v160ZM180-180h160v-160H180v160Zm440 0h160v-160H620v160Z\"/>\n",
              "  </svg>\n",
              "    </button>\n",
              "\n",
              "  <style>\n",
              "    .colab-df-container {\n",
              "      display:flex;\n",
              "      gap: 12px;\n",
              "    }\n",
              "\n",
              "    .colab-df-convert {\n",
              "      background-color: #E8F0FE;\n",
              "      border: none;\n",
              "      border-radius: 50%;\n",
              "      cursor: pointer;\n",
              "      display: none;\n",
              "      fill: #1967D2;\n",
              "      height: 32px;\n",
              "      padding: 0 0 0 0;\n",
              "      width: 32px;\n",
              "    }\n",
              "\n",
              "    .colab-df-convert:hover {\n",
              "      background-color: #E2EBFA;\n",
              "      box-shadow: 0px 1px 2px rgba(60, 64, 67, 0.3), 0px 1px 3px 1px rgba(60, 64, 67, 0.15);\n",
              "      fill: #174EA6;\n",
              "    }\n",
              "\n",
              "    .colab-df-buttons div {\n",
              "      margin-bottom: 4px;\n",
              "    }\n",
              "\n",
              "    [theme=dark] .colab-df-convert {\n",
              "      background-color: #3B4455;\n",
              "      fill: #D2E3FC;\n",
              "    }\n",
              "\n",
              "    [theme=dark] .colab-df-convert:hover {\n",
              "      background-color: #434B5C;\n",
              "      box-shadow: 0px 1px 3px 1px rgba(0, 0, 0, 0.15);\n",
              "      filter: drop-shadow(0px 1px 2px rgba(0, 0, 0, 0.3));\n",
              "      fill: #FFFFFF;\n",
              "    }\n",
              "  </style>\n",
              "\n",
              "    <script>\n",
              "      const buttonEl =\n",
              "        document.querySelector('#df-1b961593-df59-4992-91bb-7c26eb93f29a button.colab-df-convert');\n",
              "      buttonEl.style.display =\n",
              "        google.colab.kernel.accessAllowed ? 'block' : 'none';\n",
              "\n",
              "      async function convertToInteractive(key) {\n",
              "        const element = document.querySelector('#df-1b961593-df59-4992-91bb-7c26eb93f29a');\n",
              "        const dataTable =\n",
              "          await google.colab.kernel.invokeFunction('convertToInteractive',\n",
              "                                                    [key], {});\n",
              "        if (!dataTable) return;\n",
              "\n",
              "        const docLinkHtml = 'Like what you see? Visit the ' +\n",
              "          '<a target=\"_blank\" href=https://colab.research.google.com/notebooks/data_table.ipynb>data table notebook</a>'\n",
              "          + ' to learn more about interactive tables.';\n",
              "        element.innerHTML = '';\n",
              "        dataTable['output_type'] = 'display_data';\n",
              "        await google.colab.output.renderOutput(dataTable, element);\n",
              "        const docLink = document.createElement('div');\n",
              "        docLink.innerHTML = docLinkHtml;\n",
              "        element.appendChild(docLink);\n",
              "      }\n",
              "    </script>\n",
              "  </div>\n",
              "\n",
              "\n",
              "<div id=\"df-65769b47-7300-4e45-b7be-ee114ce9c5cd\">\n",
              "  <button class=\"colab-df-quickchart\" onclick=\"quickchart('df-65769b47-7300-4e45-b7be-ee114ce9c5cd')\"\n",
              "            title=\"Suggest charts\"\n",
              "            style=\"display:none;\">\n",
              "\n",
              "<svg xmlns=\"http://www.w3.org/2000/svg\" height=\"24px\"viewBox=\"0 0 24 24\"\n",
              "     width=\"24px\">\n",
              "    <g>\n",
              "        <path d=\"M19 3H5c-1.1 0-2 .9-2 2v14c0 1.1.9 2 2 2h14c1.1 0 2-.9 2-2V5c0-1.1-.9-2-2-2zM9 17H7v-7h2v7zm4 0h-2V7h2v10zm4 0h-2v-4h2v4z\"/>\n",
              "    </g>\n",
              "</svg>\n",
              "  </button>\n",
              "\n",
              "<style>\n",
              "  .colab-df-quickchart {\n",
              "      --bg-color: #E8F0FE;\n",
              "      --fill-color: #1967D2;\n",
              "      --hover-bg-color: #E2EBFA;\n",
              "      --hover-fill-color: #174EA6;\n",
              "      --disabled-fill-color: #AAA;\n",
              "      --disabled-bg-color: #DDD;\n",
              "  }\n",
              "\n",
              "  [theme=dark] .colab-df-quickchart {\n",
              "      --bg-color: #3B4455;\n",
              "      --fill-color: #D2E3FC;\n",
              "      --hover-bg-color: #434B5C;\n",
              "      --hover-fill-color: #FFFFFF;\n",
              "      --disabled-bg-color: #3B4455;\n",
              "      --disabled-fill-color: #666;\n",
              "  }\n",
              "\n",
              "  .colab-df-quickchart {\n",
              "    background-color: var(--bg-color);\n",
              "    border: none;\n",
              "    border-radius: 50%;\n",
              "    cursor: pointer;\n",
              "    display: none;\n",
              "    fill: var(--fill-color);\n",
              "    height: 32px;\n",
              "    padding: 0;\n",
              "    width: 32px;\n",
              "  }\n",
              "\n",
              "  .colab-df-quickchart:hover {\n",
              "    background-color: var(--hover-bg-color);\n",
              "    box-shadow: 0 1px 2px rgba(60, 64, 67, 0.3), 0 1px 3px 1px rgba(60, 64, 67, 0.15);\n",
              "    fill: var(--button-hover-fill-color);\n",
              "  }\n",
              "\n",
              "  .colab-df-quickchart-complete:disabled,\n",
              "  .colab-df-quickchart-complete:disabled:hover {\n",
              "    background-color: var(--disabled-bg-color);\n",
              "    fill: var(--disabled-fill-color);\n",
              "    box-shadow: none;\n",
              "  }\n",
              "\n",
              "  .colab-df-spinner {\n",
              "    border: 2px solid var(--fill-color);\n",
              "    border-color: transparent;\n",
              "    border-bottom-color: var(--fill-color);\n",
              "    animation:\n",
              "      spin 1s steps(1) infinite;\n",
              "  }\n",
              "\n",
              "  @keyframes spin {\n",
              "    0% {\n",
              "      border-color: transparent;\n",
              "      border-bottom-color: var(--fill-color);\n",
              "      border-left-color: var(--fill-color);\n",
              "    }\n",
              "    20% {\n",
              "      border-color: transparent;\n",
              "      border-left-color: var(--fill-color);\n",
              "      border-top-color: var(--fill-color);\n",
              "    }\n",
              "    30% {\n",
              "      border-color: transparent;\n",
              "      border-left-color: var(--fill-color);\n",
              "      border-top-color: var(--fill-color);\n",
              "      border-right-color: var(--fill-color);\n",
              "    }\n",
              "    40% {\n",
              "      border-color: transparent;\n",
              "      border-right-color: var(--fill-color);\n",
              "      border-top-color: var(--fill-color);\n",
              "    }\n",
              "    60% {\n",
              "      border-color: transparent;\n",
              "      border-right-color: var(--fill-color);\n",
              "    }\n",
              "    80% {\n",
              "      border-color: transparent;\n",
              "      border-right-color: var(--fill-color);\n",
              "      border-bottom-color: var(--fill-color);\n",
              "    }\n",
              "    90% {\n",
              "      border-color: transparent;\n",
              "      border-bottom-color: var(--fill-color);\n",
              "    }\n",
              "  }\n",
              "</style>\n",
              "\n",
              "  <script>\n",
              "    async function quickchart(key) {\n",
              "      const quickchartButtonEl =\n",
              "        document.querySelector('#' + key + ' button');\n",
              "      quickchartButtonEl.disabled = true;  // To prevent multiple clicks.\n",
              "      quickchartButtonEl.classList.add('colab-df-spinner');\n",
              "      try {\n",
              "        const charts = await google.colab.kernel.invokeFunction(\n",
              "            'suggestCharts', [key], {});\n",
              "      } catch (error) {\n",
              "        console.error('Error during call to suggestCharts:', error);\n",
              "      }\n",
              "      quickchartButtonEl.classList.remove('colab-df-spinner');\n",
              "      quickchartButtonEl.classList.add('colab-df-quickchart-complete');\n",
              "    }\n",
              "    (() => {\n",
              "      let quickchartButtonEl =\n",
              "        document.querySelector('#df-65769b47-7300-4e45-b7be-ee114ce9c5cd button');\n",
              "      quickchartButtonEl.style.display =\n",
              "        google.colab.kernel.accessAllowed ? 'block' : 'none';\n",
              "    })();\n",
              "  </script>\n",
              "</div>\n",
              "\n",
              "    </div>\n",
              "  </div>\n"
            ]
          },
          "metadata": {},
          "execution_count": 12
        }
      ],
      "source": [
        "data_mam.dropna(inplace = True)\n",
        "data_mam.describe()"
      ]
    },
    {
      "cell_type": "code",
      "source": [
        "data_mam[['shape','margin','density']] = data_mam[['shape','margin','density']].astype(str)\n",
        "data_mam.info()"
      ],
      "metadata": {
        "colab": {
          "base_uri": "https://localhost:8080/"
        },
        "id": "5_2a0vtcwfpe",
        "outputId": "097487af-8bd9-44b7-c76c-f58411df568d"
      },
      "execution_count": null,
      "outputs": [
        {
          "output_type": "stream",
          "name": "stdout",
          "text": [
            "<class 'pandas.core.frame.DataFrame'>\n",
            "Int64Index: 830 entries, 0 to 960\n",
            "Data columns (total 6 columns):\n",
            " #   Column    Non-Null Count  Dtype  \n",
            "---  ------    --------------  -----  \n",
            " 0   BI_RADS   830 non-null    float64\n",
            " 1   age       830 non-null    float64\n",
            " 2   shape     830 non-null    object \n",
            " 3   margin    830 non-null    object \n",
            " 4   density   830 non-null    object \n",
            " 5   severity  830 non-null    int64  \n",
            "dtypes: float64(2), int64(1), object(3)\n",
            "memory usage: 45.4+ KB\n"
          ]
        }
      ]
    },
    {
      "cell_type": "code",
      "source": [
        "# Get one hot encoding of columns B\n",
        "one_hot = pd.get_dummies(data_mam[['shape','margin','density']])\n",
        "# Drop column B as it is now encoded\n",
        "df_mam = data_mam.drop(['shape','margin','density'],axis = 1)\n",
        "# Join the encoded df\n",
        "df_mam = data_mam.join(one_hot).drop(['shape','margin','density'],axis = 1)\n",
        "df_mam.head(5)"
      ],
      "metadata": {
        "colab": {
          "base_uri": "https://localhost:8080/",
          "height": 226
        },
        "id": "1hmDB1O_qLAp",
        "outputId": "e5ee38b6-ef5a-4992-aa24-edac4155c14d"
      },
      "execution_count": null,
      "outputs": [
        {
          "output_type": "execute_result",
          "data": {
            "text/plain": [
              "    BI_RADS   age  severity  shape_1.0  shape_2.0  shape_3.0  shape_4.0  \\\n",
              "0       5.0  67.0         1          0          0          1          0   \n",
              "2       5.0  58.0         1          0          0          0          1   \n",
              "3       4.0  28.0         0          1          0          0          0   \n",
              "8       5.0  57.0         1          1          0          0          0   \n",
              "10      5.0  76.0         1          1          0          0          0   \n",
              "\n",
              "    margin_1.0  margin_2.0  margin_3.0  margin_4.0  margin_5.0  density_1.0  \\\n",
              "0            0           0           0           0           1            0   \n",
              "2            0           0           0           0           1            0   \n",
              "3            1           0           0           0           0            0   \n",
              "8            0           0           0           0           1            0   \n",
              "10           0           0           0           1           0            0   \n",
              "\n",
              "    density_2.0  density_3.0  density_4.0  \n",
              "0             0            1            0  \n",
              "2             0            1            0  \n",
              "3             0            1            0  \n",
              "8             0            1            0  \n",
              "10            0            1            0  "
            ],
            "text/html": [
              "\n",
              "  <div id=\"df-ef8dbfec-2442-49d7-b757-ab6c250dd9d6\" class=\"colab-df-container\">\n",
              "    <div>\n",
              "<style scoped>\n",
              "    .dataframe tbody tr th:only-of-type {\n",
              "        vertical-align: middle;\n",
              "    }\n",
              "\n",
              "    .dataframe tbody tr th {\n",
              "        vertical-align: top;\n",
              "    }\n",
              "\n",
              "    .dataframe thead th {\n",
              "        text-align: right;\n",
              "    }\n",
              "</style>\n",
              "<table border=\"1\" class=\"dataframe\">\n",
              "  <thead>\n",
              "    <tr style=\"text-align: right;\">\n",
              "      <th></th>\n",
              "      <th>BI_RADS</th>\n",
              "      <th>age</th>\n",
              "      <th>severity</th>\n",
              "      <th>shape_1.0</th>\n",
              "      <th>shape_2.0</th>\n",
              "      <th>shape_3.0</th>\n",
              "      <th>shape_4.0</th>\n",
              "      <th>margin_1.0</th>\n",
              "      <th>margin_2.0</th>\n",
              "      <th>margin_3.0</th>\n",
              "      <th>margin_4.0</th>\n",
              "      <th>margin_5.0</th>\n",
              "      <th>density_1.0</th>\n",
              "      <th>density_2.0</th>\n",
              "      <th>density_3.0</th>\n",
              "      <th>density_4.0</th>\n",
              "    </tr>\n",
              "  </thead>\n",
              "  <tbody>\n",
              "    <tr>\n",
              "      <th>0</th>\n",
              "      <td>5.0</td>\n",
              "      <td>67.0</td>\n",
              "      <td>1</td>\n",
              "      <td>0</td>\n",
              "      <td>0</td>\n",
              "      <td>1</td>\n",
              "      <td>0</td>\n",
              "      <td>0</td>\n",
              "      <td>0</td>\n",
              "      <td>0</td>\n",
              "      <td>0</td>\n",
              "      <td>1</td>\n",
              "      <td>0</td>\n",
              "      <td>0</td>\n",
              "      <td>1</td>\n",
              "      <td>0</td>\n",
              "    </tr>\n",
              "    <tr>\n",
              "      <th>2</th>\n",
              "      <td>5.0</td>\n",
              "      <td>58.0</td>\n",
              "      <td>1</td>\n",
              "      <td>0</td>\n",
              "      <td>0</td>\n",
              "      <td>0</td>\n",
              "      <td>1</td>\n",
              "      <td>0</td>\n",
              "      <td>0</td>\n",
              "      <td>0</td>\n",
              "      <td>0</td>\n",
              "      <td>1</td>\n",
              "      <td>0</td>\n",
              "      <td>0</td>\n",
              "      <td>1</td>\n",
              "      <td>0</td>\n",
              "    </tr>\n",
              "    <tr>\n",
              "      <th>3</th>\n",
              "      <td>4.0</td>\n",
              "      <td>28.0</td>\n",
              "      <td>0</td>\n",
              "      <td>1</td>\n",
              "      <td>0</td>\n",
              "      <td>0</td>\n",
              "      <td>0</td>\n",
              "      <td>1</td>\n",
              "      <td>0</td>\n",
              "      <td>0</td>\n",
              "      <td>0</td>\n",
              "      <td>0</td>\n",
              "      <td>0</td>\n",
              "      <td>0</td>\n",
              "      <td>1</td>\n",
              "      <td>0</td>\n",
              "    </tr>\n",
              "    <tr>\n",
              "      <th>8</th>\n",
              "      <td>5.0</td>\n",
              "      <td>57.0</td>\n",
              "      <td>1</td>\n",
              "      <td>1</td>\n",
              "      <td>0</td>\n",
              "      <td>0</td>\n",
              "      <td>0</td>\n",
              "      <td>0</td>\n",
              "      <td>0</td>\n",
              "      <td>0</td>\n",
              "      <td>0</td>\n",
              "      <td>1</td>\n",
              "      <td>0</td>\n",
              "      <td>0</td>\n",
              "      <td>1</td>\n",
              "      <td>0</td>\n",
              "    </tr>\n",
              "    <tr>\n",
              "      <th>10</th>\n",
              "      <td>5.0</td>\n",
              "      <td>76.0</td>\n",
              "      <td>1</td>\n",
              "      <td>1</td>\n",
              "      <td>0</td>\n",
              "      <td>0</td>\n",
              "      <td>0</td>\n",
              "      <td>0</td>\n",
              "      <td>0</td>\n",
              "      <td>0</td>\n",
              "      <td>1</td>\n",
              "      <td>0</td>\n",
              "      <td>0</td>\n",
              "      <td>0</td>\n",
              "      <td>1</td>\n",
              "      <td>0</td>\n",
              "    </tr>\n",
              "  </tbody>\n",
              "</table>\n",
              "</div>\n",
              "    <div class=\"colab-df-buttons\">\n",
              "\n",
              "  <div class=\"colab-df-container\">\n",
              "    <button class=\"colab-df-convert\" onclick=\"convertToInteractive('df-ef8dbfec-2442-49d7-b757-ab6c250dd9d6')\"\n",
              "            title=\"Convert this dataframe to an interactive table.\"\n",
              "            style=\"display:none;\">\n",
              "\n",
              "  <svg xmlns=\"http://www.w3.org/2000/svg\" height=\"24px\" viewBox=\"0 -960 960 960\">\n",
              "    <path d=\"M120-120v-720h720v720H120Zm60-500h600v-160H180v160Zm220 220h160v-160H400v160Zm0 220h160v-160H400v160ZM180-400h160v-160H180v160Zm440 0h160v-160H620v160ZM180-180h160v-160H180v160Zm440 0h160v-160H620v160Z\"/>\n",
              "  </svg>\n",
              "    </button>\n",
              "\n",
              "  <style>\n",
              "    .colab-df-container {\n",
              "      display:flex;\n",
              "      gap: 12px;\n",
              "    }\n",
              "\n",
              "    .colab-df-convert {\n",
              "      background-color: #E8F0FE;\n",
              "      border: none;\n",
              "      border-radius: 50%;\n",
              "      cursor: pointer;\n",
              "      display: none;\n",
              "      fill: #1967D2;\n",
              "      height: 32px;\n",
              "      padding: 0 0 0 0;\n",
              "      width: 32px;\n",
              "    }\n",
              "\n",
              "    .colab-df-convert:hover {\n",
              "      background-color: #E2EBFA;\n",
              "      box-shadow: 0px 1px 2px rgba(60, 64, 67, 0.3), 0px 1px 3px 1px rgba(60, 64, 67, 0.15);\n",
              "      fill: #174EA6;\n",
              "    }\n",
              "\n",
              "    .colab-df-buttons div {\n",
              "      margin-bottom: 4px;\n",
              "    }\n",
              "\n",
              "    [theme=dark] .colab-df-convert {\n",
              "      background-color: #3B4455;\n",
              "      fill: #D2E3FC;\n",
              "    }\n",
              "\n",
              "    [theme=dark] .colab-df-convert:hover {\n",
              "      background-color: #434B5C;\n",
              "      box-shadow: 0px 1px 3px 1px rgba(0, 0, 0, 0.15);\n",
              "      filter: drop-shadow(0px 1px 2px rgba(0, 0, 0, 0.3));\n",
              "      fill: #FFFFFF;\n",
              "    }\n",
              "  </style>\n",
              "\n",
              "    <script>\n",
              "      const buttonEl =\n",
              "        document.querySelector('#df-ef8dbfec-2442-49d7-b757-ab6c250dd9d6 button.colab-df-convert');\n",
              "      buttonEl.style.display =\n",
              "        google.colab.kernel.accessAllowed ? 'block' : 'none';\n",
              "\n",
              "      async function convertToInteractive(key) {\n",
              "        const element = document.querySelector('#df-ef8dbfec-2442-49d7-b757-ab6c250dd9d6');\n",
              "        const dataTable =\n",
              "          await google.colab.kernel.invokeFunction('convertToInteractive',\n",
              "                                                    [key], {});\n",
              "        if (!dataTable) return;\n",
              "\n",
              "        const docLinkHtml = 'Like what you see? Visit the ' +\n",
              "          '<a target=\"_blank\" href=https://colab.research.google.com/notebooks/data_table.ipynb>data table notebook</a>'\n",
              "          + ' to learn more about interactive tables.';\n",
              "        element.innerHTML = '';\n",
              "        dataTable['output_type'] = 'display_data';\n",
              "        await google.colab.output.renderOutput(dataTable, element);\n",
              "        const docLink = document.createElement('div');\n",
              "        docLink.innerHTML = docLinkHtml;\n",
              "        element.appendChild(docLink);\n",
              "      }\n",
              "    </script>\n",
              "  </div>\n",
              "\n",
              "\n",
              "<div id=\"df-5a5e94e7-a636-471f-9364-a14fa968f086\">\n",
              "  <button class=\"colab-df-quickchart\" onclick=\"quickchart('df-5a5e94e7-a636-471f-9364-a14fa968f086')\"\n",
              "            title=\"Suggest charts\"\n",
              "            style=\"display:none;\">\n",
              "\n",
              "<svg xmlns=\"http://www.w3.org/2000/svg\" height=\"24px\"viewBox=\"0 0 24 24\"\n",
              "     width=\"24px\">\n",
              "    <g>\n",
              "        <path d=\"M19 3H5c-1.1 0-2 .9-2 2v14c0 1.1.9 2 2 2h14c1.1 0 2-.9 2-2V5c0-1.1-.9-2-2-2zM9 17H7v-7h2v7zm4 0h-2V7h2v10zm4 0h-2v-4h2v4z\"/>\n",
              "    </g>\n",
              "</svg>\n",
              "  </button>\n",
              "\n",
              "<style>\n",
              "  .colab-df-quickchart {\n",
              "      --bg-color: #E8F0FE;\n",
              "      --fill-color: #1967D2;\n",
              "      --hover-bg-color: #E2EBFA;\n",
              "      --hover-fill-color: #174EA6;\n",
              "      --disabled-fill-color: #AAA;\n",
              "      --disabled-bg-color: #DDD;\n",
              "  }\n",
              "\n",
              "  [theme=dark] .colab-df-quickchart {\n",
              "      --bg-color: #3B4455;\n",
              "      --fill-color: #D2E3FC;\n",
              "      --hover-bg-color: #434B5C;\n",
              "      --hover-fill-color: #FFFFFF;\n",
              "      --disabled-bg-color: #3B4455;\n",
              "      --disabled-fill-color: #666;\n",
              "  }\n",
              "\n",
              "  .colab-df-quickchart {\n",
              "    background-color: var(--bg-color);\n",
              "    border: none;\n",
              "    border-radius: 50%;\n",
              "    cursor: pointer;\n",
              "    display: none;\n",
              "    fill: var(--fill-color);\n",
              "    height: 32px;\n",
              "    padding: 0;\n",
              "    width: 32px;\n",
              "  }\n",
              "\n",
              "  .colab-df-quickchart:hover {\n",
              "    background-color: var(--hover-bg-color);\n",
              "    box-shadow: 0 1px 2px rgba(60, 64, 67, 0.3), 0 1px 3px 1px rgba(60, 64, 67, 0.15);\n",
              "    fill: var(--button-hover-fill-color);\n",
              "  }\n",
              "\n",
              "  .colab-df-quickchart-complete:disabled,\n",
              "  .colab-df-quickchart-complete:disabled:hover {\n",
              "    background-color: var(--disabled-bg-color);\n",
              "    fill: var(--disabled-fill-color);\n",
              "    box-shadow: none;\n",
              "  }\n",
              "\n",
              "  .colab-df-spinner {\n",
              "    border: 2px solid var(--fill-color);\n",
              "    border-color: transparent;\n",
              "    border-bottom-color: var(--fill-color);\n",
              "    animation:\n",
              "      spin 1s steps(1) infinite;\n",
              "  }\n",
              "\n",
              "  @keyframes spin {\n",
              "    0% {\n",
              "      border-color: transparent;\n",
              "      border-bottom-color: var(--fill-color);\n",
              "      border-left-color: var(--fill-color);\n",
              "    }\n",
              "    20% {\n",
              "      border-color: transparent;\n",
              "      border-left-color: var(--fill-color);\n",
              "      border-top-color: var(--fill-color);\n",
              "    }\n",
              "    30% {\n",
              "      border-color: transparent;\n",
              "      border-left-color: var(--fill-color);\n",
              "      border-top-color: var(--fill-color);\n",
              "      border-right-color: var(--fill-color);\n",
              "    }\n",
              "    40% {\n",
              "      border-color: transparent;\n",
              "      border-right-color: var(--fill-color);\n",
              "      border-top-color: var(--fill-color);\n",
              "    }\n",
              "    60% {\n",
              "      border-color: transparent;\n",
              "      border-right-color: var(--fill-color);\n",
              "    }\n",
              "    80% {\n",
              "      border-color: transparent;\n",
              "      border-right-color: var(--fill-color);\n",
              "      border-bottom-color: var(--fill-color);\n",
              "    }\n",
              "    90% {\n",
              "      border-color: transparent;\n",
              "      border-bottom-color: var(--fill-color);\n",
              "    }\n",
              "  }\n",
              "</style>\n",
              "\n",
              "  <script>\n",
              "    async function quickchart(key) {\n",
              "      const quickchartButtonEl =\n",
              "        document.querySelector('#' + key + ' button');\n",
              "      quickchartButtonEl.disabled = true;  // To prevent multiple clicks.\n",
              "      quickchartButtonEl.classList.add('colab-df-spinner');\n",
              "      try {\n",
              "        const charts = await google.colab.kernel.invokeFunction(\n",
              "            'suggestCharts', [key], {});\n",
              "      } catch (error) {\n",
              "        console.error('Error during call to suggestCharts:', error);\n",
              "      }\n",
              "      quickchartButtonEl.classList.remove('colab-df-spinner');\n",
              "      quickchartButtonEl.classList.add('colab-df-quickchart-complete');\n",
              "    }\n",
              "    (() => {\n",
              "      let quickchartButtonEl =\n",
              "        document.querySelector('#df-5a5e94e7-a636-471f-9364-a14fa968f086 button');\n",
              "      quickchartButtonEl.style.display =\n",
              "        google.colab.kernel.accessAllowed ? 'block' : 'none';\n",
              "    })();\n",
              "  </script>\n",
              "</div>\n",
              "\n",
              "    </div>\n",
              "  </div>\n"
            ]
          },
          "metadata": {},
          "execution_count": 14
        }
      ]
    },
    {
      "cell_type": "code",
      "source": [
        "df_mam.columns"
      ],
      "metadata": {
        "colab": {
          "base_uri": "https://localhost:8080/"
        },
        "id": "3JbxRRRfxjv8",
        "outputId": "421ff98f-c035-44bf-b83e-9bf677a45cad"
      },
      "execution_count": null,
      "outputs": [
        {
          "output_type": "execute_result",
          "data": {
            "text/plain": [
              "Index(['BI_RADS', 'age', 'severity', 'shape_1.0', 'shape_2.0', 'shape_3.0',\n",
              "       'shape_4.0', 'margin_1.0', 'margin_2.0', 'margin_3.0', 'margin_4.0',\n",
              "       'margin_5.0', 'density_1.0', 'density_2.0', 'density_3.0',\n",
              "       'density_4.0'],\n",
              "      dtype='object')"
            ]
          },
          "metadata": {},
          "execution_count": 15
        }
      ]
    },
    {
      "cell_type": "code",
      "source": [
        "df_mam.info()"
      ],
      "metadata": {
        "colab": {
          "base_uri": "https://localhost:8080/"
        },
        "id": "WLp4WyWux841",
        "outputId": "0e6d76b4-2780-40b4-9d9f-323c32f28ab0"
      },
      "execution_count": null,
      "outputs": [
        {
          "output_type": "stream",
          "name": "stdout",
          "text": [
            "<class 'pandas.core.frame.DataFrame'>\n",
            "Int64Index: 830 entries, 0 to 960\n",
            "Data columns (total 16 columns):\n",
            " #   Column       Non-Null Count  Dtype  \n",
            "---  ------       --------------  -----  \n",
            " 0   BI_RADS      830 non-null    float64\n",
            " 1   age          830 non-null    float64\n",
            " 2   severity     830 non-null    int64  \n",
            " 3   shape_1.0    830 non-null    uint8  \n",
            " 4   shape_2.0    830 non-null    uint8  \n",
            " 5   shape_3.0    830 non-null    uint8  \n",
            " 6   shape_4.0    830 non-null    uint8  \n",
            " 7   margin_1.0   830 non-null    uint8  \n",
            " 8   margin_2.0   830 non-null    uint8  \n",
            " 9   margin_3.0   830 non-null    uint8  \n",
            " 10  margin_4.0   830 non-null    uint8  \n",
            " 11  margin_5.0   830 non-null    uint8  \n",
            " 12  density_1.0  830 non-null    uint8  \n",
            " 13  density_2.0  830 non-null    uint8  \n",
            " 14  density_3.0  830 non-null    uint8  \n",
            " 15  density_4.0  830 non-null    uint8  \n",
            "dtypes: float64(2), int64(1), uint8(13)\n",
            "memory usage: 68.8 KB\n"
          ]
        }
      ]
    },
    {
      "cell_type": "markdown",
      "metadata": {
        "collapsed": true,
        "deletable": true,
        "editable": true,
        "id": "pGmEzeS1LhGV"
      },
      "source": [
        "Next you'll need to convert the Pandas dataframes into numpy arrays that can be used by scikit_learn. Create an array that extracts only the feature data we want to work with (age, shape, margin, and density) and another array that contains the classes (severity). You'll also need an array of the feature name labels."
      ]
    },
    {
      "cell_type": "code",
      "execution_count": null,
      "metadata": {
        "deletable": true,
        "editable": true,
        "id": "oP6iNdBGLhGV",
        "colab": {
          "base_uri": "https://localhost:8080/"
        },
        "outputId": "d1814966-4e46-4d84-d2e2-66904afd1e7a"
      },
      "outputs": [
        {
          "output_type": "stream",
          "name": "stdout",
          "text": [
            "      age  shape_1.0  shape_2.0  shape_3.0  shape_4.0  margin_1.0  margin_2.0  \\\n",
            "0    67.0          0          0          1          0           0           0   \n",
            "2    58.0          0          0          0          1           0           0   \n",
            "3    28.0          1          0          0          0           1           0   \n",
            "8    57.0          1          0          0          0           0           0   \n",
            "10   76.0          1          0          0          0           0           0   \n",
            "..    ...        ...        ...        ...        ...         ...         ...   \n",
            "956  47.0          0          1          0          0           1           0   \n",
            "957  56.0          0          0          0          1           0           0   \n",
            "958  64.0          0          0          0          1           0           0   \n",
            "959  66.0          0          0          0          1           0           0   \n",
            "960  62.0          0          0          1          0           0           0   \n",
            "\n",
            "     margin_3.0  margin_4.0  margin_5.0  density_1.0  density_2.0  \\\n",
            "0             0           0           1            0            0   \n",
            "2             0           0           1            0            0   \n",
            "3             0           0           0            0            0   \n",
            "8             0           0           1            0            0   \n",
            "10            0           1           0            0            0   \n",
            "..          ...         ...         ...          ...          ...   \n",
            "956           0           0           0            0            0   \n",
            "957           0           0           1            0            0   \n",
            "958           0           0           1            0            0   \n",
            "959           0           0           1            0            0   \n",
            "960           1           0           0            0            0   \n",
            "\n",
            "     density_3.0  density_4.0  \n",
            "0              1            0  \n",
            "2              1            0  \n",
            "3              1            0  \n",
            "8              1            0  \n",
            "10             1            0  \n",
            "..           ...          ...  \n",
            "956            1            0  \n",
            "957            1            0  \n",
            "958            1            0  \n",
            "959            1            0  \n",
            "960            1            0  \n",
            "\n",
            "[830 rows x 14 columns]\n",
            "     severity\n",
            "0           1\n",
            "2           1\n",
            "3           0\n",
            "8           1\n",
            "10          1\n",
            "..        ...\n",
            "956         0\n",
            "957         1\n",
            "958         0\n",
            "959         1\n",
            "960         0\n",
            "\n",
            "[830 rows x 1 columns]\n"
          ]
        }
      ],
      "source": [
        "X = df_mam.drop([\"BI_RADS\",\"severity\"],axis = 1)\n",
        "y = df_mam[['severity']]\n",
        "print(X)\n",
        "print(y)"
      ]
    },
    {
      "cell_type": "code",
      "source": [
        "from sklearn.model_selection import train_test_split\n",
        "\n",
        "trainX, testX, trainy, testy = train_test_split(X,y,test_size = 0.25,random_state=323,stratify=y)\n",
        "print(trainX,testX,trainy,testy)"
      ],
      "metadata": {
        "colab": {
          "base_uri": "https://localhost:8080/"
        },
        "id": "tiXHiT9dj8O1",
        "outputId": "d31494d4-f2e6-4ef0-f69a-bee24e378e95"
      },
      "execution_count": null,
      "outputs": [
        {
          "output_type": "stream",
          "name": "stdout",
          "text": [
            "      age  shape_1.0  shape_2.0  shape_3.0  shape_4.0  margin_1.0  margin_2.0  \\\n",
            "448  54.0          0          0          0          1           0           0   \n",
            "331  51.0          1          0          0          0           1           0   \n",
            "449  80.0          0          0          0          1           0           0   \n",
            "870  65.0          0          0          0          1           0           0   \n",
            "899  61.0          0          0          1          0           0           0   \n",
            "..    ...        ...        ...        ...        ...         ...         ...   \n",
            "399  74.0          0          0          0          1           0           0   \n",
            "400  58.0          1          0          0          0           1           0   \n",
            "404  70.0          0          0          0          1           0           0   \n",
            "456  69.0          0          0          0          1           0           0   \n",
            "811  65.0          0          0          1          0           0           0   \n",
            "\n",
            "     margin_3.0  margin_4.0  margin_5.0  density_1.0  density_2.0  \\\n",
            "448           0           0           1            0            0   \n",
            "331           0           0           0            0            0   \n",
            "449           0           1           0            0            0   \n",
            "870           0           0           1            0            0   \n",
            "899           0           1           0            0            0   \n",
            "..          ...         ...         ...          ...          ...   \n",
            "399           0           1           0            0            0   \n",
            "400           0           0           0            0            0   \n",
            "404           1           0           0            0            0   \n",
            "456           0           0           1            0            0   \n",
            "811           0           1           0            0            0   \n",
            "\n",
            "     density_3.0  density_4.0  \n",
            "448            1            0  \n",
            "331            1            0  \n",
            "449            1            0  \n",
            "870            1            0  \n",
            "899            1            0  \n",
            "..           ...          ...  \n",
            "399            1            0  \n",
            "400            1            0  \n",
            "404            1            0  \n",
            "456            1            0  \n",
            "811            1            0  \n",
            "\n",
            "[622 rows x 14 columns]       age  shape_1.0  shape_2.0  shape_3.0  shape_4.0  margin_1.0  margin_2.0  \\\n",
            "64   74.0          0          0          0          1           0           0   \n",
            "172  53.0          0          0          0          1           0           0   \n",
            "633  68.0          0          0          0          1           0           0   \n",
            "767  53.0          0          0          1          0           0           0   \n",
            "877  51.0          0          1          0          0           0           0   \n",
            "..    ...        ...        ...        ...        ...         ...         ...   \n",
            "383  45.0          1          0          0          0           1           0   \n",
            "492  53.0          1          0          0          0           1           0   \n",
            "836  42.0          0          1          0          0           1           0   \n",
            "810  75.0          0          0          0          1           0           0   \n",
            "274  57.0          0          0          0          1           0           0   \n",
            "\n",
            "     margin_3.0  margin_4.0  margin_5.0  density_1.0  density_2.0  \\\n",
            "64            0           1           0            0            0   \n",
            "172           0           1           0            0            0   \n",
            "633           0           0           1            0            0   \n",
            "767           1           0           0            0            0   \n",
            "877           0           1           0            0            0   \n",
            "..          ...         ...         ...          ...          ...   \n",
            "383           0           0           0            0            0   \n",
            "492           0           0           0            0            0   \n",
            "836           0           0           0            0            0   \n",
            "810           0           0           1            0            0   \n",
            "274           0           1           0            0            0   \n",
            "\n",
            "     density_3.0  density_4.0  \n",
            "64             1            0  \n",
            "172            1            0  \n",
            "633            1            0  \n",
            "767            1            0  \n",
            "877            1            0  \n",
            "..           ...          ...  \n",
            "383            1            0  \n",
            "492            1            0  \n",
            "836            1            0  \n",
            "810            1            0  \n",
            "274            1            0  \n",
            "\n",
            "[208 rows x 14 columns]      severity\n",
            "448         1\n",
            "331         0\n",
            "449         1\n",
            "870         1\n",
            "899         1\n",
            "..        ...\n",
            "399         1\n",
            "400         0\n",
            "404         1\n",
            "456         1\n",
            "811         1\n",
            "\n",
            "[622 rows x 1 columns]      severity\n",
            "64          1\n",
            "172         0\n",
            "633         1\n",
            "767         0\n",
            "877         0\n",
            "..        ...\n",
            "383         0\n",
            "492         1\n",
            "836         0\n",
            "810         1\n",
            "274         1\n",
            "\n",
            "[208 rows x 1 columns]\n"
          ]
        }
      ]
    },
    {
      "cell_type": "markdown",
      "metadata": {
        "deletable": true,
        "editable": true,
        "id": "odxIO-10LhGW"
      },
      "source": [
        "Some of our models require the input data to be normalized, so go ahead and normalize the attribute data. Hint: use preprocessing.StandardScaler()."
      ]
    },
    {
      "cell_type": "code",
      "execution_count": null,
      "metadata": {
        "deletable": true,
        "editable": true,
        "id": "BkajbX3ILhGW",
        "colab": {
          "base_uri": "https://localhost:8080/"
        },
        "outputId": "e2fd4e48-4615-4e25-ee66-5b1cb09ff33d"
      },
      "outputs": [
        {
          "output_type": "stream",
          "name": "stdout",
          "text": [
            "          age  shape_1.0  shape_2.0  shape_3.0  shape_4.0  margin_1.0  \\\n",
            "64   1.223020          0          0          0          1           0   \n",
            "172 -0.197619          0          0          0          1           0   \n",
            "633  0.817123          0          0          0          1           0   \n",
            "767 -0.197619          0          0          1          0           0   \n",
            "877 -0.332918          0          1          0          0           0   \n",
            "..        ...        ...        ...        ...        ...         ...   \n",
            "383 -0.738815          1          0          0          0           1   \n",
            "492 -0.197619          1          0          0          0           1   \n",
            "836 -0.941763          0          1          0          0           1   \n",
            "810  1.290669          0          0          0          1           0   \n",
            "274  0.072979          0          0          0          1           0   \n",
            "\n",
            "     margin_2.0  margin_3.0  margin_4.0  margin_5.0  density_1.0  density_2.0  \\\n",
            "64            0           0           1           0            0            0   \n",
            "172           0           0           1           0            0            0   \n",
            "633           0           0           0           1            0            0   \n",
            "767           0           1           0           0            0            0   \n",
            "877           0           0           1           0            0            0   \n",
            "..          ...         ...         ...         ...          ...          ...   \n",
            "383           0           0           0           0            0            0   \n",
            "492           0           0           0           0            0            0   \n",
            "836           0           0           0           0            0            0   \n",
            "810           0           0           0           1            0            0   \n",
            "274           0           0           1           0            0            0   \n",
            "\n",
            "     density_3.0  density_4.0  \n",
            "64             1            0  \n",
            "172            1            0  \n",
            "633            1            0  \n",
            "767            1            0  \n",
            "877            1            0  \n",
            "..           ...          ...  \n",
            "383            1            0  \n",
            "492            1            0  \n",
            "836            1            0  \n",
            "810            1            0  \n",
            "274            1            0  \n",
            "\n",
            "[208 rows x 14 columns]\n"
          ]
        }
      ],
      "source": [
        "from sklearn.preprocessing import StandardScaler, MinMaxScaler\n",
        "\n",
        "scaler = StandardScaler()\n",
        "\n",
        "trainX[['age']] = scaler.fit_transform(trainX[['age']])\n",
        "testX[['age']] = scaler.transform(testX[['age']])\n",
        "print(testX)"
      ]
    },
    {
      "cell_type": "markdown",
      "metadata": {
        "deletable": true,
        "editable": true,
        "id": "RNWCaBjLLhGW"
      },
      "source": [
        "## Decision Trees\n",
        "\n",
        "Before moving to K-Fold cross validation and random forests, start by creating a single train/test split of our data. Set aside 75% for training, and 25% for testing."
      ]
    },
    {
      "cell_type": "markdown",
      "metadata": {
        "deletable": true,
        "editable": true,
        "id": "u7LR18qJLhGX"
      },
      "source": [
        "Now create a DecisionTreeClassifier and fit it to your training data."
      ]
    },
    {
      "cell_type": "code",
      "execution_count": null,
      "metadata": {
        "deletable": true,
        "editable": true,
        "id": "psa9qN8DLhGX",
        "colab": {
          "base_uri": "https://localhost:8080/"
        },
        "outputId": "f4fa72cd-b40a-4931-ecd6-1c1fb392bf2a"
      },
      "outputs": [
        {
          "output_type": "execute_result",
          "data": {
            "text/plain": [
              "array([1, 1, 1, 0, 0, 1, 0, 0, 0, 0, 0, 0, 1, 1, 0, 1, 1, 1, 0, 0, 0, 0,\n",
              "       1, 0, 1, 0, 0, 1, 0, 0, 1, 1, 0, 1, 1, 1, 1, 1, 0, 1, 0, 1, 0, 1,\n",
              "       1, 1, 0, 0, 1, 0, 0, 1, 0, 0, 1, 1, 1, 1, 0, 1, 1, 0, 0, 0, 1, 1,\n",
              "       1, 0, 1, 0, 1, 1, 0, 0, 0, 0, 1, 0, 1, 1, 0, 0, 0, 0, 0, 0, 0, 0,\n",
              "       0, 0, 1, 0, 0, 1, 0, 0, 1, 0, 1, 0, 1, 1, 0, 1, 0, 1, 1, 1, 1, 1,\n",
              "       0, 0, 0, 0, 1, 0, 0, 0, 0, 0, 1, 0, 1, 0, 1, 0, 0, 1, 0, 0, 0, 0,\n",
              "       0, 0, 1, 0, 1, 0, 1, 0, 0, 1, 1, 0, 0, 1, 0, 1, 0, 0, 1, 0, 1, 0,\n",
              "       1, 0, 0, 0, 1, 1, 0, 0, 1, 0, 1, 0, 1, 0, 0, 1, 0, 0, 1, 0, 0, 1,\n",
              "       0, 1, 1, 1, 0, 0, 0, 1, 0, 0, 0, 0, 0, 0, 1, 1, 0, 1, 1, 0, 0, 1,\n",
              "       0, 0, 0, 1, 0, 0, 0, 1, 1, 0])"
            ]
          },
          "metadata": {},
          "execution_count": 20
        }
      ],
      "source": [
        "from sklearn.tree import DecisionTreeClassifier\n",
        "\n",
        "model = DecisionTreeClassifier(random_state = 2)#,max_depth=4)\n",
        "model.fit(trainX,trainy)\n",
        "\n",
        "predicted = model.predict(testX)\n",
        "predicted"
      ]
    },
    {
      "cell_type": "markdown",
      "metadata": {
        "deletable": true,
        "editable": true,
        "id": "mweO43BuLhGX"
      },
      "source": [
        "Display the resulting decision tree."
      ]
    },
    {
      "cell_type": "code",
      "source": [
        "print(model.feature_importances_)\n",
        "print(trainX.columns)"
      ],
      "metadata": {
        "colab": {
          "base_uri": "https://localhost:8080/"
        },
        "id": "9JBcGC3w2Jot",
        "outputId": "098193db-f069-4ed6-a13e-52338aa3fb43"
      },
      "execution_count": null,
      "outputs": [
        {
          "output_type": "stream",
          "name": "stdout",
          "text": [
            "[0.31915134 0.02162613 0.03750174 0.01453417 0.03897679 0.46057218\n",
            " 0.00635906 0.03888544 0.01965518 0.02149797 0.00250828 0.00943082\n",
            " 0.00851691 0.00078399]\n",
            "Index(['age', 'shape_1.0', 'shape_2.0', 'shape_3.0', 'shape_4.0', 'margin_1.0',\n",
            "       'margin_2.0', 'margin_3.0', 'margin_4.0', 'margin_5.0', 'density_1.0',\n",
            "       'density_2.0', 'density_3.0', 'density_4.0'],\n",
            "      dtype='object')\n"
          ]
        }
      ]
    },
    {
      "cell_type": "code",
      "execution_count": null,
      "metadata": {
        "deletable": true,
        "editable": true,
        "id": "l9F-YVVZLhGX",
        "colab": {
          "base_uri": "https://localhost:8080/",
          "height": 576
        },
        "outputId": "fb6b952c-5f00-40ef-895f-fdbf2b100e14"
      },
      "outputs": [
        {
          "output_type": "display_data",
          "data": {
            "text/plain": [
              "<Figure size 1000x700 with 1 Axes>"
            ],
            "image/png": "[encoded data removed]"
          },
          "metadata": {}
        }
      ],
      "source": [
        "import matplotlib.pyplot as plt\n",
        "from sklearn import tree\n",
        "\n",
        "fig = plt.figure(figsize = (10, 7))\n",
        "tree.plot_tree(model, feature_names = trainX.columns,\n",
        "              class_names = ['0','1'], filled = True)\n",
        "plt.show()"
      ]
    },
    {
      "cell_type": "markdown",
      "metadata": {
        "deletable": true,
        "editable": true,
        "id": "jBwhmF0qLhGX"
      },
      "source": [
        "Measure the accuracy of the resulting decision tree model using your test data."
      ]
    },
    {
      "cell_type": "code",
      "execution_count": null,
      "metadata": {
        "deletable": true,
        "editable": true,
        "id": "99EujGNILhGY"
      },
      "outputs": [],
      "source": [
        "from sklearn.metrics import accuracy_score, confusion_matrix, classification_report"
      ]
    },
    {
      "cell_type": "code",
      "source": [
        "accuracy_score(testy,predicted)"
      ],
      "metadata": {
        "colab": {
          "base_uri": "https://localhost:8080/"
        },
        "id": "D5f8Nzyg312h",
        "outputId": "c668318a-1b64-47db-e6fc-6f2ae99a214c"
      },
      "execution_count": null,
      "outputs": [
        {
          "output_type": "execute_result",
          "data": {
            "text/plain": [
              "0.6778846153846154"
            ]
          },
          "metadata": {},
          "execution_count": 24
        }
      ]
    },
    {
      "cell_type": "code",
      "source": [
        "confusion_matrix(testy, predicted)"
      ],
      "metadata": {
        "colab": {
          "base_uri": "https://localhost:8080/"
        },
        "id": "1rdRJBOD39nv",
        "outputId": "131680b4-0c3f-4f13-be45-86f0d9611d79"
      },
      "execution_count": null,
      "outputs": [
        {
          "output_type": "execute_result",
          "data": {
            "text/plain": [
              "array([[80, 27],\n",
              "       [40, 61]])"
            ]
          },
          "metadata": {},
          "execution_count": 25
        }
      ]
    },
    {
      "cell_type": "code",
      "source": [
        "print(classification_report(testy,predicted))"
      ],
      "metadata": {
        "colab": {
          "base_uri": "https://localhost:8080/"
        },
        "id": "CXiJXVJS4GMl",
        "outputId": "43e6b2bb-8138-41c0-c30a-badb5e815253"
      },
      "execution_count": null,
      "outputs": [
        {
          "output_type": "stream",
          "name": "stdout",
          "text": [
            "              precision    recall  f1-score   support\n",
            "\n",
            "           0       0.67      0.75      0.70       107\n",
            "           1       0.69      0.60      0.65       101\n",
            "\n",
            "    accuracy                           0.68       208\n",
            "   macro avg       0.68      0.68      0.68       208\n",
            "weighted avg       0.68      0.68      0.68       208\n",
            "\n"
          ]
        }
      ]
    },
    {
      "cell_type": "markdown",
      "metadata": {
        "deletable": true,
        "editable": true,
        "id": "tU4pNJHPLhGY"
      },
      "source": [
        "Now instead of a single train/test split, use K-Fold cross validation to get a better measure of your model's accuracy (K=10). Hint: use model_selection.cross_val_score"
      ]
    },
    {
      "cell_type": "code",
      "execution_count": null,
      "metadata": {
        "deletable": true,
        "editable": true,
        "id": "DvAlsn4yLhGY"
      },
      "outputs": [],
      "source": [
        "from sklearn.model_selection import cross_val_score, KFold\n",
        "\n",
        "kfold = KFold(n_splits=10,shuffle = True,random_state = 4)\n",
        "scores = cross_val_score(model,X,y,cv = kfold)"
      ]
    },
    {
      "cell_type": "code",
      "source": [
        "scores.mean()"
      ],
      "metadata": {
        "colab": {
          "base_uri": "https://localhost:8080/"
        },
        "id": "oDquUd8j7MHY",
        "outputId": "a6d74bd1-d61e-4dea-9534-e42624a3fd55"
      },
      "execution_count": null,
      "outputs": [
        {
          "output_type": "execute_result",
          "data": {
            "text/plain": [
              "0.7530120481927711"
            ]
          },
          "metadata": {},
          "execution_count": 28
        }
      ]
    },
    {
      "cell_type": "markdown",
      "metadata": {
        "deletable": true,
        "editable": true,
        "id": "dPr_ImxjLhGY"
      },
      "source": [
        "Now try a RandomForestClassifier instead. Does it perform better?"
      ]
    },
    {
      "cell_type": "code",
      "execution_count": null,
      "metadata": {
        "deletable": true,
        "editable": true,
        "id": "GinfpydeLhGY",
        "colab": {
          "base_uri": "https://localhost:8080/"
        },
        "outputId": "18a7c19f-637b-4fbe-bf1c-068854c730f5"
      },
      "outputs": [
        {
          "output_type": "stream",
          "name": "stderr",
          "text": [
            "<ipython-input-29-e68d04f44623>:4: DataConversionWarning: A column-vector y was passed when a 1d array was expected. Please change the shape of y to (n_samples,), for example using ravel().\n",
            "  model.fit(trainX,trainy)\n"
          ]
        },
        {
          "output_type": "execute_result",
          "data": {
            "text/plain": [
              "array([1, 1, 1, 0, 0, 1, 0, 0, 0, 0, 0, 0, 1, 1, 0, 0, 1, 1, 0, 0, 0, 0,\n",
              "       1, 0, 1, 0, 0, 1, 1, 1, 1, 1, 0, 1, 1, 1, 1, 1, 0, 1, 0, 1, 1, 1,\n",
              "       1, 1, 0, 0, 1, 0, 1, 1, 1, 0, 1, 1, 1, 1, 0, 1, 1, 0, 0, 0, 1, 1,\n",
              "       1, 1, 1, 1, 1, 1, 0, 0, 0, 1, 1, 0, 1, 1, 0, 1, 1, 0, 1, 0, 0, 0,\n",
              "       0, 0, 1, 1, 0, 1, 0, 1, 1, 0, 1, 0, 1, 1, 0, 0, 0, 1, 1, 1, 1, 1,\n",
              "       0, 1, 0, 0, 1, 0, 1, 0, 0, 0, 1, 0, 1, 0, 1, 0, 0, 1, 0, 0, 1, 0,\n",
              "       0, 0, 1, 0, 1, 1, 1, 0, 0, 1, 1, 0, 0, 1, 0, 1, 0, 0, 1, 1, 1, 0,\n",
              "       1, 0, 0, 0, 1, 1, 0, 0, 1, 0, 1, 0, 0, 1, 0, 1, 1, 0, 1, 0, 0, 1,\n",
              "       0, 1, 1, 1, 0, 0, 1, 1, 0, 0, 0, 0, 0, 0, 1, 1, 0, 1, 1, 0, 0, 1,\n",
              "       1, 1, 0, 1, 1, 0, 0, 1, 1, 0])"
            ]
          },
          "metadata": {},
          "execution_count": 29
        }
      ],
      "source": [
        "from sklearn.ensemble import RandomForestClassifier\n",
        "\n",
        "model = RandomForestClassifier(random_state = 5)\n",
        "model.fit(trainX,trainy)\n",
        "predicted = model.predict(testX)\n",
        "predicted"
      ]
    },
    {
      "cell_type": "code",
      "source": [
        "accuracy_score(testy,predicted)"
      ],
      "metadata": {
        "colab": {
          "base_uri": "https://localhost:8080/"
        },
        "id": "vVUgkQP4Vdae",
        "outputId": "f137f5c3-8039-422c-bc91-820397977979"
      },
      "execution_count": null,
      "outputs": [
        {
          "output_type": "execute_result",
          "data": {
            "text/plain": [
              "0.7403846153846154"
            ]
          },
          "metadata": {},
          "execution_count": 30
        }
      ]
    },
    {
      "cell_type": "code",
      "source": [
        "confusion_matrix(testy,predicted)"
      ],
      "metadata": {
        "colab": {
          "base_uri": "https://localhost:8080/"
        },
        "id": "zUl8lDQKVjBF",
        "outputId": "1e8d4640-bd96-40e5-987e-68f744d5e6fa"
      },
      "execution_count": null,
      "outputs": [
        {
          "output_type": "execute_result",
          "data": {
            "text/plain": [
              "array([[76, 31],\n",
              "       [23, 78]])"
            ]
          },
          "metadata": {},
          "execution_count": 31
        }
      ]
    },
    {
      "cell_type": "code",
      "source": [
        "print(classification_report(testy,predicted))"
      ],
      "metadata": {
        "colab": {
          "base_uri": "https://localhost:8080/"
        },
        "id": "fGc31T_fV3pj",
        "outputId": "280158cb-7325-4554-c447-a75f1ffed378"
      },
      "execution_count": null,
      "outputs": [
        {
          "output_type": "stream",
          "name": "stdout",
          "text": [
            "              precision    recall  f1-score   support\n",
            "\n",
            "           0       0.77      0.71      0.74       107\n",
            "           1       0.72      0.77      0.74       101\n",
            "\n",
            "    accuracy                           0.74       208\n",
            "   macro avg       0.74      0.74      0.74       208\n",
            "weighted avg       0.74      0.74      0.74       208\n",
            "\n"
          ]
        }
      ]
    },
    {
      "cell_type": "code",
      "source": [
        "kfold = KFold(n_splits=10,random_state = 4, shuffle = True)\n",
        "scores = cross_val_score(model, X,y, cv = kfold)\n",
        "scores\n"
      ],
      "metadata": {
        "colab": {
          "base_uri": "https://localhost:8080/"
        },
        "id": "9EHlYyptV_Bm",
        "outputId": "225cd0c5-e5af-40da-c706-93114a184aed"
      },
      "execution_count": null,
      "outputs": [
        {
          "output_type": "stream",
          "name": "stderr",
          "text": [
            "/usr/local/lib/python3.10/dist-packages/sklearn/model_selection/_validation.py:686: DataConversionWarning: A column-vector y was passed when a 1d array was expected. Please change the shape of y to (n_samples,), for example using ravel().\n",
            "  estimator.fit(X_train, y_train, **fit_params)\n",
            "/usr/local/lib/python3.10/dist-packages/sklearn/model_selection/_validation.py:686: DataConversionWarning: A column-vector y was passed when a 1d array was expected. Please change the shape of y to (n_samples,), for example using ravel().\n",
            "  estimator.fit(X_train, y_train, **fit_params)\n",
            "/usr/local/lib/python3.10/dist-packages/sklearn/model_selection/_validation.py:686: DataConversionWarning: A column-vector y was passed when a 1d array was expected. Please change the shape of y to (n_samples,), for example using ravel().\n",
            "  estimator.fit(X_train, y_train, **fit_params)\n",
            "/usr/local/lib/python3.10/dist-packages/sklearn/model_selection/_validation.py:686: DataConversionWarning: A column-vector y was passed when a 1d array was expected. Please change the shape of y to (n_samples,), for example using ravel().\n",
            "  estimator.fit(X_train, y_train, **fit_params)\n",
            "/usr/local/lib/python3.10/dist-packages/sklearn/model_selection/_validation.py:686: DataConversionWarning: A column-vector y was passed when a 1d array was expected. Please change the shape of y to (n_samples,), for example using ravel().\n",
            "  estimator.fit(X_train, y_train, **fit_params)\n",
            "/usr/local/lib/python3.10/dist-packages/sklearn/model_selection/_validation.py:686: DataConversionWarning: A column-vector y was passed when a 1d array was expected. Please change the shape of y to (n_samples,), for example using ravel().\n",
            "  estimator.fit(X_train, y_train, **fit_params)\n",
            "/usr/local/lib/python3.10/dist-packages/sklearn/model_selection/_validation.py:686: DataConversionWarning: A column-vector y was passed when a 1d array was expected. Please change the shape of y to (n_samples,), for example using ravel().\n",
            "  estimator.fit(X_train, y_train, **fit_params)\n",
            "/usr/local/lib/python3.10/dist-packages/sklearn/model_selection/_validation.py:686: DataConversionWarning: A column-vector y was passed when a 1d array was expected. Please change the shape of y to (n_samples,), for example using ravel().\n",
            "  estimator.fit(X_train, y_train, **fit_params)\n",
            "/usr/local/lib/python3.10/dist-packages/sklearn/model_selection/_validation.py:686: DataConversionWarning: A column-vector y was passed when a 1d array was expected. Please change the shape of y to (n_samples,), for example using ravel().\n",
            "  estimator.fit(X_train, y_train, **fit_params)\n",
            "/usr/local/lib/python3.10/dist-packages/sklearn/model_selection/_validation.py:686: DataConversionWarning: A column-vector y was passed when a 1d array was expected. Please change the shape of y to (n_samples,), for example using ravel().\n",
            "  estimator.fit(X_train, y_train, **fit_params)\n"
          ]
        },
        {
          "output_type": "execute_result",
          "data": {
            "text/plain": [
              "array([0.72289157, 0.79518072, 0.74698795, 0.79518072, 0.80722892,\n",
              "       0.73493976, 0.75903614, 0.74698795, 0.73493976, 0.85542169])"
            ]
          },
          "metadata": {},
          "execution_count": 33
        }
      ]
    },
    {
      "cell_type": "code",
      "source": [
        "scores.mean()"
      ],
      "metadata": {
        "colab": {
          "base_uri": "https://localhost:8080/"
        },
        "id": "NDQN8v3KX-ip",
        "outputId": "3accbdc3-759b-4e2b-a24c-e0216654de81"
      },
      "execution_count": null,
      "outputs": [
        {
          "output_type": "execute_result",
          "data": {
            "text/plain": [
              "0.7698795180722892"
            ]
          },
          "metadata": {},
          "execution_count": 34
        }
      ]
    },
    {
      "cell_type": "markdown",
      "metadata": {
        "deletable": true,
        "editable": true,
        "id": "oOgWrWUgLhGY"
      },
      "source": [
        "## SVM\n",
        "\n",
        "Next try using svm.SVC with a linear kernel. How does it compare to the decision tree?"
      ]
    },
    {
      "cell_type": "code",
      "execution_count": null,
      "metadata": {
        "deletable": true,
        "editable": true,
        "id": "hL-TnpDqLhGZ"
      },
      "outputs": [],
      "source": [
        "from sklearn.svm import SVC"
      ]
    },
    {
      "cell_type": "code",
      "execution_count": null,
      "metadata": {
        "deletable": true,
        "editable": true,
        "id": "ZG1ffFSELhGZ",
        "colab": {
          "base_uri": "https://localhost:8080/"
        },
        "outputId": "159b5413-382f-45df-c45f-d28de965bbdd"
      },
      "outputs": [
        {
          "output_type": "stream",
          "name": "stderr",
          "text": [
            "/usr/local/lib/python3.10/dist-packages/sklearn/utils/validation.py:1143: DataConversionWarning: A column-vector y was passed when a 1d array was expected. Please change the shape of y to (n_samples, ), for example using ravel().\n",
            "  y = column_or_1d(y, warn=True)\n"
          ]
        },
        {
          "output_type": "execute_result",
          "data": {
            "text/plain": [
              "array([1, 1, 1, 1, 0, 0, 0, 0, 0, 0, 0, 0, 1, 1, 0, 1, 1, 1, 0, 0, 0, 0,\n",
              "       1, 0, 1, 1, 0, 1, 1, 1, 1, 1, 1, 1, 1, 1, 1, 1, 0, 1, 0, 1, 1, 1,\n",
              "       1, 1, 0, 0, 1, 0, 0, 1, 1, 0, 1, 0, 1, 1, 0, 1, 0, 1, 0, 1, 1, 1,\n",
              "       1, 1, 1, 1, 1, 1, 0, 0, 0, 1, 1, 0, 1, 1, 0, 0, 1, 0, 0, 0, 1, 0,\n",
              "       0, 0, 1, 1, 0, 0, 0, 1, 1, 0, 1, 0, 1, 1, 0, 1, 1, 1, 1, 0, 1, 1,\n",
              "       0, 1, 0, 0, 1, 0, 1, 0, 1, 0, 0, 0, 1, 0, 1, 0, 0, 1, 0, 0, 1, 0,\n",
              "       1, 0, 1, 1, 1, 1, 1, 0, 0, 1, 1, 0, 0, 1, 0, 1, 0, 0, 1, 1, 0, 0,\n",
              "       1, 0, 0, 0, 1, 1, 0, 0, 0, 1, 1, 0, 0, 1, 0, 1, 1, 0, 1, 1, 0, 1,\n",
              "       0, 1, 1, 0, 0, 0, 1, 1, 0, 1, 0, 0, 0, 0, 0, 1, 0, 1, 1, 1, 0, 0,\n",
              "       1, 0, 0, 1, 0, 0, 0, 0, 1, 1])"
            ]
          },
          "metadata": {},
          "execution_count": 36
        }
      ],
      "source": [
        "model = SVC(random_state = 3,C = 1.2, kernel = 'linear')\n",
        "model.fit(trainX,trainy)\n",
        "predicted = model.predict(testX)\n",
        "predicted"
      ]
    },
    {
      "cell_type": "code",
      "source": [
        "accuracy_score(testy,predicted)"
      ],
      "metadata": {
        "colab": {
          "base_uri": "https://localhost:8080/"
        },
        "id": "dY5NQ2WmnwPF",
        "outputId": "3a6bd373-4f62-4d66-d8b3-fc076a355fbb"
      },
      "execution_count": null,
      "outputs": [
        {
          "output_type": "execute_result",
          "data": {
            "text/plain": [
              "0.7884615384615384"
            ]
          },
          "metadata": {},
          "execution_count": 37
        }
      ]
    },
    {
      "cell_type": "code",
      "source": [
        "confusion_matrix(testy,predicted)"
      ],
      "metadata": {
        "colab": {
          "base_uri": "https://localhost:8080/"
        },
        "id": "Z2RqMz-_n2O4",
        "outputId": "c816a488-a6cc-445b-93ec-310edb0f6e10"
      },
      "execution_count": null,
      "outputs": [
        {
          "output_type": "execute_result",
          "data": {
            "text/plain": [
              "array([[81, 26],\n",
              "       [18, 83]])"
            ]
          },
          "metadata": {},
          "execution_count": 38
        }
      ]
    },
    {
      "cell_type": "code",
      "source": [
        "print(classification_report(testy,predicted))"
      ],
      "metadata": {
        "colab": {
          "base_uri": "https://localhost:8080/"
        },
        "id": "o0m0PEuDn49_",
        "outputId": "9362e4b6-fd45-4ae8-aed1-ea3c5c5177f8"
      },
      "execution_count": null,
      "outputs": [
        {
          "output_type": "stream",
          "name": "stdout",
          "text": [
            "              precision    recall  f1-score   support\n",
            "\n",
            "           0       0.82      0.76      0.79       107\n",
            "           1       0.76      0.82      0.79       101\n",
            "\n",
            "    accuracy                           0.79       208\n",
            "   macro avg       0.79      0.79      0.79       208\n",
            "weighted avg       0.79      0.79      0.79       208\n",
            "\n"
          ]
        }
      ]
    },
    {
      "cell_type": "code",
      "source": [
        "kfold = KFold(random_state = 3,n_splits=10,shuffle = True)\n",
        "scores = cross_val_score(model,X,y,cv = kfold)\n",
        "scores"
      ],
      "metadata": {
        "colab": {
          "base_uri": "https://localhost:8080/"
        },
        "id": "G6mMQ5Tin8hJ",
        "outputId": "c137d031-ead4-47ab-9572-64a1cb30eec8"
      },
      "execution_count": null,
      "outputs": [
        {
          "output_type": "stream",
          "name": "stderr",
          "text": [
            "/usr/local/lib/python3.10/dist-packages/sklearn/utils/validation.py:1143: DataConversionWarning: A column-vector y was passed when a 1d array was expected. Please change the shape of y to (n_samples, ), for example using ravel().\n",
            "  y = column_or_1d(y, warn=True)\n",
            "/usr/local/lib/python3.10/dist-packages/sklearn/utils/validation.py:1143: DataConversionWarning: A column-vector y was passed when a 1d array was expected. Please change the shape of y to (n_samples, ), for example using ravel().\n",
            "  y = column_or_1d(y, warn=True)\n",
            "/usr/local/lib/python3.10/dist-packages/sklearn/utils/validation.py:1143: DataConversionWarning: A column-vector y was passed when a 1d array was expected. Please change the shape of y to (n_samples, ), for example using ravel().\n",
            "  y = column_or_1d(y, warn=True)\n",
            "/usr/local/lib/python3.10/dist-packages/sklearn/utils/validation.py:1143: DataConversionWarning: A column-vector y was passed when a 1d array was expected. Please change the shape of y to (n_samples, ), for example using ravel().\n",
            "  y = column_or_1d(y, warn=True)\n",
            "/usr/local/lib/python3.10/dist-packages/sklearn/utils/validation.py:1143: DataConversionWarning: A column-vector y was passed when a 1d array was expected. Please change the shape of y to (n_samples, ), for example using ravel().\n",
            "  y = column_or_1d(y, warn=True)\n",
            "/usr/local/lib/python3.10/dist-packages/sklearn/utils/validation.py:1143: DataConversionWarning: A column-vector y was passed when a 1d array was expected. Please change the shape of y to (n_samples, ), for example using ravel().\n",
            "  y = column_or_1d(y, warn=True)\n",
            "/usr/local/lib/python3.10/dist-packages/sklearn/utils/validation.py:1143: DataConversionWarning: A column-vector y was passed when a 1d array was expected. Please change the shape of y to (n_samples, ), for example using ravel().\n",
            "  y = column_or_1d(y, warn=True)\n",
            "/usr/local/lib/python3.10/dist-packages/sklearn/utils/validation.py:1143: DataConversionWarning: A column-vector y was passed when a 1d array was expected. Please change the shape of y to (n_samples, ), for example using ravel().\n",
            "  y = column_or_1d(y, warn=True)\n",
            "/usr/local/lib/python3.10/dist-packages/sklearn/utils/validation.py:1143: DataConversionWarning: A column-vector y was passed when a 1d array was expected. Please change the shape of y to (n_samples, ), for example using ravel().\n",
            "  y = column_or_1d(y, warn=True)\n",
            "/usr/local/lib/python3.10/dist-packages/sklearn/utils/validation.py:1143: DataConversionWarning: A column-vector y was passed when a 1d array was expected. Please change the shape of y to (n_samples, ), for example using ravel().\n",
            "  y = column_or_1d(y, warn=True)\n"
          ]
        },
        {
          "output_type": "execute_result",
          "data": {
            "text/plain": [
              "array([0.8313253 , 0.75903614, 0.81927711, 0.78313253, 0.84337349,\n",
              "       0.79518072, 0.78313253, 0.72289157, 0.78313253, 0.86746988])"
            ]
          },
          "metadata": {},
          "execution_count": 40
        }
      ]
    },
    {
      "cell_type": "code",
      "source": [
        "scores.mean()"
      ],
      "metadata": {
        "colab": {
          "base_uri": "https://localhost:8080/"
        },
        "id": "h2lzzVtzob4W",
        "outputId": "d279ca61-d1f0-489b-ed3a-43d90bc917db"
      },
      "execution_count": null,
      "outputs": [
        {
          "output_type": "execute_result",
          "data": {
            "text/plain": [
              "0.7987951807228916"
            ]
          },
          "metadata": {},
          "execution_count": 41
        }
      ]
    },
    {
      "cell_type": "markdown",
      "metadata": {
        "deletable": true,
        "editable": true,
        "id": "Wmc4O2VLLhGZ"
      },
      "source": [
        "## KNN\n",
        "How about K-Nearest-Neighbors? Hint: use neighbors.KNeighborsClassifier - it's a lot easier than implementing KNN from scratch like we did earlier in the course. Start with a K of 10. K is an example of a hyperparameter - a parameter on the model itself which may need to be tuned for best results on your particular data set."
      ]
    },
    {
      "cell_type": "code",
      "execution_count": null,
      "metadata": {
        "deletable": true,
        "editable": true,
        "id": "Yw98eRk8LhGZ",
        "colab": {
          "base_uri": "https://localhost:8080/"
        },
        "outputId": "7cb5a93c-8259-4875-879c-44a8db3fbea0"
      },
      "outputs": [
        {
          "output_type": "stream",
          "name": "stderr",
          "text": [
            "/usr/local/lib/python3.10/dist-packages/sklearn/neighbors/_classification.py:215: DataConversionWarning: A column-vector y was passed when a 1d array was expected. Please change the shape of y to (n_samples,), for example using ravel().\n",
            "  return self._fit(X, y)\n"
          ]
        },
        {
          "output_type": "execute_result",
          "data": {
            "text/plain": [
              "array([1, 1, 1, 0, 0, 0, 0, 0, 0, 0, 0, 0, 1, 1, 0, 0, 1, 1, 0, 0, 0, 0,\n",
              "       1, 0, 1, 0, 0, 1, 1, 1, 1, 1, 1, 1, 1, 1, 1, 1, 0, 1, 0, 1, 1, 1,\n",
              "       1, 1, 0, 0, 1, 0, 0, 1, 1, 0, 1, 1, 1, 1, 0, 0, 1, 0, 0, 0, 1, 1,\n",
              "       1, 1, 1, 1, 0, 1, 0, 0, 0, 1, 1, 0, 1, 1, 0, 0, 1, 0, 0, 0, 0, 0,\n",
              "       0, 0, 1, 1, 0, 1, 0, 1, 1, 0, 1, 0, 1, 1, 0, 0, 1, 1, 1, 1, 1, 1,\n",
              "       0, 0, 0, 0, 1, 0, 1, 0, 0, 0, 1, 0, 1, 0, 1, 0, 0, 1, 0, 0, 1, 0,\n",
              "       0, 0, 1, 0, 1, 0, 1, 0, 0, 1, 1, 0, 0, 1, 0, 1, 0, 0, 1, 1, 1, 0,\n",
              "       0, 0, 0, 0, 1, 1, 0, 0, 1, 0, 1, 0, 0, 0, 0, 1, 1, 0, 1, 1, 0, 1,\n",
              "       0, 1, 1, 1, 0, 0, 0, 1, 0, 0, 0, 0, 0, 0, 1, 1, 0, 1, 1, 0, 0, 1,\n",
              "       1, 0, 0, 1, 0, 0, 0, 1, 1, 0])"
            ]
          },
          "metadata": {},
          "execution_count": 43
        }
      ],
      "source": [
        "from sklearn.neighbors import KNeighborsClassifier\n",
        "\n",
        "model = KNeighborsClassifier(n_neighbors=4,weights = 'distance')\n",
        "model.fit(trainX,trainy)\n",
        "predicted = model.predict(testX)\n",
        "predicted"
      ]
    },
    {
      "cell_type": "code",
      "source": [
        "accuracy_score(testy,predicted)"
      ],
      "metadata": {
        "colab": {
          "base_uri": "https://localhost:8080/"
        },
        "id": "rS58N7Y5p3Pc",
        "outputId": "dad33be3-7c94-44e5-def9-eee6baa58243"
      },
      "execution_count": null,
      "outputs": [
        {
          "output_type": "execute_result",
          "data": {
            "text/plain": [
              "0.7211538461538461"
            ]
          },
          "metadata": {},
          "execution_count": 44
        }
      ]
    },
    {
      "cell_type": "markdown",
      "metadata": {
        "deletable": true,
        "editable": true,
        "id": "40UZD3z-LhGZ"
      },
      "source": [
        "Choosing K is tricky, so we can't discard KNN until we've tried different values of K. Write a for loop to run KNN with K values ranging from 1 to 50 and see if K makes a substantial difference. Make a note of the best performance you could get out of KNN."
      ]
    },
    {
      "cell_type": "code",
      "execution_count": null,
      "metadata": {
        "deletable": true,
        "editable": true,
        "id": "F3GD7TQ1LhGZ",
        "colab": {
          "base_uri": "https://localhost:8080/"
        },
        "outputId": "824507e1-c850-4a2e-c728-97f84b46925e"
      },
      "outputs": [
        {
          "output_type": "stream",
          "name": "stderr",
          "text": [
            "/usr/local/lib/python3.10/dist-packages/sklearn/neighbors/_classification.py:215: DataConversionWarning: A column-vector y was passed when a 1d array was expected. Please change the shape of y to (n_samples,), for example using ravel().\n",
            "  return self._fit(X, y)\n",
            "/usr/local/lib/python3.10/dist-packages/sklearn/neighbors/_classification.py:215: DataConversionWarning: A column-vector y was passed when a 1d array was expected. Please change the shape of y to (n_samples,), for example using ravel().\n",
            "  return self._fit(X, y)\n",
            "/usr/local/lib/python3.10/dist-packages/sklearn/neighbors/_classification.py:215: DataConversionWarning: A column-vector y was passed when a 1d array was expected. Please change the shape of y to (n_samples,), for example using ravel().\n",
            "  return self._fit(X, y)\n",
            "/usr/local/lib/python3.10/dist-packages/sklearn/neighbors/_classification.py:215: DataConversionWarning: A column-vector y was passed when a 1d array was expected. Please change the shape of y to (n_samples,), for example using ravel().\n",
            "  return self._fit(X, y)\n",
            "/usr/local/lib/python3.10/dist-packages/sklearn/neighbors/_classification.py:215: DataConversionWarning: A column-vector y was passed when a 1d array was expected. Please change the shape of y to (n_samples,), for example using ravel().\n",
            "  return self._fit(X, y)\n",
            "/usr/local/lib/python3.10/dist-packages/sklearn/neighbors/_classification.py:215: DataConversionWarning: A column-vector y was passed when a 1d array was expected. Please change the shape of y to (n_samples,), for example using ravel().\n",
            "  return self._fit(X, y)\n",
            "/usr/local/lib/python3.10/dist-packages/sklearn/neighbors/_classification.py:215: DataConversionWarning: A column-vector y was passed when a 1d array was expected. Please change the shape of y to (n_samples,), for example using ravel().\n",
            "  return self._fit(X, y)\n",
            "/usr/local/lib/python3.10/dist-packages/sklearn/neighbors/_classification.py:215: DataConversionWarning: A column-vector y was passed when a 1d array was expected. Please change the shape of y to (n_samples,), for example using ravel().\n",
            "  return self._fit(X, y)\n",
            "/usr/local/lib/python3.10/dist-packages/sklearn/neighbors/_classification.py:215: DataConversionWarning: A column-vector y was passed when a 1d array was expected. Please change the shape of y to (n_samples,), for example using ravel().\n",
            "  return self._fit(X, y)\n",
            "/usr/local/lib/python3.10/dist-packages/sklearn/neighbors/_classification.py:215: DataConversionWarning: A column-vector y was passed when a 1d array was expected. Please change the shape of y to (n_samples,), for example using ravel().\n",
            "  return self._fit(X, y)\n",
            "/usr/local/lib/python3.10/dist-packages/sklearn/neighbors/_classification.py:215: DataConversionWarning: A column-vector y was passed when a 1d array was expected. Please change the shape of y to (n_samples,), for example using ravel().\n",
            "  return self._fit(X, y)\n",
            "/usr/local/lib/python3.10/dist-packages/sklearn/neighbors/_classification.py:215: DataConversionWarning: A column-vector y was passed when a 1d array was expected. Please change the shape of y to (n_samples,), for example using ravel().\n",
            "  return self._fit(X, y)\n",
            "/usr/local/lib/python3.10/dist-packages/sklearn/neighbors/_classification.py:215: DataConversionWarning: A column-vector y was passed when a 1d array was expected. Please change the shape of y to (n_samples,), for example using ravel().\n",
            "  return self._fit(X, y)\n",
            "/usr/local/lib/python3.10/dist-packages/sklearn/neighbors/_classification.py:215: DataConversionWarning: A column-vector y was passed when a 1d array was expected. Please change the shape of y to (n_samples,), for example using ravel().\n",
            "  return self._fit(X, y)\n",
            "/usr/local/lib/python3.10/dist-packages/sklearn/neighbors/_classification.py:215: DataConversionWarning: A column-vector y was passed when a 1d array was expected. Please change the shape of y to (n_samples,), for example using ravel().\n",
            "  return self._fit(X, y)\n",
            "/usr/local/lib/python3.10/dist-packages/sklearn/neighbors/_classification.py:215: DataConversionWarning: A column-vector y was passed when a 1d array was expected. Please change the shape of y to (n_samples,), for example using ravel().\n",
            "  return self._fit(X, y)\n",
            "/usr/local/lib/python3.10/dist-packages/sklearn/neighbors/_classification.py:215: DataConversionWarning: A column-vector y was passed when a 1d array was expected. Please change the shape of y to (n_samples,), for example using ravel().\n",
            "  return self._fit(X, y)\n",
            "/usr/local/lib/python3.10/dist-packages/sklearn/neighbors/_classification.py:215: DataConversionWarning: A column-vector y was passed when a 1d array was expected. Please change the shape of y to (n_samples,), for example using ravel().\n",
            "  return self._fit(X, y)\n",
            "/usr/local/lib/python3.10/dist-packages/sklearn/neighbors/_classification.py:215: DataConversionWarning: A column-vector y was passed when a 1d array was expected. Please change the shape of y to (n_samples,), for example using ravel().\n",
            "  return self._fit(X, y)\n",
            "/usr/local/lib/python3.10/dist-packages/sklearn/neighbors/_classification.py:215: DataConversionWarning: A column-vector y was passed when a 1d array was expected. Please change the shape of y to (n_samples,), for example using ravel().\n",
            "  return self._fit(X, y)\n",
            "/usr/local/lib/python3.10/dist-packages/sklearn/neighbors/_classification.py:215: DataConversionWarning: A column-vector y was passed when a 1d array was expected. Please change the shape of y to (n_samples,), for example using ravel().\n",
            "  return self._fit(X, y)\n",
            "/usr/local/lib/python3.10/dist-packages/sklearn/neighbors/_classification.py:215: DataConversionWarning: A column-vector y was passed when a 1d array was expected. Please change the shape of y to (n_samples,), for example using ravel().\n",
            "  return self._fit(X, y)\n",
            "/usr/local/lib/python3.10/dist-packages/sklearn/neighbors/_classification.py:215: DataConversionWarning: A column-vector y was passed when a 1d array was expected. Please change the shape of y to (n_samples,), for example using ravel().\n",
            "  return self._fit(X, y)\n",
            "/usr/local/lib/python3.10/dist-packages/sklearn/neighbors/_classification.py:215: DataConversionWarning: A column-vector y was passed when a 1d array was expected. Please change the shape of y to (n_samples,), for example using ravel().\n",
            "  return self._fit(X, y)\n",
            "/usr/local/lib/python3.10/dist-packages/sklearn/neighbors/_classification.py:215: DataConversionWarning: A column-vector y was passed when a 1d array was expected. Please change the shape of y to (n_samples,), for example using ravel().\n",
            "  return self._fit(X, y)\n",
            "/usr/local/lib/python3.10/dist-packages/sklearn/neighbors/_classification.py:215: DataConversionWarning: A column-vector y was passed when a 1d array was expected. Please change the shape of y to (n_samples,), for example using ravel().\n",
            "  return self._fit(X, y)\n",
            "/usr/local/lib/python3.10/dist-packages/sklearn/neighbors/_classification.py:215: DataConversionWarning: A column-vector y was passed when a 1d array was expected. Please change the shape of y to (n_samples,), for example using ravel().\n",
            "  return self._fit(X, y)\n",
            "/usr/local/lib/python3.10/dist-packages/sklearn/neighbors/_classification.py:215: DataConversionWarning: A column-vector y was passed when a 1d array was expected. Please change the shape of y to (n_samples,), for example using ravel().\n",
            "  return self._fit(X, y)\n",
            "/usr/local/lib/python3.10/dist-packages/sklearn/neighbors/_classification.py:215: DataConversionWarning: A column-vector y was passed when a 1d array was expected. Please change the shape of y to (n_samples,), for example using ravel().\n",
            "  return self._fit(X, y)\n",
            "/usr/local/lib/python3.10/dist-packages/sklearn/neighbors/_classification.py:215: DataConversionWarning: A column-vector y was passed when a 1d array was expected. Please change the shape of y to (n_samples,), for example using ravel().\n",
            "  return self._fit(X, y)\n",
            "/usr/local/lib/python3.10/dist-packages/sklearn/neighbors/_classification.py:215: DataConversionWarning: A column-vector y was passed when a 1d array was expected. Please change the shape of y to (n_samples,), for example using ravel().\n",
            "  return self._fit(X, y)\n",
            "/usr/local/lib/python3.10/dist-packages/sklearn/neighbors/_classification.py:215: DataConversionWarning: A column-vector y was passed when a 1d array was expected. Please change the shape of y to (n_samples,), for example using ravel().\n",
            "  return self._fit(X, y)\n",
            "/usr/local/lib/python3.10/dist-packages/sklearn/neighbors/_classification.py:215: DataConversionWarning: A column-vector y was passed when a 1d array was expected. Please change the shape of y to (n_samples,), for example using ravel().\n",
            "  return self._fit(X, y)\n",
            "/usr/local/lib/python3.10/dist-packages/sklearn/neighbors/_classification.py:215: DataConversionWarning: A column-vector y was passed when a 1d array was expected. Please change the shape of y to (n_samples,), for example using ravel().\n",
            "  return self._fit(X, y)\n",
            "/usr/local/lib/python3.10/dist-packages/sklearn/neighbors/_classification.py:215: DataConversionWarning: A column-vector y was passed when a 1d array was expected. Please change the shape of y to (n_samples,), for example using ravel().\n",
            "  return self._fit(X, y)\n",
            "/usr/local/lib/python3.10/dist-packages/sklearn/neighbors/_classification.py:215: DataConversionWarning: A column-vector y was passed when a 1d array was expected. Please change the shape of y to (n_samples,), for example using ravel().\n",
            "  return self._fit(X, y)\n",
            "/usr/local/lib/python3.10/dist-packages/sklearn/neighbors/_classification.py:215: DataConversionWarning: A column-vector y was passed when a 1d array was expected. Please change the shape of y to (n_samples,), for example using ravel().\n",
            "  return self._fit(X, y)\n",
            "/usr/local/lib/python3.10/dist-packages/sklearn/neighbors/_classification.py:215: DataConversionWarning: A column-vector y was passed when a 1d array was expected. Please change the shape of y to (n_samples,), for example using ravel().\n",
            "  return self._fit(X, y)\n",
            "/usr/local/lib/python3.10/dist-packages/sklearn/neighbors/_classification.py:215: DataConversionWarning: A column-vector y was passed when a 1d array was expected. Please change the shape of y to (n_samples,), for example using ravel().\n",
            "  return self._fit(X, y)\n",
            "/usr/local/lib/python3.10/dist-packages/sklearn/neighbors/_classification.py:215: DataConversionWarning: A column-vector y was passed when a 1d array was expected. Please change the shape of y to (n_samples,), for example using ravel().\n",
            "  return self._fit(X, y)\n",
            "/usr/local/lib/python3.10/dist-packages/sklearn/neighbors/_classification.py:215: DataConversionWarning: A column-vector y was passed when a 1d array was expected. Please change the shape of y to (n_samples,), for example using ravel().\n",
            "  return self._fit(X, y)\n",
            "/usr/local/lib/python3.10/dist-packages/sklearn/neighbors/_classification.py:215: DataConversionWarning: A column-vector y was passed when a 1d array was expected. Please change the shape of y to (n_samples,), for example using ravel().\n",
            "  return self._fit(X, y)\n",
            "/usr/local/lib/python3.10/dist-packages/sklearn/neighbors/_classification.py:215: DataConversionWarning: A column-vector y was passed when a 1d array was expected. Please change the shape of y to (n_samples,), for example using ravel().\n",
            "  return self._fit(X, y)\n",
            "/usr/local/lib/python3.10/dist-packages/sklearn/neighbors/_classification.py:215: DataConversionWarning: A column-vector y was passed when a 1d array was expected. Please change the shape of y to (n_samples,), for example using ravel().\n",
            "  return self._fit(X, y)\n",
            "/usr/local/lib/python3.10/dist-packages/sklearn/neighbors/_classification.py:215: DataConversionWarning: A column-vector y was passed when a 1d array was expected. Please change the shape of y to (n_samples,), for example using ravel().\n",
            "  return self._fit(X, y)\n",
            "/usr/local/lib/python3.10/dist-packages/sklearn/neighbors/_classification.py:215: DataConversionWarning: A column-vector y was passed when a 1d array was expected. Please change the shape of y to (n_samples,), for example using ravel().\n",
            "  return self._fit(X, y)\n",
            "/usr/local/lib/python3.10/dist-packages/sklearn/neighbors/_classification.py:215: DataConversionWarning: A column-vector y was passed when a 1d array was expected. Please change the shape of y to (n_samples,), for example using ravel().\n",
            "  return self._fit(X, y)\n",
            "/usr/local/lib/python3.10/dist-packages/sklearn/neighbors/_classification.py:215: DataConversionWarning: A column-vector y was passed when a 1d array was expected. Please change the shape of y to (n_samples,), for example using ravel().\n",
            "  return self._fit(X, y)\n",
            "/usr/local/lib/python3.10/dist-packages/sklearn/neighbors/_classification.py:215: DataConversionWarning: A column-vector y was passed when a 1d array was expected. Please change the shape of y to (n_samples,), for example using ravel().\n",
            "  return self._fit(X, y)\n",
            "/usr/local/lib/python3.10/dist-packages/sklearn/neighbors/_classification.py:215: DataConversionWarning: A column-vector y was passed when a 1d array was expected. Please change the shape of y to (n_samples,), for example using ravel().\n",
            "  return self._fit(X, y)\n"
          ]
        }
      ],
      "source": [
        "import numpy as np\n",
        "array_accuracy = list()\n",
        "for i in range(0,50):\n",
        "  model = KNeighborsClassifier(n_neighbors=i+1,weights = 'distance')\n",
        "  model.fit(trainX,trainy)\n",
        "  predicted = model.predict(testX)\n",
        "  array_accuracy.append(accuracy_score(testy,predicted))"
      ]
    },
    {
      "cell_type": "code",
      "source": [
        "np.array(array_accuracy).argmax()\n"
      ],
      "metadata": {
        "colab": {
          "base_uri": "https://localhost:8080/"
        },
        "id": "5DZisKCrr4gK",
        "outputId": "55e7ba34-c4df-457b-c8bc-366ab5e15a99"
      },
      "execution_count": null,
      "outputs": [
        {
          "output_type": "execute_result",
          "data": {
            "text/plain": [
              "18"
            ]
          },
          "metadata": {},
          "execution_count": 59
        }
      ]
    },
    {
      "cell_type": "code",
      "source": [
        "np.array(array_accuracy)[18]"
      ],
      "metadata": {
        "colab": {
          "base_uri": "https://localhost:8080/"
        },
        "id": "PHw4TZpGseZ_",
        "outputId": "8c1fef78-56e6-4f7f-eab3-622567a4e37b"
      },
      "execution_count": null,
      "outputs": [
        {
          "output_type": "execute_result",
          "data": {
            "text/plain": [
              "0.7451923076923077"
            ]
          },
          "metadata": {},
          "execution_count": 61
        }
      ]
    },
    {
      "cell_type": "code",
      "source": [
        "np.array(array_accuracy).max()"
      ],
      "metadata": {
        "colab": {
          "base_uri": "https://localhost:8080/"
        },
        "id": "VoszW6aMsiC4",
        "outputId": "76ee5b97-8bd0-4b44-cfab-8b0703722b60"
      },
      "execution_count": null,
      "outputs": [
        {
          "output_type": "execute_result",
          "data": {
            "text/plain": [
              "0.7451923076923077"
            ]
          },
          "metadata": {},
          "execution_count": 62
        }
      ]
    },
    {
      "cell_type": "markdown",
      "source": [
        "SO K = 19"
      ],
      "metadata": {
        "id": "h63FzFXPslik"
      }
    },
    {
      "cell_type": "markdown",
      "metadata": {
        "deletable": true,
        "editable": true,
        "id": "JQkW9yYgLhGZ"
      },
      "source": [
        "## Naive Bayes\n",
        "\n",
        "Now try naive_bayes.MultinomialNB. How does its accuracy stack up? Hint: you'll need to use MinMaxScaler to get the features in the range MultinomialNB requires."
      ]
    },
    {
      "cell_type": "code",
      "source": [
        "xtrain, xtest, ytrain, ytest = train_test_split(X,y,test_size = 0.25,random_state=323,stratify=y)\n",
        "\n",
        "scalermax = MinMaxScaler()\n",
        "\n",
        "xtrain[['age']] = scalermax.fit_transform(xtrain[['age']])\n",
        "xtest[['age']] = scalermax.transform(xtest[['age']])\n",
        "print(xtest)"
      ],
      "metadata": {
        "colab": {
          "base_uri": "https://localhost:8080/"
        },
        "outputId": "5fcc572c-1815-48ce-d830-a75dadc2998d",
        "id": "7QNEnhlMufzE"
      },
      "execution_count": null,
      "outputs": [
        {
          "output_type": "stream",
          "name": "stdout",
          "text": [
            "          age  shape_1.0  shape_2.0  shape_3.0  shape_4.0  margin_1.0  \\\n",
            "64   0.717949          0          0          0          1           0   \n",
            "172  0.448718          0          0          0          1           0   \n",
            "633  0.641026          0          0          0          1           0   \n",
            "767  0.448718          0          0          1          0           0   \n",
            "877  0.423077          0          1          0          0           0   \n",
            "..        ...        ...        ...        ...        ...         ...   \n",
            "383  0.346154          1          0          0          0           1   \n",
            "492  0.448718          1          0          0          0           1   \n",
            "836  0.307692          0          1          0          0           1   \n",
            "810  0.730769          0          0          0          1           0   \n",
            "274  0.500000          0          0          0          1           0   \n",
            "\n",
            "     margin_2.0  margin_3.0  margin_4.0  margin_5.0  density_1.0  density_2.0  \\\n",
            "64            0           0           1           0            0            0   \n",
            "172           0           0           1           0            0            0   \n",
            "633           0           0           0           1            0            0   \n",
            "767           0           1           0           0            0            0   \n",
            "877           0           0           1           0            0            0   \n",
            "..          ...         ...         ...         ...          ...          ...   \n",
            "383           0           0           0           0            0            0   \n",
            "492           0           0           0           0            0            0   \n",
            "836           0           0           0           0            0            0   \n",
            "810           0           0           0           1            0            0   \n",
            "274           0           0           1           0            0            0   \n",
            "\n",
            "     density_3.0  density_4.0  \n",
            "64             1            0  \n",
            "172            1            0  \n",
            "633            1            0  \n",
            "767            1            0  \n",
            "877            1            0  \n",
            "..           ...          ...  \n",
            "383            1            0  \n",
            "492            1            0  \n",
            "836            1            0  \n",
            "810            1            0  \n",
            "274            1            0  \n",
            "\n",
            "[208 rows x 14 columns]\n"
          ]
        }
      ]
    },
    {
      "cell_type": "code",
      "execution_count": null,
      "metadata": {
        "deletable": true,
        "editable": true,
        "id": "Ny61iS0TLhGa",
        "colab": {
          "base_uri": "https://localhost:8080/"
        },
        "outputId": "0cc80490-d7a8-40a8-d106-849b89a25da2"
      },
      "outputs": [
        {
          "output_type": "stream",
          "name": "stderr",
          "text": [
            "/usr/local/lib/python3.10/dist-packages/sklearn/utils/validation.py:1143: DataConversionWarning: A column-vector y was passed when a 1d array was expected. Please change the shape of y to (n_samples, ), for example using ravel().\n",
            "  y = column_or_1d(y, warn=True)\n"
          ]
        },
        {
          "output_type": "execute_result",
          "data": {
            "text/plain": [
              "array([1, 1, 1, 1, 0, 0, 0, 0, 0, 0, 0, 0, 1, 1, 0, 1, 1, 1, 0, 0, 0, 0,\n",
              "       1, 0, 1, 1, 0, 1, 1, 1, 1, 1, 1, 1, 1, 1, 1, 1, 0, 1, 0, 1, 1, 1,\n",
              "       1, 1, 0, 0, 1, 0, 0, 1, 1, 0, 1, 0, 1, 1, 0, 1, 0, 1, 0, 1, 1, 1,\n",
              "       1, 1, 1, 1, 1, 1, 0, 0, 0, 1, 1, 0, 1, 1, 0, 0, 0, 0, 0, 0, 1, 0,\n",
              "       0, 0, 0, 1, 0, 0, 0, 1, 1, 0, 1, 0, 1, 1, 0, 1, 0, 1, 1, 0, 1, 1,\n",
              "       0, 1, 0, 0, 1, 0, 0, 0, 1, 0, 0, 0, 1, 0, 1, 0, 0, 1, 0, 0, 1, 0,\n",
              "       1, 0, 1, 1, 1, 1, 1, 0, 0, 1, 1, 0, 0, 1, 0, 1, 0, 0, 1, 1, 0, 0,\n",
              "       1, 0, 0, 0, 1, 1, 0, 0, 0, 1, 1, 0, 0, 1, 0, 1, 1, 0, 1, 1, 0, 1,\n",
              "       0, 1, 1, 0, 0, 0, 1, 1, 0, 1, 0, 0, 0, 0, 0, 1, 0, 1, 1, 1, 0, 0,\n",
              "       0, 0, 0, 1, 0, 0, 0, 0, 1, 1])"
            ]
          },
          "metadata": {},
          "execution_count": 76
        }
      ],
      "source": [
        "from sklearn.naive_bayes import MultinomialNB\n",
        "\n",
        "model = MultinomialNB(alpha = 1)\n",
        "model.fit(xtrain,ytrain)\n",
        "predicted = model.predict(xtest)\n",
        "predicted"
      ]
    },
    {
      "cell_type": "code",
      "source": [
        "accuracy_score(ytest,predicted)"
      ],
      "metadata": {
        "colab": {
          "base_uri": "https://localhost:8080/"
        },
        "id": "Wf_H4pmctzeo",
        "outputId": "aeb47cda-bd44-4607-872c-6fd349e109f9"
      },
      "execution_count": null,
      "outputs": [
        {
          "output_type": "execute_result",
          "data": {
            "text/plain": [
              "0.7836538461538461"
            ]
          },
          "metadata": {},
          "execution_count": 78
        }
      ]
    },
    {
      "cell_type": "code",
      "source": [
        "confusion_matrix(ytest,predicted)"
      ],
      "metadata": {
        "colab": {
          "base_uri": "https://localhost:8080/"
        },
        "id": "wOMYLCMHvAGu",
        "outputId": "3d802a09-2e39-4a2b-e527-0eda7a226ce2"
      },
      "execution_count": null,
      "outputs": [
        {
          "output_type": "execute_result",
          "data": {
            "text/plain": [
              "array([[83, 24],\n",
              "       [21, 80]])"
            ]
          },
          "metadata": {},
          "execution_count": 80
        }
      ]
    },
    {
      "cell_type": "code",
      "source": [
        "print(classification_report(ytest,predicted))"
      ],
      "metadata": {
        "colab": {
          "base_uri": "https://localhost:8080/"
        },
        "id": "CQ-Um4G3vCpD",
        "outputId": "a315ceca-af03-4a66-e1ee-43cc189834d1"
      },
      "execution_count": null,
      "outputs": [
        {
          "output_type": "stream",
          "name": "stdout",
          "text": [
            "              precision    recall  f1-score   support\n",
            "\n",
            "           0       0.80      0.78      0.79       107\n",
            "           1       0.77      0.79      0.78       101\n",
            "\n",
            "    accuracy                           0.78       208\n",
            "   macro avg       0.78      0.78      0.78       208\n",
            "weighted avg       0.78      0.78      0.78       208\n",
            "\n"
          ]
        }
      ]
    },
    {
      "cell_type": "markdown",
      "metadata": {
        "deletable": true,
        "editable": true,
        "id": "m4nez_NDLhGa"
      },
      "source": [
        "## Revisiting SVM\n",
        "\n",
        "svm.SVC may perform differently with different kernels. The choice of kernel is an example of a \"hyperparamter.\" Try the rbf, sigmoid, and poly kernels and see what the best-performing kernel is. Do we have a new winner?"
      ]
    },
    {
      "cell_type": "code",
      "execution_count": null,
      "metadata": {
        "deletable": true,
        "editable": true,
        "id": "qrvJU1G9LhGa",
        "colab": {
          "base_uri": "https://localhost:8080/"
        },
        "outputId": "2b2a663a-3f33-43f5-e23c-0a07ab9a02eb"
      },
      "outputs": [
        {
          "output_type": "stream",
          "name": "stderr",
          "text": [
            "/usr/local/lib/python3.10/dist-packages/sklearn/utils/validation.py:1143: DataConversionWarning: A column-vector y was passed when a 1d array was expected. Please change the shape of y to (n_samples, ), for example using ravel().\n",
            "  y = column_or_1d(y, warn=True)\n"
          ]
        },
        {
          "output_type": "execute_result",
          "data": {
            "text/plain": [
              "array([1, 1, 1, 1, 0, 0, 0, 0, 0, 0, 0, 0, 1, 1, 0, 0, 1, 1, 0, 0, 0, 0,\n",
              "       1, 0, 1, 1, 0, 1, 1, 1, 1, 1, 1, 1, 1, 1, 1, 1, 0, 1, 0, 1, 1, 1,\n",
              "       1, 1, 0, 0, 1, 0, 0, 1, 1, 0, 1, 1, 1, 1, 0, 1, 0, 1, 0, 1, 1, 1,\n",
              "       1, 1, 1, 1, 1, 1, 0, 0, 0, 1, 1, 0, 1, 1, 0, 0, 1, 0, 0, 0, 1, 0,\n",
              "       0, 0, 1, 1, 0, 0, 0, 1, 1, 0, 1, 0, 1, 1, 0, 0, 1, 1, 1, 0, 1, 1,\n",
              "       0, 1, 0, 0, 1, 0, 1, 0, 1, 0, 0, 0, 1, 0, 1, 0, 0, 1, 0, 0, 1, 0,\n",
              "       1, 0, 1, 1, 1, 1, 1, 0, 0, 1, 1, 0, 0, 1, 0, 1, 0, 0, 1, 1, 0, 0,\n",
              "       1, 0, 0, 0, 1, 1, 0, 0, 1, 1, 1, 0, 0, 1, 0, 1, 1, 0, 1, 1, 0, 1,\n",
              "       0, 1, 1, 0, 0, 0, 1, 1, 0, 1, 0, 0, 0, 0, 0, 1, 0, 1, 1, 1, 0, 0,\n",
              "       1, 0, 0, 1, 0, 0, 0, 0, 1, 1])"
            ]
          },
          "metadata": {},
          "execution_count": 84
        }
      ],
      "source": [
        "model = SVC(kernel = 'rbf',random_state = 3, C=1.1)\n",
        "model.fit(trainX,trainy)\n",
        "predicted = model.predict(testX)\n",
        "predicted"
      ]
    },
    {
      "cell_type": "code",
      "source": [
        "accuracy_score(testy,predicted)"
      ],
      "metadata": {
        "colab": {
          "base_uri": "https://localhost:8080/"
        },
        "id": "M1v2ES3HvZDP",
        "outputId": "7c3b7714-e707-4d7a-889b-8dcab4b7c621"
      },
      "execution_count": null,
      "outputs": [
        {
          "output_type": "execute_result",
          "data": {
            "text/plain": [
              "0.7884615384615384"
            ]
          },
          "metadata": {},
          "execution_count": 85
        }
      ]
    },
    {
      "cell_type": "code",
      "execution_count": null,
      "metadata": {
        "deletable": true,
        "editable": true,
        "colab": {
          "base_uri": "https://localhost:8080/"
        },
        "outputId": "70cd45aa-93c1-4cfc-d30f-746a500be359",
        "id": "0xM07NjWvhvW"
      },
      "outputs": [
        {
          "output_type": "stream",
          "name": "stderr",
          "text": [
            "/usr/local/lib/python3.10/dist-packages/sklearn/utils/validation.py:1143: DataConversionWarning: A column-vector y was passed when a 1d array was expected. Please change the shape of y to (n_samples, ), for example using ravel().\n",
            "  y = column_or_1d(y, warn=True)\n"
          ]
        },
        {
          "output_type": "execute_result",
          "data": {
            "text/plain": [
              "array([1, 0, 1, 0, 0, 0, 0, 0, 0, 0, 0, 1, 1, 1, 1, 0, 1, 1, 0, 1, 1, 1,\n",
              "       1, 0, 0, 1, 0, 0, 0, 1, 1, 1, 1, 1, 1, 0, 1, 1, 0, 1, 0, 1, 0, 1,\n",
              "       1, 1, 0, 0, 1, 0, 0, 0, 0, 0, 1, 1, 1, 1, 0, 1, 0, 0, 0, 1, 0, 0,\n",
              "       0, 1, 1, 0, 1, 1, 1, 0, 0, 1, 1, 0, 1, 1, 0, 1, 1, 1, 0, 0, 0, 0,\n",
              "       0, 0, 0, 0, 0, 0, 1, 1, 1, 1, 1, 0, 0, 0, 0, 0, 0, 1, 1, 0, 1, 0,\n",
              "       0, 1, 0, 0, 0, 0, 0, 0, 1, 0, 0, 0, 0, 0, 0, 0, 0, 1, 0, 1, 0, 0,\n",
              "       1, 0, 1, 1, 1, 0, 1, 0, 0, 1, 1, 0, 0, 1, 0, 1, 0, 0, 1, 0, 0, 0,\n",
              "       1, 0, 0, 0, 1, 1, 0, 0, 1, 1, 0, 0, 1, 1, 1, 0, 0, 1, 1, 0, 0, 1,\n",
              "       0, 0, 1, 0, 0, 0, 0, 1, 0, 0, 0, 0, 0, 0, 0, 1, 1, 1, 1, 0, 0, 0,\n",
              "       1, 0, 0, 1, 0, 0, 0, 0, 1, 1])"
            ]
          },
          "metadata": {},
          "execution_count": 86
        }
      ],
      "source": [
        "model = SVC(kernel = 'sigmoid',random_state = 3, C=1.1)\n",
        "model.fit(trainX,trainy)\n",
        "predicted = model.predict(testX)\n",
        "predicted"
      ]
    },
    {
      "cell_type": "code",
      "source": [
        "accuracy_score(testy,predicted)"
      ],
      "metadata": {
        "colab": {
          "base_uri": "https://localhost:8080/"
        },
        "outputId": "b5706949-81c0-4912-804d-eb09d099a443",
        "id": "Oa60Li6EvhvX"
      },
      "execution_count": null,
      "outputs": [
        {
          "output_type": "execute_result",
          "data": {
            "text/plain": [
              "0.6586538461538461"
            ]
          },
          "metadata": {},
          "execution_count": 87
        }
      ]
    },
    {
      "cell_type": "code",
      "execution_count": null,
      "metadata": {
        "deletable": true,
        "editable": true,
        "colab": {
          "base_uri": "https://localhost:8080/"
        },
        "outputId": "f232c006-b2db-4861-df71-0632703ae923",
        "id": "ouRhcg7mviFI"
      },
      "outputs": [
        {
          "output_type": "stream",
          "name": "stderr",
          "text": [
            "/usr/local/lib/python3.10/dist-packages/sklearn/utils/validation.py:1143: DataConversionWarning: A column-vector y was passed when a 1d array was expected. Please change the shape of y to (n_samples, ), for example using ravel().\n",
            "  y = column_or_1d(y, warn=True)\n"
          ]
        },
        {
          "output_type": "execute_result",
          "data": {
            "text/plain": [
              "array([1, 1, 1, 1, 0, 0, 0, 0, 0, 0, 0, 0, 1, 1, 0, 0, 1, 1, 0, 0, 0, 0,\n",
              "       1, 0, 1, 1, 0, 1, 1, 1, 1, 1, 1, 1, 1, 1, 1, 1, 0, 1, 0, 1, 1, 1,\n",
              "       1, 1, 0, 0, 1, 0, 0, 1, 1, 0, 1, 1, 1, 1, 0, 1, 0, 1, 0, 1, 1, 1,\n",
              "       1, 1, 1, 1, 1, 1, 0, 0, 0, 1, 1, 0, 1, 1, 0, 1, 1, 0, 0, 0, 1, 0,\n",
              "       0, 0, 1, 1, 0, 0, 0, 1, 1, 0, 1, 0, 1, 1, 0, 0, 1, 1, 1, 0, 1, 1,\n",
              "       0, 1, 0, 0, 1, 0, 1, 0, 1, 0, 0, 0, 1, 0, 1, 0, 0, 1, 0, 0, 1, 0,\n",
              "       1, 0, 1, 1, 1, 1, 1, 0, 0, 1, 1, 0, 0, 1, 0, 1, 0, 0, 1, 1, 0, 0,\n",
              "       1, 0, 0, 0, 1, 1, 0, 0, 1, 1, 1, 0, 0, 1, 0, 1, 1, 0, 1, 1, 0, 1,\n",
              "       0, 1, 1, 0, 0, 0, 1, 1, 0, 1, 0, 0, 0, 0, 0, 1, 0, 1, 1, 1, 0, 0,\n",
              "       1, 0, 0, 1, 0, 0, 0, 0, 1, 1])"
            ]
          },
          "metadata": {},
          "execution_count": 88
        }
      ],
      "source": [
        "model = SVC(kernel = 'poly',random_state = 3, C=1.1)\n",
        "model.fit(trainX,trainy)\n",
        "predicted = model.predict(testX)\n",
        "predicted"
      ]
    },
    {
      "cell_type": "code",
      "source": [
        "accuracy_score(testy,predicted)"
      ],
      "metadata": {
        "colab": {
          "base_uri": "https://localhost:8080/"
        },
        "outputId": "9646cb35-93f9-46a9-9b17-6af6ba15d2c5",
        "id": "97ffTF9MviFJ"
      },
      "execution_count": null,
      "outputs": [
        {
          "output_type": "execute_result",
          "data": {
            "text/plain": [
              "0.7932692307692307"
            ]
          },
          "metadata": {},
          "execution_count": 89
        }
      ]
    },
    {
      "cell_type": "markdown",
      "metadata": {
        "deletable": true,
        "editable": true,
        "id": "LUirslAsLhGa"
      },
      "source": [
        "## Logistic Regression\n",
        "\n",
        "We've tried all these fancy techniques, but fundamentally this is just a binary classification problem. Try Logisitic Regression, which is a simple way to tackling this sort of thing."
      ]
    },
    {
      "cell_type": "code",
      "execution_count": null,
      "metadata": {
        "collapsed": true,
        "deletable": true,
        "editable": true,
        "id": "BRRomF9YLhGa",
        "colab": {
          "base_uri": "https://localhost:8080/"
        },
        "outputId": "2634ef5a-d7a0-4a37-f826-2eabef4f3fd0"
      },
      "outputs": [
        {
          "output_type": "stream",
          "name": "stderr",
          "text": [
            "/usr/local/lib/python3.10/dist-packages/sklearn/utils/validation.py:1143: DataConversionWarning: A column-vector y was passed when a 1d array was expected. Please change the shape of y to (n_samples, ), for example using ravel().\n",
            "  y = column_or_1d(y, warn=True)\n"
          ]
        },
        {
          "output_type": "execute_result",
          "data": {
            "text/plain": [
              "array([1, 1, 1, 1, 0, 0, 0, 0, 0, 0, 0, 0, 1, 1, 0, 0, 1, 1, 0, 0, 0, 0,\n",
              "       1, 0, 1, 1, 0, 1, 1, 1, 1, 1, 1, 1, 1, 1, 1, 1, 0, 1, 0, 1, 0, 1,\n",
              "       1, 1, 0, 0, 1, 0, 0, 1, 1, 0, 1, 1, 1, 1, 0, 1, 0, 1, 0, 1, 1, 1,\n",
              "       1, 1, 1, 1, 1, 1, 0, 0, 0, 1, 1, 0, 1, 1, 0, 1, 1, 0, 0, 0, 0, 0,\n",
              "       0, 0, 1, 1, 0, 0, 1, 1, 1, 0, 1, 0, 1, 1, 0, 0, 1, 1, 1, 0, 1, 1,\n",
              "       0, 1, 0, 0, 1, 0, 1, 0, 1, 0, 0, 0, 1, 0, 1, 0, 0, 1, 0, 0, 1, 0,\n",
              "       1, 0, 1, 1, 1, 1, 1, 0, 0, 1, 1, 0, 0, 1, 0, 1, 0, 0, 1, 1, 0, 0,\n",
              "       1, 0, 0, 0, 1, 1, 0, 0, 1, 1, 1, 0, 0, 1, 0, 0, 0, 0, 1, 1, 0, 1,\n",
              "       0, 1, 1, 0, 0, 0, 1, 1, 0, 1, 0, 0, 0, 0, 0, 1, 0, 1, 1, 1, 0, 0,\n",
              "       1, 0, 0, 1, 0, 0, 0, 0, 1, 1])"
            ]
          },
          "metadata": {},
          "execution_count": 90
        }
      ],
      "source": [
        "from sklearn.linear_model import LogisticRegression\n",
        "\n",
        "model = LogisticRegression(random_state = 3)\n",
        "model.fit(trainX,trainy)\n",
        "predicted = model.predict(testX)\n",
        "predicted"
      ]
    },
    {
      "cell_type": "code",
      "execution_count": null,
      "metadata": {
        "collapsed": true,
        "deletable": true,
        "editable": true,
        "id": "r_xqswkYLhGa",
        "colab": {
          "base_uri": "https://localhost:8080/"
        },
        "outputId": "0fbc89c1-cbf7-4458-cb6f-ae72cd2ec04e"
      },
      "outputs": [
        {
          "output_type": "execute_result",
          "data": {
            "text/plain": [
              "0.7788461538461539"
            ]
          },
          "metadata": {},
          "execution_count": 91
        }
      ],
      "source": [
        "accuracy_score(testy,predicted)"
      ]
    },
    {
      "cell_type": "code",
      "execution_count": null,
      "metadata": {
        "collapsed": true,
        "deletable": true,
        "editable": true,
        "id": "ZbXvfp3TLhGa",
        "colab": {
          "base_uri": "https://localhost:8080/"
        },
        "outputId": "51c3c1d6-8b78-4b8e-c070-782b269fee75"
      },
      "outputs": [
        {
          "output_type": "stream",
          "name": "stdout",
          "text": [
            "              precision    recall  f1-score   support\n",
            "\n",
            "           0       0.80      0.76      0.78       107\n",
            "           1       0.76      0.80      0.78       101\n",
            "\n",
            "    accuracy                           0.78       208\n",
            "   macro avg       0.78      0.78      0.78       208\n",
            "weighted avg       0.78      0.78      0.78       208\n",
            "\n"
          ]
        }
      ],
      "source": [
        "print(classification_report(testy,predicted))"
      ]
    },
    {
      "cell_type": "markdown",
      "metadata": {
        "deletable": true,
        "editable": true,
        "id": "x-fXsTsALhGc"
      },
      "source": [
        "## Neural Networks\n",
        "\n",
        "As a bonus challenge, let's see if an artificial neural network can do even better. You can use Keras to set up a neural network with 1 binary output neuron and see how it performs. Don't be afraid to run a large number of epochs to train the model if necessary."
      ]
    },
    {
      "cell_type": "code",
      "source": [
        "import tensorflow as tf"
      ],
      "metadata": {
        "id": "orziPGMH8n3e"
      },
      "execution_count": 197,
      "outputs": []
    },
    {
      "cell_type": "code",
      "execution_count": 202,
      "metadata": {
        "deletable": true,
        "editable": true,
        "id": "moslwo-ALhGc"
      },
      "outputs": [],
      "source": [
        "from tensorflow.keras import Sequential\n",
        "from tensorflow.keras.layers import (Dense,\n",
        "    Dropout)"
      ]
    },
    {
      "cell_type": "code",
      "execution_count": 249,
      "metadata": {
        "deletable": true,
        "editable": true,
        "id": "jd43GyiSLhGd",
        "colab": {
          "base_uri": "https://localhost:8080/"
        },
        "outputId": "e129c453-94b1-4aed-e4a0-55866c651fcd"
      },
      "outputs": [
        {
          "output_type": "stream",
          "name": "stdout",
          "text": [
            "Model: \"sequential_41\"\n",
            "_________________________________________________________________\n",
            " Layer (type)                Output Shape              Param #   \n",
            "=================================================================\n",
            " dense_181 (Dense)           (None, 512)               7680      \n",
            "                                                                 \n",
            " dropout_70 (Dropout)        (None, 512)               0         \n",
            "                                                                 \n",
            " dense_182 (Dense)           (None, 512)               262656    \n",
            "                                                                 \n",
            " dropout_71 (Dropout)        (None, 512)               0         \n",
            "                                                                 \n",
            " dense_183 (Dense)           (None, 2)                 1026      \n",
            "                                                                 \n",
            "=================================================================\n",
            "Total params: 271362 (1.04 MB)\n",
            "Trainable params: 271362 (1.04 MB)\n",
            "Non-trainable params: 0 (0.00 Byte)\n",
            "_________________________________________________________________\n"
          ]
        }
      ],
      "source": [
        "model = Sequential()\n",
        "model.add(Dense(units = 512,input_dim = trainX.shape[1],activation = 'relu'))\n",
        "model.add(Dropout(0.8))\n",
        "model.add(Dense(units = 512,activation = 'relu'))\n",
        "model.add(Dropout(0.9))\n",
        "model.add(Dense(units = 2,activation = 'softmax'))\n",
        "\n",
        "model.summary()"
      ]
    },
    {
      "cell_type": "code",
      "execution_count": 250,
      "metadata": {
        "deletable": true,
        "editable": true,
        "id": "o-7EJPrxLhGd"
      },
      "outputs": [],
      "source": [
        "model.compile(loss=\"categorical_crossentropy\", metrics=[\"accuracy\"],optimizer = \"Adam\")"
      ]
    },
    {
      "cell_type": "code",
      "execution_count": 251,
      "metadata": {
        "deletable": true,
        "editable": true,
        "id": "TkFiBTlHLhGd",
        "colab": {
          "base_uri": "https://localhost:8080/"
        },
        "outputId": "00cc683d-45b1-4bc1-824c-1ea0e3251ce9"
      },
      "outputs": [
        {
          "output_type": "stream",
          "name": "stdout",
          "text": [
            "Epoch 1/400\n",
            "20/20 [==============================] - 2s 32ms/step - loss: 0.7144 - accuracy: 0.5547 - val_loss: 0.5252 - val_accuracy: 0.7788\n",
            "Epoch 2/400\n",
            "20/20 [==============================] - 0s 17ms/step - loss: 0.5730 - accuracy: 0.7154 - val_loss: 0.4707 - val_accuracy: 0.7500\n",
            "Epoch 3/400\n",
            "20/20 [==============================] - 0s 10ms/step - loss: 0.5213 - accuracy: 0.7765 - val_loss: 0.4584 - val_accuracy: 0.7788\n",
            "Epoch 4/400\n",
            "20/20 [==============================] - 0s 9ms/step - loss: 0.5112 - accuracy: 0.7669 - val_loss: 0.4595 - val_accuracy: 0.7837\n",
            "Epoch 5/400\n",
            "20/20 [==============================] - 0s 10ms/step - loss: 0.4994 - accuracy: 0.7894 - val_loss: 0.4608 - val_accuracy: 0.7837\n",
            "Epoch 6/400\n",
            "20/20 [==============================] - 0s 9ms/step - loss: 0.4820 - accuracy: 0.7878 - val_loss: 0.4588 - val_accuracy: 0.7981\n",
            "Epoch 7/400\n",
            "20/20 [==============================] - 0s 9ms/step - loss: 0.4959 - accuracy: 0.8023 - val_loss: 0.4638 - val_accuracy: 0.7933\n",
            "Epoch 8/400\n",
            "20/20 [==============================] - 0s 8ms/step - loss: 0.4514 - accuracy: 0.8039 - val_loss: 0.4642 - val_accuracy: 0.8029\n",
            "Epoch 9/400\n",
            "20/20 [==============================] - 0s 9ms/step - loss: 0.4571 - accuracy: 0.8023 - val_loss: 0.4691 - val_accuracy: 0.7981\n",
            "Epoch 10/400\n",
            "20/20 [==============================] - 0s 9ms/step - loss: 0.4845 - accuracy: 0.8071 - val_loss: 0.4699 - val_accuracy: 0.8029\n",
            "Epoch 11/400\n",
            "20/20 [==============================] - 0s 9ms/step - loss: 0.5065 - accuracy: 0.7926 - val_loss: 0.4692 - val_accuracy: 0.7933\n",
            "Epoch 12/400\n",
            "20/20 [==============================] - 0s 9ms/step - loss: 0.4835 - accuracy: 0.7910 - val_loss: 0.4732 - val_accuracy: 0.7933\n",
            "Epoch 13/400\n",
            "20/20 [==============================] - 0s 9ms/step - loss: 0.4629 - accuracy: 0.8023 - val_loss: 0.4708 - val_accuracy: 0.7981\n",
            "Epoch 14/400\n",
            "20/20 [==============================] - 0s 9ms/step - loss: 0.4600 - accuracy: 0.7974 - val_loss: 0.4734 - val_accuracy: 0.7933\n",
            "Epoch 15/400\n",
            "20/20 [==============================] - 0s 9ms/step - loss: 0.4616 - accuracy: 0.8039 - val_loss: 0.4768 - val_accuracy: 0.7933\n",
            "Epoch 16/400\n",
            "20/20 [==============================] - 0s 10ms/step - loss: 0.4566 - accuracy: 0.8167 - val_loss: 0.4717 - val_accuracy: 0.7933\n",
            "Epoch 17/400\n",
            "20/20 [==============================] - 0s 9ms/step - loss: 0.4735 - accuracy: 0.8039 - val_loss: 0.4722 - val_accuracy: 0.7981\n",
            "Epoch 18/400\n",
            "20/20 [==============================] - 0s 9ms/step - loss: 0.4715 - accuracy: 0.8103 - val_loss: 0.4741 - val_accuracy: 0.7981\n",
            "Epoch 19/400\n",
            "20/20 [==============================] - 0s 9ms/step - loss: 0.4396 - accuracy: 0.8215 - val_loss: 0.4736 - val_accuracy: 0.8029\n",
            "Epoch 20/400\n",
            "20/20 [==============================] - 0s 9ms/step - loss: 0.4499 - accuracy: 0.8087 - val_loss: 0.4771 - val_accuracy: 0.8029\n",
            "Epoch 21/400\n",
            "20/20 [==============================] - 0s 9ms/step - loss: 0.4395 - accuracy: 0.8167 - val_loss: 0.4860 - val_accuracy: 0.7981\n",
            "Epoch 22/400\n",
            "20/20 [==============================] - 0s 9ms/step - loss: 0.4673 - accuracy: 0.8151 - val_loss: 0.4821 - val_accuracy: 0.8029\n",
            "Epoch 23/400\n",
            "20/20 [==============================] - 0s 8ms/step - loss: 0.4755 - accuracy: 0.8055 - val_loss: 0.4818 - val_accuracy: 0.7933\n",
            "Epoch 24/400\n",
            "20/20 [==============================] - 0s 8ms/step - loss: 0.4520 - accuracy: 0.8087 - val_loss: 0.4802 - val_accuracy: 0.7981\n",
            "Epoch 25/400\n",
            "20/20 [==============================] - 0s 9ms/step - loss: 0.4589 - accuracy: 0.8087 - val_loss: 0.4823 - val_accuracy: 0.7885\n",
            "Epoch 26/400\n",
            "20/20 [==============================] - 0s 9ms/step - loss: 0.4598 - accuracy: 0.8023 - val_loss: 0.4852 - val_accuracy: 0.7933\n",
            "Epoch 27/400\n",
            "20/20 [==============================] - 0s 10ms/step - loss: 0.4400 - accuracy: 0.8119 - val_loss: 0.4813 - val_accuracy: 0.7981\n",
            "Epoch 28/400\n",
            "20/20 [==============================] - 0s 9ms/step - loss: 0.4414 - accuracy: 0.8167 - val_loss: 0.4838 - val_accuracy: 0.7933\n",
            "Epoch 29/400\n",
            "20/20 [==============================] - 0s 9ms/step - loss: 0.4645 - accuracy: 0.8135 - val_loss: 0.4862 - val_accuracy: 0.7933\n",
            "Epoch 30/400\n",
            "20/20 [==============================] - 0s 9ms/step - loss: 0.4717 - accuracy: 0.7926 - val_loss: 0.4886 - val_accuracy: 0.7981\n",
            "Epoch 31/400\n",
            "20/20 [==============================] - 0s 9ms/step - loss: 0.4427 - accuracy: 0.8119 - val_loss: 0.4842 - val_accuracy: 0.7933\n",
            "Epoch 32/400\n",
            "20/20 [==============================] - 0s 9ms/step - loss: 0.4404 - accuracy: 0.8248 - val_loss: 0.4841 - val_accuracy: 0.7981\n",
            "Epoch 33/400\n",
            "20/20 [==============================] - 0s 9ms/step - loss: 0.4548 - accuracy: 0.8167 - val_loss: 0.4865 - val_accuracy: 0.7981\n",
            "Epoch 34/400\n",
            "20/20 [==============================] - 0s 9ms/step - loss: 0.4465 - accuracy: 0.8312 - val_loss: 0.4899 - val_accuracy: 0.7981\n",
            "Epoch 35/400\n",
            "20/20 [==============================] - 0s 9ms/step - loss: 0.4207 - accuracy: 0.8248 - val_loss: 0.4863 - val_accuracy: 0.7981\n",
            "Epoch 36/400\n",
            "20/20 [==============================] - 0s 9ms/step - loss: 0.4313 - accuracy: 0.8312 - val_loss: 0.4905 - val_accuracy: 0.7981\n",
            "Epoch 37/400\n",
            "20/20 [==============================] - 0s 9ms/step - loss: 0.4561 - accuracy: 0.8167 - val_loss: 0.4884 - val_accuracy: 0.7933\n",
            "Epoch 38/400\n",
            "20/20 [==============================] - 0s 10ms/step - loss: 0.4281 - accuracy: 0.8248 - val_loss: 0.4931 - val_accuracy: 0.7933\n",
            "Epoch 39/400\n",
            "20/20 [==============================] - 0s 9ms/step - loss: 0.4528 - accuracy: 0.8328 - val_loss: 0.4922 - val_accuracy: 0.7933\n",
            "Epoch 40/400\n",
            "20/20 [==============================] - 0s 9ms/step - loss: 0.4574 - accuracy: 0.8280 - val_loss: 0.4966 - val_accuracy: 0.7981\n",
            "Epoch 41/400\n",
            "20/20 [==============================] - 0s 9ms/step - loss: 0.4518 - accuracy: 0.8135 - val_loss: 0.4909 - val_accuracy: 0.7933\n",
            "Epoch 42/400\n",
            "20/20 [==============================] - 0s 9ms/step - loss: 0.4609 - accuracy: 0.8167 - val_loss: 0.4902 - val_accuracy: 0.7933\n",
            "Epoch 43/400\n",
            "20/20 [==============================] - 0s 9ms/step - loss: 0.4409 - accuracy: 0.8280 - val_loss: 0.4932 - val_accuracy: 0.7933\n",
            "Epoch 44/400\n",
            "20/20 [==============================] - 0s 10ms/step - loss: 0.4371 - accuracy: 0.8167 - val_loss: 0.4921 - val_accuracy: 0.7933\n",
            "Epoch 45/400\n",
            "20/20 [==============================] - 0s 8ms/step - loss: 0.4365 - accuracy: 0.8119 - val_loss: 0.4943 - val_accuracy: 0.8029\n",
            "Epoch 46/400\n",
            "20/20 [==============================] - 0s 9ms/step - loss: 0.4538 - accuracy: 0.8199 - val_loss: 0.4974 - val_accuracy: 0.7981\n",
            "Epoch 47/400\n",
            "20/20 [==============================] - 0s 9ms/step - loss: 0.4424 - accuracy: 0.8296 - val_loss: 0.4982 - val_accuracy: 0.7981\n",
            "Epoch 48/400\n",
            "20/20 [==============================] - 0s 9ms/step - loss: 0.4323 - accuracy: 0.8119 - val_loss: 0.4971 - val_accuracy: 0.8029\n",
            "Epoch 49/400\n",
            "20/20 [==============================] - 0s 9ms/step - loss: 0.4475 - accuracy: 0.8232 - val_loss: 0.4996 - val_accuracy: 0.8029\n",
            "Epoch 50/400\n",
            "20/20 [==============================] - 0s 9ms/step - loss: 0.4223 - accuracy: 0.8280 - val_loss: 0.4955 - val_accuracy: 0.8029\n",
            "Epoch 51/400\n",
            "20/20 [==============================] - 0s 9ms/step - loss: 0.4257 - accuracy: 0.8199 - val_loss: 0.4993 - val_accuracy: 0.7981\n",
            "Epoch 52/400\n",
            "20/20 [==============================] - 0s 9ms/step - loss: 0.4291 - accuracy: 0.8280 - val_loss: 0.5027 - val_accuracy: 0.7933\n",
            "Epoch 53/400\n",
            "20/20 [==============================] - 0s 9ms/step - loss: 0.4315 - accuracy: 0.8199 - val_loss: 0.5028 - val_accuracy: 0.7933\n",
            "Epoch 54/400\n",
            "20/20 [==============================] - 0s 9ms/step - loss: 0.4588 - accuracy: 0.8119 - val_loss: 0.5064 - val_accuracy: 0.7933\n",
            "Epoch 55/400\n",
            "20/20 [==============================] - 0s 10ms/step - loss: 0.4538 - accuracy: 0.8232 - val_loss: 0.5040 - val_accuracy: 0.7981\n",
            "Epoch 56/400\n",
            "20/20 [==============================] - 0s 15ms/step - loss: 0.4388 - accuracy: 0.8232 - val_loss: 0.5091 - val_accuracy: 0.7981\n",
            "Epoch 57/400\n",
            "20/20 [==============================] - 0s 16ms/step - loss: 0.4465 - accuracy: 0.8215 - val_loss: 0.5125 - val_accuracy: 0.7981\n",
            "Epoch 58/400\n",
            "20/20 [==============================] - 0s 15ms/step - loss: 0.4258 - accuracy: 0.8151 - val_loss: 0.5094 - val_accuracy: 0.7981\n",
            "Epoch 59/400\n",
            "20/20 [==============================] - 0s 15ms/step - loss: 0.4502 - accuracy: 0.8264 - val_loss: 0.5134 - val_accuracy: 0.7981\n",
            "Epoch 60/400\n",
            "20/20 [==============================] - 0s 16ms/step - loss: 0.4447 - accuracy: 0.8151 - val_loss: 0.5094 - val_accuracy: 0.7981\n",
            "Epoch 61/400\n",
            "20/20 [==============================] - 0s 14ms/step - loss: 0.4422 - accuracy: 0.8232 - val_loss: 0.5087 - val_accuracy: 0.7981\n",
            "Epoch 62/400\n",
            "20/20 [==============================] - 0s 16ms/step - loss: 0.4506 - accuracy: 0.8296 - val_loss: 0.5078 - val_accuracy: 0.8029\n",
            "Epoch 63/400\n",
            "20/20 [==============================] - 0s 15ms/step - loss: 0.4329 - accuracy: 0.8215 - val_loss: 0.5083 - val_accuracy: 0.8029\n",
            "Epoch 64/400\n",
            "20/20 [==============================] - 0s 14ms/step - loss: 0.4373 - accuracy: 0.8199 - val_loss: 0.5090 - val_accuracy: 0.8029\n",
            "Epoch 65/400\n",
            "20/20 [==============================] - 0s 15ms/step - loss: 0.4261 - accuracy: 0.8312 - val_loss: 0.5093 - val_accuracy: 0.8029\n",
            "Epoch 66/400\n",
            "20/20 [==============================] - 0s 16ms/step - loss: 0.4156 - accuracy: 0.8215 - val_loss: 0.5110 - val_accuracy: 0.7981\n",
            "Epoch 67/400\n",
            "20/20 [==============================] - 0s 15ms/step - loss: 0.4202 - accuracy: 0.8264 - val_loss: 0.5151 - val_accuracy: 0.7981\n",
            "Epoch 68/400\n",
            "20/20 [==============================] - 0s 9ms/step - loss: 0.4149 - accuracy: 0.8119 - val_loss: 0.5146 - val_accuracy: 0.7981\n",
            "Epoch 69/400\n",
            "20/20 [==============================] - 0s 9ms/step - loss: 0.4284 - accuracy: 0.8296 - val_loss: 0.5148 - val_accuracy: 0.8029\n",
            "Epoch 70/400\n",
            "20/20 [==============================] - 0s 10ms/step - loss: 0.4069 - accuracy: 0.8360 - val_loss: 0.5177 - val_accuracy: 0.7981\n",
            "Epoch 71/400\n",
            "20/20 [==============================] - 0s 9ms/step - loss: 0.4492 - accuracy: 0.8151 - val_loss: 0.5157 - val_accuracy: 0.7933\n",
            "Epoch 72/400\n",
            "20/20 [==============================] - 0s 9ms/step - loss: 0.4380 - accuracy: 0.8280 - val_loss: 0.5130 - val_accuracy: 0.7933\n",
            "Epoch 73/400\n",
            "20/20 [==============================] - 0s 9ms/step - loss: 0.4418 - accuracy: 0.8264 - val_loss: 0.5153 - val_accuracy: 0.7981\n",
            "Epoch 74/400\n",
            "20/20 [==============================] - 0s 9ms/step - loss: 0.4469 - accuracy: 0.8167 - val_loss: 0.5173 - val_accuracy: 0.7981\n",
            "Epoch 75/400\n",
            "20/20 [==============================] - 0s 9ms/step - loss: 0.4288 - accuracy: 0.8280 - val_loss: 0.5158 - val_accuracy: 0.7981\n",
            "Epoch 76/400\n",
            "20/20 [==============================] - 0s 9ms/step - loss: 0.4453 - accuracy: 0.8248 - val_loss: 0.5157 - val_accuracy: 0.7981\n",
            "Epoch 77/400\n",
            "20/20 [==============================] - 0s 9ms/step - loss: 0.4268 - accuracy: 0.8296 - val_loss: 0.5120 - val_accuracy: 0.7981\n",
            "Epoch 78/400\n",
            "20/20 [==============================] - 0s 9ms/step - loss: 0.4302 - accuracy: 0.8408 - val_loss: 0.5154 - val_accuracy: 0.7933\n",
            "Epoch 79/400\n",
            "20/20 [==============================] - 0s 9ms/step - loss: 0.4120 - accuracy: 0.8392 - val_loss: 0.5187 - val_accuracy: 0.7933\n",
            "Epoch 80/400\n",
            "20/20 [==============================] - 0s 10ms/step - loss: 0.4524 - accuracy: 0.8264 - val_loss: 0.5167 - val_accuracy: 0.7981\n",
            "Epoch 81/400\n",
            "20/20 [==============================] - 0s 9ms/step - loss: 0.4212 - accuracy: 0.8280 - val_loss: 0.5151 - val_accuracy: 0.7981\n",
            "Epoch 82/400\n",
            "20/20 [==============================] - 0s 9ms/step - loss: 0.4397 - accuracy: 0.8167 - val_loss: 0.5116 - val_accuracy: 0.7981\n",
            "Epoch 83/400\n",
            "20/20 [==============================] - 0s 9ms/step - loss: 0.4299 - accuracy: 0.8280 - val_loss: 0.5100 - val_accuracy: 0.7981\n",
            "Epoch 84/400\n",
            "20/20 [==============================] - 0s 9ms/step - loss: 0.4170 - accuracy: 0.8312 - val_loss: 0.5156 - val_accuracy: 0.7981\n",
            "Epoch 85/400\n",
            "20/20 [==============================] - 0s 10ms/step - loss: 0.4294 - accuracy: 0.8232 - val_loss: 0.5110 - val_accuracy: 0.7981\n",
            "Epoch 86/400\n",
            "20/20 [==============================] - 0s 9ms/step - loss: 0.4319 - accuracy: 0.8167 - val_loss: 0.5137 - val_accuracy: 0.8029\n",
            "Epoch 87/400\n",
            "20/20 [==============================] - 0s 9ms/step - loss: 0.4689 - accuracy: 0.8199 - val_loss: 0.5107 - val_accuracy: 0.7981\n",
            "Epoch 88/400\n",
            "20/20 [==============================] - 0s 10ms/step - loss: 0.4270 - accuracy: 0.8296 - val_loss: 0.5133 - val_accuracy: 0.7933\n",
            "Epoch 89/400\n",
            "20/20 [==============================] - 0s 9ms/step - loss: 0.4067 - accuracy: 0.8264 - val_loss: 0.5165 - val_accuracy: 0.7981\n",
            "Epoch 90/400\n",
            "20/20 [==============================] - 0s 9ms/step - loss: 0.4231 - accuracy: 0.8215 - val_loss: 0.5197 - val_accuracy: 0.7981\n",
            "Epoch 91/400\n",
            "20/20 [==============================] - 0s 10ms/step - loss: 0.4307 - accuracy: 0.8280 - val_loss: 0.5207 - val_accuracy: 0.7933\n",
            "Epoch 92/400\n",
            "20/20 [==============================] - 0s 9ms/step - loss: 0.4260 - accuracy: 0.8232 - val_loss: 0.5181 - val_accuracy: 0.7981\n",
            "Epoch 93/400\n",
            "20/20 [==============================] - 0s 9ms/step - loss: 0.4163 - accuracy: 0.8360 - val_loss: 0.5209 - val_accuracy: 0.7981\n",
            "Epoch 94/400\n",
            "20/20 [==============================] - 0s 9ms/step - loss: 0.4272 - accuracy: 0.8215 - val_loss: 0.5192 - val_accuracy: 0.7981\n",
            "Epoch 95/400\n",
            "20/20 [==============================] - 0s 9ms/step - loss: 0.4368 - accuracy: 0.8328 - val_loss: 0.5184 - val_accuracy: 0.7933\n",
            "Epoch 96/400\n",
            "20/20 [==============================] - 0s 9ms/step - loss: 0.4073 - accuracy: 0.8232 - val_loss: 0.5215 - val_accuracy: 0.7933\n",
            "Epoch 97/400\n",
            "20/20 [==============================] - 0s 9ms/step - loss: 0.4274 - accuracy: 0.8280 - val_loss: 0.5229 - val_accuracy: 0.7933\n",
            "Epoch 98/400\n",
            "20/20 [==============================] - 0s 9ms/step - loss: 0.4392 - accuracy: 0.8232 - val_loss: 0.5220 - val_accuracy: 0.7933\n",
            "Epoch 99/400\n",
            "20/20 [==============================] - 0s 9ms/step - loss: 0.4369 - accuracy: 0.8264 - val_loss: 0.5226 - val_accuracy: 0.7933\n",
            "Epoch 100/400\n",
            "20/20 [==============================] - 0s 10ms/step - loss: 0.4313 - accuracy: 0.8232 - val_loss: 0.5217 - val_accuracy: 0.7981\n",
            "Epoch 101/400\n",
            "20/20 [==============================] - 0s 9ms/step - loss: 0.4251 - accuracy: 0.8280 - val_loss: 0.5236 - val_accuracy: 0.7933\n",
            "Epoch 102/400\n",
            "20/20 [==============================] - 0s 10ms/step - loss: 0.4278 - accuracy: 0.8328 - val_loss: 0.5242 - val_accuracy: 0.7933\n",
            "Epoch 103/400\n",
            "20/20 [==============================] - 0s 9ms/step - loss: 0.4240 - accuracy: 0.8248 - val_loss: 0.5274 - val_accuracy: 0.7933\n",
            "Epoch 104/400\n",
            "20/20 [==============================] - 0s 10ms/step - loss: 0.4232 - accuracy: 0.8312 - val_loss: 0.5303 - val_accuracy: 0.7933\n",
            "Epoch 105/400\n",
            "20/20 [==============================] - 0s 10ms/step - loss: 0.4316 - accuracy: 0.8312 - val_loss: 0.5238 - val_accuracy: 0.7981\n",
            "Epoch 106/400\n",
            "20/20 [==============================] - 0s 9ms/step - loss: 0.4282 - accuracy: 0.8280 - val_loss: 0.5274 - val_accuracy: 0.7981\n",
            "Epoch 107/400\n",
            "20/20 [==============================] - 0s 10ms/step - loss: 0.4301 - accuracy: 0.8360 - val_loss: 0.5261 - val_accuracy: 0.7933\n",
            "Epoch 108/400\n",
            "20/20 [==============================] - 0s 9ms/step - loss: 0.4238 - accuracy: 0.8312 - val_loss: 0.5326 - val_accuracy: 0.7981\n",
            "Epoch 109/400\n",
            "20/20 [==============================] - 0s 9ms/step - loss: 0.4306 - accuracy: 0.8215 - val_loss: 0.5276 - val_accuracy: 0.7933\n",
            "Epoch 110/400\n",
            "20/20 [==============================] - 0s 9ms/step - loss: 0.4346 - accuracy: 0.8215 - val_loss: 0.5266 - val_accuracy: 0.7981\n",
            "Epoch 111/400\n",
            "20/20 [==============================] - 0s 9ms/step - loss: 0.4104 - accuracy: 0.8280 - val_loss: 0.5351 - val_accuracy: 0.7933\n",
            "Epoch 112/400\n",
            "20/20 [==============================] - 0s 9ms/step - loss: 0.4249 - accuracy: 0.8376 - val_loss: 0.5278 - val_accuracy: 0.7933\n",
            "Epoch 113/400\n",
            "20/20 [==============================] - 0s 9ms/step - loss: 0.4278 - accuracy: 0.8183 - val_loss: 0.5240 - val_accuracy: 0.7981\n",
            "Epoch 114/400\n",
            "20/20 [==============================] - 0s 12ms/step - loss: 0.4192 - accuracy: 0.8151 - val_loss: 0.5238 - val_accuracy: 0.8029\n",
            "Epoch 115/400\n",
            "20/20 [==============================] - 0s 8ms/step - loss: 0.4389 - accuracy: 0.8344 - val_loss: 0.5305 - val_accuracy: 0.7981\n",
            "Epoch 116/400\n",
            "20/20 [==============================] - 0s 9ms/step - loss: 0.4288 - accuracy: 0.8215 - val_loss: 0.5334 - val_accuracy: 0.7933\n",
            "Epoch 117/400\n",
            "20/20 [==============================] - 0s 9ms/step - loss: 0.4110 - accuracy: 0.8264 - val_loss: 0.5380 - val_accuracy: 0.7933\n",
            "Epoch 118/400\n",
            "20/20 [==============================] - 0s 10ms/step - loss: 0.4099 - accuracy: 0.8296 - val_loss: 0.5363 - val_accuracy: 0.7933\n",
            "Epoch 119/400\n",
            "20/20 [==============================] - 0s 9ms/step - loss: 0.4086 - accuracy: 0.8328 - val_loss: 0.5414 - val_accuracy: 0.7981\n",
            "Epoch 120/400\n",
            "20/20 [==============================] - 0s 15ms/step - loss: 0.4426 - accuracy: 0.8248 - val_loss: 0.5353 - val_accuracy: 0.7981\n",
            "Epoch 121/400\n",
            "20/20 [==============================] - 0s 14ms/step - loss: 0.4192 - accuracy: 0.8328 - val_loss: 0.5335 - val_accuracy: 0.7981\n",
            "Epoch 122/400\n",
            "20/20 [==============================] - 0s 16ms/step - loss: 0.4383 - accuracy: 0.8328 - val_loss: 0.5356 - val_accuracy: 0.7933\n",
            "Epoch 123/400\n",
            "20/20 [==============================] - 0s 15ms/step - loss: 0.4228 - accuracy: 0.8248 - val_loss: 0.5371 - val_accuracy: 0.7885\n",
            "Epoch 124/400\n",
            "20/20 [==============================] - 0s 14ms/step - loss: 0.4128 - accuracy: 0.8248 - val_loss: 0.5431 - val_accuracy: 0.7933\n",
            "Epoch 125/400\n",
            "20/20 [==============================] - 0s 15ms/step - loss: 0.4303 - accuracy: 0.8344 - val_loss: 0.5291 - val_accuracy: 0.7981\n",
            "Epoch 126/400\n",
            "20/20 [==============================] - 0s 13ms/step - loss: 0.4297 - accuracy: 0.8360 - val_loss: 0.5257 - val_accuracy: 0.7933\n",
            "Epoch 127/400\n",
            "20/20 [==============================] - 0s 15ms/step - loss: 0.4155 - accuracy: 0.8280 - val_loss: 0.5276 - val_accuracy: 0.7933\n",
            "Epoch 128/400\n",
            "20/20 [==============================] - 0s 13ms/step - loss: 0.4414 - accuracy: 0.8264 - val_loss: 0.5296 - val_accuracy: 0.7885\n",
            "Epoch 129/400\n",
            "20/20 [==============================] - 0s 16ms/step - loss: 0.4134 - accuracy: 0.8328 - val_loss: 0.5280 - val_accuracy: 0.7981\n",
            "Epoch 130/400\n",
            "20/20 [==============================] - 0s 16ms/step - loss: 0.4264 - accuracy: 0.8199 - val_loss: 0.5305 - val_accuracy: 0.7981\n",
            "Epoch 131/400\n",
            "20/20 [==============================] - 0s 16ms/step - loss: 0.4223 - accuracy: 0.8264 - val_loss: 0.5276 - val_accuracy: 0.8029\n",
            "Epoch 132/400\n",
            "20/20 [==============================] - 0s 10ms/step - loss: 0.4203 - accuracy: 0.8328 - val_loss: 0.5259 - val_accuracy: 0.7981\n",
            "Epoch 133/400\n",
            "20/20 [==============================] - 0s 10ms/step - loss: 0.4196 - accuracy: 0.8392 - val_loss: 0.5307 - val_accuracy: 0.7981\n",
            "Epoch 134/400\n",
            "20/20 [==============================] - 0s 9ms/step - loss: 0.4234 - accuracy: 0.8264 - val_loss: 0.5374 - val_accuracy: 0.7933\n",
            "Epoch 135/400\n",
            "20/20 [==============================] - 0s 9ms/step - loss: 0.4218 - accuracy: 0.8328 - val_loss: 0.5423 - val_accuracy: 0.7933\n",
            "Epoch 136/400\n",
            "20/20 [==============================] - 0s 9ms/step - loss: 0.4269 - accuracy: 0.8328 - val_loss: 0.5414 - val_accuracy: 0.7981\n",
            "Epoch 137/400\n",
            "20/20 [==============================] - 0s 9ms/step - loss: 0.4131 - accuracy: 0.8264 - val_loss: 0.5441 - val_accuracy: 0.7981\n",
            "Epoch 138/400\n",
            "20/20 [==============================] - 0s 10ms/step - loss: 0.3971 - accuracy: 0.8264 - val_loss: 0.5467 - val_accuracy: 0.7981\n",
            "Epoch 139/400\n",
            "20/20 [==============================] - 0s 9ms/step - loss: 0.4179 - accuracy: 0.8392 - val_loss: 0.5431 - val_accuracy: 0.7933\n",
            "Epoch 140/400\n",
            "20/20 [==============================] - 0s 9ms/step - loss: 0.4219 - accuracy: 0.8280 - val_loss: 0.5461 - val_accuracy: 0.7981\n",
            "Epoch 141/400\n",
            "20/20 [==============================] - 0s 9ms/step - loss: 0.4329 - accuracy: 0.8312 - val_loss: 0.5405 - val_accuracy: 0.7933\n",
            "Epoch 142/400\n",
            "20/20 [==============================] - 0s 9ms/step - loss: 0.4263 - accuracy: 0.8328 - val_loss: 0.5427 - val_accuracy: 0.7933\n",
            "Epoch 143/400\n",
            "20/20 [==============================] - 0s 9ms/step - loss: 0.4231 - accuracy: 0.8328 - val_loss: 0.5363 - val_accuracy: 0.8029\n",
            "Epoch 144/400\n",
            "20/20 [==============================] - 0s 10ms/step - loss: 0.4137 - accuracy: 0.8344 - val_loss: 0.5353 - val_accuracy: 0.7981\n",
            "Epoch 145/400\n",
            "20/20 [==============================] - 0s 10ms/step - loss: 0.4244 - accuracy: 0.8183 - val_loss: 0.5342 - val_accuracy: 0.7981\n",
            "Epoch 146/400\n",
            "20/20 [==============================] - 0s 9ms/step - loss: 0.4322 - accuracy: 0.8328 - val_loss: 0.5326 - val_accuracy: 0.7933\n",
            "Epoch 147/400\n",
            "20/20 [==============================] - 0s 9ms/step - loss: 0.4203 - accuracy: 0.8248 - val_loss: 0.5349 - val_accuracy: 0.7933\n",
            "Epoch 148/400\n",
            "20/20 [==============================] - 0s 9ms/step - loss: 0.4160 - accuracy: 0.8280 - val_loss: 0.5390 - val_accuracy: 0.7933\n",
            "Epoch 149/400\n",
            "20/20 [==============================] - 0s 10ms/step - loss: 0.4387 - accuracy: 0.8344 - val_loss: 0.5413 - val_accuracy: 0.7933\n",
            "Epoch 150/400\n",
            "20/20 [==============================] - 0s 9ms/step - loss: 0.4281 - accuracy: 0.8264 - val_loss: 0.5423 - val_accuracy: 0.7885\n",
            "Epoch 151/400\n",
            "20/20 [==============================] - 0s 9ms/step - loss: 0.4191 - accuracy: 0.8328 - val_loss: 0.5459 - val_accuracy: 0.7885\n",
            "Epoch 152/400\n",
            "20/20 [==============================] - 0s 9ms/step - loss: 0.4258 - accuracy: 0.8296 - val_loss: 0.5476 - val_accuracy: 0.7885\n",
            "Epoch 153/400\n",
            "20/20 [==============================] - 0s 9ms/step - loss: 0.4296 - accuracy: 0.8264 - val_loss: 0.5473 - val_accuracy: 0.7885\n",
            "Epoch 154/400\n",
            "20/20 [==============================] - 0s 10ms/step - loss: 0.4272 - accuracy: 0.8376 - val_loss: 0.5471 - val_accuracy: 0.7885\n",
            "Epoch 155/400\n",
            "20/20 [==============================] - 0s 9ms/step - loss: 0.4201 - accuracy: 0.8248 - val_loss: 0.5503 - val_accuracy: 0.7933\n",
            "Epoch 156/400\n",
            "20/20 [==============================] - 0s 9ms/step - loss: 0.4129 - accuracy: 0.8424 - val_loss: 0.5531 - val_accuracy: 0.7837\n",
            "Epoch 157/400\n",
            "20/20 [==============================] - 0s 9ms/step - loss: 0.4269 - accuracy: 0.8248 - val_loss: 0.5475 - val_accuracy: 0.7933\n",
            "Epoch 158/400\n",
            "20/20 [==============================] - 0s 10ms/step - loss: 0.4014 - accuracy: 0.8344 - val_loss: 0.5514 - val_accuracy: 0.7933\n",
            "Epoch 159/400\n",
            "20/20 [==============================] - 0s 9ms/step - loss: 0.4167 - accuracy: 0.8360 - val_loss: 0.5494 - val_accuracy: 0.7885\n",
            "Epoch 160/400\n",
            "20/20 [==============================] - 0s 10ms/step - loss: 0.4384 - accuracy: 0.8248 - val_loss: 0.5463 - val_accuracy: 0.7885\n",
            "Epoch 161/400\n",
            "20/20 [==============================] - 0s 10ms/step - loss: 0.4149 - accuracy: 0.8280 - val_loss: 0.5549 - val_accuracy: 0.7885\n",
            "Epoch 162/400\n",
            "20/20 [==============================] - 0s 9ms/step - loss: 0.4198 - accuracy: 0.8360 - val_loss: 0.5511 - val_accuracy: 0.7885\n",
            "Epoch 163/400\n",
            "20/20 [==============================] - 0s 9ms/step - loss: 0.4198 - accuracy: 0.8280 - val_loss: 0.5519 - val_accuracy: 0.7885\n",
            "Epoch 164/400\n",
            "20/20 [==============================] - 0s 9ms/step - loss: 0.4189 - accuracy: 0.8376 - val_loss: 0.5556 - val_accuracy: 0.7885\n",
            "Epoch 165/400\n",
            "20/20 [==============================] - 0s 10ms/step - loss: 0.4094 - accuracy: 0.8392 - val_loss: 0.5618 - val_accuracy: 0.8029\n",
            "Epoch 166/400\n",
            "20/20 [==============================] - 0s 10ms/step - loss: 0.4175 - accuracy: 0.8344 - val_loss: 0.5629 - val_accuracy: 0.7885\n",
            "Epoch 167/400\n",
            "20/20 [==============================] - 0s 9ms/step - loss: 0.4311 - accuracy: 0.8215 - val_loss: 0.5574 - val_accuracy: 0.7933\n",
            "Epoch 168/400\n",
            "20/20 [==============================] - 0s 9ms/step - loss: 0.4139 - accuracy: 0.8424 - val_loss: 0.5598 - val_accuracy: 0.7885\n",
            "Epoch 169/400\n",
            "20/20 [==============================] - 0s 10ms/step - loss: 0.4231 - accuracy: 0.8376 - val_loss: 0.5581 - val_accuracy: 0.7885\n",
            "Epoch 170/400\n",
            "20/20 [==============================] - 0s 10ms/step - loss: 0.4170 - accuracy: 0.8328 - val_loss: 0.5550 - val_accuracy: 0.7885\n",
            "Epoch 171/400\n",
            "20/20 [==============================] - 0s 9ms/step - loss: 0.4175 - accuracy: 0.8264 - val_loss: 0.5552 - val_accuracy: 0.7885\n",
            "Epoch 172/400\n",
            "20/20 [==============================] - 0s 9ms/step - loss: 0.4289 - accuracy: 0.8344 - val_loss: 0.5666 - val_accuracy: 0.7933\n",
            "Epoch 173/400\n",
            "20/20 [==============================] - 0s 9ms/step - loss: 0.4351 - accuracy: 0.8264 - val_loss: 0.5614 - val_accuracy: 0.7885\n",
            "Epoch 174/400\n",
            "20/20 [==============================] - 0s 9ms/step - loss: 0.4267 - accuracy: 0.8376 - val_loss: 0.5619 - val_accuracy: 0.7885\n",
            "Epoch 175/400\n",
            "20/20 [==============================] - 0s 12ms/step - loss: 0.4163 - accuracy: 0.8344 - val_loss: 0.5587 - val_accuracy: 0.7885\n",
            "Epoch 176/400\n",
            "20/20 [==============================] - 0s 9ms/step - loss: 0.4097 - accuracy: 0.8376 - val_loss: 0.5639 - val_accuracy: 0.7885\n",
            "Epoch 177/400\n",
            "20/20 [==============================] - 0s 9ms/step - loss: 0.4169 - accuracy: 0.8248 - val_loss: 0.5631 - val_accuracy: 0.7885\n",
            "Epoch 178/400\n",
            "20/20 [==============================] - 0s 9ms/step - loss: 0.4226 - accuracy: 0.8424 - val_loss: 0.5633 - val_accuracy: 0.7933\n",
            "Epoch 179/400\n",
            "20/20 [==============================] - 0s 9ms/step - loss: 0.4108 - accuracy: 0.8376 - val_loss: 0.5666 - val_accuracy: 0.7885\n",
            "Epoch 180/400\n",
            "20/20 [==============================] - 0s 12ms/step - loss: 0.4174 - accuracy: 0.8328 - val_loss: 0.5709 - val_accuracy: 0.7885\n",
            "Epoch 181/400\n",
            "20/20 [==============================] - 0s 9ms/step - loss: 0.4174 - accuracy: 0.8376 - val_loss: 0.5672 - val_accuracy: 0.7933\n",
            "Epoch 182/400\n",
            "20/20 [==============================] - 0s 9ms/step - loss: 0.4167 - accuracy: 0.8344 - val_loss: 0.5688 - val_accuracy: 0.7885\n",
            "Epoch 183/400\n",
            "20/20 [==============================] - 0s 13ms/step - loss: 0.4243 - accuracy: 0.8376 - val_loss: 0.5645 - val_accuracy: 0.7885\n",
            "Epoch 184/400\n",
            "20/20 [==============================] - 0s 17ms/step - loss: 0.4310 - accuracy: 0.8360 - val_loss: 0.5600 - val_accuracy: 0.7885\n",
            "Epoch 185/400\n",
            "20/20 [==============================] - 0s 14ms/step - loss: 0.4051 - accuracy: 0.8328 - val_loss: 0.5593 - val_accuracy: 0.7885\n",
            "Epoch 186/400\n",
            "20/20 [==============================] - 0s 15ms/step - loss: 0.4159 - accuracy: 0.8328 - val_loss: 0.5619 - val_accuracy: 0.7885\n",
            "Epoch 187/400\n",
            "20/20 [==============================] - 0s 17ms/step - loss: 0.4170 - accuracy: 0.8280 - val_loss: 0.5625 - val_accuracy: 0.7885\n",
            "Epoch 188/400\n",
            "20/20 [==============================] - 0s 17ms/step - loss: 0.4157 - accuracy: 0.8328 - val_loss: 0.5613 - val_accuracy: 0.7981\n",
            "Epoch 189/400\n",
            "20/20 [==============================] - 0s 15ms/step - loss: 0.4300 - accuracy: 0.8328 - val_loss: 0.5674 - val_accuracy: 0.7981\n",
            "Epoch 190/400\n",
            "20/20 [==============================] - 0s 14ms/step - loss: 0.3903 - accuracy: 0.8215 - val_loss: 0.5725 - val_accuracy: 0.7933\n",
            "Epoch 191/400\n",
            "20/20 [==============================] - 0s 16ms/step - loss: 0.4129 - accuracy: 0.8328 - val_loss: 0.5774 - val_accuracy: 0.7981\n",
            "Epoch 192/400\n",
            "20/20 [==============================] - 0s 14ms/step - loss: 0.4335 - accuracy: 0.8312 - val_loss: 0.5766 - val_accuracy: 0.7981\n",
            "Epoch 193/400\n",
            "20/20 [==============================] - 0s 14ms/step - loss: 0.4200 - accuracy: 0.8328 - val_loss: 0.5758 - val_accuracy: 0.8029\n",
            "Epoch 194/400\n",
            "20/20 [==============================] - 0s 17ms/step - loss: 0.4073 - accuracy: 0.8328 - val_loss: 0.5765 - val_accuracy: 0.7981\n",
            "Epoch 195/400\n",
            "20/20 [==============================] - 0s 15ms/step - loss: 0.4290 - accuracy: 0.8328 - val_loss: 0.5718 - val_accuracy: 0.7981\n",
            "Epoch 196/400\n",
            "20/20 [==============================] - 0s 9ms/step - loss: 0.4237 - accuracy: 0.8199 - val_loss: 0.5697 - val_accuracy: 0.7981\n",
            "Epoch 197/400\n",
            "20/20 [==============================] - 0s 9ms/step - loss: 0.4295 - accuracy: 0.8264 - val_loss: 0.5715 - val_accuracy: 0.7885\n",
            "Epoch 198/400\n",
            "20/20 [==============================] - 0s 10ms/step - loss: 0.4232 - accuracy: 0.8296 - val_loss: 0.5651 - val_accuracy: 0.8029\n",
            "Epoch 199/400\n",
            "20/20 [==============================] - 0s 9ms/step - loss: 0.4248 - accuracy: 0.8248 - val_loss: 0.5636 - val_accuracy: 0.7981\n",
            "Epoch 200/400\n",
            "20/20 [==============================] - 0s 10ms/step - loss: 0.4101 - accuracy: 0.8280 - val_loss: 0.5737 - val_accuracy: 0.7981\n",
            "Epoch 201/400\n",
            "20/20 [==============================] - 0s 9ms/step - loss: 0.4146 - accuracy: 0.8215 - val_loss: 0.5748 - val_accuracy: 0.7981\n",
            "Epoch 202/400\n",
            "20/20 [==============================] - 0s 9ms/step - loss: 0.4310 - accuracy: 0.8392 - val_loss: 0.5692 - val_accuracy: 0.7981\n",
            "Epoch 203/400\n",
            "20/20 [==============================] - 0s 9ms/step - loss: 0.4271 - accuracy: 0.8248 - val_loss: 0.5645 - val_accuracy: 0.7981\n",
            "Epoch 204/400\n",
            "20/20 [==============================] - 0s 9ms/step - loss: 0.4116 - accuracy: 0.8392 - val_loss: 0.5702 - val_accuracy: 0.7933\n",
            "Epoch 205/400\n",
            "20/20 [==============================] - 0s 10ms/step - loss: 0.4111 - accuracy: 0.8312 - val_loss: 0.5793 - val_accuracy: 0.7981\n",
            "Epoch 206/400\n",
            "20/20 [==============================] - 0s 9ms/step - loss: 0.4150 - accuracy: 0.8280 - val_loss: 0.5841 - val_accuracy: 0.7981\n",
            "Epoch 207/400\n",
            "20/20 [==============================] - 0s 9ms/step - loss: 0.4272 - accuracy: 0.8248 - val_loss: 0.5766 - val_accuracy: 0.8029\n",
            "Epoch 208/400\n",
            "20/20 [==============================] - 0s 10ms/step - loss: 0.4252 - accuracy: 0.8280 - val_loss: 0.5766 - val_accuracy: 0.8029\n",
            "Epoch 209/400\n",
            "20/20 [==============================] - 0s 9ms/step - loss: 0.4059 - accuracy: 0.8392 - val_loss: 0.5756 - val_accuracy: 0.8077\n",
            "Epoch 210/400\n",
            "20/20 [==============================] - 0s 10ms/step - loss: 0.4035 - accuracy: 0.8328 - val_loss: 0.5829 - val_accuracy: 0.8029\n",
            "Epoch 211/400\n",
            "20/20 [==============================] - 0s 9ms/step - loss: 0.4070 - accuracy: 0.8344 - val_loss: 0.5790 - val_accuracy: 0.8077\n",
            "Epoch 212/400\n",
            "20/20 [==============================] - 0s 10ms/step - loss: 0.4157 - accuracy: 0.8376 - val_loss: 0.5805 - val_accuracy: 0.8077\n",
            "Epoch 213/400\n",
            "20/20 [==============================] - 0s 9ms/step - loss: 0.4207 - accuracy: 0.8280 - val_loss: 0.5815 - val_accuracy: 0.8077\n",
            "Epoch 214/400\n",
            "20/20 [==============================] - 0s 9ms/step - loss: 0.4246 - accuracy: 0.8232 - val_loss: 0.5816 - val_accuracy: 0.8077\n",
            "Epoch 215/400\n",
            "20/20 [==============================] - 0s 9ms/step - loss: 0.4100 - accuracy: 0.8328 - val_loss: 0.5882 - val_accuracy: 0.8029\n",
            "Epoch 216/400\n",
            "20/20 [==============================] - 0s 10ms/step - loss: 0.4157 - accuracy: 0.8344 - val_loss: 0.5860 - val_accuracy: 0.7981\n",
            "Epoch 217/400\n",
            "20/20 [==============================] - 0s 9ms/step - loss: 0.4052 - accuracy: 0.8360 - val_loss: 0.5851 - val_accuracy: 0.7981\n",
            "Epoch 218/400\n",
            "20/20 [==============================] - 0s 9ms/step - loss: 0.4064 - accuracy: 0.8376 - val_loss: 0.5820 - val_accuracy: 0.8029\n",
            "Epoch 219/400\n",
            "20/20 [==============================] - 0s 9ms/step - loss: 0.4095 - accuracy: 0.8457 - val_loss: 0.5850 - val_accuracy: 0.7981\n",
            "Epoch 220/400\n",
            "20/20 [==============================] - 0s 9ms/step - loss: 0.4161 - accuracy: 0.8248 - val_loss: 0.5857 - val_accuracy: 0.7981\n",
            "Epoch 221/400\n",
            "20/20 [==============================] - 0s 10ms/step - loss: 0.4034 - accuracy: 0.8392 - val_loss: 0.5876 - val_accuracy: 0.7981\n",
            "Epoch 222/400\n",
            "20/20 [==============================] - 0s 9ms/step - loss: 0.4118 - accuracy: 0.8312 - val_loss: 0.5854 - val_accuracy: 0.8029\n",
            "Epoch 223/400\n",
            "20/20 [==============================] - 0s 9ms/step - loss: 0.4281 - accuracy: 0.8167 - val_loss: 0.5903 - val_accuracy: 0.8029\n",
            "Epoch 224/400\n",
            "20/20 [==============================] - 0s 9ms/step - loss: 0.4202 - accuracy: 0.8328 - val_loss: 0.5843 - val_accuracy: 0.7981\n",
            "Epoch 225/400\n",
            "20/20 [==============================] - 0s 9ms/step - loss: 0.4278 - accuracy: 0.8215 - val_loss: 0.5826 - val_accuracy: 0.8077\n",
            "Epoch 226/400\n",
            "20/20 [==============================] - 0s 10ms/step - loss: 0.4117 - accuracy: 0.8360 - val_loss: 0.5817 - val_accuracy: 0.8029\n",
            "Epoch 227/400\n",
            "20/20 [==============================] - 0s 10ms/step - loss: 0.4177 - accuracy: 0.8312 - val_loss: 0.5779 - val_accuracy: 0.8029\n",
            "Epoch 228/400\n",
            "20/20 [==============================] - 0s 10ms/step - loss: 0.4353 - accuracy: 0.8312 - val_loss: 0.5730 - val_accuracy: 0.8029\n",
            "Epoch 229/400\n",
            "20/20 [==============================] - 0s 9ms/step - loss: 0.4172 - accuracy: 0.8183 - val_loss: 0.5746 - val_accuracy: 0.7981\n",
            "Epoch 230/400\n",
            "20/20 [==============================] - 0s 9ms/step - loss: 0.4011 - accuracy: 0.8360 - val_loss: 0.5827 - val_accuracy: 0.8029\n",
            "Epoch 231/400\n",
            "20/20 [==============================] - 0s 10ms/step - loss: 0.4316 - accuracy: 0.8312 - val_loss: 0.5843 - val_accuracy: 0.8029\n",
            "Epoch 232/400\n",
            "20/20 [==============================] - 0s 9ms/step - loss: 0.4289 - accuracy: 0.8280 - val_loss: 0.5799 - val_accuracy: 0.7933\n",
            "Epoch 233/400\n",
            "20/20 [==============================] - 0s 10ms/step - loss: 0.4029 - accuracy: 0.8248 - val_loss: 0.5878 - val_accuracy: 0.7885\n",
            "Epoch 234/400\n",
            "20/20 [==============================] - 0s 9ms/step - loss: 0.4027 - accuracy: 0.8296 - val_loss: 0.5924 - val_accuracy: 0.7933\n",
            "Epoch 235/400\n",
            "20/20 [==============================] - 0s 10ms/step - loss: 0.4034 - accuracy: 0.8312 - val_loss: 0.5901 - val_accuracy: 0.7981\n",
            "Epoch 236/400\n",
            "20/20 [==============================] - 0s 9ms/step - loss: 0.3999 - accuracy: 0.8360 - val_loss: 0.5900 - val_accuracy: 0.8029\n",
            "Epoch 237/400\n",
            "20/20 [==============================] - 0s 10ms/step - loss: 0.4071 - accuracy: 0.8360 - val_loss: 0.5887 - val_accuracy: 0.8029\n",
            "Epoch 238/400\n",
            "20/20 [==============================] - 0s 9ms/step - loss: 0.3949 - accuracy: 0.8424 - val_loss: 0.6014 - val_accuracy: 0.8029\n",
            "Epoch 239/400\n",
            "20/20 [==============================] - 0s 9ms/step - loss: 0.4255 - accuracy: 0.8312 - val_loss: 0.6025 - val_accuracy: 0.8029\n",
            "Epoch 240/400\n",
            "20/20 [==============================] - 0s 9ms/step - loss: 0.3982 - accuracy: 0.8392 - val_loss: 0.5962 - val_accuracy: 0.8029\n",
            "Epoch 241/400\n",
            "20/20 [==============================] - 0s 10ms/step - loss: 0.4101 - accuracy: 0.8312 - val_loss: 0.6007 - val_accuracy: 0.8029\n",
            "Epoch 242/400\n",
            "20/20 [==============================] - 0s 9ms/step - loss: 0.4238 - accuracy: 0.8312 - val_loss: 0.6037 - val_accuracy: 0.8029\n",
            "Epoch 243/400\n",
            "20/20 [==============================] - 0s 9ms/step - loss: 0.4207 - accuracy: 0.8344 - val_loss: 0.6060 - val_accuracy: 0.7981\n",
            "Epoch 244/400\n",
            "20/20 [==============================] - 0s 9ms/step - loss: 0.4291 - accuracy: 0.8328 - val_loss: 0.5954 - val_accuracy: 0.8029\n",
            "Epoch 245/400\n",
            "20/20 [==============================] - 0s 9ms/step - loss: 0.4142 - accuracy: 0.8296 - val_loss: 0.5997 - val_accuracy: 0.8029\n",
            "Epoch 246/400\n",
            "20/20 [==============================] - 0s 14ms/step - loss: 0.4086 - accuracy: 0.8264 - val_loss: 0.5981 - val_accuracy: 0.8077\n",
            "Epoch 247/400\n",
            "20/20 [==============================] - 0s 17ms/step - loss: 0.4050 - accuracy: 0.8248 - val_loss: 0.5944 - val_accuracy: 0.8029\n",
            "Epoch 248/400\n",
            "20/20 [==============================] - 0s 14ms/step - loss: 0.4141 - accuracy: 0.8344 - val_loss: 0.5933 - val_accuracy: 0.8029\n",
            "Epoch 249/400\n",
            "20/20 [==============================] - 0s 13ms/step - loss: 0.4215 - accuracy: 0.8360 - val_loss: 0.5963 - val_accuracy: 0.8029\n",
            "Epoch 250/400\n",
            "20/20 [==============================] - 0s 16ms/step - loss: 0.4100 - accuracy: 0.8344 - val_loss: 0.6036 - val_accuracy: 0.7981\n",
            "Epoch 251/400\n",
            "20/20 [==============================] - 0s 16ms/step - loss: 0.4157 - accuracy: 0.8296 - val_loss: 0.6002 - val_accuracy: 0.7981\n",
            "Epoch 252/400\n",
            "20/20 [==============================] - 0s 15ms/step - loss: 0.4193 - accuracy: 0.8360 - val_loss: 0.5972 - val_accuracy: 0.8029\n",
            "Epoch 253/400\n",
            "20/20 [==============================] - 0s 17ms/step - loss: 0.3938 - accuracy: 0.8296 - val_loss: 0.6066 - val_accuracy: 0.7981\n",
            "Epoch 254/400\n",
            "20/20 [==============================] - 0s 14ms/step - loss: 0.4269 - accuracy: 0.8344 - val_loss: 0.5971 - val_accuracy: 0.8029\n",
            "Epoch 255/400\n",
            "20/20 [==============================] - 0s 15ms/step - loss: 0.4107 - accuracy: 0.8248 - val_loss: 0.6001 - val_accuracy: 0.8029\n",
            "Epoch 256/400\n",
            "20/20 [==============================] - 0s 16ms/step - loss: 0.4206 - accuracy: 0.8280 - val_loss: 0.5992 - val_accuracy: 0.8029\n",
            "Epoch 257/400\n",
            "20/20 [==============================] - 0s 18ms/step - loss: 0.4267 - accuracy: 0.8344 - val_loss: 0.5904 - val_accuracy: 0.8029\n",
            "Epoch 258/400\n",
            "20/20 [==============================] - 0s 14ms/step - loss: 0.3971 - accuracy: 0.8328 - val_loss: 0.6006 - val_accuracy: 0.8029\n",
            "Epoch 259/400\n",
            "20/20 [==============================] - 0s 9ms/step - loss: 0.4144 - accuracy: 0.8312 - val_loss: 0.5989 - val_accuracy: 0.8029\n",
            "Epoch 260/400\n",
            "20/20 [==============================] - 0s 9ms/step - loss: 0.4045 - accuracy: 0.8328 - val_loss: 0.6002 - val_accuracy: 0.7981\n",
            "Epoch 261/400\n",
            "20/20 [==============================] - 0s 10ms/step - loss: 0.4006 - accuracy: 0.8376 - val_loss: 0.6089 - val_accuracy: 0.8029\n",
            "Epoch 262/400\n",
            "20/20 [==============================] - 0s 9ms/step - loss: 0.3889 - accuracy: 0.8344 - val_loss: 0.6128 - val_accuracy: 0.8077\n",
            "Epoch 263/400\n",
            "20/20 [==============================] - 0s 9ms/step - loss: 0.4159 - accuracy: 0.8360 - val_loss: 0.6056 - val_accuracy: 0.8077\n",
            "Epoch 264/400\n",
            "20/20 [==============================] - 0s 9ms/step - loss: 0.4120 - accuracy: 0.8376 - val_loss: 0.5930 - val_accuracy: 0.8077\n",
            "Epoch 265/400\n",
            "20/20 [==============================] - 0s 10ms/step - loss: 0.4126 - accuracy: 0.8232 - val_loss: 0.5974 - val_accuracy: 0.8029\n",
            "Epoch 266/400\n",
            "20/20 [==============================] - 0s 10ms/step - loss: 0.3941 - accuracy: 0.8408 - val_loss: 0.6045 - val_accuracy: 0.7981\n",
            "Epoch 267/400\n",
            "20/20 [==============================] - 0s 10ms/step - loss: 0.4156 - accuracy: 0.8424 - val_loss: 0.6084 - val_accuracy: 0.8029\n",
            "Epoch 268/400\n",
            "20/20 [==============================] - 0s 9ms/step - loss: 0.4131 - accuracy: 0.8296 - val_loss: 0.6094 - val_accuracy: 0.7981\n",
            "Epoch 269/400\n",
            "20/20 [==============================] - 0s 9ms/step - loss: 0.3938 - accuracy: 0.8408 - val_loss: 0.6203 - val_accuracy: 0.7981\n",
            "Epoch 270/400\n",
            "20/20 [==============================] - 0s 9ms/step - loss: 0.4178 - accuracy: 0.8280 - val_loss: 0.6125 - val_accuracy: 0.7981\n",
            "Epoch 271/400\n",
            "20/20 [==============================] - 0s 10ms/step - loss: 0.4061 - accuracy: 0.8312 - val_loss: 0.6099 - val_accuracy: 0.7933\n",
            "Epoch 272/400\n",
            "20/20 [==============================] - 0s 12ms/step - loss: 0.4010 - accuracy: 0.8344 - val_loss: 0.6096 - val_accuracy: 0.7981\n",
            "Epoch 273/400\n",
            "20/20 [==============================] - 0s 9ms/step - loss: 0.4020 - accuracy: 0.8360 - val_loss: 0.6131 - val_accuracy: 0.7981\n",
            "Epoch 274/400\n",
            "20/20 [==============================] - 0s 9ms/step - loss: 0.3927 - accuracy: 0.8360 - val_loss: 0.6177 - val_accuracy: 0.7981\n",
            "Epoch 275/400\n",
            "20/20 [==============================] - 0s 10ms/step - loss: 0.4049 - accuracy: 0.8360 - val_loss: 0.6153 - val_accuracy: 0.7981\n",
            "Epoch 276/400\n",
            "20/20 [==============================] - 0s 9ms/step - loss: 0.4152 - accuracy: 0.8360 - val_loss: 0.6099 - val_accuracy: 0.7933\n",
            "Epoch 277/400\n",
            "20/20 [==============================] - 0s 10ms/step - loss: 0.4144 - accuracy: 0.8344 - val_loss: 0.6018 - val_accuracy: 0.7981\n",
            "Epoch 278/400\n",
            "20/20 [==============================] - 0s 9ms/step - loss: 0.4151 - accuracy: 0.8392 - val_loss: 0.5991 - val_accuracy: 0.7981\n",
            "Epoch 279/400\n",
            "20/20 [==============================] - 0s 10ms/step - loss: 0.4149 - accuracy: 0.8296 - val_loss: 0.6050 - val_accuracy: 0.7981\n",
            "Epoch 280/400\n",
            "20/20 [==============================] - 0s 9ms/step - loss: 0.4060 - accuracy: 0.8376 - val_loss: 0.5977 - val_accuracy: 0.8029\n",
            "Epoch 281/400\n",
            "20/20 [==============================] - 0s 10ms/step - loss: 0.4119 - accuracy: 0.8360 - val_loss: 0.6001 - val_accuracy: 0.8029\n",
            "Epoch 282/400\n",
            "20/20 [==============================] - 0s 12ms/step - loss: 0.4015 - accuracy: 0.8264 - val_loss: 0.6022 - val_accuracy: 0.8029\n",
            "Epoch 283/400\n",
            "20/20 [==============================] - 0s 9ms/step - loss: 0.4057 - accuracy: 0.8392 - val_loss: 0.5979 - val_accuracy: 0.8029\n",
            "Epoch 284/400\n",
            "20/20 [==============================] - 0s 10ms/step - loss: 0.4147 - accuracy: 0.8408 - val_loss: 0.6072 - val_accuracy: 0.8029\n",
            "Epoch 285/400\n",
            "20/20 [==============================] - 0s 10ms/step - loss: 0.4149 - accuracy: 0.8360 - val_loss: 0.6072 - val_accuracy: 0.8029\n",
            "Epoch 286/400\n",
            "20/20 [==============================] - 0s 9ms/step - loss: 0.4104 - accuracy: 0.8360 - val_loss: 0.6136 - val_accuracy: 0.8029\n",
            "Epoch 287/400\n",
            "20/20 [==============================] - 0s 10ms/step - loss: 0.4133 - accuracy: 0.8328 - val_loss: 0.6025 - val_accuracy: 0.8029\n",
            "Epoch 288/400\n",
            "20/20 [==============================] - 0s 9ms/step - loss: 0.4309 - accuracy: 0.8312 - val_loss: 0.5971 - val_accuracy: 0.8029\n",
            "Epoch 289/400\n",
            "20/20 [==============================] - 0s 9ms/step - loss: 0.4089 - accuracy: 0.8344 - val_loss: 0.6043 - val_accuracy: 0.8029\n",
            "Epoch 290/400\n",
            "20/20 [==============================] - 0s 10ms/step - loss: 0.4010 - accuracy: 0.8360 - val_loss: 0.6069 - val_accuracy: 0.8029\n",
            "Epoch 291/400\n",
            "20/20 [==============================] - 0s 9ms/step - loss: 0.4159 - accuracy: 0.8328 - val_loss: 0.6030 - val_accuracy: 0.7981\n",
            "Epoch 292/400\n",
            "20/20 [==============================] - 0s 10ms/step - loss: 0.4006 - accuracy: 0.8360 - val_loss: 0.6015 - val_accuracy: 0.8029\n",
            "Epoch 293/400\n",
            "20/20 [==============================] - 0s 9ms/step - loss: 0.4203 - accuracy: 0.8312 - val_loss: 0.6033 - val_accuracy: 0.7981\n",
            "Epoch 294/400\n",
            "20/20 [==============================] - 0s 9ms/step - loss: 0.3886 - accuracy: 0.8392 - val_loss: 0.6098 - val_accuracy: 0.7981\n",
            "Epoch 295/400\n",
            "20/20 [==============================] - 0s 9ms/step - loss: 0.4216 - accuracy: 0.8344 - val_loss: 0.6031 - val_accuracy: 0.7981\n",
            "Epoch 296/400\n",
            "20/20 [==============================] - 0s 10ms/step - loss: 0.4068 - accuracy: 0.8408 - val_loss: 0.6092 - val_accuracy: 0.8029\n",
            "Epoch 297/400\n",
            "20/20 [==============================] - 0s 11ms/step - loss: 0.4211 - accuracy: 0.8215 - val_loss: 0.6061 - val_accuracy: 0.8029\n",
            "Epoch 298/400\n",
            "20/20 [==============================] - 0s 11ms/step - loss: 0.3933 - accuracy: 0.8473 - val_loss: 0.6078 - val_accuracy: 0.8029\n",
            "Epoch 299/400\n",
            "20/20 [==============================] - 0s 9ms/step - loss: 0.4172 - accuracy: 0.8232 - val_loss: 0.6098 - val_accuracy: 0.7981\n",
            "Epoch 300/400\n",
            "20/20 [==============================] - 0s 9ms/step - loss: 0.4067 - accuracy: 0.8312 - val_loss: 0.6049 - val_accuracy: 0.8029\n",
            "Epoch 301/400\n",
            "20/20 [==============================] - 0s 9ms/step - loss: 0.4089 - accuracy: 0.8328 - val_loss: 0.6042 - val_accuracy: 0.7981\n",
            "Epoch 302/400\n",
            "20/20 [==============================] - 0s 10ms/step - loss: 0.4077 - accuracy: 0.8232 - val_loss: 0.6142 - val_accuracy: 0.7981\n",
            "Epoch 303/400\n",
            "20/20 [==============================] - 0s 9ms/step - loss: 0.4165 - accuracy: 0.8296 - val_loss: 0.6104 - val_accuracy: 0.7933\n",
            "Epoch 304/400\n",
            "20/20 [==============================] - 0s 10ms/step - loss: 0.4229 - accuracy: 0.8328 - val_loss: 0.6133 - val_accuracy: 0.7981\n",
            "Epoch 305/400\n",
            "20/20 [==============================] - 0s 10ms/step - loss: 0.4200 - accuracy: 0.8344 - val_loss: 0.6112 - val_accuracy: 0.7933\n",
            "Epoch 306/400\n",
            "20/20 [==============================] - 0s 10ms/step - loss: 0.4208 - accuracy: 0.8360 - val_loss: 0.6111 - val_accuracy: 0.7933\n",
            "Epoch 307/400\n",
            "20/20 [==============================] - 0s 10ms/step - loss: 0.3938 - accuracy: 0.8376 - val_loss: 0.6107 - val_accuracy: 0.7981\n",
            "Epoch 308/400\n",
            "20/20 [==============================] - 0s 16ms/step - loss: 0.4036 - accuracy: 0.8360 - val_loss: 0.6090 - val_accuracy: 0.7981\n",
            "Epoch 309/400\n",
            "20/20 [==============================] - 0s 14ms/step - loss: 0.3951 - accuracy: 0.8424 - val_loss: 0.6110 - val_accuracy: 0.8029\n",
            "Epoch 310/400\n",
            "20/20 [==============================] - 0s 14ms/step - loss: 0.4278 - accuracy: 0.8376 - val_loss: 0.6118 - val_accuracy: 0.8029\n",
            "Epoch 311/400\n",
            "20/20 [==============================] - 0s 18ms/step - loss: 0.4177 - accuracy: 0.8360 - val_loss: 0.6186 - val_accuracy: 0.8029\n",
            "Epoch 312/400\n",
            "20/20 [==============================] - 0s 16ms/step - loss: 0.4067 - accuracy: 0.8215 - val_loss: 0.6304 - val_accuracy: 0.8029\n",
            "Epoch 313/400\n",
            "20/20 [==============================] - 0s 15ms/step - loss: 0.4072 - accuracy: 0.8473 - val_loss: 0.6221 - val_accuracy: 0.8029\n",
            "Epoch 314/400\n",
            "20/20 [==============================] - 0s 14ms/step - loss: 0.4064 - accuracy: 0.8408 - val_loss: 0.6232 - val_accuracy: 0.8029\n",
            "Epoch 315/400\n",
            "20/20 [==============================] - 0s 14ms/step - loss: 0.4170 - accuracy: 0.8296 - val_loss: 0.6184 - val_accuracy: 0.8029\n",
            "Epoch 316/400\n",
            "20/20 [==============================] - 0s 15ms/step - loss: 0.4078 - accuracy: 0.8344 - val_loss: 0.6151 - val_accuracy: 0.8029\n",
            "Epoch 317/400\n",
            "20/20 [==============================] - 0s 13ms/step - loss: 0.4082 - accuracy: 0.8408 - val_loss: 0.6202 - val_accuracy: 0.8029\n",
            "Epoch 318/400\n",
            "20/20 [==============================] - 0s 17ms/step - loss: 0.4047 - accuracy: 0.8441 - val_loss: 0.6156 - val_accuracy: 0.8029\n",
            "Epoch 319/400\n",
            "20/20 [==============================] - 0s 13ms/step - loss: 0.4032 - accuracy: 0.8360 - val_loss: 0.6144 - val_accuracy: 0.8029\n",
            "Epoch 320/400\n",
            "20/20 [==============================] - 0s 17ms/step - loss: 0.3951 - accuracy: 0.8392 - val_loss: 0.6223 - val_accuracy: 0.8029\n",
            "Epoch 321/400\n",
            "20/20 [==============================] - 0s 15ms/step - loss: 0.4108 - accuracy: 0.8408 - val_loss: 0.6164 - val_accuracy: 0.8029\n",
            "Epoch 322/400\n",
            "20/20 [==============================] - 0s 10ms/step - loss: 0.4134 - accuracy: 0.8248 - val_loss: 0.6144 - val_accuracy: 0.8029\n",
            "Epoch 323/400\n",
            "20/20 [==============================] - 0s 9ms/step - loss: 0.3963 - accuracy: 0.8392 - val_loss: 0.6177 - val_accuracy: 0.8029\n",
            "Epoch 324/400\n",
            "20/20 [==============================] - 0s 9ms/step - loss: 0.4131 - accuracy: 0.8392 - val_loss: 0.6241 - val_accuracy: 0.7981\n",
            "Epoch 325/400\n",
            "20/20 [==============================] - 0s 9ms/step - loss: 0.4054 - accuracy: 0.8392 - val_loss: 0.6219 - val_accuracy: 0.8029\n",
            "Epoch 326/400\n",
            "20/20 [==============================] - 0s 10ms/step - loss: 0.4395 - accuracy: 0.8248 - val_loss: 0.6231 - val_accuracy: 0.8029\n",
            "Epoch 327/400\n",
            "20/20 [==============================] - 0s 10ms/step - loss: 0.3966 - accuracy: 0.8473 - val_loss: 0.6164 - val_accuracy: 0.8029\n",
            "Epoch 328/400\n",
            "20/20 [==============================] - 0s 10ms/step - loss: 0.4306 - accuracy: 0.8392 - val_loss: 0.6224 - val_accuracy: 0.8029\n",
            "Epoch 329/400\n",
            "20/20 [==============================] - 0s 9ms/step - loss: 0.4082 - accuracy: 0.8376 - val_loss: 0.6304 - val_accuracy: 0.8029\n",
            "Epoch 330/400\n",
            "20/20 [==============================] - 0s 10ms/step - loss: 0.4404 - accuracy: 0.8232 - val_loss: 0.6308 - val_accuracy: 0.7933\n",
            "Epoch 331/400\n",
            "20/20 [==============================] - 0s 11ms/step - loss: 0.3942 - accuracy: 0.8360 - val_loss: 0.6252 - val_accuracy: 0.7933\n",
            "Epoch 332/400\n",
            "20/20 [==============================] - 0s 10ms/step - loss: 0.3983 - accuracy: 0.8248 - val_loss: 0.6340 - val_accuracy: 0.8029\n",
            "Epoch 333/400\n",
            "20/20 [==============================] - 0s 9ms/step - loss: 0.4095 - accuracy: 0.8408 - val_loss: 0.6355 - val_accuracy: 0.8029\n",
            "Epoch 334/400\n",
            "20/20 [==============================] - 0s 9ms/step - loss: 0.4015 - accuracy: 0.8408 - val_loss: 0.6392 - val_accuracy: 0.8029\n",
            "Epoch 335/400\n",
            "20/20 [==============================] - 0s 10ms/step - loss: 0.4047 - accuracy: 0.8441 - val_loss: 0.6344 - val_accuracy: 0.8029\n",
            "Epoch 336/400\n",
            "20/20 [==============================] - 0s 10ms/step - loss: 0.4058 - accuracy: 0.8312 - val_loss: 0.6424 - val_accuracy: 0.8029\n",
            "Epoch 337/400\n",
            "20/20 [==============================] - 0s 10ms/step - loss: 0.4109 - accuracy: 0.8312 - val_loss: 0.6346 - val_accuracy: 0.8029\n",
            "Epoch 338/400\n",
            "20/20 [==============================] - 0s 10ms/step - loss: 0.3994 - accuracy: 0.8441 - val_loss: 0.6370 - val_accuracy: 0.8029\n",
            "Epoch 339/400\n",
            "20/20 [==============================] - 0s 9ms/step - loss: 0.4021 - accuracy: 0.8312 - val_loss: 0.6472 - val_accuracy: 0.7981\n",
            "Epoch 340/400\n",
            "20/20 [==============================] - 0s 10ms/step - loss: 0.4061 - accuracy: 0.8296 - val_loss: 0.6551 - val_accuracy: 0.8029\n",
            "Epoch 341/400\n",
            "20/20 [==============================] - 0s 10ms/step - loss: 0.4088 - accuracy: 0.8408 - val_loss: 0.6457 - val_accuracy: 0.7981\n",
            "Epoch 342/400\n",
            "20/20 [==============================] - 0s 10ms/step - loss: 0.4003 - accuracy: 0.8328 - val_loss: 0.6530 - val_accuracy: 0.7933\n",
            "Epoch 343/400\n",
            "20/20 [==============================] - 0s 9ms/step - loss: 0.4007 - accuracy: 0.8360 - val_loss: 0.6553 - val_accuracy: 0.7981\n",
            "Epoch 344/400\n",
            "20/20 [==============================] - 0s 9ms/step - loss: 0.4090 - accuracy: 0.8376 - val_loss: 0.6463 - val_accuracy: 0.8029\n",
            "Epoch 345/400\n",
            "20/20 [==============================] - 0s 9ms/step - loss: 0.3864 - accuracy: 0.8296 - val_loss: 0.6527 - val_accuracy: 0.7981\n",
            "Epoch 346/400\n",
            "20/20 [==============================] - 0s 9ms/step - loss: 0.3978 - accuracy: 0.8183 - val_loss: 0.6550 - val_accuracy: 0.7981\n",
            "Epoch 347/400\n",
            "20/20 [==============================] - 0s 13ms/step - loss: 0.4352 - accuracy: 0.8296 - val_loss: 0.6476 - val_accuracy: 0.7933\n",
            "Epoch 348/400\n",
            "20/20 [==============================] - 0s 9ms/step - loss: 0.4079 - accuracy: 0.8408 - val_loss: 0.6466 - val_accuracy: 0.7981\n",
            "Epoch 349/400\n",
            "20/20 [==============================] - 0s 9ms/step - loss: 0.4104 - accuracy: 0.8280 - val_loss: 0.6498 - val_accuracy: 0.7981\n",
            "Epoch 350/400\n",
            "20/20 [==============================] - 0s 10ms/step - loss: 0.4130 - accuracy: 0.8344 - val_loss: 0.6412 - val_accuracy: 0.7981\n",
            "Epoch 351/400\n",
            "20/20 [==============================] - 0s 10ms/step - loss: 0.4012 - accuracy: 0.8457 - val_loss: 0.6525 - val_accuracy: 0.7981\n",
            "Epoch 352/400\n",
            "20/20 [==============================] - 0s 10ms/step - loss: 0.4001 - accuracy: 0.8441 - val_loss: 0.6536 - val_accuracy: 0.8029\n",
            "Epoch 353/400\n",
            "20/20 [==============================] - 0s 9ms/step - loss: 0.3834 - accuracy: 0.8264 - val_loss: 0.6585 - val_accuracy: 0.7981\n",
            "Epoch 354/400\n",
            "20/20 [==============================] - 0s 9ms/step - loss: 0.4135 - accuracy: 0.8360 - val_loss: 0.6649 - val_accuracy: 0.7981\n",
            "Epoch 355/400\n",
            "20/20 [==============================] - 0s 10ms/step - loss: 0.3974 - accuracy: 0.8408 - val_loss: 0.6615 - val_accuracy: 0.7981\n",
            "Epoch 356/400\n",
            "20/20 [==============================] - 0s 9ms/step - loss: 0.3981 - accuracy: 0.8280 - val_loss: 0.6620 - val_accuracy: 0.8029\n",
            "Epoch 357/400\n",
            "20/20 [==============================] - 0s 10ms/step - loss: 0.4199 - accuracy: 0.8312 - val_loss: 0.6458 - val_accuracy: 0.8029\n",
            "Epoch 358/400\n",
            "20/20 [==============================] - 0s 10ms/step - loss: 0.3966 - accuracy: 0.8344 - val_loss: 0.6571 - val_accuracy: 0.7981\n",
            "Epoch 359/400\n",
            "20/20 [==============================] - 0s 9ms/step - loss: 0.4045 - accuracy: 0.8328 - val_loss: 0.6568 - val_accuracy: 0.8029\n",
            "Epoch 360/400\n",
            "20/20 [==============================] - 0s 9ms/step - loss: 0.4211 - accuracy: 0.8312 - val_loss: 0.6480 - val_accuracy: 0.8029\n",
            "Epoch 361/400\n",
            "20/20 [==============================] - 0s 9ms/step - loss: 0.4126 - accuracy: 0.8344 - val_loss: 0.6418 - val_accuracy: 0.8029\n",
            "Epoch 362/400\n",
            "20/20 [==============================] - 0s 11ms/step - loss: 0.3907 - accuracy: 0.8457 - val_loss: 0.6490 - val_accuracy: 0.8029\n",
            "Epoch 363/400\n",
            "20/20 [==============================] - 0s 9ms/step - loss: 0.4023 - accuracy: 0.8392 - val_loss: 0.6608 - val_accuracy: 0.8029\n",
            "Epoch 364/400\n",
            "20/20 [==============================] - 0s 9ms/step - loss: 0.3904 - accuracy: 0.8441 - val_loss: 0.6599 - val_accuracy: 0.8029\n",
            "Epoch 365/400\n",
            "20/20 [==============================] - 0s 10ms/step - loss: 0.3988 - accuracy: 0.8441 - val_loss: 0.6644 - val_accuracy: 0.8029\n",
            "Epoch 366/400\n",
            "20/20 [==============================] - 0s 9ms/step - loss: 0.3928 - accuracy: 0.8376 - val_loss: 0.6611 - val_accuracy: 0.8029\n",
            "Epoch 367/400\n",
            "20/20 [==============================] - 0s 10ms/step - loss: 0.4232 - accuracy: 0.8232 - val_loss: 0.6574 - val_accuracy: 0.8029\n",
            "Epoch 368/400\n",
            "20/20 [==============================] - 0s 10ms/step - loss: 0.3968 - accuracy: 0.8392 - val_loss: 0.6466 - val_accuracy: 0.8077\n",
            "Epoch 369/400\n",
            "20/20 [==============================] - 0s 9ms/step - loss: 0.4017 - accuracy: 0.8296 - val_loss: 0.6495 - val_accuracy: 0.8077\n",
            "Epoch 370/400\n",
            "20/20 [==============================] - 0s 10ms/step - loss: 0.3969 - accuracy: 0.8232 - val_loss: 0.6585 - val_accuracy: 0.8077\n",
            "Epoch 371/400\n",
            "20/20 [==============================] - 0s 13ms/step - loss: 0.4058 - accuracy: 0.8215 - val_loss: 0.6633 - val_accuracy: 0.8029\n",
            "Epoch 372/400\n",
            "20/20 [==============================] - 0s 17ms/step - loss: 0.4162 - accuracy: 0.8408 - val_loss: 0.6589 - val_accuracy: 0.8029\n",
            "Epoch 373/400\n",
            "20/20 [==============================] - 0s 13ms/step - loss: 0.4135 - accuracy: 0.8264 - val_loss: 0.6547 - val_accuracy: 0.8077\n",
            "Epoch 374/400\n",
            "20/20 [==============================] - 0s 14ms/step - loss: 0.3934 - accuracy: 0.8376 - val_loss: 0.6578 - val_accuracy: 0.8029\n",
            "Epoch 375/400\n",
            "20/20 [==============================] - 0s 16ms/step - loss: 0.4161 - accuracy: 0.8312 - val_loss: 0.6556 - val_accuracy: 0.8077\n",
            "Epoch 376/400\n",
            "20/20 [==============================] - 0s 16ms/step - loss: 0.3888 - accuracy: 0.8424 - val_loss: 0.6664 - val_accuracy: 0.8077\n",
            "Epoch 377/400\n",
            "20/20 [==============================] - 0s 17ms/step - loss: 0.3927 - accuracy: 0.8489 - val_loss: 0.6687 - val_accuracy: 0.8077\n",
            "Epoch 378/400\n",
            "20/20 [==============================] - 0s 14ms/step - loss: 0.4128 - accuracy: 0.8312 - val_loss: 0.6683 - val_accuracy: 0.8029\n",
            "Epoch 379/400\n",
            "20/20 [==============================] - 0s 14ms/step - loss: 0.3849 - accuracy: 0.8360 - val_loss: 0.6627 - val_accuracy: 0.8077\n",
            "Epoch 380/400\n",
            "20/20 [==============================] - 0s 16ms/step - loss: 0.4088 - accuracy: 0.8328 - val_loss: 0.6658 - val_accuracy: 0.7981\n",
            "Epoch 381/400\n",
            "20/20 [==============================] - 0s 17ms/step - loss: 0.3922 - accuracy: 0.8392 - val_loss: 0.6692 - val_accuracy: 0.7981\n",
            "Epoch 382/400\n",
            "20/20 [==============================] - 0s 15ms/step - loss: 0.4051 - accuracy: 0.8360 - val_loss: 0.6710 - val_accuracy: 0.7981\n",
            "Epoch 383/400\n",
            "20/20 [==============================] - 0s 17ms/step - loss: 0.3970 - accuracy: 0.8328 - val_loss: 0.6692 - val_accuracy: 0.7981\n",
            "Epoch 384/400\n",
            "20/20 [==============================] - 0s 13ms/step - loss: 0.4021 - accuracy: 0.8360 - val_loss: 0.6845 - val_accuracy: 0.8029\n",
            "Epoch 385/400\n",
            "20/20 [==============================] - 0s 10ms/step - loss: 0.3963 - accuracy: 0.8312 - val_loss: 0.6774 - val_accuracy: 0.7981\n",
            "Epoch 386/400\n",
            "20/20 [==============================] - 0s 10ms/step - loss: 0.4054 - accuracy: 0.8328 - val_loss: 0.6786 - val_accuracy: 0.7981\n",
            "Epoch 387/400\n",
            "20/20 [==============================] - 0s 9ms/step - loss: 0.4001 - accuracy: 0.8392 - val_loss: 0.6771 - val_accuracy: 0.7981\n",
            "Epoch 388/400\n",
            "20/20 [==============================] - 0s 10ms/step - loss: 0.4140 - accuracy: 0.8360 - val_loss: 0.6683 - val_accuracy: 0.7933\n",
            "Epoch 389/400\n",
            "20/20 [==============================] - 0s 9ms/step - loss: 0.3892 - accuracy: 0.8360 - val_loss: 0.6817 - val_accuracy: 0.7981\n",
            "Epoch 390/400\n",
            "20/20 [==============================] - 0s 10ms/step - loss: 0.3825 - accuracy: 0.8424 - val_loss: 0.6903 - val_accuracy: 0.8029\n",
            "Epoch 391/400\n",
            "20/20 [==============================] - 0s 10ms/step - loss: 0.3911 - accuracy: 0.8457 - val_loss: 0.6862 - val_accuracy: 0.8029\n",
            "Epoch 392/400\n",
            "20/20 [==============================] - 0s 9ms/step - loss: 0.4021 - accuracy: 0.8441 - val_loss: 0.6906 - val_accuracy: 0.8029\n",
            "Epoch 393/400\n",
            "20/20 [==============================] - 0s 10ms/step - loss: 0.3845 - accuracy: 0.8408 - val_loss: 0.6872 - val_accuracy: 0.8029\n",
            "Epoch 394/400\n",
            "20/20 [==============================] - 0s 10ms/step - loss: 0.3911 - accuracy: 0.8424 - val_loss: 0.6834 - val_accuracy: 0.8029\n",
            "Epoch 395/400\n",
            "20/20 [==============================] - 0s 9ms/step - loss: 0.3917 - accuracy: 0.8489 - val_loss: 0.6831 - val_accuracy: 0.7981\n",
            "Epoch 396/400\n",
            "20/20 [==============================] - 0s 11ms/step - loss: 0.4044 - accuracy: 0.8360 - val_loss: 0.6787 - val_accuracy: 0.7981\n",
            "Epoch 397/400\n",
            "20/20 [==============================] - 0s 9ms/step - loss: 0.3840 - accuracy: 0.8408 - val_loss: 0.6870 - val_accuracy: 0.8029\n",
            "Epoch 398/400\n",
            "20/20 [==============================] - 0s 10ms/step - loss: 0.4052 - accuracy: 0.8392 - val_loss: 0.6926 - val_accuracy: 0.8029\n",
            "Epoch 399/400\n",
            "20/20 [==============================] - 0s 10ms/step - loss: 0.4024 - accuracy: 0.8505 - val_loss: 0.6897 - val_accuracy: 0.8029\n",
            "Epoch 400/400\n",
            "20/20 [==============================] - 0s 9ms/step - loss: 0.3785 - accuracy: 0.8392 - val_loss: 0.6854 - val_accuracy: 0.8029\n"
          ]
        }
      ],
      "source": [
        "#from keras.callbacks import EarlyStopping\n",
        "\n",
        "#early_stopping = EarlyStopping(monitor='val_loss', patience=50, min_delta=10**(-6)) ,callbacks=early_stopping\n",
        "history = model.fit(trainX,tf.keras.utils.to_categorical(trainy, num_classes=2),epochs = 400,verbose = 1,batch_size=32,validation_data=(testX,tf.keras.utils.to_categorical(testy, num_classes=2)))"
      ]
    },
    {
      "cell_type": "code",
      "source": [
        "score, acc = model.evaluate(testX, tf.keras.utils.to_categorical(testy, num_classes=2),\n",
        "                            batch_size=32,\n",
        "                            verbose=2)\n",
        "print('Test score:', score)\n",
        "print('Test accuracy:', acc)"
      ],
      "metadata": {
        "id": "KYYKGsjo1p65",
        "colab": {
          "base_uri": "https://localhost:8080/"
        },
        "outputId": "e655957b-2863-4a34-a6cb-8e7b79c8f735"
      },
      "execution_count": 252,
      "outputs": [
        {
          "output_type": "stream",
          "name": "stdout",
          "text": [
            "7/7 - 0s - loss: 0.6854 - accuracy: 0.8029 - 112ms/epoch - 16ms/step\n",
            "Test score: 0.6854391098022461\n",
            "Test accuracy: 0.8028846383094788\n"
          ]
        }
      ]
    },
    {
      "cell_type": "code",
      "source": [
        "model.predict(np.array(testX.iloc[8]).reshape(-1,14))"
      ],
      "metadata": {
        "colab": {
          "base_uri": "https://localhost:8080/"
        },
        "id": "ZRi0_cYjOaal",
        "outputId": "ae22a8af-2ea1-4ddf-a803-219ae0e0850f"
      },
      "execution_count": 285,
      "outputs": [
        {
          "output_type": "stream",
          "name": "stdout",
          "text": [
            "1/1 [==============================] - 0s 49ms/step\n"
          ]
        },
        {
          "output_type": "execute_result",
          "data": {
            "text/plain": [
              "array([[9.9999964e-01, 3.4255373e-07]], dtype=float32)"
            ]
          },
          "metadata": {},
          "execution_count": 285
        }
      ]
    },
    {
      "cell_type": "code",
      "source": [
        "testy.iloc[8]"
      ],
      "metadata": {
        "colab": {
          "base_uri": "https://localhost:8080/"
        },
        "id": "yG6hhk64QMoh",
        "outputId": "f6b6cb77-4088-4ba0-e33a-8f54360bf722"
      },
      "execution_count": 284,
      "outputs": [
        {
          "output_type": "execute_result",
          "data": {
            "text/plain": [
              "severity    0\n",
              "Name: 850, dtype: int64"
            ]
          },
          "metadata": {},
          "execution_count": 284
        }
      ]
    },
    {
      "cell_type": "code",
      "source": [
        "model.predict(np.array(testX.iloc[2]).reshape(-1,14))"
      ],
      "metadata": {
        "colab": {
          "base_uri": "https://localhost:8080/"
        },
        "outputId": "29818b81-1328-41e5-8e59-8f0a11f96201",
        "id": "TSA4BvQHQedI"
      },
      "execution_count": 286,
      "outputs": [
        {
          "output_type": "stream",
          "name": "stdout",
          "text": [
            "1/1 [==============================] - 0s 40ms/step\n"
          ]
        },
        {
          "output_type": "execute_result",
          "data": {
            "text/plain": [
              "array([[0.18298732, 0.81701267]], dtype=float32)"
            ]
          },
          "metadata": {},
          "execution_count": 286
        }
      ]
    },
    {
      "cell_type": "code",
      "source": [
        "testy.iloc[2]"
      ],
      "metadata": {
        "colab": {
          "base_uri": "https://localhost:8080/"
        },
        "outputId": "02222307-8390-494f-8971-7f3a3c3a00ca",
        "id": "4CjjhC05QedL"
      },
      "execution_count": 287,
      "outputs": [
        {
          "output_type": "execute_result",
          "data": {
            "text/plain": [
              "severity    1\n",
              "Name: 633, dtype: int64"
            ]
          },
          "metadata": {},
          "execution_count": 287
        }
      ]
    },
    {
      "cell_type": "code",
      "execution_count": 288,
      "metadata": {
        "deletable": true,
        "editable": true,
        "colab": {
          "base_uri": "https://localhost:8080/"
        },
        "outputId": "2746bb03-de43-48e2-a8c7-15ef4065cfee",
        "id": "Az_5zskrRHwb"
      },
      "outputs": [
        {
          "output_type": "stream",
          "name": "stdout",
          "text": [
            "Model: \"sequential_42\"\n",
            "_________________________________________________________________\n",
            " Layer (type)                Output Shape              Param #   \n",
            "=================================================================\n",
            " dense_184 (Dense)           (None, 512)               7680      \n",
            "                                                                 \n",
            " dropout_72 (Dropout)        (None, 512)               0         \n",
            "                                                                 \n",
            " dense_185 (Dense)           (None, 512)               262656    \n",
            "                                                                 \n",
            " dropout_73 (Dropout)        (None, 512)               0         \n",
            "                                                                 \n",
            " dense_186 (Dense)           (None, 1)                 513       \n",
            "                                                                 \n",
            "=================================================================\n",
            "Total params: 270849 (1.03 MB)\n",
            "Trainable params: 270849 (1.03 MB)\n",
            "Non-trainable params: 0 (0.00 Byte)\n",
            "_________________________________________________________________\n"
          ]
        }
      ],
      "source": [
        "model = Sequential()\n",
        "model.add(Dense(units = 512,input_dim = trainX.shape[1],activation = 'relu'))\n",
        "model.add(Dropout(0.8))\n",
        "model.add(Dense(units = 512,activation = 'relu'))\n",
        "model.add(Dropout(0.9))\n",
        "model.add(Dense(units = 1,activation = 'sigmoid'))\n",
        "\n",
        "model.summary()"
      ]
    },
    {
      "cell_type": "code",
      "execution_count": 289,
      "metadata": {
        "deletable": true,
        "editable": true,
        "id": "kepc_t8IRHwc"
      },
      "outputs": [],
      "source": [
        "model.compile(loss=\"binary_crossentropy\", metrics=[\"accuracy\"],optimizer = \"Adam\")"
      ]
    },
    {
      "cell_type": "code",
      "execution_count": 290,
      "metadata": {
        "deletable": true,
        "editable": true,
        "colab": {
          "base_uri": "https://localhost:8080/"
        },
        "outputId": "898d4937-7b61-48e6-932f-36bd6849e229",
        "id": "foTtzE-7RHwd"
      },
      "outputs": [
        {
          "output_type": "stream",
          "name": "stdout",
          "text": [
            "Epoch 1/400\n",
            "20/20 [==============================] - 2s 28ms/step - loss: 0.6783 - accuracy: 0.5932 - val_loss: 0.5356 - val_accuracy: 0.7404\n",
            "Epoch 2/400\n",
            "20/20 [==============================] - 0s 17ms/step - loss: 0.5346 - accuracy: 0.7331 - val_loss: 0.4712 - val_accuracy: 0.7596\n",
            "Epoch 3/400\n",
            "20/20 [==============================] - 0s 14ms/step - loss: 0.5084 - accuracy: 0.7894 - val_loss: 0.4595 - val_accuracy: 0.7692\n",
            "Epoch 4/400\n",
            "20/20 [==============================] - 0s 15ms/step - loss: 0.5132 - accuracy: 0.7958 - val_loss: 0.4585 - val_accuracy: 0.7788\n",
            "Epoch 5/400\n",
            "20/20 [==============================] - 0s 15ms/step - loss: 0.4706 - accuracy: 0.7974 - val_loss: 0.4614 - val_accuracy: 0.7837\n",
            "Epoch 6/400\n",
            "20/20 [==============================] - 0s 17ms/step - loss: 0.4945 - accuracy: 0.7974 - val_loss: 0.4652 - val_accuracy: 0.7837\n",
            "Epoch 7/400\n",
            "20/20 [==============================] - 0s 16ms/step - loss: 0.4772 - accuracy: 0.7990 - val_loss: 0.4657 - val_accuracy: 0.7933\n",
            "Epoch 8/400\n",
            "20/20 [==============================] - 0s 15ms/step - loss: 0.4842 - accuracy: 0.7958 - val_loss: 0.4622 - val_accuracy: 0.7933\n",
            "Epoch 9/400\n",
            "20/20 [==============================] - 0s 11ms/step - loss: 0.4882 - accuracy: 0.8071 - val_loss: 0.4699 - val_accuracy: 0.7885\n",
            "Epoch 10/400\n",
            "20/20 [==============================] - 0s 9ms/step - loss: 0.4579 - accuracy: 0.8183 - val_loss: 0.4658 - val_accuracy: 0.7933\n",
            "Epoch 11/400\n",
            "20/20 [==============================] - 0s 9ms/step - loss: 0.4680 - accuracy: 0.8119 - val_loss: 0.4677 - val_accuracy: 0.7981\n",
            "Epoch 12/400\n",
            "20/20 [==============================] - 0s 10ms/step - loss: 0.4727 - accuracy: 0.8183 - val_loss: 0.4667 - val_accuracy: 0.7933\n",
            "Epoch 13/400\n",
            "20/20 [==============================] - 0s 9ms/step - loss: 0.4495 - accuracy: 0.8199 - val_loss: 0.4693 - val_accuracy: 0.7885\n",
            "Epoch 14/400\n",
            "20/20 [==============================] - 0s 9ms/step - loss: 0.4656 - accuracy: 0.8006 - val_loss: 0.4703 - val_accuracy: 0.7885\n",
            "Epoch 15/400\n",
            "20/20 [==============================] - 0s 9ms/step - loss: 0.4854 - accuracy: 0.7942 - val_loss: 0.4768 - val_accuracy: 0.7885\n",
            "Epoch 16/400\n",
            "20/20 [==============================] - 0s 9ms/step - loss: 0.4519 - accuracy: 0.8087 - val_loss: 0.4764 - val_accuracy: 0.7885\n",
            "Epoch 17/400\n",
            "20/20 [==============================] - 0s 9ms/step - loss: 0.4770 - accuracy: 0.8006 - val_loss: 0.4744 - val_accuracy: 0.7981\n",
            "Epoch 18/400\n",
            "20/20 [==============================] - 0s 10ms/step - loss: 0.4557 - accuracy: 0.8103 - val_loss: 0.4751 - val_accuracy: 0.7933\n",
            "Epoch 19/400\n",
            "20/20 [==============================] - 0s 9ms/step - loss: 0.4335 - accuracy: 0.8119 - val_loss: 0.4805 - val_accuracy: 0.7885\n",
            "Epoch 20/400\n",
            "20/20 [==============================] - 0s 9ms/step - loss: 0.4493 - accuracy: 0.8103 - val_loss: 0.4795 - val_accuracy: 0.7885\n",
            "Epoch 21/400\n",
            "20/20 [==============================] - 0s 9ms/step - loss: 0.4455 - accuracy: 0.8055 - val_loss: 0.4821 - val_accuracy: 0.7885\n",
            "Epoch 22/400\n",
            "20/20 [==============================] - 0s 9ms/step - loss: 0.4524 - accuracy: 0.8103 - val_loss: 0.4817 - val_accuracy: 0.7885\n",
            "Epoch 23/400\n",
            "20/20 [==============================] - 0s 10ms/step - loss: 0.4568 - accuracy: 0.8119 - val_loss: 0.4826 - val_accuracy: 0.7933\n",
            "Epoch 24/400\n",
            "20/20 [==============================] - 0s 9ms/step - loss: 0.4370 - accuracy: 0.8232 - val_loss: 0.4867 - val_accuracy: 0.7885\n",
            "Epoch 25/400\n",
            "20/20 [==============================] - 0s 9ms/step - loss: 0.4522 - accuracy: 0.8151 - val_loss: 0.4855 - val_accuracy: 0.7837\n",
            "Epoch 26/400\n",
            "20/20 [==============================] - 0s 9ms/step - loss: 0.4430 - accuracy: 0.8215 - val_loss: 0.4876 - val_accuracy: 0.7885\n",
            "Epoch 27/400\n",
            "20/20 [==============================] - 0s 9ms/step - loss: 0.4264 - accuracy: 0.8199 - val_loss: 0.4820 - val_accuracy: 0.8029\n",
            "Epoch 28/400\n",
            "20/20 [==============================] - 0s 9ms/step - loss: 0.4273 - accuracy: 0.8232 - val_loss: 0.4895 - val_accuracy: 0.7933\n",
            "Epoch 29/400\n",
            "20/20 [==============================] - 0s 9ms/step - loss: 0.4565 - accuracy: 0.8055 - val_loss: 0.4896 - val_accuracy: 0.7933\n",
            "Epoch 30/400\n",
            "20/20 [==============================] - 0s 9ms/step - loss: 0.4522 - accuracy: 0.8135 - val_loss: 0.4895 - val_accuracy: 0.7933\n",
            "Epoch 31/400\n",
            "20/20 [==============================] - 0s 9ms/step - loss: 0.4511 - accuracy: 0.8248 - val_loss: 0.4833 - val_accuracy: 0.7885\n",
            "Epoch 32/400\n",
            "20/20 [==============================] - 0s 9ms/step - loss: 0.4562 - accuracy: 0.8215 - val_loss: 0.4871 - val_accuracy: 0.7933\n",
            "Epoch 33/400\n",
            "20/20 [==============================] - 0s 8ms/step - loss: 0.4320 - accuracy: 0.8167 - val_loss: 0.4907 - val_accuracy: 0.7933\n",
            "Epoch 34/400\n",
            "20/20 [==============================] - 0s 9ms/step - loss: 0.4487 - accuracy: 0.8167 - val_loss: 0.4870 - val_accuracy: 0.7981\n",
            "Epoch 35/400\n",
            "20/20 [==============================] - 0s 9ms/step - loss: 0.4593 - accuracy: 0.8135 - val_loss: 0.4850 - val_accuracy: 0.7981\n",
            "Epoch 36/400\n",
            "20/20 [==============================] - 0s 9ms/step - loss: 0.4495 - accuracy: 0.8119 - val_loss: 0.4872 - val_accuracy: 0.7981\n",
            "Epoch 37/400\n",
            "20/20 [==============================] - 0s 9ms/step - loss: 0.4375 - accuracy: 0.8264 - val_loss: 0.4863 - val_accuracy: 0.7981\n",
            "Epoch 38/400\n",
            "20/20 [==============================] - 0s 8ms/step - loss: 0.4452 - accuracy: 0.8264 - val_loss: 0.4874 - val_accuracy: 0.7933\n",
            "Epoch 39/400\n",
            "20/20 [==============================] - 0s 9ms/step - loss: 0.4364 - accuracy: 0.8103 - val_loss: 0.4876 - val_accuracy: 0.7981\n",
            "Epoch 40/400\n",
            "20/20 [==============================] - 0s 10ms/step - loss: 0.4611 - accuracy: 0.8167 - val_loss: 0.4870 - val_accuracy: 0.7981\n",
            "Epoch 41/400\n",
            "20/20 [==============================] - 0s 9ms/step - loss: 0.4572 - accuracy: 0.8071 - val_loss: 0.4878 - val_accuracy: 0.8029\n",
            "Epoch 42/400\n",
            "20/20 [==============================] - 0s 9ms/step - loss: 0.4269 - accuracy: 0.8312 - val_loss: 0.4890 - val_accuracy: 0.7981\n",
            "Epoch 43/400\n",
            "20/20 [==============================] - 0s 9ms/step - loss: 0.4321 - accuracy: 0.8199 - val_loss: 0.4879 - val_accuracy: 0.8029\n",
            "Epoch 44/400\n",
            "20/20 [==============================] - 0s 9ms/step - loss: 0.4341 - accuracy: 0.8248 - val_loss: 0.4928 - val_accuracy: 0.7981\n",
            "Epoch 45/400\n",
            "20/20 [==============================] - 0s 9ms/step - loss: 0.4414 - accuracy: 0.8215 - val_loss: 0.4915 - val_accuracy: 0.7981\n",
            "Epoch 46/400\n",
            "20/20 [==============================] - 0s 9ms/step - loss: 0.4381 - accuracy: 0.8151 - val_loss: 0.4901 - val_accuracy: 0.8029\n",
            "Epoch 47/400\n",
            "20/20 [==============================] - 0s 9ms/step - loss: 0.4265 - accuracy: 0.8232 - val_loss: 0.4954 - val_accuracy: 0.7981\n",
            "Epoch 48/400\n",
            "20/20 [==============================] - 0s 9ms/step - loss: 0.4454 - accuracy: 0.8199 - val_loss: 0.4924 - val_accuracy: 0.7981\n",
            "Epoch 49/400\n",
            "20/20 [==============================] - 0s 8ms/step - loss: 0.4432 - accuracy: 0.8248 - val_loss: 0.4920 - val_accuracy: 0.7981\n",
            "Epoch 50/400\n",
            "20/20 [==============================] - 0s 9ms/step - loss: 0.4318 - accuracy: 0.8376 - val_loss: 0.4927 - val_accuracy: 0.7981\n",
            "Epoch 51/400\n",
            "20/20 [==============================] - 0s 9ms/step - loss: 0.4327 - accuracy: 0.8296 - val_loss: 0.4940 - val_accuracy: 0.7981\n",
            "Epoch 52/400\n",
            "20/20 [==============================] - 0s 9ms/step - loss: 0.4328 - accuracy: 0.8264 - val_loss: 0.4949 - val_accuracy: 0.7981\n",
            "Epoch 53/400\n",
            "20/20 [==============================] - 0s 9ms/step - loss: 0.4265 - accuracy: 0.8280 - val_loss: 0.4928 - val_accuracy: 0.8029\n",
            "Epoch 54/400\n",
            "20/20 [==============================] - 0s 8ms/step - loss: 0.4278 - accuracy: 0.8344 - val_loss: 0.4926 - val_accuracy: 0.8029\n",
            "Epoch 55/400\n",
            "20/20 [==============================] - 0s 9ms/step - loss: 0.4351 - accuracy: 0.8248 - val_loss: 0.4984 - val_accuracy: 0.8029\n",
            "Epoch 56/400\n",
            "20/20 [==============================] - 0s 9ms/step - loss: 0.4150 - accuracy: 0.8215 - val_loss: 0.4970 - val_accuracy: 0.8029\n",
            "Epoch 57/400\n",
            "20/20 [==============================] - 0s 9ms/step - loss: 0.4358 - accuracy: 0.8248 - val_loss: 0.4977 - val_accuracy: 0.8029\n",
            "Epoch 58/400\n",
            "20/20 [==============================] - 0s 9ms/step - loss: 0.4291 - accuracy: 0.8248 - val_loss: 0.5016 - val_accuracy: 0.7933\n",
            "Epoch 59/400\n",
            "20/20 [==============================] - 0s 9ms/step - loss: 0.4372 - accuracy: 0.8264 - val_loss: 0.5003 - val_accuracy: 0.8029\n",
            "Epoch 60/400\n",
            "20/20 [==============================] - 0s 8ms/step - loss: 0.4454 - accuracy: 0.8183 - val_loss: 0.5028 - val_accuracy: 0.8029\n",
            "Epoch 61/400\n",
            "20/20 [==============================] - 0s 9ms/step - loss: 0.4440 - accuracy: 0.8280 - val_loss: 0.5026 - val_accuracy: 0.7981\n",
            "Epoch 62/400\n",
            "20/20 [==============================] - 0s 9ms/step - loss: 0.4149 - accuracy: 0.8312 - val_loss: 0.5064 - val_accuracy: 0.8029\n",
            "Epoch 63/400\n",
            "20/20 [==============================] - 0s 16ms/step - loss: 0.4322 - accuracy: 0.8280 - val_loss: 0.5046 - val_accuracy: 0.7981\n",
            "Epoch 64/400\n",
            "20/20 [==============================] - 0s 13ms/step - loss: 0.4214 - accuracy: 0.8167 - val_loss: 0.5046 - val_accuracy: 0.7981\n",
            "Epoch 65/400\n",
            "20/20 [==============================] - 0s 16ms/step - loss: 0.4219 - accuracy: 0.8248 - val_loss: 0.5045 - val_accuracy: 0.7933\n",
            "Epoch 66/400\n",
            "20/20 [==============================] - 0s 14ms/step - loss: 0.4545 - accuracy: 0.8199 - val_loss: 0.5047 - val_accuracy: 0.7933\n",
            "Epoch 67/400\n",
            "20/20 [==============================] - 0s 16ms/step - loss: 0.4342 - accuracy: 0.8312 - val_loss: 0.5025 - val_accuracy: 0.7981\n",
            "Epoch 68/400\n",
            "20/20 [==============================] - 0s 16ms/step - loss: 0.4248 - accuracy: 0.8215 - val_loss: 0.5023 - val_accuracy: 0.7981\n",
            "Epoch 69/400\n",
            "20/20 [==============================] - 0s 17ms/step - loss: 0.4334 - accuracy: 0.8248 - val_loss: 0.5034 - val_accuracy: 0.7981\n",
            "Epoch 70/400\n",
            "20/20 [==============================] - 0s 16ms/step - loss: 0.4320 - accuracy: 0.8183 - val_loss: 0.5031 - val_accuracy: 0.7981\n",
            "Epoch 71/400\n",
            "20/20 [==============================] - 0s 16ms/step - loss: 0.4260 - accuracy: 0.8441 - val_loss: 0.5074 - val_accuracy: 0.7981\n",
            "Epoch 72/400\n",
            "20/20 [==============================] - 0s 17ms/step - loss: 0.4287 - accuracy: 0.8199 - val_loss: 0.5108 - val_accuracy: 0.7933\n",
            "Epoch 73/400\n",
            "20/20 [==============================] - 0s 16ms/step - loss: 0.4471 - accuracy: 0.8280 - val_loss: 0.5077 - val_accuracy: 0.7933\n",
            "Epoch 74/400\n",
            "20/20 [==============================] - 0s 9ms/step - loss: 0.4418 - accuracy: 0.8167 - val_loss: 0.5054 - val_accuracy: 0.7933\n",
            "Epoch 75/400\n",
            "20/20 [==============================] - 0s 9ms/step - loss: 0.4234 - accuracy: 0.8232 - val_loss: 0.5043 - val_accuracy: 0.8029\n",
            "Epoch 76/400\n",
            "20/20 [==============================] - 0s 9ms/step - loss: 0.4165 - accuracy: 0.8248 - val_loss: 0.5044 - val_accuracy: 0.7981\n",
            "Epoch 77/400\n",
            "20/20 [==============================] - 0s 10ms/step - loss: 0.4186 - accuracy: 0.8328 - val_loss: 0.5076 - val_accuracy: 0.7933\n",
            "Epoch 78/400\n",
            "20/20 [==============================] - 0s 8ms/step - loss: 0.4146 - accuracy: 0.8248 - val_loss: 0.5090 - val_accuracy: 0.7981\n",
            "Epoch 79/400\n",
            "20/20 [==============================] - 0s 9ms/step - loss: 0.4409 - accuracy: 0.8232 - val_loss: 0.5066 - val_accuracy: 0.7981\n",
            "Epoch 80/400\n",
            "20/20 [==============================] - 0s 10ms/step - loss: 0.4347 - accuracy: 0.8248 - val_loss: 0.5102 - val_accuracy: 0.7981\n",
            "Epoch 81/400\n",
            "20/20 [==============================] - 0s 9ms/step - loss: 0.4177 - accuracy: 0.8280 - val_loss: 0.5135 - val_accuracy: 0.7981\n",
            "Epoch 82/400\n",
            "20/20 [==============================] - 0s 10ms/step - loss: 0.4319 - accuracy: 0.8312 - val_loss: 0.5176 - val_accuracy: 0.7933\n",
            "Epoch 83/400\n",
            "20/20 [==============================] - 0s 9ms/step - loss: 0.4435 - accuracy: 0.8199 - val_loss: 0.5188 - val_accuracy: 0.7933\n",
            "Epoch 84/400\n",
            "20/20 [==============================] - 0s 8ms/step - loss: 0.4248 - accuracy: 0.8183 - val_loss: 0.5196 - val_accuracy: 0.7933\n",
            "Epoch 85/400\n",
            "20/20 [==============================] - 0s 8ms/step - loss: 0.4286 - accuracy: 0.8199 - val_loss: 0.5215 - val_accuracy: 0.7933\n",
            "Epoch 86/400\n",
            "20/20 [==============================] - 0s 9ms/step - loss: 0.4264 - accuracy: 0.8264 - val_loss: 0.5149 - val_accuracy: 0.7933\n",
            "Epoch 87/400\n",
            "20/20 [==============================] - 0s 9ms/step - loss: 0.4223 - accuracy: 0.8199 - val_loss: 0.5202 - val_accuracy: 0.7933\n",
            "Epoch 88/400\n",
            "20/20 [==============================] - 0s 10ms/step - loss: 0.4261 - accuracy: 0.8328 - val_loss: 0.5159 - val_accuracy: 0.7933\n",
            "Epoch 89/400\n",
            "20/20 [==============================] - 0s 9ms/step - loss: 0.4384 - accuracy: 0.8248 - val_loss: 0.5139 - val_accuracy: 0.7885\n",
            "Epoch 90/400\n",
            "20/20 [==============================] - 0s 9ms/step - loss: 0.4350 - accuracy: 0.8344 - val_loss: 0.5111 - val_accuracy: 0.7885\n",
            "Epoch 91/400\n",
            "20/20 [==============================] - 0s 9ms/step - loss: 0.4383 - accuracy: 0.8264 - val_loss: 0.5160 - val_accuracy: 0.7981\n",
            "Epoch 92/400\n",
            "20/20 [==============================] - 0s 9ms/step - loss: 0.4382 - accuracy: 0.8248 - val_loss: 0.5148 - val_accuracy: 0.7933\n",
            "Epoch 93/400\n",
            "20/20 [==============================] - 0s 9ms/step - loss: 0.4203 - accuracy: 0.8215 - val_loss: 0.5172 - val_accuracy: 0.7885\n",
            "Epoch 94/400\n",
            "20/20 [==============================] - 0s 9ms/step - loss: 0.4157 - accuracy: 0.8248 - val_loss: 0.5147 - val_accuracy: 0.7933\n",
            "Epoch 95/400\n",
            "20/20 [==============================] - 0s 9ms/step - loss: 0.4201 - accuracy: 0.8296 - val_loss: 0.5138 - val_accuracy: 0.7933\n",
            "Epoch 96/400\n",
            "20/20 [==============================] - 0s 9ms/step - loss: 0.4408 - accuracy: 0.8215 - val_loss: 0.5146 - val_accuracy: 0.7933\n",
            "Epoch 97/400\n",
            "20/20 [==============================] - 0s 9ms/step - loss: 0.4183 - accuracy: 0.8215 - val_loss: 0.5177 - val_accuracy: 0.7933\n",
            "Epoch 98/400\n",
            "20/20 [==============================] - 0s 9ms/step - loss: 0.4103 - accuracy: 0.8264 - val_loss: 0.5229 - val_accuracy: 0.7885\n",
            "Epoch 99/400\n",
            "20/20 [==============================] - 0s 10ms/step - loss: 0.4157 - accuracy: 0.8280 - val_loss: 0.5286 - val_accuracy: 0.7885\n",
            "Epoch 100/400\n",
            "20/20 [==============================] - 0s 9ms/step - loss: 0.4269 - accuracy: 0.8264 - val_loss: 0.5219 - val_accuracy: 0.7885\n",
            "Epoch 101/400\n",
            "20/20 [==============================] - 0s 9ms/step - loss: 0.4175 - accuracy: 0.8280 - val_loss: 0.5217 - val_accuracy: 0.7885\n",
            "Epoch 102/400\n",
            "20/20 [==============================] - 0s 9ms/step - loss: 0.4155 - accuracy: 0.8312 - val_loss: 0.5210 - val_accuracy: 0.7933\n",
            "Epoch 103/400\n",
            "20/20 [==============================] - 0s 9ms/step - loss: 0.4175 - accuracy: 0.8264 - val_loss: 0.5256 - val_accuracy: 0.7981\n",
            "Epoch 104/400\n",
            "20/20 [==============================] - 0s 9ms/step - loss: 0.4225 - accuracy: 0.8328 - val_loss: 0.5259 - val_accuracy: 0.7981\n",
            "Epoch 105/400\n",
            "20/20 [==============================] - 0s 10ms/step - loss: 0.4253 - accuracy: 0.8183 - val_loss: 0.5270 - val_accuracy: 0.7981\n",
            "Epoch 106/400\n",
            "20/20 [==============================] - 0s 9ms/step - loss: 0.4240 - accuracy: 0.8296 - val_loss: 0.5256 - val_accuracy: 0.7933\n",
            "Epoch 107/400\n",
            "20/20 [==============================] - 0s 9ms/step - loss: 0.3944 - accuracy: 0.8344 - val_loss: 0.5256 - val_accuracy: 0.7933\n",
            "Epoch 108/400\n",
            "20/20 [==============================] - 0s 9ms/step - loss: 0.4131 - accuracy: 0.8215 - val_loss: 0.5236 - val_accuracy: 0.7933\n",
            "Epoch 109/400\n",
            "20/20 [==============================] - 0s 9ms/step - loss: 0.4139 - accuracy: 0.8232 - val_loss: 0.5180 - val_accuracy: 0.7933\n",
            "Epoch 110/400\n",
            "20/20 [==============================] - 0s 10ms/step - loss: 0.3966 - accuracy: 0.8296 - val_loss: 0.5171 - val_accuracy: 0.8029\n",
            "Epoch 111/400\n",
            "20/20 [==============================] - 0s 9ms/step - loss: 0.4166 - accuracy: 0.8360 - val_loss: 0.5196 - val_accuracy: 0.8029\n",
            "Epoch 112/400\n",
            "20/20 [==============================] - 0s 9ms/step - loss: 0.4235 - accuracy: 0.8215 - val_loss: 0.5238 - val_accuracy: 0.8029\n",
            "Epoch 113/400\n",
            "20/20 [==============================] - 0s 9ms/step - loss: 0.4307 - accuracy: 0.8280 - val_loss: 0.5242 - val_accuracy: 0.7933\n",
            "Epoch 114/400\n",
            "20/20 [==============================] - 0s 9ms/step - loss: 0.4194 - accuracy: 0.8441 - val_loss: 0.5266 - val_accuracy: 0.7933\n",
            "Epoch 115/400\n",
            "20/20 [==============================] - 0s 10ms/step - loss: 0.4192 - accuracy: 0.8360 - val_loss: 0.5266 - val_accuracy: 0.7885\n",
            "Epoch 116/400\n",
            "20/20 [==============================] - 0s 9ms/step - loss: 0.4180 - accuracy: 0.8264 - val_loss: 0.5260 - val_accuracy: 0.7981\n",
            "Epoch 117/400\n",
            "20/20 [==============================] - 0s 9ms/step - loss: 0.4189 - accuracy: 0.8232 - val_loss: 0.5302 - val_accuracy: 0.7981\n",
            "Epoch 118/400\n",
            "20/20 [==============================] - 0s 9ms/step - loss: 0.4272 - accuracy: 0.8328 - val_loss: 0.5312 - val_accuracy: 0.7981\n",
            "Epoch 119/400\n",
            "20/20 [==============================] - 0s 9ms/step - loss: 0.4364 - accuracy: 0.8344 - val_loss: 0.5310 - val_accuracy: 0.7981\n",
            "Epoch 120/400\n",
            "20/20 [==============================] - 0s 9ms/step - loss: 0.4260 - accuracy: 0.8392 - val_loss: 0.5364 - val_accuracy: 0.7933\n",
            "Epoch 121/400\n",
            "20/20 [==============================] - 0s 10ms/step - loss: 0.4312 - accuracy: 0.8215 - val_loss: 0.5351 - val_accuracy: 0.7933\n",
            "Epoch 122/400\n",
            "20/20 [==============================] - 0s 9ms/step - loss: 0.4313 - accuracy: 0.8280 - val_loss: 0.5365 - val_accuracy: 0.7933\n",
            "Epoch 123/400\n",
            "20/20 [==============================] - 0s 9ms/step - loss: 0.4117 - accuracy: 0.8264 - val_loss: 0.5380 - val_accuracy: 0.7933\n",
            "Epoch 124/400\n",
            "20/20 [==============================] - 0s 9ms/step - loss: 0.4194 - accuracy: 0.8232 - val_loss: 0.5326 - val_accuracy: 0.7933\n",
            "Epoch 125/400\n",
            "20/20 [==============================] - 0s 9ms/step - loss: 0.4200 - accuracy: 0.8199 - val_loss: 0.5333 - val_accuracy: 0.7981\n",
            "Epoch 126/400\n",
            "20/20 [==============================] - 0s 12ms/step - loss: 0.4254 - accuracy: 0.8183 - val_loss: 0.5290 - val_accuracy: 0.7885\n",
            "Epoch 127/400\n",
            "20/20 [==============================] - 0s 16ms/step - loss: 0.4006 - accuracy: 0.8328 - val_loss: 0.5341 - val_accuracy: 0.7885\n",
            "Epoch 128/400\n",
            "20/20 [==============================] - 0s 16ms/step - loss: 0.4166 - accuracy: 0.8312 - val_loss: 0.5397 - val_accuracy: 0.7981\n",
            "Epoch 129/400\n",
            "20/20 [==============================] - 0s 14ms/step - loss: 0.4308 - accuracy: 0.8296 - val_loss: 0.5331 - val_accuracy: 0.7981\n",
            "Epoch 130/400\n",
            "20/20 [==============================] - 0s 15ms/step - loss: 0.4150 - accuracy: 0.8296 - val_loss: 0.5336 - val_accuracy: 0.8029\n",
            "Epoch 131/400\n",
            "20/20 [==============================] - 0s 13ms/step - loss: 0.4279 - accuracy: 0.8264 - val_loss: 0.5329 - val_accuracy: 0.7981\n",
            "Epoch 132/400\n",
            "20/20 [==============================] - 0s 16ms/step - loss: 0.4219 - accuracy: 0.8328 - val_loss: 0.5328 - val_accuracy: 0.7981\n",
            "Epoch 133/400\n",
            "20/20 [==============================] - 0s 15ms/step - loss: 0.4209 - accuracy: 0.8328 - val_loss: 0.5327 - val_accuracy: 0.7933\n",
            "Epoch 134/400\n",
            "20/20 [==============================] - 0s 15ms/step - loss: 0.4260 - accuracy: 0.8360 - val_loss: 0.5334 - val_accuracy: 0.8029\n",
            "Epoch 135/400\n",
            "20/20 [==============================] - 0s 15ms/step - loss: 0.4149 - accuracy: 0.8376 - val_loss: 0.5326 - val_accuracy: 0.7981\n",
            "Epoch 136/400\n",
            "20/20 [==============================] - 0s 16ms/step - loss: 0.4181 - accuracy: 0.8344 - val_loss: 0.5373 - val_accuracy: 0.7885\n",
            "Epoch 137/400\n",
            "20/20 [==============================] - 0s 17ms/step - loss: 0.4179 - accuracy: 0.8312 - val_loss: 0.5404 - val_accuracy: 0.7933\n",
            "Epoch 138/400\n",
            "20/20 [==============================] - 0s 12ms/step - loss: 0.4135 - accuracy: 0.8264 - val_loss: 0.5452 - val_accuracy: 0.7933\n",
            "Epoch 139/400\n",
            "20/20 [==============================] - 0s 9ms/step - loss: 0.4247 - accuracy: 0.8183 - val_loss: 0.5413 - val_accuracy: 0.7933\n",
            "Epoch 140/400\n",
            "20/20 [==============================] - 0s 9ms/step - loss: 0.4090 - accuracy: 0.8376 - val_loss: 0.5378 - val_accuracy: 0.7933\n",
            "Epoch 141/400\n",
            "20/20 [==============================] - 0s 9ms/step - loss: 0.4226 - accuracy: 0.8344 - val_loss: 0.5364 - val_accuracy: 0.7933\n",
            "Epoch 142/400\n",
            "20/20 [==============================] - 0s 9ms/step - loss: 0.4291 - accuracy: 0.8296 - val_loss: 0.5392 - val_accuracy: 0.7933\n",
            "Epoch 143/400\n",
            "20/20 [==============================] - 0s 9ms/step - loss: 0.4091 - accuracy: 0.8296 - val_loss: 0.5334 - val_accuracy: 0.7933\n",
            "Epoch 144/400\n",
            "20/20 [==============================] - 0s 9ms/step - loss: 0.4286 - accuracy: 0.8296 - val_loss: 0.5368 - val_accuracy: 0.7981\n",
            "Epoch 145/400\n",
            "20/20 [==============================] - 0s 9ms/step - loss: 0.4058 - accuracy: 0.8328 - val_loss: 0.5400 - val_accuracy: 0.7981\n",
            "Epoch 146/400\n",
            "20/20 [==============================] - 0s 10ms/step - loss: 0.4178 - accuracy: 0.8408 - val_loss: 0.5381 - val_accuracy: 0.7933\n",
            "Epoch 147/400\n",
            "20/20 [==============================] - 0s 9ms/step - loss: 0.4219 - accuracy: 0.8344 - val_loss: 0.5358 - val_accuracy: 0.7981\n",
            "Epoch 148/400\n",
            "20/20 [==============================] - 0s 9ms/step - loss: 0.4157 - accuracy: 0.8408 - val_loss: 0.5357 - val_accuracy: 0.7981\n",
            "Epoch 149/400\n",
            "20/20 [==============================] - 0s 10ms/step - loss: 0.3964 - accuracy: 0.8344 - val_loss: 0.5396 - val_accuracy: 0.8077\n",
            "Epoch 150/400\n",
            "20/20 [==============================] - 0s 9ms/step - loss: 0.4214 - accuracy: 0.8312 - val_loss: 0.5457 - val_accuracy: 0.8077\n",
            "Epoch 151/400\n",
            "20/20 [==============================] - 0s 10ms/step - loss: 0.4076 - accuracy: 0.8312 - val_loss: 0.5356 - val_accuracy: 0.8029\n",
            "Epoch 152/400\n",
            "20/20 [==============================] - 0s 9ms/step - loss: 0.4188 - accuracy: 0.8232 - val_loss: 0.5347 - val_accuracy: 0.8029\n",
            "Epoch 153/400\n",
            "20/20 [==============================] - 0s 9ms/step - loss: 0.4156 - accuracy: 0.8312 - val_loss: 0.5364 - val_accuracy: 0.8029\n",
            "Epoch 154/400\n",
            "20/20 [==============================] - 0s 10ms/step - loss: 0.4200 - accuracy: 0.8312 - val_loss: 0.5383 - val_accuracy: 0.8029\n",
            "Epoch 155/400\n",
            "20/20 [==============================] - 0s 9ms/step - loss: 0.4085 - accuracy: 0.8360 - val_loss: 0.5411 - val_accuracy: 0.7981\n",
            "Epoch 156/400\n",
            "20/20 [==============================] - 0s 10ms/step - loss: 0.4019 - accuracy: 0.8248 - val_loss: 0.5383 - val_accuracy: 0.8029\n",
            "Epoch 157/400\n",
            "20/20 [==============================] - 0s 10ms/step - loss: 0.4179 - accuracy: 0.8199 - val_loss: 0.5423 - val_accuracy: 0.7981\n",
            "Epoch 158/400\n",
            "20/20 [==============================] - 0s 9ms/step - loss: 0.4175 - accuracy: 0.8360 - val_loss: 0.5350 - val_accuracy: 0.8077\n",
            "Epoch 159/400\n",
            "20/20 [==============================] - 0s 9ms/step - loss: 0.4058 - accuracy: 0.8376 - val_loss: 0.5453 - val_accuracy: 0.7981\n",
            "Epoch 160/400\n",
            "20/20 [==============================] - 0s 9ms/step - loss: 0.3870 - accuracy: 0.8408 - val_loss: 0.5464 - val_accuracy: 0.7981\n",
            "Epoch 161/400\n",
            "20/20 [==============================] - 0s 9ms/step - loss: 0.4253 - accuracy: 0.8215 - val_loss: 0.5450 - val_accuracy: 0.7981\n",
            "Epoch 162/400\n",
            "20/20 [==============================] - 0s 10ms/step - loss: 0.4034 - accuracy: 0.8312 - val_loss: 0.5442 - val_accuracy: 0.7981\n",
            "Epoch 163/400\n",
            "20/20 [==============================] - 0s 9ms/step - loss: 0.4299 - accuracy: 0.8376 - val_loss: 0.5354 - val_accuracy: 0.7981\n",
            "Epoch 164/400\n",
            "20/20 [==============================] - 0s 9ms/step - loss: 0.4290 - accuracy: 0.8280 - val_loss: 0.5431 - val_accuracy: 0.7981\n",
            "Epoch 165/400\n",
            "20/20 [==============================] - 0s 9ms/step - loss: 0.4063 - accuracy: 0.8328 - val_loss: 0.5402 - val_accuracy: 0.8029\n",
            "Epoch 166/400\n",
            "20/20 [==============================] - 0s 9ms/step - loss: 0.4181 - accuracy: 0.8264 - val_loss: 0.5430 - val_accuracy: 0.8029\n",
            "Epoch 167/400\n",
            "20/20 [==============================] - 0s 10ms/step - loss: 0.4221 - accuracy: 0.8360 - val_loss: 0.5447 - val_accuracy: 0.7981\n",
            "Epoch 168/400\n",
            "20/20 [==============================] - 0s 9ms/step - loss: 0.3883 - accuracy: 0.8360 - val_loss: 0.5520 - val_accuracy: 0.7981\n",
            "Epoch 169/400\n",
            "20/20 [==============================] - 0s 9ms/step - loss: 0.4355 - accuracy: 0.8280 - val_loss: 0.5507 - val_accuracy: 0.7933\n",
            "Epoch 170/400\n",
            "20/20 [==============================] - 0s 9ms/step - loss: 0.3977 - accuracy: 0.8408 - val_loss: 0.5518 - val_accuracy: 0.7933\n",
            "Epoch 171/400\n",
            "20/20 [==============================] - 0s 8ms/step - loss: 0.4035 - accuracy: 0.8441 - val_loss: 0.5524 - val_accuracy: 0.7933\n",
            "Epoch 172/400\n",
            "20/20 [==============================] - 0s 10ms/step - loss: 0.4129 - accuracy: 0.8312 - val_loss: 0.5495 - val_accuracy: 0.7981\n",
            "Epoch 173/400\n",
            "20/20 [==============================] - 0s 10ms/step - loss: 0.4145 - accuracy: 0.8312 - val_loss: 0.5530 - val_accuracy: 0.8029\n",
            "Epoch 174/400\n",
            "20/20 [==============================] - 0s 9ms/step - loss: 0.4090 - accuracy: 0.8376 - val_loss: 0.5506 - val_accuracy: 0.8077\n",
            "Epoch 175/400\n",
            "20/20 [==============================] - 0s 10ms/step - loss: 0.4094 - accuracy: 0.8376 - val_loss: 0.5491 - val_accuracy: 0.8029\n",
            "Epoch 176/400\n",
            "20/20 [==============================] - 0s 9ms/step - loss: 0.4158 - accuracy: 0.8328 - val_loss: 0.5523 - val_accuracy: 0.8029\n",
            "Epoch 177/400\n",
            "20/20 [==============================] - 0s 12ms/step - loss: 0.4166 - accuracy: 0.8312 - val_loss: 0.5530 - val_accuracy: 0.7981\n",
            "Epoch 178/400\n",
            "20/20 [==============================] - 0s 10ms/step - loss: 0.4388 - accuracy: 0.8312 - val_loss: 0.5498 - val_accuracy: 0.8029\n",
            "Epoch 179/400\n",
            "20/20 [==============================] - 0s 10ms/step - loss: 0.4188 - accuracy: 0.8248 - val_loss: 0.5484 - val_accuracy: 0.8029\n",
            "Epoch 180/400\n",
            "20/20 [==============================] - 0s 9ms/step - loss: 0.4185 - accuracy: 0.8199 - val_loss: 0.5473 - val_accuracy: 0.8029\n",
            "Epoch 181/400\n",
            "20/20 [==============================] - 0s 9ms/step - loss: 0.4101 - accuracy: 0.8360 - val_loss: 0.5478 - val_accuracy: 0.8029\n",
            "Epoch 182/400\n",
            "20/20 [==============================] - 0s 12ms/step - loss: 0.4147 - accuracy: 0.8360 - val_loss: 0.5496 - val_accuracy: 0.8077\n",
            "Epoch 183/400\n",
            "20/20 [==============================] - 0s 9ms/step - loss: 0.4013 - accuracy: 0.8312 - val_loss: 0.5510 - val_accuracy: 0.8077\n",
            "Epoch 184/400\n",
            "20/20 [==============================] - 0s 9ms/step - loss: 0.4111 - accuracy: 0.8199 - val_loss: 0.5534 - val_accuracy: 0.8029\n",
            "Epoch 185/400\n",
            "20/20 [==============================] - 0s 9ms/step - loss: 0.4330 - accuracy: 0.8328 - val_loss: 0.5518 - val_accuracy: 0.8029\n",
            "Epoch 186/400\n",
            "20/20 [==============================] - 0s 8ms/step - loss: 0.4085 - accuracy: 0.8376 - val_loss: 0.5558 - val_accuracy: 0.8029\n",
            "Epoch 187/400\n",
            "20/20 [==============================] - 0s 9ms/step - loss: 0.4203 - accuracy: 0.8376 - val_loss: 0.5579 - val_accuracy: 0.8029\n",
            "Epoch 188/400\n",
            "20/20 [==============================] - 0s 10ms/step - loss: 0.4338 - accuracy: 0.8296 - val_loss: 0.5557 - val_accuracy: 0.8029\n",
            "Epoch 189/400\n",
            "20/20 [==============================] - 0s 13ms/step - loss: 0.4065 - accuracy: 0.8328 - val_loss: 0.5525 - val_accuracy: 0.8029\n",
            "Epoch 190/400\n",
            "20/20 [==============================] - 0s 16ms/step - loss: 0.3978 - accuracy: 0.8392 - val_loss: 0.5601 - val_accuracy: 0.7981\n",
            "Epoch 191/400\n",
            "20/20 [==============================] - 0s 14ms/step - loss: 0.3925 - accuracy: 0.8312 - val_loss: 0.5602 - val_accuracy: 0.8029\n",
            "Epoch 192/400\n",
            "20/20 [==============================] - 0s 15ms/step - loss: 0.4082 - accuracy: 0.8360 - val_loss: 0.5656 - val_accuracy: 0.7981\n",
            "Epoch 193/400\n",
            "20/20 [==============================] - 0s 17ms/step - loss: 0.4198 - accuracy: 0.8392 - val_loss: 0.5575 - val_accuracy: 0.7981\n",
            "Epoch 194/400\n",
            "20/20 [==============================] - 0s 16ms/step - loss: 0.4123 - accuracy: 0.8360 - val_loss: 0.5653 - val_accuracy: 0.7981\n",
            "Epoch 195/400\n",
            "20/20 [==============================] - 0s 16ms/step - loss: 0.4096 - accuracy: 0.8376 - val_loss: 0.5639 - val_accuracy: 0.7981\n",
            "Epoch 196/400\n",
            "20/20 [==============================] - 0s 16ms/step - loss: 0.4110 - accuracy: 0.8328 - val_loss: 0.5597 - val_accuracy: 0.8029\n",
            "Epoch 197/400\n",
            "20/20 [==============================] - 0s 15ms/step - loss: 0.4006 - accuracy: 0.8392 - val_loss: 0.5626 - val_accuracy: 0.8077\n",
            "Epoch 198/400\n",
            "20/20 [==============================] - 0s 18ms/step - loss: 0.4015 - accuracy: 0.8296 - val_loss: 0.5656 - val_accuracy: 0.7981\n",
            "Epoch 199/400\n",
            "20/20 [==============================] - 0s 16ms/step - loss: 0.4316 - accuracy: 0.8344 - val_loss: 0.5628 - val_accuracy: 0.7981\n",
            "Epoch 200/400\n",
            "20/20 [==============================] - 0s 15ms/step - loss: 0.4183 - accuracy: 0.8344 - val_loss: 0.5605 - val_accuracy: 0.8029\n",
            "Epoch 201/400\n",
            "20/20 [==============================] - 0s 9ms/step - loss: 0.3968 - accuracy: 0.8328 - val_loss: 0.5638 - val_accuracy: 0.7933\n",
            "Epoch 202/400\n",
            "20/20 [==============================] - 0s 10ms/step - loss: 0.4475 - accuracy: 0.8296 - val_loss: 0.5565 - val_accuracy: 0.7933\n",
            "Epoch 203/400\n",
            "20/20 [==============================] - 0s 9ms/step - loss: 0.4088 - accuracy: 0.8344 - val_loss: 0.5533 - val_accuracy: 0.8029\n",
            "Epoch 204/400\n",
            "20/20 [==============================] - 0s 9ms/step - loss: 0.4104 - accuracy: 0.8296 - val_loss: 0.5558 - val_accuracy: 0.7981\n",
            "Epoch 205/400\n",
            "20/20 [==============================] - 0s 9ms/step - loss: 0.4130 - accuracy: 0.8360 - val_loss: 0.5573 - val_accuracy: 0.7981\n",
            "Epoch 206/400\n",
            "20/20 [==============================] - 0s 9ms/step - loss: 0.4126 - accuracy: 0.8344 - val_loss: 0.5652 - val_accuracy: 0.7933\n",
            "Epoch 207/400\n",
            "20/20 [==============================] - 0s 12ms/step - loss: 0.4015 - accuracy: 0.8280 - val_loss: 0.5637 - val_accuracy: 0.7933\n",
            "Epoch 208/400\n",
            "20/20 [==============================] - 0s 9ms/step - loss: 0.4073 - accuracy: 0.8248 - val_loss: 0.5617 - val_accuracy: 0.7933\n",
            "Epoch 209/400\n",
            "20/20 [==============================] - 0s 9ms/step - loss: 0.4149 - accuracy: 0.8215 - val_loss: 0.5593 - val_accuracy: 0.7933\n",
            "Epoch 210/400\n",
            "20/20 [==============================] - 0s 9ms/step - loss: 0.4117 - accuracy: 0.8392 - val_loss: 0.5595 - val_accuracy: 0.7933\n",
            "Epoch 211/400\n",
            "20/20 [==============================] - 0s 9ms/step - loss: 0.4163 - accuracy: 0.8280 - val_loss: 0.5590 - val_accuracy: 0.7981\n",
            "Epoch 212/400\n",
            "20/20 [==============================] - 0s 9ms/step - loss: 0.4053 - accuracy: 0.8344 - val_loss: 0.5605 - val_accuracy: 0.7981\n",
            "Epoch 213/400\n",
            "20/20 [==============================] - 0s 10ms/step - loss: 0.4180 - accuracy: 0.8248 - val_loss: 0.5650 - val_accuracy: 0.8029\n",
            "Epoch 214/400\n",
            "20/20 [==============================] - 0s 9ms/step - loss: 0.4144 - accuracy: 0.8408 - val_loss: 0.5702 - val_accuracy: 0.8029\n",
            "Epoch 215/400\n",
            "20/20 [==============================] - 0s 9ms/step - loss: 0.4274 - accuracy: 0.8232 - val_loss: 0.5691 - val_accuracy: 0.8029\n",
            "Epoch 216/400\n",
            "20/20 [==============================] - 0s 9ms/step - loss: 0.4064 - accuracy: 0.8392 - val_loss: 0.5665 - val_accuracy: 0.8029\n",
            "Epoch 217/400\n",
            "20/20 [==============================] - 0s 10ms/step - loss: 0.4122 - accuracy: 0.8248 - val_loss: 0.5665 - val_accuracy: 0.8029\n",
            "Epoch 218/400\n",
            "20/20 [==============================] - 0s 10ms/step - loss: 0.4013 - accuracy: 0.8408 - val_loss: 0.5661 - val_accuracy: 0.8029\n",
            "Epoch 219/400\n",
            "20/20 [==============================] - 0s 9ms/step - loss: 0.4180 - accuracy: 0.8344 - val_loss: 0.5680 - val_accuracy: 0.7981\n",
            "Epoch 220/400\n",
            "20/20 [==============================] - 0s 9ms/step - loss: 0.4168 - accuracy: 0.8344 - val_loss: 0.5635 - val_accuracy: 0.8029\n",
            "Epoch 221/400\n",
            "20/20 [==============================] - 0s 9ms/step - loss: 0.4229 - accuracy: 0.8280 - val_loss: 0.5632 - val_accuracy: 0.8029\n",
            "Epoch 222/400\n",
            "20/20 [==============================] - 0s 9ms/step - loss: 0.4126 - accuracy: 0.8296 - val_loss: 0.5585 - val_accuracy: 0.8077\n",
            "Epoch 223/400\n",
            "20/20 [==============================] - 0s 10ms/step - loss: 0.3987 - accuracy: 0.8312 - val_loss: 0.5607 - val_accuracy: 0.8077\n",
            "Epoch 224/400\n",
            "20/20 [==============================] - 0s 9ms/step - loss: 0.4145 - accuracy: 0.8232 - val_loss: 0.5635 - val_accuracy: 0.8077\n",
            "Epoch 225/400\n",
            "20/20 [==============================] - 0s 8ms/step - loss: 0.4104 - accuracy: 0.8296 - val_loss: 0.5739 - val_accuracy: 0.8029\n",
            "Epoch 226/400\n",
            "20/20 [==============================] - 0s 9ms/step - loss: 0.3941 - accuracy: 0.8473 - val_loss: 0.5781 - val_accuracy: 0.7981\n",
            "Epoch 227/400\n",
            "20/20 [==============================] - 0s 9ms/step - loss: 0.4072 - accuracy: 0.8392 - val_loss: 0.5810 - val_accuracy: 0.7981\n",
            "Epoch 228/400\n",
            "20/20 [==============================] - 0s 9ms/step - loss: 0.4076 - accuracy: 0.8489 - val_loss: 0.5793 - val_accuracy: 0.8029\n",
            "Epoch 229/400\n",
            "20/20 [==============================] - 0s 10ms/step - loss: 0.4189 - accuracy: 0.8264 - val_loss: 0.5766 - val_accuracy: 0.8029\n",
            "Epoch 230/400\n",
            "20/20 [==============================] - 0s 9ms/step - loss: 0.3951 - accuracy: 0.8328 - val_loss: 0.5757 - val_accuracy: 0.8029\n",
            "Epoch 231/400\n",
            "20/20 [==============================] - 0s 10ms/step - loss: 0.3971 - accuracy: 0.8312 - val_loss: 0.5775 - val_accuracy: 0.8029\n",
            "Epoch 232/400\n",
            "20/20 [==============================] - 0s 10ms/step - loss: 0.4009 - accuracy: 0.8408 - val_loss: 0.5717 - val_accuracy: 0.8077\n",
            "Epoch 233/400\n",
            "20/20 [==============================] - 0s 10ms/step - loss: 0.4198 - accuracy: 0.8376 - val_loss: 0.5727 - val_accuracy: 0.8029\n",
            "Epoch 234/400\n",
            "20/20 [==============================] - 0s 10ms/step - loss: 0.4132 - accuracy: 0.8344 - val_loss: 0.5756 - val_accuracy: 0.8029\n",
            "Epoch 235/400\n",
            "20/20 [==============================] - 0s 9ms/step - loss: 0.4018 - accuracy: 0.8328 - val_loss: 0.5787 - val_accuracy: 0.8029\n",
            "Epoch 236/400\n",
            "20/20 [==============================] - 0s 9ms/step - loss: 0.4022 - accuracy: 0.8376 - val_loss: 0.5795 - val_accuracy: 0.7981\n",
            "Epoch 237/400\n",
            "20/20 [==============================] - 0s 9ms/step - loss: 0.4130 - accuracy: 0.8248 - val_loss: 0.5751 - val_accuracy: 0.8029\n",
            "Epoch 238/400\n",
            "20/20 [==============================] - 0s 10ms/step - loss: 0.4016 - accuracy: 0.8441 - val_loss: 0.5730 - val_accuracy: 0.8029\n",
            "Epoch 239/400\n",
            "20/20 [==============================] - 0s 10ms/step - loss: 0.4132 - accuracy: 0.8280 - val_loss: 0.5741 - val_accuracy: 0.8077\n",
            "Epoch 240/400\n",
            "20/20 [==============================] - 0s 9ms/step - loss: 0.4120 - accuracy: 0.8360 - val_loss: 0.5778 - val_accuracy: 0.8029\n",
            "Epoch 241/400\n",
            "20/20 [==============================] - 0s 9ms/step - loss: 0.3981 - accuracy: 0.8312 - val_loss: 0.5813 - val_accuracy: 0.8029\n",
            "Epoch 242/400\n",
            "20/20 [==============================] - 0s 9ms/step - loss: 0.4079 - accuracy: 0.8360 - val_loss: 0.5784 - val_accuracy: 0.7981\n",
            "Epoch 243/400\n",
            "20/20 [==============================] - 0s 9ms/step - loss: 0.4070 - accuracy: 0.8296 - val_loss: 0.5764 - val_accuracy: 0.8029\n",
            "Epoch 244/400\n",
            "20/20 [==============================] - 0s 9ms/step - loss: 0.4029 - accuracy: 0.8360 - val_loss: 0.5777 - val_accuracy: 0.8029\n",
            "Epoch 245/400\n",
            "20/20 [==============================] - 0s 9ms/step - loss: 0.4106 - accuracy: 0.8312 - val_loss: 0.5802 - val_accuracy: 0.7933\n",
            "Epoch 246/400\n",
            "20/20 [==============================] - 0s 9ms/step - loss: 0.4000 - accuracy: 0.8424 - val_loss: 0.5736 - val_accuracy: 0.7981\n",
            "Epoch 247/400\n",
            "20/20 [==============================] - 0s 9ms/step - loss: 0.4218 - accuracy: 0.8408 - val_loss: 0.5733 - val_accuracy: 0.8029\n",
            "Epoch 248/400\n",
            "20/20 [==============================] - 0s 10ms/step - loss: 0.4189 - accuracy: 0.8392 - val_loss: 0.5754 - val_accuracy: 0.7981\n",
            "Epoch 249/400\n",
            "20/20 [==============================] - 0s 9ms/step - loss: 0.4133 - accuracy: 0.8376 - val_loss: 0.5827 - val_accuracy: 0.7981\n",
            "Epoch 250/400\n",
            "20/20 [==============================] - 0s 10ms/step - loss: 0.3978 - accuracy: 0.8344 - val_loss: 0.5791 - val_accuracy: 0.7981\n",
            "Epoch 251/400\n",
            "20/20 [==============================] - 0s 9ms/step - loss: 0.4101 - accuracy: 0.8296 - val_loss: 0.5796 - val_accuracy: 0.7981\n",
            "Epoch 252/400\n",
            "20/20 [==============================] - 0s 14ms/step - loss: 0.4192 - accuracy: 0.8248 - val_loss: 0.5756 - val_accuracy: 0.7981\n",
            "Epoch 253/400\n",
            "20/20 [==============================] - 0s 16ms/step - loss: 0.3958 - accuracy: 0.8473 - val_loss: 0.5770 - val_accuracy: 0.7981\n",
            "Epoch 254/400\n",
            "20/20 [==============================] - 0s 18ms/step - loss: 0.4135 - accuracy: 0.8376 - val_loss: 0.5811 - val_accuracy: 0.7981\n",
            "Epoch 255/400\n",
            "20/20 [==============================] - 0s 15ms/step - loss: 0.4162 - accuracy: 0.8119 - val_loss: 0.5768 - val_accuracy: 0.7981\n",
            "Epoch 256/400\n",
            "20/20 [==============================] - 0s 16ms/step - loss: 0.4007 - accuracy: 0.8392 - val_loss: 0.5780 - val_accuracy: 0.8029\n",
            "Epoch 257/400\n",
            "20/20 [==============================] - 0s 16ms/step - loss: 0.3964 - accuracy: 0.8376 - val_loss: 0.5777 - val_accuracy: 0.8077\n",
            "Epoch 258/400\n",
            "20/20 [==============================] - 0s 16ms/step - loss: 0.4131 - accuracy: 0.8280 - val_loss: 0.5791 - val_accuracy: 0.8029\n",
            "Epoch 259/400\n",
            "20/20 [==============================] - 0s 16ms/step - loss: 0.3958 - accuracy: 0.8376 - val_loss: 0.5840 - val_accuracy: 0.8029\n",
            "Epoch 260/400\n",
            "20/20 [==============================] - 0s 18ms/step - loss: 0.3932 - accuracy: 0.8376 - val_loss: 0.5869 - val_accuracy: 0.8029\n",
            "Epoch 261/400\n",
            "20/20 [==============================] - 0s 16ms/step - loss: 0.4177 - accuracy: 0.8328 - val_loss: 0.5858 - val_accuracy: 0.8029\n",
            "Epoch 262/400\n",
            "20/20 [==============================] - 0s 17ms/step - loss: 0.4199 - accuracy: 0.8360 - val_loss: 0.5781 - val_accuracy: 0.7981\n",
            "Epoch 263/400\n",
            "20/20 [==============================] - 0s 11ms/step - loss: 0.4062 - accuracy: 0.8392 - val_loss: 0.5789 - val_accuracy: 0.8077\n",
            "Epoch 264/400\n",
            "20/20 [==============================] - 0s 10ms/step - loss: 0.3947 - accuracy: 0.8424 - val_loss: 0.5883 - val_accuracy: 0.8029\n",
            "Epoch 265/400\n",
            "20/20 [==============================] - 0s 9ms/step - loss: 0.4054 - accuracy: 0.8457 - val_loss: 0.5917 - val_accuracy: 0.7981\n",
            "Epoch 266/400\n",
            "20/20 [==============================] - 0s 9ms/step - loss: 0.4078 - accuracy: 0.8392 - val_loss: 0.5904 - val_accuracy: 0.8029\n",
            "Epoch 267/400\n",
            "20/20 [==============================] - 0s 9ms/step - loss: 0.4011 - accuracy: 0.8473 - val_loss: 0.5935 - val_accuracy: 0.8029\n",
            "Epoch 268/400\n",
            "20/20 [==============================] - 0s 9ms/step - loss: 0.3935 - accuracy: 0.8296 - val_loss: 0.5921 - val_accuracy: 0.8029\n",
            "Epoch 269/400\n",
            "20/20 [==============================] - 0s 9ms/step - loss: 0.3967 - accuracy: 0.8360 - val_loss: 0.5987 - val_accuracy: 0.7981\n",
            "Epoch 270/400\n",
            "20/20 [==============================] - 0s 9ms/step - loss: 0.4089 - accuracy: 0.8408 - val_loss: 0.5981 - val_accuracy: 0.7933\n",
            "Epoch 271/400\n",
            "20/20 [==============================] - 0s 9ms/step - loss: 0.4142 - accuracy: 0.8248 - val_loss: 0.5994 - val_accuracy: 0.7933\n",
            "Epoch 272/400\n",
            "20/20 [==============================] - 0s 9ms/step - loss: 0.3861 - accuracy: 0.8328 - val_loss: 0.6008 - val_accuracy: 0.7933\n",
            "Epoch 273/400\n",
            "20/20 [==============================] - 0s 9ms/step - loss: 0.4061 - accuracy: 0.8296 - val_loss: 0.6006 - val_accuracy: 0.7933\n",
            "Epoch 274/400\n",
            "20/20 [==============================] - 0s 9ms/step - loss: 0.3972 - accuracy: 0.8312 - val_loss: 0.5925 - val_accuracy: 0.7981\n",
            "Epoch 275/400\n",
            "20/20 [==============================] - 0s 10ms/step - loss: 0.3957 - accuracy: 0.8392 - val_loss: 0.5862 - val_accuracy: 0.8029\n",
            "Epoch 276/400\n",
            "20/20 [==============================] - 0s 10ms/step - loss: 0.4127 - accuracy: 0.8328 - val_loss: 0.5829 - val_accuracy: 0.7981\n",
            "Epoch 277/400\n",
            "20/20 [==============================] - 0s 10ms/step - loss: 0.3959 - accuracy: 0.8376 - val_loss: 0.5858 - val_accuracy: 0.7981\n",
            "Epoch 278/400\n",
            "20/20 [==============================] - 0s 9ms/step - loss: 0.4088 - accuracy: 0.8296 - val_loss: 0.5887 - val_accuracy: 0.8029\n",
            "Epoch 279/400\n",
            "20/20 [==============================] - 0s 10ms/step - loss: 0.4109 - accuracy: 0.8392 - val_loss: 0.5931 - val_accuracy: 0.7981\n",
            "Epoch 280/400\n",
            "20/20 [==============================] - 0s 9ms/step - loss: 0.3937 - accuracy: 0.8344 - val_loss: 0.5944 - val_accuracy: 0.7981\n",
            "Epoch 281/400\n",
            "20/20 [==============================] - 0s 9ms/step - loss: 0.3798 - accuracy: 0.8360 - val_loss: 0.5985 - val_accuracy: 0.7981\n",
            "Epoch 282/400\n",
            "20/20 [==============================] - 0s 10ms/step - loss: 0.4097 - accuracy: 0.8328 - val_loss: 0.5940 - val_accuracy: 0.8029\n",
            "Epoch 283/400\n",
            "20/20 [==============================] - 0s 10ms/step - loss: 0.4054 - accuracy: 0.8296 - val_loss: 0.5900 - val_accuracy: 0.8029\n",
            "Epoch 284/400\n",
            "20/20 [==============================] - 0s 9ms/step - loss: 0.4051 - accuracy: 0.8376 - val_loss: 0.5918 - val_accuracy: 0.8029\n",
            "Epoch 285/400\n",
            "20/20 [==============================] - 0s 10ms/step - loss: 0.3971 - accuracy: 0.8312 - val_loss: 0.5945 - val_accuracy: 0.8029\n",
            "Epoch 286/400\n",
            "20/20 [==============================] - 0s 10ms/step - loss: 0.4170 - accuracy: 0.8232 - val_loss: 0.5933 - val_accuracy: 0.7981\n",
            "Epoch 287/400\n",
            "20/20 [==============================] - 0s 9ms/step - loss: 0.3976 - accuracy: 0.8392 - val_loss: 0.5973 - val_accuracy: 0.7981\n",
            "Epoch 288/400\n",
            "20/20 [==============================] - 0s 10ms/step - loss: 0.3962 - accuracy: 0.8392 - val_loss: 0.6010 - val_accuracy: 0.8029\n",
            "Epoch 289/400\n",
            "20/20 [==============================] - 0s 9ms/step - loss: 0.4116 - accuracy: 0.8264 - val_loss: 0.5994 - val_accuracy: 0.7981\n",
            "Epoch 290/400\n",
            "20/20 [==============================] - 0s 10ms/step - loss: 0.4055 - accuracy: 0.8473 - val_loss: 0.6019 - val_accuracy: 0.8029\n",
            "Epoch 291/400\n",
            "20/20 [==============================] - 0s 10ms/step - loss: 0.4079 - accuracy: 0.8328 - val_loss: 0.6023 - val_accuracy: 0.8029\n",
            "Epoch 292/400\n",
            "20/20 [==============================] - 0s 10ms/step - loss: 0.3967 - accuracy: 0.8360 - val_loss: 0.6004 - val_accuracy: 0.8029\n",
            "Epoch 293/400\n",
            "20/20 [==============================] - 0s 10ms/step - loss: 0.4163 - accuracy: 0.8312 - val_loss: 0.5958 - val_accuracy: 0.8029\n",
            "Epoch 294/400\n",
            "20/20 [==============================] - 0s 10ms/step - loss: 0.4220 - accuracy: 0.8296 - val_loss: 0.5914 - val_accuracy: 0.8029\n",
            "Epoch 295/400\n",
            "20/20 [==============================] - 0s 10ms/step - loss: 0.4016 - accuracy: 0.8424 - val_loss: 0.5878 - val_accuracy: 0.8029\n",
            "Epoch 296/400\n",
            "20/20 [==============================] - 0s 10ms/step - loss: 0.4070 - accuracy: 0.8328 - val_loss: 0.5913 - val_accuracy: 0.8029\n",
            "Epoch 297/400\n",
            "20/20 [==============================] - 0s 9ms/step - loss: 0.4119 - accuracy: 0.8312 - val_loss: 0.5976 - val_accuracy: 0.8029\n",
            "Epoch 298/400\n",
            "20/20 [==============================] - 0s 9ms/step - loss: 0.3960 - accuracy: 0.8376 - val_loss: 0.5914 - val_accuracy: 0.8029\n",
            "Epoch 299/400\n",
            "20/20 [==============================] - 0s 10ms/step - loss: 0.3841 - accuracy: 0.8424 - val_loss: 0.5962 - val_accuracy: 0.8029\n",
            "Epoch 300/400\n",
            "20/20 [==============================] - 0s 11ms/step - loss: 0.4245 - accuracy: 0.8264 - val_loss: 0.5968 - val_accuracy: 0.8029\n",
            "Epoch 301/400\n",
            "20/20 [==============================] - 0s 10ms/step - loss: 0.4041 - accuracy: 0.8296 - val_loss: 0.5914 - val_accuracy: 0.8029\n",
            "Epoch 302/400\n",
            "20/20 [==============================] - 0s 10ms/step - loss: 0.4025 - accuracy: 0.8424 - val_loss: 0.5895 - val_accuracy: 0.8029\n",
            "Epoch 303/400\n",
            "20/20 [==============================] - 0s 9ms/step - loss: 0.4019 - accuracy: 0.8392 - val_loss: 0.5868 - val_accuracy: 0.8029\n",
            "Epoch 304/400\n",
            "20/20 [==============================] - 0s 9ms/step - loss: 0.4082 - accuracy: 0.8264 - val_loss: 0.5856 - val_accuracy: 0.8029\n",
            "Epoch 305/400\n",
            "20/20 [==============================] - 0s 11ms/step - loss: 0.4113 - accuracy: 0.8360 - val_loss: 0.5849 - val_accuracy: 0.8029\n",
            "Epoch 306/400\n",
            "20/20 [==============================] - 0s 9ms/step - loss: 0.4054 - accuracy: 0.8296 - val_loss: 0.5811 - val_accuracy: 0.8029\n",
            "Epoch 307/400\n",
            "20/20 [==============================] - 0s 9ms/step - loss: 0.3988 - accuracy: 0.8232 - val_loss: 0.5850 - val_accuracy: 0.8029\n",
            "Epoch 308/400\n",
            "20/20 [==============================] - 0s 9ms/step - loss: 0.3853 - accuracy: 0.8344 - val_loss: 0.5933 - val_accuracy: 0.7981\n",
            "Epoch 309/400\n",
            "20/20 [==============================] - 0s 9ms/step - loss: 0.4003 - accuracy: 0.8328 - val_loss: 0.5937 - val_accuracy: 0.8029\n",
            "Epoch 310/400\n",
            "20/20 [==============================] - 0s 10ms/step - loss: 0.3955 - accuracy: 0.8424 - val_loss: 0.5907 - val_accuracy: 0.8029\n",
            "Epoch 311/400\n",
            "20/20 [==============================] - 0s 9ms/step - loss: 0.4015 - accuracy: 0.8280 - val_loss: 0.5983 - val_accuracy: 0.8029\n",
            "Epoch 312/400\n",
            "20/20 [==============================] - 0s 9ms/step - loss: 0.3936 - accuracy: 0.8489 - val_loss: 0.6041 - val_accuracy: 0.7981\n",
            "Epoch 313/400\n",
            "20/20 [==============================] - 0s 15ms/step - loss: 0.4028 - accuracy: 0.8183 - val_loss: 0.6078 - val_accuracy: 0.8029\n",
            "Epoch 314/400\n",
            "20/20 [==============================] - 0s 16ms/step - loss: 0.4004 - accuracy: 0.8408 - val_loss: 0.6072 - val_accuracy: 0.8029\n",
            "Epoch 315/400\n",
            "20/20 [==============================] - 0s 16ms/step - loss: 0.4009 - accuracy: 0.8392 - val_loss: 0.6107 - val_accuracy: 0.8029\n",
            "Epoch 316/400\n",
            "20/20 [==============================] - 0s 14ms/step - loss: 0.4019 - accuracy: 0.8344 - val_loss: 0.6088 - val_accuracy: 0.8029\n",
            "Epoch 317/400\n",
            "20/20 [==============================] - 0s 16ms/step - loss: 0.3966 - accuracy: 0.8328 - val_loss: 0.6112 - val_accuracy: 0.7981\n",
            "Epoch 318/400\n",
            "20/20 [==============================] - 0s 18ms/step - loss: 0.3968 - accuracy: 0.8344 - val_loss: 0.6188 - val_accuracy: 0.8029\n",
            "Epoch 319/400\n",
            "20/20 [==============================] - 0s 13ms/step - loss: 0.3948 - accuracy: 0.8376 - val_loss: 0.6187 - val_accuracy: 0.8029\n",
            "Epoch 320/400\n",
            "20/20 [==============================] - 0s 13ms/step - loss: 0.3840 - accuracy: 0.8457 - val_loss: 0.6202 - val_accuracy: 0.8029\n",
            "Epoch 321/400\n",
            "20/20 [==============================] - 0s 17ms/step - loss: 0.4093 - accuracy: 0.8376 - val_loss: 0.6132 - val_accuracy: 0.8029\n",
            "Epoch 322/400\n",
            "20/20 [==============================] - 0s 17ms/step - loss: 0.4081 - accuracy: 0.8376 - val_loss: 0.6086 - val_accuracy: 0.8029\n",
            "Epoch 323/400\n",
            "20/20 [==============================] - 0s 17ms/step - loss: 0.4130 - accuracy: 0.8392 - val_loss: 0.6096 - val_accuracy: 0.8029\n",
            "Epoch 324/400\n",
            "20/20 [==============================] - 0s 15ms/step - loss: 0.3916 - accuracy: 0.8248 - val_loss: 0.6096 - val_accuracy: 0.8029\n",
            "Epoch 325/400\n",
            "20/20 [==============================] - 0s 16ms/step - loss: 0.4209 - accuracy: 0.8312 - val_loss: 0.6093 - val_accuracy: 0.8077\n",
            "Epoch 326/400\n",
            "20/20 [==============================] - 0s 15ms/step - loss: 0.4041 - accuracy: 0.8424 - val_loss: 0.6040 - val_accuracy: 0.8029\n",
            "Epoch 327/400\n",
            "20/20 [==============================] - 0s 16ms/step - loss: 0.4138 - accuracy: 0.8441 - val_loss: 0.6056 - val_accuracy: 0.8077\n",
            "Epoch 328/400\n",
            "20/20 [==============================] - 0s 18ms/step - loss: 0.4094 - accuracy: 0.8296 - val_loss: 0.6056 - val_accuracy: 0.8077\n",
            "Epoch 329/400\n",
            "20/20 [==============================] - 0s 14ms/step - loss: 0.3922 - accuracy: 0.8360 - val_loss: 0.6154 - val_accuracy: 0.7981\n",
            "Epoch 330/400\n",
            "20/20 [==============================] - 0s 15ms/step - loss: 0.3972 - accuracy: 0.8392 - val_loss: 0.6203 - val_accuracy: 0.8029\n",
            "Epoch 331/400\n",
            "20/20 [==============================] - 0s 17ms/step - loss: 0.4084 - accuracy: 0.8408 - val_loss: 0.6179 - val_accuracy: 0.8029\n",
            "Epoch 332/400\n",
            "20/20 [==============================] - 0s 16ms/step - loss: 0.4005 - accuracy: 0.8360 - val_loss: 0.6182 - val_accuracy: 0.8029\n",
            "Epoch 333/400\n",
            "20/20 [==============================] - 0s 14ms/step - loss: 0.3962 - accuracy: 0.8264 - val_loss: 0.6160 - val_accuracy: 0.8029\n",
            "Epoch 334/400\n",
            "20/20 [==============================] - 0s 16ms/step - loss: 0.3884 - accuracy: 0.8376 - val_loss: 0.6215 - val_accuracy: 0.8029\n",
            "Epoch 335/400\n",
            "20/20 [==============================] - 0s 16ms/step - loss: 0.4116 - accuracy: 0.8360 - val_loss: 0.6181 - val_accuracy: 0.8029\n",
            "Epoch 336/400\n",
            "20/20 [==============================] - 0s 15ms/step - loss: 0.3933 - accuracy: 0.8296 - val_loss: 0.6175 - val_accuracy: 0.7981\n",
            "Epoch 337/400\n",
            "20/20 [==============================] - 0s 16ms/step - loss: 0.3944 - accuracy: 0.8264 - val_loss: 0.6187 - val_accuracy: 0.7981\n",
            "Epoch 338/400\n",
            "20/20 [==============================] - 0s 15ms/step - loss: 0.3904 - accuracy: 0.8360 - val_loss: 0.6280 - val_accuracy: 0.7981\n",
            "Epoch 339/400\n",
            "20/20 [==============================] - 0s 16ms/step - loss: 0.4149 - accuracy: 0.8392 - val_loss: 0.6284 - val_accuracy: 0.7981\n",
            "Epoch 340/400\n",
            "20/20 [==============================] - 0s 14ms/step - loss: 0.3922 - accuracy: 0.8328 - val_loss: 0.6332 - val_accuracy: 0.7981\n",
            "Epoch 341/400\n",
            "20/20 [==============================] - 0s 14ms/step - loss: 0.4130 - accuracy: 0.8392 - val_loss: 0.6316 - val_accuracy: 0.7981\n",
            "Epoch 342/400\n",
            "20/20 [==============================] - 0s 14ms/step - loss: 0.3933 - accuracy: 0.8441 - val_loss: 0.6267 - val_accuracy: 0.7981\n",
            "Epoch 343/400\n",
            "20/20 [==============================] - 0s 15ms/step - loss: 0.3994 - accuracy: 0.8296 - val_loss: 0.6260 - val_accuracy: 0.8029\n",
            "Epoch 344/400\n",
            "20/20 [==============================] - 0s 17ms/step - loss: 0.3930 - accuracy: 0.8408 - val_loss: 0.6263 - val_accuracy: 0.8077\n",
            "Epoch 345/400\n",
            "20/20 [==============================] - 0s 18ms/step - loss: 0.4025 - accuracy: 0.8392 - val_loss: 0.6265 - val_accuracy: 0.8029\n",
            "Epoch 346/400\n",
            "20/20 [==============================] - 0s 17ms/step - loss: 0.3981 - accuracy: 0.8296 - val_loss: 0.6275 - val_accuracy: 0.8029\n",
            "Epoch 347/400\n",
            "20/20 [==============================] - 0s 16ms/step - loss: 0.4124 - accuracy: 0.8344 - val_loss: 0.6155 - val_accuracy: 0.8029\n",
            "Epoch 348/400\n",
            "20/20 [==============================] - 0s 15ms/step - loss: 0.3931 - accuracy: 0.8344 - val_loss: 0.6230 - val_accuracy: 0.8029\n",
            "Epoch 349/400\n",
            "20/20 [==============================] - 0s 14ms/step - loss: 0.4045 - accuracy: 0.8328 - val_loss: 0.6212 - val_accuracy: 0.7981\n",
            "Epoch 350/400\n",
            "20/20 [==============================] - 0s 15ms/step - loss: 0.4129 - accuracy: 0.8376 - val_loss: 0.6229 - val_accuracy: 0.8029\n",
            "Epoch 351/400\n",
            "20/20 [==============================] - 0s 14ms/step - loss: 0.3801 - accuracy: 0.8424 - val_loss: 0.6248 - val_accuracy: 0.7981\n",
            "Epoch 352/400\n",
            "20/20 [==============================] - 0s 15ms/step - loss: 0.3972 - accuracy: 0.8360 - val_loss: 0.6159 - val_accuracy: 0.8029\n",
            "Epoch 353/400\n",
            "20/20 [==============================] - 0s 16ms/step - loss: 0.4127 - accuracy: 0.8376 - val_loss: 0.6223 - val_accuracy: 0.7981\n",
            "Epoch 354/400\n",
            "20/20 [==============================] - 0s 16ms/step - loss: 0.3968 - accuracy: 0.8312 - val_loss: 0.6247 - val_accuracy: 0.8029\n",
            "Epoch 355/400\n",
            "20/20 [==============================] - 0s 15ms/step - loss: 0.3886 - accuracy: 0.8441 - val_loss: 0.6260 - val_accuracy: 0.8029\n",
            "Epoch 356/400\n",
            "20/20 [==============================] - 0s 10ms/step - loss: 0.4010 - accuracy: 0.8328 - val_loss: 0.6310 - val_accuracy: 0.8029\n",
            "Epoch 357/400\n",
            "20/20 [==============================] - 0s 10ms/step - loss: 0.3858 - accuracy: 0.8392 - val_loss: 0.6339 - val_accuracy: 0.7981\n",
            "Epoch 358/400\n",
            "20/20 [==============================] - 0s 12ms/step - loss: 0.4086 - accuracy: 0.8392 - val_loss: 0.6355 - val_accuracy: 0.8029\n",
            "Epoch 359/400\n",
            "20/20 [==============================] - 0s 16ms/step - loss: 0.3766 - accuracy: 0.8408 - val_loss: 0.6371 - val_accuracy: 0.8029\n",
            "Epoch 360/400\n",
            "20/20 [==============================] - 0s 17ms/step - loss: 0.4169 - accuracy: 0.8441 - val_loss: 0.6389 - val_accuracy: 0.8029\n",
            "Epoch 361/400\n",
            "20/20 [==============================] - 0s 14ms/step - loss: 0.4009 - accuracy: 0.8408 - val_loss: 0.6417 - val_accuracy: 0.8029\n",
            "Epoch 362/400\n",
            "20/20 [==============================] - 0s 14ms/step - loss: 0.3883 - accuracy: 0.8360 - val_loss: 0.6397 - val_accuracy: 0.7981\n",
            "Epoch 363/400\n",
            "20/20 [==============================] - 0s 17ms/step - loss: 0.3912 - accuracy: 0.8392 - val_loss: 0.6426 - val_accuracy: 0.8029\n",
            "Epoch 364/400\n",
            "20/20 [==============================] - 0s 16ms/step - loss: 0.3899 - accuracy: 0.8489 - val_loss: 0.6513 - val_accuracy: 0.8029\n",
            "Epoch 365/400\n",
            "20/20 [==============================] - 0s 16ms/step - loss: 0.4060 - accuracy: 0.8376 - val_loss: 0.6509 - val_accuracy: 0.7981\n",
            "Epoch 366/400\n",
            "20/20 [==============================] - 0s 18ms/step - loss: 0.3950 - accuracy: 0.8376 - val_loss: 0.6475 - val_accuracy: 0.7981\n",
            "Epoch 367/400\n",
            "20/20 [==============================] - 0s 16ms/step - loss: 0.3969 - accuracy: 0.8392 - val_loss: 0.6431 - val_accuracy: 0.8029\n",
            "Epoch 368/400\n",
            "20/20 [==============================] - 0s 18ms/step - loss: 0.3789 - accuracy: 0.8424 - val_loss: 0.6500 - val_accuracy: 0.7981\n",
            "Epoch 369/400\n",
            "20/20 [==============================] - 0s 18ms/step - loss: 0.4216 - accuracy: 0.8280 - val_loss: 0.6416 - val_accuracy: 0.7981\n",
            "Epoch 370/400\n",
            "20/20 [==============================] - 0s 18ms/step - loss: 0.3988 - accuracy: 0.8328 - val_loss: 0.6416 - val_accuracy: 0.8029\n",
            "Epoch 371/400\n",
            "20/20 [==============================] - 0s 10ms/step - loss: 0.3955 - accuracy: 0.8457 - val_loss: 0.6413 - val_accuracy: 0.8029\n",
            "Epoch 372/400\n",
            "20/20 [==============================] - 0s 9ms/step - loss: 0.3951 - accuracy: 0.8408 - val_loss: 0.6427 - val_accuracy: 0.8029\n",
            "Epoch 373/400\n",
            "20/20 [==============================] - 0s 12ms/step - loss: 0.4017 - accuracy: 0.8408 - val_loss: 0.6443 - val_accuracy: 0.8077\n",
            "Epoch 374/400\n",
            "20/20 [==============================] - 0s 10ms/step - loss: 0.3918 - accuracy: 0.8408 - val_loss: 0.6433 - val_accuracy: 0.8029\n",
            "Epoch 375/400\n",
            "20/20 [==============================] - 0s 10ms/step - loss: 0.3952 - accuracy: 0.8441 - val_loss: 0.6488 - val_accuracy: 0.8077\n",
            "Epoch 376/400\n",
            "20/20 [==============================] - 0s 10ms/step - loss: 0.3925 - accuracy: 0.8392 - val_loss: 0.6554 - val_accuracy: 0.8077\n",
            "Epoch 377/400\n",
            "20/20 [==============================] - 0s 10ms/step - loss: 0.3917 - accuracy: 0.8392 - val_loss: 0.6561 - val_accuracy: 0.8029\n",
            "Epoch 378/400\n",
            "20/20 [==============================] - 0s 11ms/step - loss: 0.3877 - accuracy: 0.8537 - val_loss: 0.6555 - val_accuracy: 0.7981\n",
            "Epoch 379/400\n",
            "20/20 [==============================] - 0s 12ms/step - loss: 0.3946 - accuracy: 0.8441 - val_loss: 0.6509 - val_accuracy: 0.7981\n",
            "Epoch 380/400\n",
            "20/20 [==============================] - 0s 9ms/step - loss: 0.3933 - accuracy: 0.8392 - val_loss: 0.6499 - val_accuracy: 0.8077\n",
            "Epoch 381/400\n",
            "20/20 [==============================] - 0s 10ms/step - loss: 0.3973 - accuracy: 0.8408 - val_loss: 0.6565 - val_accuracy: 0.8029\n",
            "Epoch 382/400\n",
            "20/20 [==============================] - 0s 10ms/step - loss: 0.3909 - accuracy: 0.8312 - val_loss: 0.6551 - val_accuracy: 0.7981\n",
            "Epoch 383/400\n",
            "20/20 [==============================] - 0s 10ms/step - loss: 0.3833 - accuracy: 0.8441 - val_loss: 0.6578 - val_accuracy: 0.7933\n",
            "Epoch 384/400\n",
            "20/20 [==============================] - 0s 10ms/step - loss: 0.3868 - accuracy: 0.8296 - val_loss: 0.6657 - val_accuracy: 0.7981\n",
            "Epoch 385/400\n",
            "20/20 [==============================] - 0s 10ms/step - loss: 0.4021 - accuracy: 0.8376 - val_loss: 0.6590 - val_accuracy: 0.7981\n",
            "Epoch 386/400\n",
            "20/20 [==============================] - 0s 10ms/step - loss: 0.4019 - accuracy: 0.8280 - val_loss: 0.6527 - val_accuracy: 0.7981\n",
            "Epoch 387/400\n",
            "20/20 [==============================] - 0s 10ms/step - loss: 0.4024 - accuracy: 0.8328 - val_loss: 0.6527 - val_accuracy: 0.7981\n",
            "Epoch 388/400\n",
            "20/20 [==============================] - 0s 10ms/step - loss: 0.4009 - accuracy: 0.8489 - val_loss: 0.6415 - val_accuracy: 0.7981\n",
            "Epoch 389/400\n",
            "20/20 [==============================] - 0s 9ms/step - loss: 0.3992 - accuracy: 0.8360 - val_loss: 0.6453 - val_accuracy: 0.8029\n",
            "Epoch 390/400\n",
            "20/20 [==============================] - 0s 10ms/step - loss: 0.3743 - accuracy: 0.8473 - val_loss: 0.6421 - val_accuracy: 0.8125\n",
            "Epoch 391/400\n",
            "20/20 [==============================] - 0s 10ms/step - loss: 0.4001 - accuracy: 0.8457 - val_loss: 0.6448 - val_accuracy: 0.8125\n",
            "Epoch 392/400\n",
            "20/20 [==============================] - 0s 10ms/step - loss: 0.3840 - accuracy: 0.8424 - val_loss: 0.6493 - val_accuracy: 0.8077\n",
            "Epoch 393/400\n",
            "20/20 [==============================] - 0s 10ms/step - loss: 0.3842 - accuracy: 0.8473 - val_loss: 0.6507 - val_accuracy: 0.8029\n",
            "Epoch 394/400\n",
            "20/20 [==============================] - 0s 10ms/step - loss: 0.3781 - accuracy: 0.8408 - val_loss: 0.6636 - val_accuracy: 0.7981\n",
            "Epoch 395/400\n",
            "20/20 [==============================] - 0s 9ms/step - loss: 0.3859 - accuracy: 0.8408 - val_loss: 0.6663 - val_accuracy: 0.7981\n",
            "Epoch 396/400\n",
            "20/20 [==============================] - 0s 10ms/step - loss: 0.3956 - accuracy: 0.8505 - val_loss: 0.6635 - val_accuracy: 0.7981\n",
            "Epoch 397/400\n",
            "20/20 [==============================] - 0s 10ms/step - loss: 0.4020 - accuracy: 0.8424 - val_loss: 0.6567 - val_accuracy: 0.7981\n",
            "Epoch 398/400\n",
            "20/20 [==============================] - 0s 10ms/step - loss: 0.3845 - accuracy: 0.8441 - val_loss: 0.6655 - val_accuracy: 0.8077\n",
            "Epoch 399/400\n",
            "20/20 [==============================] - 0s 10ms/step - loss: 0.4036 - accuracy: 0.8328 - val_loss: 0.6661 - val_accuracy: 0.8077\n",
            "Epoch 400/400\n",
            "20/20 [==============================] - 0s 10ms/step - loss: 0.3964 - accuracy: 0.8376 - val_loss: 0.6683 - val_accuracy: 0.8077\n"
          ]
        }
      ],
      "source": [
        "#from keras.callbacks import EarlyStopping\n",
        "\n",
        "#early_stopping = EarlyStopping(monitor='val_loss', patience=50, min_delta=10**(-6)) ,callbacks=early_stopping\n",
        "history = model.fit(trainX,trainy,epochs = 400,verbose = 1,batch_size=32,validation_data=(testX,testy))"
      ]
    },
    {
      "cell_type": "code",
      "source": [
        "score, acc = model.evaluate(testX, testy,\n",
        "                            batch_size=32,\n",
        "                            verbose=2)\n",
        "print('Test score:', score)\n",
        "print('Test accuracy:', acc)"
      ],
      "metadata": {
        "colab": {
          "base_uri": "https://localhost:8080/"
        },
        "outputId": "fcb86eea-c914-4a8a-ffd2-9bfe44375134",
        "id": "ycedV9m9RHwe"
      },
      "execution_count": 292,
      "outputs": [
        {
          "output_type": "stream",
          "name": "stdout",
          "text": [
            "7/7 - 0s - loss: 0.6683 - accuracy: 0.8077 - 101ms/epoch - 14ms/step\n",
            "Test score: 0.6683028340339661\n",
            "Test accuracy: 0.807692289352417\n"
          ]
        }
      ]
    },
    {
      "cell_type": "code",
      "source": [
        "model.predict(np.array(testX.iloc[8]).reshape(-1,14))"
      ],
      "metadata": {
        "colab": {
          "base_uri": "https://localhost:8080/"
        },
        "outputId": "2321b6b2-d10e-49b2-d0bf-acdb089ed545",
        "id": "BRiQtknsRHwe"
      },
      "execution_count": 293,
      "outputs": [
        {
          "output_type": "stream",
          "name": "stdout",
          "text": [
            "1/1 [==============================] - 0s 138ms/step\n"
          ]
        },
        {
          "output_type": "execute_result",
          "data": {
            "text/plain": [
              "array([[5.4440403e-07]], dtype=float32)"
            ]
          },
          "metadata": {},
          "execution_count": 293
        }
      ]
    },
    {
      "cell_type": "code",
      "source": [
        "testy.iloc[8]#small probability of being 1"
      ],
      "metadata": {
        "colab": {
          "base_uri": "https://localhost:8080/"
        },
        "outputId": "4d1ec059-ac00-4a2f-bca0-7e038ca048b0",
        "id": "wY_YH7XLRHwf"
      },
      "execution_count": 294,
      "outputs": [
        {
          "output_type": "execute_result",
          "data": {
            "text/plain": [
              "severity    0\n",
              "Name: 850, dtype: int64"
            ]
          },
          "metadata": {},
          "execution_count": 294
        }
      ]
    },
    {
      "cell_type": "code",
      "source": [
        "predicted = model.predict(testX)\n",
        "# Apply threshold (e.g., 0.5) to classify as 0 or 1\n",
        "threshold = 0.5\n",
        "binary_predictions = (predicted > threshold).astype(int)\n",
        "print(classification_report(testy,binary_predictions))"
      ],
      "metadata": {
        "colab": {
          "base_uri": "https://localhost:8080/"
        },
        "id": "ahVbLsqPSERE",
        "outputId": "1719f906-2686-4657-a3f9-e93eb8b8400e"
      },
      "execution_count": 297,
      "outputs": [
        {
          "output_type": "stream",
          "name": "stdout",
          "text": [
            "7/7 [==============================] - 0s 4ms/step\n",
            "              precision    recall  f1-score   support\n",
            "\n",
            "           0       0.84      0.78      0.81       107\n",
            "           1       0.78      0.84      0.81       101\n",
            "\n",
            "    accuracy                           0.81       208\n",
            "   macro avg       0.81      0.81      0.81       208\n",
            "weighted avg       0.81      0.81      0.81       208\n",
            "\n"
          ]
        }
      ]
    },
    {
      "cell_type": "code",
      "source": [
        "confusion_matrix(testy,binary_predictions)"
      ],
      "metadata": {
        "colab": {
          "base_uri": "https://localhost:8080/"
        },
        "id": "VB2g_I21SzXB",
        "outputId": "38aba0b0-2d76-4473-da57-4ad6fc1d31c1"
      },
      "execution_count": 298,
      "outputs": [
        {
          "output_type": "execute_result",
          "data": {
            "text/plain": [
              "array([[83, 24],\n",
              "       [16, 85]])"
            ]
          },
          "metadata": {},
          "execution_count": 298
        }
      ]
    },
    {
      "cell_type": "markdown",
      "metadata": {
        "collapsed": true,
        "deletable": true,
        "editable": true,
        "id": "hCQv7tdQLhGd"
      },
      "source": [
        "## Do we have a winner?\n",
        "\n",
        "Which model, and which choice of hyperparameters, performed the best? Feel free to share your results!"
      ]
    },
    {
      "cell_type": "code",
      "execution_count": 308,
      "metadata": {
        "collapsed": true,
        "deletable": true,
        "editable": true,
        "id": "xNqWW3stLhGd",
        "colab": {
          "base_uri": "https://localhost:8080/"
        },
        "outputId": "7c0fdb44-00e0-4aa2-e7c2-d3bc5ff79b9c"
      },
      "outputs": [
        {
          "output_type": "stream",
          "name": "stdout",
          "text": [
            "Fitting 5 folds for each of 8 candidates, totalling 40 fits\n",
            "[CV 1/5] END ..n_neighbors=19, weights=distance;, score=0.736 total time=   0.0s\n",
            "[CV 2/5] END ..n_neighbors=19, weights=distance;, score=0.776 total time=   0.0s\n",
            "[CV 3/5] END ..n_neighbors=19, weights=distance;, score=0.790 total time=   0.0s\n",
            "[CV 4/5] END ..n_neighbors=19, weights=distance;, score=0.766 total time=   0.0s\n",
            "[CV 5/5] END ..n_neighbors=19, weights=distance;, score=0.798 total time=   0.0s\n",
            "[CV 1/5] END ...n_neighbors=19, weights=uniform;, score=0.784 total time=   0.0s\n",
            "[CV 2/5] END ...n_neighbors=19, weights=uniform;, score=0.816 total time=   0.0s\n"
          ]
        },
        {
          "output_type": "stream",
          "name": "stderr",
          "text": [
            "/usr/local/lib/python3.10/dist-packages/sklearn/neighbors/_classification.py:215: DataConversionWarning: A column-vector y was passed when a 1d array was expected. Please change the shape of y to (n_samples,), for example using ravel().\n",
            "  return self._fit(X, y)\n",
            "/usr/local/lib/python3.10/dist-packages/sklearn/neighbors/_classification.py:215: DataConversionWarning: A column-vector y was passed when a 1d array was expected. Please change the shape of y to (n_samples,), for example using ravel().\n",
            "  return self._fit(X, y)\n",
            "/usr/local/lib/python3.10/dist-packages/sklearn/neighbors/_classification.py:215: DataConversionWarning: A column-vector y was passed when a 1d array was expected. Please change the shape of y to (n_samples,), for example using ravel().\n",
            "  return self._fit(X, y)\n",
            "/usr/local/lib/python3.10/dist-packages/sklearn/neighbors/_classification.py:215: DataConversionWarning: A column-vector y was passed when a 1d array was expected. Please change the shape of y to (n_samples,), for example using ravel().\n",
            "  return self._fit(X, y)\n",
            "/usr/local/lib/python3.10/dist-packages/sklearn/neighbors/_classification.py:215: DataConversionWarning: A column-vector y was passed when a 1d array was expected. Please change the shape of y to (n_samples,), for example using ravel().\n",
            "  return self._fit(X, y)\n",
            "/usr/local/lib/python3.10/dist-packages/sklearn/neighbors/_classification.py:215: DataConversionWarning: A column-vector y was passed when a 1d array was expected. Please change the shape of y to (n_samples,), for example using ravel().\n",
            "  return self._fit(X, y)\n",
            "/usr/local/lib/python3.10/dist-packages/sklearn/neighbors/_classification.py:215: DataConversionWarning: A column-vector y was passed when a 1d array was expected. Please change the shape of y to (n_samples,), for example using ravel().\n",
            "  return self._fit(X, y)\n",
            "/usr/local/lib/python3.10/dist-packages/sklearn/neighbors/_classification.py:215: DataConversionWarning: A column-vector y was passed when a 1d array was expected. Please change the shape of y to (n_samples,), for example using ravel().\n",
            "  return self._fit(X, y)\n"
          ]
        },
        {
          "output_type": "stream",
          "name": "stdout",
          "text": [
            "[CV 3/5] END ...n_neighbors=19, weights=uniform;, score=0.782 total time=   0.1s\n",
            "[CV 4/5] END ...n_neighbors=19, weights=uniform;, score=0.758 total time=   0.1s\n",
            "[CV 5/5] END ...n_neighbors=19, weights=uniform;, score=0.855 total time=   0.1s\n",
            "[CV 1/5] END ..n_neighbors=55, weights=distance;, score=0.736 total time=   0.1s\n"
          ]
        },
        {
          "output_type": "stream",
          "name": "stderr",
          "text": [
            "/usr/local/lib/python3.10/dist-packages/sklearn/neighbors/_classification.py:215: DataConversionWarning: A column-vector y was passed when a 1d array was expected. Please change the shape of y to (n_samples,), for example using ravel().\n",
            "  return self._fit(X, y)\n",
            "/usr/local/lib/python3.10/dist-packages/sklearn/neighbors/_classification.py:215: DataConversionWarning: A column-vector y was passed when a 1d array was expected. Please change the shape of y to (n_samples,), for example using ravel().\n",
            "  return self._fit(X, y)\n",
            "/usr/local/lib/python3.10/dist-packages/sklearn/neighbors/_classification.py:215: DataConversionWarning: A column-vector y was passed when a 1d array was expected. Please change the shape of y to (n_samples,), for example using ravel().\n",
            "  return self._fit(X, y)\n",
            "/usr/local/lib/python3.10/dist-packages/sklearn/neighbors/_classification.py:215: DataConversionWarning: A column-vector y was passed when a 1d array was expected. Please change the shape of y to (n_samples,), for example using ravel().\n",
            "  return self._fit(X, y)\n",
            "/usr/local/lib/python3.10/dist-packages/sklearn/neighbors/_classification.py:215: DataConversionWarning: A column-vector y was passed when a 1d array was expected. Please change the shape of y to (n_samples,), for example using ravel().\n",
            "  return self._fit(X, y)\n"
          ]
        },
        {
          "output_type": "stream",
          "name": "stdout",
          "text": [
            "[CV 2/5] END ..n_neighbors=55, weights=distance;, score=0.760 total time=   0.0s\n",
            "[CV 3/5] END ..n_neighbors=55, weights=distance;, score=0.815 total time=   0.0s\n",
            "[CV 4/5] END ..n_neighbors=55, weights=distance;, score=0.766 total time=   0.1s\n",
            "[CV 5/5] END ..n_neighbors=55, weights=distance;, score=0.806 total time=   0.0s\n",
            "[CV 1/5] END ...n_neighbors=55, weights=uniform;, score=0.792 total time=   0.0s\n"
          ]
        },
        {
          "output_type": "stream",
          "name": "stderr",
          "text": [
            "/usr/local/lib/python3.10/dist-packages/sklearn/neighbors/_classification.py:215: DataConversionWarning: A column-vector y was passed when a 1d array was expected. Please change the shape of y to (n_samples,), for example using ravel().\n",
            "  return self._fit(X, y)\n",
            "/usr/local/lib/python3.10/dist-packages/sklearn/neighbors/_classification.py:215: DataConversionWarning: A column-vector y was passed when a 1d array was expected. Please change the shape of y to (n_samples,), for example using ravel().\n",
            "  return self._fit(X, y)\n",
            "/usr/local/lib/python3.10/dist-packages/sklearn/neighbors/_classification.py:215: DataConversionWarning: A column-vector y was passed when a 1d array was expected. Please change the shape of y to (n_samples,), for example using ravel().\n",
            "  return self._fit(X, y)\n",
            "/usr/local/lib/python3.10/dist-packages/sklearn/neighbors/_classification.py:215: DataConversionWarning: A column-vector y was passed when a 1d array was expected. Please change the shape of y to (n_samples,), for example using ravel().\n",
            "  return self._fit(X, y)\n",
            "/usr/local/lib/python3.10/dist-packages/sklearn/neighbors/_classification.py:215: DataConversionWarning: A column-vector y was passed when a 1d array was expected. Please change the shape of y to (n_samples,), for example using ravel().\n",
            "  return self._fit(X, y)\n",
            "/usr/local/lib/python3.10/dist-packages/sklearn/neighbors/_classification.py:215: DataConversionWarning: A column-vector y was passed when a 1d array was expected. Please change the shape of y to (n_samples,), for example using ravel().\n",
            "  return self._fit(X, y)\n"
          ]
        },
        {
          "output_type": "stream",
          "name": "stdout",
          "text": [
            "[CV 2/5] END ...n_neighbors=55, weights=uniform;, score=0.808 total time=   0.0s\n",
            "[CV 3/5] END ...n_neighbors=55, weights=uniform;, score=0.815 total time=   0.0s\n",
            "[CV 4/5] END ...n_neighbors=55, weights=uniform;, score=0.750 total time=   0.0s\n",
            "[CV 5/5] END ...n_neighbors=55, weights=uniform;, score=0.855 total time=   0.1s\n"
          ]
        },
        {
          "output_type": "stream",
          "name": "stderr",
          "text": [
            "/usr/local/lib/python3.10/dist-packages/sklearn/neighbors/_classification.py:215: DataConversionWarning: A column-vector y was passed when a 1d array was expected. Please change the shape of y to (n_samples,), for example using ravel().\n",
            "  return self._fit(X, y)\n",
            "/usr/local/lib/python3.10/dist-packages/sklearn/neighbors/_classification.py:215: DataConversionWarning: A column-vector y was passed when a 1d array was expected. Please change the shape of y to (n_samples,), for example using ravel().\n",
            "  return self._fit(X, y)\n",
            "/usr/local/lib/python3.10/dist-packages/sklearn/neighbors/_classification.py:215: DataConversionWarning: A column-vector y was passed when a 1d array was expected. Please change the shape of y to (n_samples,), for example using ravel().\n",
            "  return self._fit(X, y)\n",
            "/usr/local/lib/python3.10/dist-packages/sklearn/neighbors/_classification.py:215: DataConversionWarning: A column-vector y was passed when a 1d array was expected. Please change the shape of y to (n_samples,), for example using ravel().\n",
            "  return self._fit(X, y)\n",
            "/usr/local/lib/python3.10/dist-packages/sklearn/neighbors/_classification.py:215: DataConversionWarning: A column-vector y was passed when a 1d array was expected. Please change the shape of y to (n_samples,), for example using ravel().\n",
            "  return self._fit(X, y)\n"
          ]
        },
        {
          "output_type": "stream",
          "name": "stdout",
          "text": [
            "[CV 1/5] END ...n_neighbors=3, weights=distance;, score=0.760 total time=   0.0s\n",
            "[CV 2/5] END ...n_neighbors=3, weights=distance;, score=0.744 total time=   0.0s\n",
            "[CV 3/5] END ...n_neighbors=3, weights=distance;, score=0.766 total time=   0.0s\n",
            "[CV 4/5] END ...n_neighbors=3, weights=distance;, score=0.782 total time=   0.0s\n",
            "[CV 5/5] END ...n_neighbors=3, weights=distance;, score=0.790 total time=   0.0s\n"
          ]
        },
        {
          "output_type": "stream",
          "name": "stderr",
          "text": [
            "/usr/local/lib/python3.10/dist-packages/sklearn/neighbors/_classification.py:215: DataConversionWarning: A column-vector y was passed when a 1d array was expected. Please change the shape of y to (n_samples,), for example using ravel().\n",
            "  return self._fit(X, y)\n",
            "/usr/local/lib/python3.10/dist-packages/sklearn/neighbors/_classification.py:215: DataConversionWarning: A column-vector y was passed when a 1d array was expected. Please change the shape of y to (n_samples,), for example using ravel().\n",
            "  return self._fit(X, y)\n",
            "/usr/local/lib/python3.10/dist-packages/sklearn/neighbors/_classification.py:215: DataConversionWarning: A column-vector y was passed when a 1d array was expected. Please change the shape of y to (n_samples,), for example using ravel().\n",
            "  return self._fit(X, y)\n"
          ]
        },
        {
          "output_type": "stream",
          "name": "stdout",
          "text": [
            "[CV 1/5] END ....n_neighbors=3, weights=uniform;, score=0.800 total time=   0.1s\n",
            "[CV 2/5] END ....n_neighbors=3, weights=uniform;, score=0.784 total time=   0.1s\n",
            "[CV 3/5] END ....n_neighbors=3, weights=uniform;, score=0.790 total time=   0.1s\n"
          ]
        },
        {
          "output_type": "stream",
          "name": "stderr",
          "text": [
            "/usr/local/lib/python3.10/dist-packages/sklearn/neighbors/_classification.py:215: DataConversionWarning: A column-vector y was passed when a 1d array was expected. Please change the shape of y to (n_samples,), for example using ravel().\n",
            "  return self._fit(X, y)\n",
            "/usr/local/lib/python3.10/dist-packages/sklearn/neighbors/_classification.py:215: DataConversionWarning: A column-vector y was passed when a 1d array was expected. Please change the shape of y to (n_samples,), for example using ravel().\n",
            "  return self._fit(X, y)\n",
            "/usr/local/lib/python3.10/dist-packages/sklearn/neighbors/_classification.py:215: DataConversionWarning: A column-vector y was passed when a 1d array was expected. Please change the shape of y to (n_samples,), for example using ravel().\n",
            "  return self._fit(X, y)\n"
          ]
        },
        {
          "output_type": "stream",
          "name": "stdout",
          "text": [
            "[CV 4/5] END ....n_neighbors=3, weights=uniform;, score=0.758 total time=   0.1s\n",
            "[CV 5/5] END ....n_neighbors=3, weights=uniform;, score=0.815 total time=   0.1s\n",
            "[CV 1/5] END ...n_neighbors=5, weights=distance;, score=0.752 total time=   0.0s\n",
            "[CV 2/5] END ...n_neighbors=5, weights=distance;, score=0.744 total time=   0.0s\n",
            "[CV 3/5] END ...n_neighbors=5, weights=distance;, score=0.790 total time=   0.0s\n"
          ]
        },
        {
          "output_type": "stream",
          "name": "stderr",
          "text": [
            "/usr/local/lib/python3.10/dist-packages/sklearn/neighbors/_classification.py:215: DataConversionWarning: A column-vector y was passed when a 1d array was expected. Please change the shape of y to (n_samples,), for example using ravel().\n",
            "  return self._fit(X, y)\n",
            "/usr/local/lib/python3.10/dist-packages/sklearn/neighbors/_classification.py:215: DataConversionWarning: A column-vector y was passed when a 1d array was expected. Please change the shape of y to (n_samples,), for example using ravel().\n",
            "  return self._fit(X, y)\n",
            "/usr/local/lib/python3.10/dist-packages/sklearn/neighbors/_classification.py:215: DataConversionWarning: A column-vector y was passed when a 1d array was expected. Please change the shape of y to (n_samples,), for example using ravel().\n",
            "  return self._fit(X, y)\n",
            "/usr/local/lib/python3.10/dist-packages/sklearn/neighbors/_classification.py:215: DataConversionWarning: A column-vector y was passed when a 1d array was expected. Please change the shape of y to (n_samples,), for example using ravel().\n",
            "  return self._fit(X, y)\n",
            "/usr/local/lib/python3.10/dist-packages/sklearn/neighbors/_classification.py:215: DataConversionWarning: A column-vector y was passed when a 1d array was expected. Please change the shape of y to (n_samples,), for example using ravel().\n",
            "  return self._fit(X, y)\n"
          ]
        },
        {
          "output_type": "stream",
          "name": "stdout",
          "text": [
            "[CV 4/5] END ...n_neighbors=5, weights=distance;, score=0.782 total time=   0.0s\n",
            "[CV 5/5] END ...n_neighbors=5, weights=distance;, score=0.774 total time=   0.0s\n",
            "[CV 1/5] END ....n_neighbors=5, weights=uniform;, score=0.792 total time=   0.1s\n",
            "[CV 2/5] END ....n_neighbors=5, weights=uniform;, score=0.800 total time=   0.1s\n"
          ]
        },
        {
          "output_type": "stream",
          "name": "stderr",
          "text": [
            "/usr/local/lib/python3.10/dist-packages/sklearn/neighbors/_classification.py:215: DataConversionWarning: A column-vector y was passed when a 1d array was expected. Please change the shape of y to (n_samples,), for example using ravel().\n",
            "  return self._fit(X, y)\n",
            "/usr/local/lib/python3.10/dist-packages/sklearn/neighbors/_classification.py:215: DataConversionWarning: A column-vector y was passed when a 1d array was expected. Please change the shape of y to (n_samples,), for example using ravel().\n",
            "  return self._fit(X, y)\n",
            "/usr/local/lib/python3.10/dist-packages/sklearn/neighbors/_classification.py:215: DataConversionWarning: A column-vector y was passed when a 1d array was expected. Please change the shape of y to (n_samples,), for example using ravel().\n",
            "  return self._fit(X, y)\n"
          ]
        },
        {
          "output_type": "stream",
          "name": "stdout",
          "text": [
            "[CV 3/5] END ....n_neighbors=5, weights=uniform;, score=0.815 total time=   0.1s\n",
            "[CV 4/5] END ....n_neighbors=5, weights=uniform;, score=0.766 total time=   0.1s\n",
            "[CV 5/5] END ....n_neighbors=5, weights=uniform;, score=0.831 total time=   0.1s\n"
          ]
        },
        {
          "output_type": "stream",
          "name": "stderr",
          "text": [
            "/usr/local/lib/python3.10/dist-packages/sklearn/neighbors/_classification.py:215: DataConversionWarning: A column-vector y was passed when a 1d array was expected. Please change the shape of y to (n_samples,), for example using ravel().\n",
            "  return self._fit(X, y)\n",
            "/usr/local/lib/python3.10/dist-packages/sklearn/neighbors/_classification.py:215: DataConversionWarning: A column-vector y was passed when a 1d array was expected. Please change the shape of y to (n_samples,), for example using ravel().\n",
            "  return self._fit(X, y)\n",
            "/usr/local/lib/python3.10/dist-packages/sklearn/neighbors/_classification.py:215: DataConversionWarning: A column-vector y was passed when a 1d array was expected. Please change the shape of y to (n_samples,), for example using ravel().\n",
            "  return self._fit(X, y)\n"
          ]
        }
      ],
      "source": [
        "from sklearn.model_selection import GridSearchCV\n",
        "\n",
        "modelclf = KNeighborsClassifier()\n",
        "# Exemplo dos parâmetros que quero testar.\n",
        "parametros = {'n_neighbors':[19, 55, 3,5],\n",
        "              'weights':[\"distance\", \"uniform\"]}\n",
        "\n",
        "grid_search = GridSearchCV(estimator = modelclf,param_grid = parametros,verbose=3)\n",
        "grid_search.fit(trainX,trainy)\n",
        "melhores_parametros = grid_search.best_params_\n",
        "melhor_resultado = grid_search.best_score_\n"
      ]
    },
    {
      "cell_type": "code",
      "source": [
        "print(melhores_parametros)\n",
        "print(melhor_resultado)"
      ],
      "metadata": {
        "colab": {
          "base_uri": "https://localhost:8080/"
        },
        "id": "4IKC2XcuUVs0",
        "outputId": "77d39716-564d-4c8b-f479-35b81ff999b8"
      },
      "execution_count": 309,
      "outputs": [
        {
          "output_type": "stream",
          "name": "stdout",
          "text": [
            "{'n_neighbors': 55, 'weights': 'uniform'}\n",
            "0.8038709677419356\n"
          ]
        }
      ]
    },
    {
      "cell_type": "code",
      "source": [
        "best_model = grid_search.best_estimator_\n",
        "y_pred = best_model.predict(testX)\n",
        "\n",
        "# Evaluate accuracy on validation set\n",
        "accuracy = accuracy_score(testy, y_pred)\n",
        "print(\"Validation Accuracy: %.2f%%\" % (accuracy * 100))"
      ],
      "metadata": {
        "colab": {
          "base_uri": "https://localhost:8080/"
        },
        "id": "KOFBIMwfVDXD",
        "outputId": "dc8190fa-1189-454d-8610-e1876af781f4"
      },
      "execution_count": 310,
      "outputs": [
        {
          "output_type": "stream",
          "name": "stdout",
          "text": [
            "Validation Accuracy: 78.85%\n"
          ]
        }
      ]
    },
    {
      "cell_type": "code",
      "source": [
        "confusion_matrix(testy, y_pred)"
      ],
      "metadata": {
        "colab": {
          "base_uri": "https://localhost:8080/"
        },
        "id": "ccXJRI5BVRr4",
        "outputId": "51c7db52-e663-4fcf-85cb-ee83b5746e59"
      },
      "execution_count": 311,
      "outputs": [
        {
          "output_type": "execute_result",
          "data": {
            "text/plain": [
              "array([[80, 27],\n",
              "       [17, 84]])"
            ]
          },
          "metadata": {},
          "execution_count": 311
        }
      ]
    },
    {
      "cell_type": "code",
      "source": [
        "print(classification_report(testy, y_pred))"
      ],
      "metadata": {
        "colab": {
          "base_uri": "https://localhost:8080/"
        },
        "id": "HxlPIJtHVVpR",
        "outputId": "03f5200d-f0db-49ec-9e0e-a669fb9d4534"
      },
      "execution_count": 312,
      "outputs": [
        {
          "output_type": "stream",
          "name": "stdout",
          "text": [
            "              precision    recall  f1-score   support\n",
            "\n",
            "           0       0.82      0.75      0.78       107\n",
            "           1       0.76      0.83      0.79       101\n",
            "\n",
            "    accuracy                           0.79       208\n",
            "   macro avg       0.79      0.79      0.79       208\n",
            "weighted avg       0.79      0.79      0.79       208\n",
            "\n"
          ]
        }
      ]
    }
  ],
  "metadata": {
    "kernelspec": {
      "display_name": "Python 3",
      "language": "python",
      "name": "python3"
    },
    "language_info": {
      "codemirror_mode": {
        "name": "ipython",
        "version": 3
      },
      "file_extension": ".py",
      "mimetype": "text/x-python",
      "name": "python",
      "nbconvert_exporter": "python",
      "pygments_lexer": "ipython3",
      "version": "3.5.2"
    },
    "colab": {
      "provenance": [],
      "include_colab_link": true
    }
  },
  "nbformat": 4,
  "nbformat_minor": 0
}