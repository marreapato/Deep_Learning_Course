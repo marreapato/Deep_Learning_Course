{
  "nbformat": 4,
  "nbformat_minor": 0,
  "metadata": {
    "colab": {
      "provenance": [],
      "authorship_tag": "ABX9TyPeXZdBsBaMg5UzQ+SfhSKd",
      "include_colab_link": true
    },
    "kernelspec": {
      "name": "python3",
      "display_name": "Python 3"
    },
    "language_info": {
      "name": "python"
    }
  },
  "cells": [
    {
      "cell_type": "markdown",
      "metadata": {
        "id": "view-in-github",
        "colab_type": "text"
      },
      "source": [
        "<a href=\"https://colab.research.google.com/github/marreapato/Deep_Learning_Course/blob/main/Baseline_Projeto.ipynb\" target=\"_parent\"><img src=\"https://colab.research.google.com/assets/colab-badge.svg\" alt=\"Open In Colab\"/></a>"
      ]
    },
    {
      "cell_type": "code",
      "execution_count": 187,
      "metadata": {
        "colab": {
          "base_uri": "https://localhost:8080/",
          "height": 318
        },
        "id": "5k_dK6Dgqurv",
        "outputId": "a94f9744-5873-472d-c152-b6f9bc061fc2"
      },
      "outputs": [
        {
          "output_type": "stream",
          "name": "stdout",
          "text": [
            "\r[*********************100%%**********************]  1 of 1 completed\n"
          ]
        },
        {
          "output_type": "execute_result",
          "data": {
            "text/plain": [
              "               Open     High      Low    Close  Adj Close     Volume\n",
              "Date                                                                \n",
              "2007-01-02  44476.0  45388.0  44476.0  45383.0    45383.0   75560200\n",
              "2007-01-03  45379.0  45379.0  44284.0  44445.0    44445.0  122372800\n",
              "2007-01-04  44442.0  44442.0  43623.0  44020.0    44020.0   86577000\n",
              "2007-01-05  44019.0  44081.0  42160.0  42245.0    42245.0  164055000\n",
              "2007-01-08  42249.0  42926.0  42144.0  42830.0    42830.0  114007100\n",
              "2007-01-09  42831.0  43001.0  41438.0  42007.0    42007.0  112991900\n",
              "2007-01-10  42001.0  42336.0  41266.0  42336.0    42336.0  110755900"
            ],
            "text/html": [
              "\n",
              "  <div id=\"df-686d3fce-057f-481a-9aa3-df869ae5047b\" class=\"colab-df-container\">\n",
              "    <div>\n",
              "<style scoped>\n",
              "    .dataframe tbody tr th:only-of-type {\n",
              "        vertical-align: middle;\n",
              "    }\n",
              "\n",
              "    .dataframe tbody tr th {\n",
              "        vertical-align: top;\n",
              "    }\n",
              "\n",
              "    .dataframe thead th {\n",
              "        text-align: right;\n",
              "    }\n",
              "</style>\n",
              "<table border=\"1\" class=\"dataframe\">\n",
              "  <thead>\n",
              "    <tr style=\"text-align: right;\">\n",
              "      <th></th>\n",
              "      <th>Open</th>\n",
              "      <th>High</th>\n",
              "      <th>Low</th>\n",
              "      <th>Close</th>\n",
              "      <th>Adj Close</th>\n",
              "      <th>Volume</th>\n",
              "    </tr>\n",
              "    <tr>\n",
              "      <th>Date</th>\n",
              "      <th></th>\n",
              "      <th></th>\n",
              "      <th></th>\n",
              "      <th></th>\n",
              "      <th></th>\n",
              "      <th></th>\n",
              "    </tr>\n",
              "  </thead>\n",
              "  <tbody>\n",
              "    <tr>\n",
              "      <th>2007-01-02</th>\n",
              "      <td>44476.0</td>\n",
              "      <td>45388.0</td>\n",
              "      <td>44476.0</td>\n",
              "      <td>45383.0</td>\n",
              "      <td>45383.0</td>\n",
              "      <td>75560200</td>\n",
              "    </tr>\n",
              "    <tr>\n",
              "      <th>2007-01-03</th>\n",
              "      <td>45379.0</td>\n",
              "      <td>45379.0</td>\n",
              "      <td>44284.0</td>\n",
              "      <td>44445.0</td>\n",
              "      <td>44445.0</td>\n",
              "      <td>122372800</td>\n",
              "    </tr>\n",
              "    <tr>\n",
              "      <th>2007-01-04</th>\n",
              "      <td>44442.0</td>\n",
              "      <td>44442.0</td>\n",
              "      <td>43623.0</td>\n",
              "      <td>44020.0</td>\n",
              "      <td>44020.0</td>\n",
              "      <td>86577000</td>\n",
              "    </tr>\n",
              "    <tr>\n",
              "      <th>2007-01-05</th>\n",
              "      <td>44019.0</td>\n",
              "      <td>44081.0</td>\n",
              "      <td>42160.0</td>\n",
              "      <td>42245.0</td>\n",
              "      <td>42245.0</td>\n",
              "      <td>164055000</td>\n",
              "    </tr>\n",
              "    <tr>\n",
              "      <th>2007-01-08</th>\n",
              "      <td>42249.0</td>\n",
              "      <td>42926.0</td>\n",
              "      <td>42144.0</td>\n",
              "      <td>42830.0</td>\n",
              "      <td>42830.0</td>\n",
              "      <td>114007100</td>\n",
              "    </tr>\n",
              "    <tr>\n",
              "      <th>2007-01-09</th>\n",
              "      <td>42831.0</td>\n",
              "      <td>43001.0</td>\n",
              "      <td>41438.0</td>\n",
              "      <td>42007.0</td>\n",
              "      <td>42007.0</td>\n",
              "      <td>112991900</td>\n",
              "    </tr>\n",
              "    <tr>\n",
              "      <th>2007-01-10</th>\n",
              "      <td>42001.0</td>\n",
              "      <td>42336.0</td>\n",
              "      <td>41266.0</td>\n",
              "      <td>42336.0</td>\n",
              "      <td>42336.0</td>\n",
              "      <td>110755900</td>\n",
              "    </tr>\n",
              "  </tbody>\n",
              "</table>\n",
              "</div>\n",
              "    <div class=\"colab-df-buttons\">\n",
              "\n",
              "  <div class=\"colab-df-container\">\n",
              "    <button class=\"colab-df-convert\" onclick=\"convertToInteractive('df-686d3fce-057f-481a-9aa3-df869ae5047b')\"\n",
              "            title=\"Convert this dataframe to an interactive table.\"\n",
              "            style=\"display:none;\">\n",
              "\n",
              "  <svg xmlns=\"http://www.w3.org/2000/svg\" height=\"24px\" viewBox=\"0 -960 960 960\">\n",
              "    <path d=\"M120-120v-720h720v720H120Zm60-500h600v-160H180v160Zm220 220h160v-160H400v160Zm0 220h160v-160H400v160ZM180-400h160v-160H180v160Zm440 0h160v-160H620v160ZM180-180h160v-160H180v160Zm440 0h160v-160H620v160Z\"/>\n",
              "  </svg>\n",
              "    </button>\n",
              "\n",
              "  <style>\n",
              "    .colab-df-container {\n",
              "      display:flex;\n",
              "      gap: 12px;\n",
              "    }\n",
              "\n",
              "    .colab-df-convert {\n",
              "      background-color: #E8F0FE;\n",
              "      border: none;\n",
              "      border-radius: 50%;\n",
              "      cursor: pointer;\n",
              "      display: none;\n",
              "      fill: #1967D2;\n",
              "      height: 32px;\n",
              "      padding: 0 0 0 0;\n",
              "      width: 32px;\n",
              "    }\n",
              "\n",
              "    .colab-df-convert:hover {\n",
              "      background-color: #E2EBFA;\n",
              "      box-shadow: 0px 1px 2px rgba(60, 64, 67, 0.3), 0px 1px 3px 1px rgba(60, 64, 67, 0.15);\n",
              "      fill: #174EA6;\n",
              "    }\n",
              "\n",
              "    .colab-df-buttons div {\n",
              "      margin-bottom: 4px;\n",
              "    }\n",
              "\n",
              "    [theme=dark] .colab-df-convert {\n",
              "      background-color: #3B4455;\n",
              "      fill: #D2E3FC;\n",
              "    }\n",
              "\n",
              "    [theme=dark] .colab-df-convert:hover {\n",
              "      background-color: #434B5C;\n",
              "      box-shadow: 0px 1px 3px 1px rgba(0, 0, 0, 0.15);\n",
              "      filter: drop-shadow(0px 1px 2px rgba(0, 0, 0, 0.3));\n",
              "      fill: #FFFFFF;\n",
              "    }\n",
              "  </style>\n",
              "\n",
              "    <script>\n",
              "      const buttonEl =\n",
              "        document.querySelector('#df-686d3fce-057f-481a-9aa3-df869ae5047b button.colab-df-convert');\n",
              "      buttonEl.style.display =\n",
              "        google.colab.kernel.accessAllowed ? 'block' : 'none';\n",
              "\n",
              "      async function convertToInteractive(key) {\n",
              "        const element = document.querySelector('#df-686d3fce-057f-481a-9aa3-df869ae5047b');\n",
              "        const dataTable =\n",
              "          await google.colab.kernel.invokeFunction('convertToInteractive',\n",
              "                                                    [key], {});\n",
              "        if (!dataTable) return;\n",
              "\n",
              "        const docLinkHtml = 'Like what you see? Visit the ' +\n",
              "          '<a target=\"_blank\" href=https://colab.research.google.com/notebooks/data_table.ipynb>data table notebook</a>'\n",
              "          + ' to learn more about interactive tables.';\n",
              "        element.innerHTML = '';\n",
              "        dataTable['output_type'] = 'display_data';\n",
              "        await google.colab.output.renderOutput(dataTable, element);\n",
              "        const docLink = document.createElement('div');\n",
              "        docLink.innerHTML = docLinkHtml;\n",
              "        element.appendChild(docLink);\n",
              "      }\n",
              "    </script>\n",
              "  </div>\n",
              "\n",
              "\n",
              "<div id=\"df-17d9f5aa-7e0f-453e-ad2e-8e9fd5614b97\">\n",
              "  <button class=\"colab-df-quickchart\" onclick=\"quickchart('df-17d9f5aa-7e0f-453e-ad2e-8e9fd5614b97')\"\n",
              "            title=\"Suggest charts.\"\n",
              "            style=\"display:none;\">\n",
              "\n",
              "<svg xmlns=\"http://www.w3.org/2000/svg\" height=\"24px\"viewBox=\"0 0 24 24\"\n",
              "     width=\"24px\">\n",
              "    <g>\n",
              "        <path d=\"M19 3H5c-1.1 0-2 .9-2 2v14c0 1.1.9 2 2 2h14c1.1 0 2-.9 2-2V5c0-1.1-.9-2-2-2zM9 17H7v-7h2v7zm4 0h-2V7h2v10zm4 0h-2v-4h2v4z\"/>\n",
              "    </g>\n",
              "</svg>\n",
              "  </button>\n",
              "\n",
              "<style>\n",
              "  .colab-df-quickchart {\n",
              "      --bg-color: #E8F0FE;\n",
              "      --fill-color: #1967D2;\n",
              "      --hover-bg-color: #E2EBFA;\n",
              "      --hover-fill-color: #174EA6;\n",
              "      --disabled-fill-color: #AAA;\n",
              "      --disabled-bg-color: #DDD;\n",
              "  }\n",
              "\n",
              "  [theme=dark] .colab-df-quickchart {\n",
              "      --bg-color: #3B4455;\n",
              "      --fill-color: #D2E3FC;\n",
              "      --hover-bg-color: #434B5C;\n",
              "      --hover-fill-color: #FFFFFF;\n",
              "      --disabled-bg-color: #3B4455;\n",
              "      --disabled-fill-color: #666;\n",
              "  }\n",
              "\n",
              "  .colab-df-quickchart {\n",
              "    background-color: var(--bg-color);\n",
              "    border: none;\n",
              "    border-radius: 50%;\n",
              "    cursor: pointer;\n",
              "    display: none;\n",
              "    fill: var(--fill-color);\n",
              "    height: 32px;\n",
              "    padding: 0;\n",
              "    width: 32px;\n",
              "  }\n",
              "\n",
              "  .colab-df-quickchart:hover {\n",
              "    background-color: var(--hover-bg-color);\n",
              "    box-shadow: 0 1px 2px rgba(60, 64, 67, 0.3), 0 1px 3px 1px rgba(60, 64, 67, 0.15);\n",
              "    fill: var(--button-hover-fill-color);\n",
              "  }\n",
              "\n",
              "  .colab-df-quickchart-complete:disabled,\n",
              "  .colab-df-quickchart-complete:disabled:hover {\n",
              "    background-color: var(--disabled-bg-color);\n",
              "    fill: var(--disabled-fill-color);\n",
              "    box-shadow: none;\n",
              "  }\n",
              "\n",
              "  .colab-df-spinner {\n",
              "    border: 2px solid var(--fill-color);\n",
              "    border-color: transparent;\n",
              "    border-bottom-color: var(--fill-color);\n",
              "    animation:\n",
              "      spin 1s steps(1) infinite;\n",
              "  }\n",
              "\n",
              "  @keyframes spin {\n",
              "    0% {\n",
              "      border-color: transparent;\n",
              "      border-bottom-color: var(--fill-color);\n",
              "      border-left-color: var(--fill-color);\n",
              "    }\n",
              "    20% {\n",
              "      border-color: transparent;\n",
              "      border-left-color: var(--fill-color);\n",
              "      border-top-color: var(--fill-color);\n",
              "    }\n",
              "    30% {\n",
              "      border-color: transparent;\n",
              "      border-left-color: var(--fill-color);\n",
              "      border-top-color: var(--fill-color);\n",
              "      border-right-color: var(--fill-color);\n",
              "    }\n",
              "    40% {\n",
              "      border-color: transparent;\n",
              "      border-right-color: var(--fill-color);\n",
              "      border-top-color: var(--fill-color);\n",
              "    }\n",
              "    60% {\n",
              "      border-color: transparent;\n",
              "      border-right-color: var(--fill-color);\n",
              "    }\n",
              "    80% {\n",
              "      border-color: transparent;\n",
              "      border-right-color: var(--fill-color);\n",
              "      border-bottom-color: var(--fill-color);\n",
              "    }\n",
              "    90% {\n",
              "      border-color: transparent;\n",
              "      border-bottom-color: var(--fill-color);\n",
              "    }\n",
              "  }\n",
              "</style>\n",
              "\n",
              "  <script>\n",
              "    async function quickchart(key) {\n",
              "      const quickchartButtonEl =\n",
              "        document.querySelector('#' + key + ' button');\n",
              "      quickchartButtonEl.disabled = true;  // To prevent multiple clicks.\n",
              "      quickchartButtonEl.classList.add('colab-df-spinner');\n",
              "      try {\n",
              "        const charts = await google.colab.kernel.invokeFunction(\n",
              "            'suggestCharts', [key], {});\n",
              "      } catch (error) {\n",
              "        console.error('Error during call to suggestCharts:', error);\n",
              "      }\n",
              "      quickchartButtonEl.classList.remove('colab-df-spinner');\n",
              "      quickchartButtonEl.classList.add('colab-df-quickchart-complete');\n",
              "    }\n",
              "    (() => {\n",
              "      let quickchartButtonEl =\n",
              "        document.querySelector('#df-17d9f5aa-7e0f-453e-ad2e-8e9fd5614b97 button');\n",
              "      quickchartButtonEl.style.display =\n",
              "        google.colab.kernel.accessAllowed ? 'block' : 'none';\n",
              "    })();\n",
              "  </script>\n",
              "</div>\n",
              "    </div>\n",
              "  </div>\n"
            ]
          },
          "metadata": {},
          "execution_count": 187
        }
      ],
      "source": [
        "#Import the yfinance. If you get module not found error the run !pip\n",
        "#install yfinance from your Jupyter notebook\n",
        "import yfinance as yf\n",
        "from numpy.random import seed\n",
        "import tensorflow as tf\n",
        "import math\n",
        "import numpy as np\n",
        "import pandas as pd\n",
        "from sklearn.preprocessing import MinMaxScaler\n",
        "from keras.models import Sequential\n",
        "from keras.layers import Dense, LSTM, Dropout, GRU\n",
        "from numpy import genfromtxt\n",
        "from pandas_datareader import data as pdr\n",
        "import matplotlib.cm as cm\n",
        "import matplotlib.pyplot as plt\n",
        "from sklearn.metrics import mean_squared_error\n",
        "from scipy.stats import mannwhitneyu\n",
        "# Get the data for the stock AAPL\n",
        "data = yf.download('^BVSP','2007-01-01','2023-10-17')\n",
        "\n",
        "data.head(7)\n"
      ]
    },
    {
      "cell_type": "code",
      "source": [
        "def GRU_Model(output_window):\n",
        "  model = Sequential()\n",
        "  model.add(GRU(128, return_sequences=False, input_shape=(X.shape[1],1)))\n",
        "  model.add(Dense(output_window))\n",
        "  model.compile(optimizer='adam', loss='mean_squared_error')\n",
        "  model.summary()\n",
        "  return model"
      ],
      "metadata": {
        "id": "BLYj0SZc9IYp"
      },
      "execution_count": 8,
      "outputs": []
    },
    {
      "cell_type": "code",
      "source": [
        "def LSTM_Model(output_window):\n",
        "  model = Sequential()\n",
        "  model.add(LSTM(128, return_sequences=False, input_shape=(X.shape[1],1)))\n",
        "  model.add(Dense(output_window))\n",
        "  model.compile(optimizer='adam', loss='mean_squared_error')\n",
        "  model.summary()\n",
        "  return model"
      ],
      "metadata": {
        "id": "Mu7jixIL9P_m"
      },
      "execution_count": 9,
      "outputs": []
    },
    {
      "cell_type": "code",
      "source": [
        "#Based on: Computer Science: Stock Price Prediction Using Python & Machine Learning. https://www.youtube.com/watch?v=QIUxPv5PJOY (2019), accessed 25 January,\n",
        "#2022\n",
        "def data_preparation(w, scaled_data, N, f):\n",
        "  X=[]\n",
        "  window = w + f\n",
        "  Q = len(scaled_data)\n",
        "  for i in range(Q-window+1):\n",
        "    X.append(scaled_data[i:i+window, 0])\n",
        "\n",
        "  X = np.array(X)\n",
        "  X = np.reshape(X, (X.shape[0],X.shape[1],1))\n",
        "\n",
        "  trainX, trainY = X[0:N,0:w], X[0:N,w:w+f]\n",
        "  testX, testY = X[N:Q-w,0:w], X[N:Q-w,w:w+f]\n",
        "  X = trainX\n",
        "  return trainX, trainY, testX, testY, X"
      ],
      "metadata": {
        "id": "CJIh7rcn9VZm"
      },
      "execution_count": 10,
      "outputs": []
    },
    {
      "cell_type": "code",
      "source": [
        "#Repeats the last known value f times\n",
        "def baselinef(U,f):\n",
        "  last = U.shape[0]\n",
        "  yhat = np.zeros((last, f))\n",
        "  for j in range(0,last):\n",
        "    yhat[j,0:f] = np.repeat(U[j,U.shape[1]-1], f)\n",
        "  return yhat"
      ],
      "metadata": {
        "id": "Q46BJfiZ9YDv"
      },
      "execution_count": 11,
      "outputs": []
    },
    {
      "cell_type": "code",
      "source": [
        "#Directional accuracy\n",
        "#From https://gist.github.com/bshishov/5dc237f59f019b26145648e2124ca1c9\n",
        "def mda(actual: np.ndarray, predicted: np.ndarray):\n",
        "  return np.mean((np.sign(actual[1:] - actual[:-1]) == np.sign(predicted[1:] - predicted[:-1])).astype(int))"
      ],
      "metadata": {
        "id": "PjbryHHm9c3O"
      },
      "execution_count": 12,
      "outputs": []
    },
    {
      "cell_type": "code",
      "source": [
        "#Normalize data between 0 and 1\n",
        "def scaleit(DATAX):\n",
        "  mima = np.zeros((DATAX.shape[0], 2)) #To save min and max values\n",
        "  for i in range(DATAX.shape[0]):\n",
        "    mima[i,0],mima[i,1] = DATAX[i,:].min(), DATAX[i,:].max()\n",
        "    DATAX[i,:] = (DATAX[i,:]-DATAX[i,:].min())/(DATAX[i,:].max()-DATAX[i,:].min())\n",
        "  return DATAX, mima"
      ],
      "metadata": {
        "id": "KWMxA7Za9gyh"
      },
      "execution_count": 13,
      "outputs": []
    },
    {
      "cell_type": "code",
      "source": [
        "#Rescale to original values\n",
        "def rescaleit(y,mima,i):\n",
        "  yt = (y*(mima[i,1]-mima[i,0]))+mima[i,0]\n",
        "  return yt"
      ],
      "metadata": {
        "id": "spxg158l9j1N"
      },
      "execution_count": 14,
      "outputs": []
    },
    {
      "cell_type": "code",
      "source": [
        "# Define a function to plot multiple series\n",
        "def plot_series(stock_data):\n",
        "    # Create a new figure\n",
        "    plt.figure(figsize=(12, 6))\n",
        "\n",
        "    # Plot 'Adj Close' price in blue\n",
        "    plt.plot(stock_data['Adj Close'], label='Adj Close', color='blue')\n",
        "\n",
        "    # Plot 'Adj Close' price in blue\n",
        "    plt.plot(stock_data['Open'], label='Open', color='orange')\n",
        "\n",
        "    # Plot 'High' price in green\n",
        "    plt.plot(stock_data['High'], label='High', color='green')\n",
        "\n",
        "    # Plot 'Low' price in red\n",
        "    plt.plot(stock_data['Low'], label='Low', color='red')\n",
        "\n",
        "    # Plot 'Close' price in purple\n",
        "    plt.plot(stock_data['Close'], label='Close', color='purple')\n",
        "\n",
        "    # Add labels and title\n",
        "    plt.xlabel('Date')\n",
        "    plt.ylabel('Price')\n",
        "    plt.title('Stock Price Series')\n",
        "    plt.legend()\n",
        "\n",
        "    # Show the plot\n",
        "    plt.show()"
      ],
      "metadata": {
        "id": "Qe3LXrT49nM2"
      },
      "execution_count": 47,
      "outputs": []
    },
    {
      "cell_type": "code",
      "source": [
        "#Statistical tests\n",
        "def statisticaltests(s):\n",
        "  print('LSTM and Baseline (RMSE)')\n",
        "  U1, p = mannwhitneyu(s[:,0],s[:,2], alternative = 'two-sided')\n",
        "  print('U='+ str(U1) + '. p = ' + str(p))\n",
        "  print('GRU and Baseline (RMSE)')\n",
        "  U1, p = mannwhitneyu(s[:,1],s[:,2], alternative = 'two-sided')\n",
        "  print('U='+ str(U1) + '. p = ' + str(p))\n",
        "  print('LSTM and GRU (RMSE)')\n",
        "  U1, p = mannwhitneyu(s[:,0],s[:,1], alternative = 'two-sided')\n",
        "  print('U='+ str(U1) + '. p = ' + str(p))\n",
        "  print('LSTM and Baseline (DA)')\n",
        "  U1, p = mannwhitneyu(s[:,0+3],s[:,2+3], alternative = 'two-sided')\n",
        "  print('U='+ str(U1) + '. p = ' + str(p))\n",
        "  print('GRU and Baseline (DA)')\n",
        "  U1, p = mannwhitneyu(s[:,1+3],s[:,2+3], alternative = 'two-sided')\n",
        "  print('U='+ str(U1) + '. p = ' + str(p))\n",
        "  print('LSTM and GRU (DA)')\n",
        "  U1, p = mannwhitneyu(s[:,0+3],s[:,1+3], alternative = 'two-sided')\n",
        "  print('U='+ str(U1) + '. p = ' + str(p))"
      ],
      "metadata": {
        "id": "s3cNZRrF9rDf"
      },
      "execution_count": 16,
      "outputs": []
    },
    {
      "cell_type": "code",
      "source": [
        "#Based on https://stackoverflow.com/questions/12236566/setting-different-color-for-each-series-in-scatter-plot-on-matplotlib\n",
        "#This code is to plot series of different colors\n",
        "def plot_series_np(X):\n",
        "  x = np.arange(1)\n",
        "  ys = [i+x+(i*x)**2 for i in range(1)]\n",
        "  colors = cm.rainbow(np.linspace(0, 1, len(ys)))\n",
        "  for i in range(1):\n",
        "    plt.plot(X[i], label='%s ' % (i+1), color=colors[i,:])\n",
        "    plt.legend(bbox_to_anchor=(1.04,0.5), loc=\"center left\", borderaxespad=0)\n",
        "  plt.xlabel(\"Days\")\n",
        "  plt.ylabel(\"Closing Price\")"
      ],
      "metadata": {
        "id": "GG4mrXpyGeDQ"
      },
      "execution_count": 67,
      "outputs": []
    },
    {
      "cell_type": "code",
      "source": [
        "data.replace(np.nan, 0.0, inplace=True)\n",
        "data.isnull().values.any()#check if nan are still there\n"
      ],
      "metadata": {
        "colab": {
          "base_uri": "https://localhost:8080/"
        },
        "id": "GetD5yac-tEd",
        "outputId": "0fd4f18b-5b59-47b0-9736-3a90819ee519"
      },
      "execution_count": 87,
      "outputs": [
        {
          "output_type": "execute_result",
          "data": {
            "text/plain": [
              "False"
            ]
          },
          "metadata": {},
          "execution_count": 87
        }
      ]
    },
    {
      "cell_type": "code",
      "source": [
        "data['Close']"
      ],
      "metadata": {
        "colab": {
          "base_uri": "https://localhost:8080/"
        },
        "id": "zMLNitvPAM1i",
        "outputId": "e55cf3df-5c74-41cd-bb0a-77c4506a798e"
      },
      "execution_count": 88,
      "outputs": [
        {
          "output_type": "execute_result",
          "data": {
            "text/plain": [
              "Date\n",
              "2007-01-02     45383.0\n",
              "2007-01-03     44445.0\n",
              "2007-01-04     44020.0\n",
              "2007-01-05     42245.0\n",
              "2007-01-08     42830.0\n",
              "                ...   \n",
              "2023-10-09    115156.0\n",
              "2023-10-10    116737.0\n",
              "2023-10-11    117051.0\n",
              "2023-10-13    115754.0\n",
              "2023-10-16    116534.0\n",
              "Name: Close, Length: 4154, dtype: float64"
            ]
          },
          "metadata": {},
          "execution_count": 88
        }
      ]
    },
    {
      "cell_type": "code",
      "source": [
        "plot_series(data)"
      ],
      "metadata": {
        "colab": {
          "base_uri": "https://localhost:8080/",
          "height": 564
        },
        "id": "bU81SZLI94Rx",
        "outputId": "17102b66-0d8b-44fb-b2e7-45668c9cd8b7"
      },
      "execution_count": 89,
      "outputs": [
        {
          "output_type": "display_data",
          "data": {
            "text/plain": [
              "<Figure size 1200x600 with 1 Axes>"
            ],
            "image/png": "[encoded data removed]"
          },
          "metadata": {}
        }
      ]
    },
    {
      "cell_type": "code",
      "source": [
        "DATAX = data['Close'].to_numpy()\n",
        "DATAX=DATAX.reshape(-1,1)\n",
        "DATAX.shape"
      ],
      "metadata": {
        "colab": {
          "base_uri": "https://localhost:8080/"
        },
        "id": "gf1xNHRmBoHI",
        "outputId": "f83f4448-c252-473f-c96d-68674124465e"
      },
      "execution_count": 99,
      "outputs": [
        {
          "output_type": "execute_result",
          "data": {
            "text/plain": [
              "(4154, 1)"
            ]
          },
          "metadata": {},
          "execution_count": 99
        }
      ]
    },
    {
      "cell_type": "code",
      "source": [
        "DATAX"
      ],
      "metadata": {
        "colab": {
          "base_uri": "https://localhost:8080/"
        },
        "id": "0-F2aW7WHYY8",
        "outputId": "447db274-aeed-4574-d0d8-781565ec3a99"
      },
      "execution_count": 100,
      "outputs": [
        {
          "output_type": "execute_result",
          "data": {
            "text/plain": [
              "array([[ 45383.],\n",
              "       [ 44445.],\n",
              "       [ 44020.],\n",
              "       ...,\n",
              "       [117051.],\n",
              "       [115754.],\n",
              "       [116534.]])"
            ]
          },
          "metadata": {},
          "execution_count": 100
        }
      ]
    },
    {
      "cell_type": "code",
      "source": [
        "#Normalize data between 0 and 1\n",
        "from sklearn.preprocessing import MinMaxScaler\n",
        "\n",
        "scaler = MinMaxScaler()\n",
        "scaled_data = scaler.fit_transform(DATAX)"
      ],
      "metadata": {
        "id": "n7rzOWcWGN1S"
      },
      "execution_count": 101,
      "outputs": []
    },
    {
      "cell_type": "code",
      "source": [
        "scaled_data"
      ],
      "metadata": {
        "colab": {
          "base_uri": "https://localhost:8080/"
        },
        "id": "rSuw_0juH7m0",
        "outputId": "c2db7204-fb35-4d67-946e-d1230721cd4e"
      },
      "execution_count": 102,
      "outputs": [
        {
          "output_type": "execute_result",
          "data": {
            "text/plain": [
              "array([[0.15736967],\n",
              "       [0.14811379],\n",
              "       [0.14392003],\n",
              "       ...,\n",
              "       [0.86456617],\n",
              "       [0.85176779],\n",
              "       [0.85946458]])"
            ]
          },
          "metadata": {},
          "execution_count": 102
        }
      ]
    },
    {
      "cell_type": "code",
      "source": [
        "# as the time values and another NumPy array for the data points.\n",
        "time_values = np.arange(0, len(scaled_data), 1)  # Time values, e.g., from 0 to 10 with a step of 0.1\n",
        "time_series_data = scaled_data  # Example time series data (sine wave)\n",
        "\n",
        "# Create a figure and plot the time series\n",
        "plt.figure(figsize=(12, 6))\n",
        "plt.plot(time_values, time_series_data, label='Time Series Data', color='blue')\n",
        "\n",
        "# Add labels and title\n",
        "plt.xlabel('Time')\n",
        "plt.ylabel('Value')\n",
        "plt.title('Time Series Plot')\n",
        "\n",
        "# Show a legend (if multiple series are plotted)\n",
        "plt.legend()\n",
        "\n",
        "# Show the plot\n",
        "plt.grid(True)  # You can add grid lines if needed\n",
        "plt.show()"
      ],
      "metadata": {
        "colab": {
          "base_uri": "https://localhost:8080/",
          "height": 564
        },
        "id": "LMcd2VQ_G0kg",
        "outputId": "11c37c6a-0a02-4713-fb6b-7bd3eaf9d884"
      },
      "execution_count": 103,
      "outputs": [
        {
          "output_type": "display_data",
          "data": {
            "text/plain": [
              "<Figure size 1200x600 with 1 Axes>"
            ],
            "image/png": "[encoded data removed]"
          },
          "metadata": {}
        }
      ]
    },
    {
      "cell_type": "code",
      "source": [
        "#w < N < Q\n",
        "window = 60 #Size of the window in days\n",
        "test_samples = 251 #Number of test samples\n",
        "f = 20 #Size of future window in days. Change f for the number of steps-ahead. 1 or 20.\n",
        "N = len(scaled_data) - test_samples - window"
      ],
      "metadata": {
        "id": "GODRWEZFEroM"
      },
      "execution_count": 106,
      "outputs": []
    },
    {
      "cell_type": "code",
      "source": [
        "trainX, trainY, testX, testY, X = data_preparation(window, scaled_data, N,f)"
      ],
      "metadata": {
        "id": "nDIdw33uJBMN"
      },
      "execution_count": 107,
      "outputs": []
    },
    {
      "cell_type": "code",
      "source": [
        "lstm_model = LSTM_Model(f)\n",
        "gru_model = GRU_Model(f)\n",
        "epochs = 200"
      ],
      "metadata": {
        "colab": {
          "base_uri": "https://localhost:8080/"
        },
        "id": "8Jpr9MLDJfIJ",
        "outputId": "49c99355-e0a8-4aed-db72-1d2deaf2239e"
      },
      "execution_count": 108,
      "outputs": [
        {
          "output_type": "stream",
          "name": "stdout",
          "text": [
            "Model: \"sequential\"\n",
            "_________________________________________________________________\n",
            " Layer (type)                Output Shape              Param #   \n",
            "=================================================================\n",
            " lstm (LSTM)                 (None, 128)               66560     \n",
            "                                                                 \n",
            " dense (Dense)               (None, 20)                2580      \n",
            "                                                                 \n",
            "=================================================================\n",
            "Total params: 69140 (270.08 KB)\n",
            "Trainable params: 69140 (270.08 KB)\n",
            "Non-trainable params: 0 (0.00 Byte)\n",
            "_________________________________________________________________\n",
            "Model: \"sequential_1\"\n",
            "_________________________________________________________________\n",
            " Layer (type)                Output Shape              Param #   \n",
            "=================================================================\n",
            " gru (GRU)                   (None, 128)               50304     \n",
            "                                                                 \n",
            " dense_1 (Dense)             (None, 20)                2580      \n",
            "                                                                 \n",
            "=================================================================\n",
            "Total params: 52884 (206.58 KB)\n",
            "Trainable params: 52884 (206.58 KB)\n",
            "Non-trainable params: 0 (0.00 Byte)\n",
            "_________________________________________________________________\n"
          ]
        }
      ]
    },
    {
      "cell_type": "code",
      "source": [
        "# Train LSTM model\n",
        "lstm_trained = lstm_model.fit(trainX, trainY, shuffle=True, epochs=epochs)\n",
        "# Train GRU model\n",
        "gru_trained = gru_model.fit(trainX, trainY, shuffle=True, epochs=epochs)"
      ],
      "metadata": {
        "colab": {
          "base_uri": "https://localhost:8080/"
        },
        "id": "iUin9HtLJkZE",
        "outputId": "fa79a92a-c941-4bea-e1a3-386dc9bbb8f2"
      },
      "execution_count": 109,
      "outputs": [
        {
          "output_type": "stream",
          "name": "stdout",
          "text": [
            "Epoch 1/200\n",
            "121/121 [==============================] - 13s 80ms/step - loss: 0.0148\n",
            "Epoch 2/200\n",
            "121/121 [==============================] - 9s 78ms/step - loss: 0.0024\n",
            "Epoch 3/200\n",
            "121/121 [==============================] - 10s 84ms/step - loss: 0.0022\n",
            "Epoch 4/200\n",
            "121/121 [==============================] - 10s 86ms/step - loss: 0.0022\n",
            "Epoch 5/200\n",
            "121/121 [==============================] - 10s 79ms/step - loss: 0.0020\n",
            "Epoch 6/200\n",
            "121/121 [==============================] - 9s 76ms/step - loss: 0.0019\n",
            "Epoch 7/200\n",
            "121/121 [==============================] - 10s 84ms/step - loss: 0.0021\n",
            "Epoch 8/200\n",
            "121/121 [==============================] - 10s 85ms/step - loss: 0.0019\n",
            "Epoch 9/200\n",
            "121/121 [==============================] - 11s 88ms/step - loss: 0.0017\n",
            "Epoch 10/200\n",
            "121/121 [==============================] - 9s 76ms/step - loss: 0.0016\n",
            "Epoch 11/200\n",
            "121/121 [==============================] - 11s 90ms/step - loss: 0.0017\n",
            "Epoch 12/200\n",
            "121/121 [==============================] - 11s 88ms/step - loss: 0.0017\n",
            "Epoch 13/200\n",
            "121/121 [==============================] - 10s 87ms/step - loss: 0.0016\n",
            "Epoch 14/200\n",
            "121/121 [==============================] - 9s 77ms/step - loss: 0.0016\n",
            "Epoch 15/200\n",
            "121/121 [==============================] - 10s 84ms/step - loss: 0.0016\n",
            "Epoch 16/200\n",
            "121/121 [==============================] - 10s 86ms/step - loss: 0.0016\n",
            "Epoch 17/200\n",
            "121/121 [==============================] - 11s 88ms/step - loss: 0.0016\n",
            "Epoch 18/200\n",
            "121/121 [==============================] - 10s 85ms/step - loss: 0.0015\n",
            "Epoch 19/200\n",
            "121/121 [==============================] - 10s 79ms/step - loss: 0.0015\n",
            "Epoch 20/200\n",
            "121/121 [==============================] - 11s 89ms/step - loss: 0.0015\n",
            "Epoch 21/200\n",
            "121/121 [==============================] - 11s 88ms/step - loss: 0.0015\n",
            "Epoch 22/200\n",
            "121/121 [==============================] - 11s 87ms/step - loss: 0.0015\n",
            "Epoch 23/200\n",
            "121/121 [==============================] - 9s 78ms/step - loss: 0.0015\n",
            "Epoch 24/200\n",
            "121/121 [==============================] - 10s 79ms/step - loss: 0.0015\n",
            "Epoch 25/200\n",
            "121/121 [==============================] - 10s 85ms/step - loss: 0.0015\n",
            "Epoch 26/200\n",
            "121/121 [==============================] - 10s 85ms/step - loss: 0.0014\n",
            "Epoch 27/200\n",
            "121/121 [==============================] - 10s 79ms/step - loss: 0.0015\n",
            "Epoch 28/200\n",
            "121/121 [==============================] - 10s 79ms/step - loss: 0.0014\n",
            "Epoch 29/200\n",
            "121/121 [==============================] - 10s 84ms/step - loss: 0.0014\n",
            "Epoch 30/200\n",
            "121/121 [==============================] - 10s 84ms/step - loss: 0.0014\n",
            "Epoch 31/200\n",
            "121/121 [==============================] - 9s 78ms/step - loss: 0.0014\n",
            "Epoch 32/200\n",
            "121/121 [==============================] - 9s 78ms/step - loss: 0.0014\n",
            "Epoch 33/200\n",
            "121/121 [==============================] - 10s 84ms/step - loss: 0.0014\n",
            "Epoch 34/200\n",
            "121/121 [==============================] - 10s 84ms/step - loss: 0.0016\n",
            "Epoch 35/200\n",
            "121/121 [==============================] - 9s 77ms/step - loss: 0.0014\n",
            "Epoch 36/200\n",
            "121/121 [==============================] - 10s 78ms/step - loss: 0.0014\n",
            "Epoch 37/200\n",
            "121/121 [==============================] - 10s 83ms/step - loss: 0.0014\n",
            "Epoch 38/200\n",
            "121/121 [==============================] - 10s 84ms/step - loss: 0.0014\n",
            "Epoch 39/200\n",
            "121/121 [==============================] - 9s 76ms/step - loss: 0.0014\n",
            "Epoch 40/200\n",
            "121/121 [==============================] - 10s 79ms/step - loss: 0.0013\n",
            "Epoch 41/200\n",
            "121/121 [==============================] - 10s 84ms/step - loss: 0.0013\n",
            "Epoch 42/200\n",
            "121/121 [==============================] - 10s 85ms/step - loss: 0.0014\n",
            "Epoch 43/200\n",
            "121/121 [==============================] - 10s 81ms/step - loss: 0.0014\n",
            "Epoch 44/200\n",
            "121/121 [==============================] - 9s 77ms/step - loss: 0.0013\n",
            "Epoch 45/200\n",
            "121/121 [==============================] - 10s 83ms/step - loss: 0.0014\n",
            "Epoch 46/200\n",
            "121/121 [==============================] - 10s 83ms/step - loss: 0.0013\n",
            "Epoch 47/200\n",
            "121/121 [==============================] - 9s 76ms/step - loss: 0.0014\n",
            "Epoch 48/200\n",
            "121/121 [==============================] - 9s 77ms/step - loss: 0.0013\n",
            "Epoch 49/200\n",
            "121/121 [==============================] - 10s 83ms/step - loss: 0.0013\n",
            "Epoch 50/200\n",
            "121/121 [==============================] - 10s 83ms/step - loss: 0.0014\n",
            "Epoch 51/200\n",
            "121/121 [==============================] - 9s 71ms/step - loss: 0.0013\n",
            "Epoch 52/200\n",
            "121/121 [==============================] - 10s 84ms/step - loss: 0.0013\n",
            "Epoch 53/200\n",
            "121/121 [==============================] - 10s 85ms/step - loss: 0.0013\n",
            "Epoch 54/200\n",
            "121/121 [==============================] - 10s 84ms/step - loss: 0.0013\n",
            "Epoch 55/200\n",
            "121/121 [==============================] - 9s 72ms/step - loss: 0.0013\n",
            "Epoch 56/200\n",
            "121/121 [==============================] - 10s 84ms/step - loss: 0.0013\n",
            "Epoch 57/200\n",
            "121/121 [==============================] - 10s 84ms/step - loss: 0.0013\n",
            "Epoch 58/200\n",
            "121/121 [==============================] - 10s 83ms/step - loss: 0.0013\n",
            "Epoch 59/200\n",
            "121/121 [==============================] - 9s 71ms/step - loss: 0.0013\n",
            "Epoch 60/200\n",
            "121/121 [==============================] - 10s 83ms/step - loss: 0.0013\n",
            "Epoch 61/200\n",
            "121/121 [==============================] - 10s 83ms/step - loss: 0.0013\n",
            "Epoch 62/200\n",
            "121/121 [==============================] - 10s 84ms/step - loss: 0.0013\n",
            "Epoch 63/200\n",
            "121/121 [==============================] - 9s 73ms/step - loss: 0.0013\n",
            "Epoch 64/200\n",
            "121/121 [==============================] - 10s 84ms/step - loss: 0.0013\n",
            "Epoch 65/200\n",
            "121/121 [==============================] - 10s 84ms/step - loss: 0.0013\n",
            "Epoch 66/200\n",
            "121/121 [==============================] - 10s 83ms/step - loss: 0.0013\n",
            "Epoch 67/200\n",
            "121/121 [==============================] - 9s 71ms/step - loss: 0.0013\n",
            "Epoch 68/200\n",
            "121/121 [==============================] - 10s 82ms/step - loss: 0.0013\n",
            "Epoch 69/200\n",
            "121/121 [==============================] - 10s 83ms/step - loss: 0.0013\n",
            "Epoch 70/200\n",
            "121/121 [==============================] - 10s 81ms/step - loss: 0.0013\n",
            "Epoch 71/200\n",
            "121/121 [==============================] - 9s 73ms/step - loss: 0.0013\n",
            "Epoch 72/200\n",
            "121/121 [==============================] - 10s 82ms/step - loss: 0.0013\n",
            "Epoch 73/200\n",
            "121/121 [==============================] - 10s 83ms/step - loss: 0.0013\n",
            "Epoch 74/200\n",
            "121/121 [==============================] - 9s 76ms/step - loss: 0.0013\n",
            "Epoch 75/200\n",
            "121/121 [==============================] - 9s 77ms/step - loss: 0.0013\n",
            "Epoch 76/200\n",
            "121/121 [==============================] - 10s 83ms/step - loss: 0.0012\n",
            "Epoch 77/200\n",
            "121/121 [==============================] - 10s 82ms/step - loss: 0.0013\n",
            "Epoch 78/200\n",
            "121/121 [==============================] - 9s 71ms/step - loss: 0.0013\n",
            "Epoch 79/200\n",
            "121/121 [==============================] - 10s 83ms/step - loss: 0.0012\n",
            "Epoch 80/200\n",
            "121/121 [==============================] - 10s 82ms/step - loss: 0.0012\n",
            "Epoch 81/200\n",
            "121/121 [==============================] - 10s 84ms/step - loss: 0.0013\n",
            "Epoch 82/200\n",
            "121/121 [==============================] - 9s 71ms/step - loss: 0.0012\n",
            "Epoch 83/200\n",
            "121/121 [==============================] - 10s 82ms/step - loss: 0.0013\n",
            "Epoch 84/200\n",
            "121/121 [==============================] - 10s 83ms/step - loss: 0.0013\n",
            "Epoch 85/200\n",
            "121/121 [==============================] - 10s 82ms/step - loss: 0.0012\n",
            "Epoch 86/200\n",
            "121/121 [==============================] - 9s 71ms/step - loss: 0.0012\n",
            "Epoch 87/200\n",
            "121/121 [==============================] - 10s 83ms/step - loss: 0.0012\n",
            "Epoch 88/200\n",
            "121/121 [==============================] - 10s 82ms/step - loss: 0.0013\n",
            "Epoch 89/200\n",
            "121/121 [==============================] - 10s 80ms/step - loss: 0.0013\n",
            "Epoch 90/200\n",
            "121/121 [==============================] - 9s 74ms/step - loss: 0.0012\n",
            "Epoch 91/200\n",
            "121/121 [==============================] - 10s 83ms/step - loss: 0.0012\n",
            "Epoch 92/200\n",
            "121/121 [==============================] - 10s 83ms/step - loss: 0.0013\n",
            "Epoch 93/200\n",
            "121/121 [==============================] - 9s 75ms/step - loss: 0.0013\n",
            "Epoch 94/200\n",
            "121/121 [==============================] - 10s 79ms/step - loss: 0.0013\n",
            "Epoch 95/200\n",
            "121/121 [==============================] - 10s 83ms/step - loss: 0.0013\n",
            "Epoch 96/200\n",
            "121/121 [==============================] - 10s 83ms/step - loss: 0.0013\n",
            "Epoch 97/200\n",
            "121/121 [==============================] - 9s 74ms/step - loss: 0.0012\n",
            "Epoch 98/200\n",
            "121/121 [==============================] - 10s 82ms/step - loss: 0.0013\n",
            "Epoch 99/200\n",
            "121/121 [==============================] - 10s 83ms/step - loss: 0.0012\n",
            "Epoch 100/200\n",
            "121/121 [==============================] - 10s 84ms/step - loss: 0.0013\n",
            "Epoch 101/200\n",
            "121/121 [==============================] - 9s 72ms/step - loss: 0.0013\n",
            "Epoch 102/200\n",
            "121/121 [==============================] - 10s 83ms/step - loss: 0.0012\n",
            "Epoch 103/200\n",
            "121/121 [==============================] - 10s 83ms/step - loss: 0.0012\n",
            "Epoch 104/200\n",
            "121/121 [==============================] - 10s 83ms/step - loss: 0.0012\n",
            "Epoch 105/200\n",
            "121/121 [==============================] - 9s 71ms/step - loss: 0.0012\n",
            "Epoch 106/200\n",
            "121/121 [==============================] - 10s 84ms/step - loss: 0.0012\n",
            "Epoch 107/200\n",
            "121/121 [==============================] - 10s 85ms/step - loss: 0.0012\n",
            "Epoch 108/200\n",
            "121/121 [==============================] - 10s 84ms/step - loss: 0.0012\n",
            "Epoch 109/200\n",
            "121/121 [==============================] - 9s 71ms/step - loss: 0.0012\n",
            "Epoch 110/200\n",
            "121/121 [==============================] - 10s 84ms/step - loss: 0.0012\n",
            "Epoch 111/200\n",
            "121/121 [==============================] - 10s 83ms/step - loss: 0.0013\n",
            "Epoch 112/200\n",
            "121/121 [==============================] - 10s 84ms/step - loss: 0.0012\n",
            "Epoch 113/200\n",
            "121/121 [==============================] - 9s 72ms/step - loss: 0.0012\n",
            "Epoch 114/200\n",
            "121/121 [==============================] - 10s 85ms/step - loss: 0.0012\n",
            "Epoch 115/200\n",
            "121/121 [==============================] - 10s 84ms/step - loss: 0.0012\n",
            "Epoch 116/200\n",
            "121/121 [==============================] - 10s 84ms/step - loss: 0.0013\n",
            "Epoch 117/200\n",
            "121/121 [==============================] - 9s 72ms/step - loss: 0.0012\n",
            "Epoch 118/200\n",
            "121/121 [==============================] - 10s 83ms/step - loss: 0.0012\n",
            "Epoch 119/200\n",
            "121/121 [==============================] - 10s 84ms/step - loss: 0.0012\n",
            "Epoch 120/200\n",
            "121/121 [==============================] - 10s 83ms/step - loss: 0.0012\n",
            "Epoch 121/200\n",
            "121/121 [==============================] - 9s 72ms/step - loss: 0.0012\n",
            "Epoch 122/200\n",
            "121/121 [==============================] - 10s 84ms/step - loss: 0.0012\n",
            "Epoch 123/200\n",
            "121/121 [==============================] - 10s 85ms/step - loss: 0.0012\n",
            "Epoch 124/200\n",
            "121/121 [==============================] - 10s 84ms/step - loss: 0.0012\n",
            "Epoch 125/200\n",
            "121/121 [==============================] - 9s 73ms/step - loss: 0.0012\n",
            "Epoch 126/200\n",
            "121/121 [==============================] - 10s 84ms/step - loss: 0.0012\n",
            "Epoch 127/200\n",
            "121/121 [==============================] - 10s 84ms/step - loss: 0.0013\n",
            "Epoch 128/200\n",
            "121/121 [==============================] - 10s 84ms/step - loss: 0.0012\n",
            "Epoch 129/200\n",
            "121/121 [==============================] - 9s 72ms/step - loss: 0.0012\n",
            "Epoch 130/200\n",
            "121/121 [==============================] - 10s 83ms/step - loss: 0.0013\n",
            "Epoch 131/200\n",
            "121/121 [==============================] - 10s 85ms/step - loss: 0.0013\n",
            "Epoch 132/200\n",
            "121/121 [==============================] - 10s 83ms/step - loss: 0.0012\n",
            "Epoch 133/200\n",
            "121/121 [==============================] - 9s 71ms/step - loss: 0.0012\n",
            "Epoch 134/200\n",
            "121/121 [==============================] - 10s 84ms/step - loss: 0.0012\n",
            "Epoch 135/200\n",
            "121/121 [==============================] - 10s 84ms/step - loss: 0.0013\n",
            "Epoch 136/200\n",
            "121/121 [==============================] - 10s 82ms/step - loss: 0.0012\n",
            "Epoch 137/200\n",
            "121/121 [==============================] - 9s 74ms/step - loss: 0.0012\n",
            "Epoch 138/200\n",
            "121/121 [==============================] - 10s 84ms/step - loss: 0.0012\n",
            "Epoch 139/200\n",
            "121/121 [==============================] - 10s 84ms/step - loss: 0.0011\n",
            "Epoch 140/200\n",
            "121/121 [==============================] - 10s 82ms/step - loss: 0.0012\n",
            "Epoch 141/200\n",
            "121/121 [==============================] - 9s 75ms/step - loss: 0.0012\n",
            "Epoch 142/200\n",
            "121/121 [==============================] - 10s 84ms/step - loss: 0.0013\n",
            "Epoch 143/200\n",
            "121/121 [==============================] - 10s 85ms/step - loss: 0.0013\n",
            "Epoch 144/200\n",
            "121/121 [==============================] - 10s 82ms/step - loss: 0.0013\n",
            "Epoch 145/200\n",
            "121/121 [==============================] - 9s 75ms/step - loss: 0.0013\n",
            "Epoch 146/200\n",
            "121/121 [==============================] - 10s 84ms/step - loss: 0.0012\n",
            "Epoch 147/200\n",
            "121/121 [==============================] - 10s 84ms/step - loss: 0.0012\n",
            "Epoch 148/200\n",
            "121/121 [==============================] - 10s 80ms/step - loss: 0.0012\n",
            "Epoch 149/200\n",
            "121/121 [==============================] - 9s 76ms/step - loss: 0.0012\n",
            "Epoch 150/200\n",
            "121/121 [==============================] - 10s 83ms/step - loss: 0.0011\n",
            "Epoch 151/200\n",
            "121/121 [==============================] - 10s 83ms/step - loss: 0.0012\n",
            "Epoch 152/200\n",
            "121/121 [==============================] - 10s 79ms/step - loss: 0.0012\n",
            "Epoch 153/200\n",
            "121/121 [==============================] - 9s 76ms/step - loss: 0.0011\n",
            "Epoch 154/200\n",
            "121/121 [==============================] - 10s 83ms/step - loss: 0.0011\n",
            "Epoch 155/200\n",
            "121/121 [==============================] - 10s 84ms/step - loss: 0.0012\n",
            "Epoch 156/200\n",
            "121/121 [==============================] - 9s 78ms/step - loss: 0.0011\n",
            "Epoch 157/200\n",
            "121/121 [==============================] - 10s 78ms/step - loss: 0.0010\n",
            "Epoch 158/200\n",
            "121/121 [==============================] - 10s 83ms/step - loss: 0.0014\n",
            "Epoch 159/200\n",
            "121/121 [==============================] - 10s 84ms/step - loss: 0.0012\n",
            "Epoch 160/200\n",
            "121/121 [==============================] - 9s 78ms/step - loss: 0.0011\n",
            "Epoch 161/200\n",
            "121/121 [==============================] - 10s 79ms/step - loss: 0.0011\n",
            "Epoch 162/200\n",
            "121/121 [==============================] - 10s 85ms/step - loss: 0.0013\n",
            "Epoch 163/200\n",
            "121/121 [==============================] - 10s 84ms/step - loss: 0.0012\n",
            "Epoch 164/200\n",
            "121/121 [==============================] - 9s 78ms/step - loss: 0.0012\n",
            "Epoch 165/200\n",
            "121/121 [==============================] - 10s 78ms/step - loss: 0.0012\n",
            "Epoch 166/200\n",
            "121/121 [==============================] - 10s 85ms/step - loss: 0.0011\n",
            "Epoch 167/200\n",
            "121/121 [==============================] - 10s 84ms/step - loss: 0.0011\n",
            "Epoch 168/200\n",
            "121/121 [==============================] - 10s 80ms/step - loss: 0.0011\n",
            "Epoch 169/200\n",
            "121/121 [==============================] - 9s 77ms/step - loss: 0.0010\n",
            "Epoch 170/200\n",
            "121/121 [==============================] - 10s 86ms/step - loss: 0.0012\n",
            "Epoch 171/200\n",
            "121/121 [==============================] - 10s 86ms/step - loss: 0.0011\n",
            "Epoch 172/200\n",
            "121/121 [==============================] - 10s 83ms/step - loss: 0.0011\n",
            "Epoch 173/200\n",
            "121/121 [==============================] - 9s 74ms/step - loss: 0.0010\n",
            "Epoch 174/200\n",
            "121/121 [==============================] - 10s 85ms/step - loss: 0.0011\n",
            "Epoch 175/200\n",
            "121/121 [==============================] - 10s 85ms/step - loss: 0.0010\n",
            "Epoch 176/200\n",
            "121/121 [==============================] - 10s 84ms/step - loss: 9.8662e-04\n",
            "Epoch 177/200\n",
            "121/121 [==============================] - 9s 73ms/step - loss: 0.0010\n",
            "Epoch 178/200\n",
            "121/121 [==============================] - 10s 85ms/step - loss: 0.0010\n",
            "Epoch 179/200\n",
            "121/121 [==============================] - 10s 85ms/step - loss: 9.9543e-04\n",
            "Epoch 180/200\n",
            "121/121 [==============================] - 10s 86ms/step - loss: 9.7951e-04\n",
            "Epoch 181/200\n",
            "121/121 [==============================] - 9s 74ms/step - loss: 0.0011\n",
            "Epoch 182/200\n",
            "121/121 [==============================] - 11s 87ms/step - loss: 9.9549e-04\n",
            "Epoch 183/200\n",
            "121/121 [==============================] - 11s 88ms/step - loss: 0.0010\n",
            "Epoch 184/200\n",
            "121/121 [==============================] - 11s 87ms/step - loss: 9.9700e-04\n",
            "Epoch 185/200\n",
            "121/121 [==============================] - 9s 78ms/step - loss: 9.6103e-04\n",
            "Epoch 186/200\n",
            "121/121 [==============================] - 10s 84ms/step - loss: 0.0010\n",
            "Epoch 187/200\n",
            "121/121 [==============================] - 10s 86ms/step - loss: 0.0011\n",
            "Epoch 188/200\n",
            "121/121 [==============================] - 12s 98ms/step - loss: 0.0013\n",
            "Epoch 189/200\n",
            "121/121 [==============================] - 10s 82ms/step - loss: 0.0015\n",
            "Epoch 190/200\n",
            "121/121 [==============================] - 10s 78ms/step - loss: 0.0014\n",
            "Epoch 191/200\n",
            "121/121 [==============================] - 10s 87ms/step - loss: 0.0013\n",
            "Epoch 192/200\n",
            "121/121 [==============================] - 10s 87ms/step - loss: 0.0013\n",
            "Epoch 193/200\n",
            "121/121 [==============================] - 10s 85ms/step - loss: 0.0013\n",
            "Epoch 194/200\n",
            "121/121 [==============================] - 9s 74ms/step - loss: 0.0012\n",
            "Epoch 195/200\n",
            "121/121 [==============================] - 10s 85ms/step - loss: 0.0013\n",
            "Epoch 196/200\n",
            "121/121 [==============================] - 10s 83ms/step - loss: 0.0012\n",
            "Epoch 197/200\n",
            "121/121 [==============================] - 10s 84ms/step - loss: 0.0012\n",
            "Epoch 198/200\n",
            "121/121 [==============================] - 9s 73ms/step - loss: 0.0012\n",
            "Epoch 199/200\n",
            "121/121 [==============================] - 10s 83ms/step - loss: 0.0012\n",
            "Epoch 200/200\n",
            "121/121 [==============================] - 10s 84ms/step - loss: 0.0012\n",
            "Epoch 1/200\n",
            "121/121 [==============================] - 9s 57ms/step - loss: 0.0237\n",
            "Epoch 2/200\n",
            "121/121 [==============================] - 8s 67ms/step - loss: 0.0017\n",
            "Epoch 3/200\n",
            "121/121 [==============================] - 8s 64ms/step - loss: 0.0016\n",
            "Epoch 4/200\n",
            "121/121 [==============================] - 7s 59ms/step - loss: 0.0016\n",
            "Epoch 5/200\n",
            "121/121 [==============================] - 8s 68ms/step - loss: 0.0016\n",
            "Epoch 6/200\n",
            "121/121 [==============================] - 7s 57ms/step - loss: 0.0017\n",
            "Epoch 7/200\n",
            "121/121 [==============================] - 8s 67ms/step - loss: 0.0015\n",
            "Epoch 8/200\n",
            "121/121 [==============================] - 7s 58ms/step - loss: 0.0015\n",
            "Epoch 9/200\n",
            "121/121 [==============================] - 8s 67ms/step - loss: 0.0016\n",
            "Epoch 10/200\n",
            "121/121 [==============================] - 8s 68ms/step - loss: 0.0015\n",
            "Epoch 11/200\n",
            "121/121 [==============================] - 7s 57ms/step - loss: 0.0015\n",
            "Epoch 12/200\n",
            "121/121 [==============================] - 8s 67ms/step - loss: 0.0017\n",
            "Epoch 13/200\n",
            "121/121 [==============================] - 7s 57ms/step - loss: 0.0015\n",
            "Epoch 14/200\n",
            "121/121 [==============================] - 8s 67ms/step - loss: 0.0015\n",
            "Epoch 15/200\n",
            "121/121 [==============================] - 7s 62ms/step - loss: 0.0015\n",
            "Epoch 16/200\n",
            "121/121 [==============================] - 8s 63ms/step - loss: 0.0015\n",
            "Epoch 17/200\n",
            "121/121 [==============================] - 8s 67ms/step - loss: 0.0015\n",
            "Epoch 18/200\n",
            "121/121 [==============================] - 7s 56ms/step - loss: 0.0015\n",
            "Epoch 19/200\n",
            "121/121 [==============================] - 8s 67ms/step - loss: 0.0015\n",
            "Epoch 20/200\n",
            "121/121 [==============================] - 7s 57ms/step - loss: 0.0014\n",
            "Epoch 21/200\n",
            "121/121 [==============================] - 8s 67ms/step - loss: 0.0014\n",
            "Epoch 22/200\n",
            "121/121 [==============================] - 8s 62ms/step - loss: 0.0014\n",
            "Epoch 23/200\n",
            "121/121 [==============================] - 7s 62ms/step - loss: 0.0014\n",
            "Epoch 24/200\n",
            "121/121 [==============================] - 8s 67ms/step - loss: 0.0014\n",
            "Epoch 25/200\n",
            "121/121 [==============================] - 7s 57ms/step - loss: 0.0014\n",
            "Epoch 26/200\n",
            "121/121 [==============================] - 8s 68ms/step - loss: 0.0014\n",
            "Epoch 27/200\n",
            "121/121 [==============================] - 7s 58ms/step - loss: 0.0014\n",
            "Epoch 28/200\n",
            "121/121 [==============================] - 8s 66ms/step - loss: 0.0014\n",
            "Epoch 29/200\n",
            "121/121 [==============================] - 8s 68ms/step - loss: 0.0014\n",
            "Epoch 30/200\n",
            "121/121 [==============================] - 7s 59ms/step - loss: 0.0014\n",
            "Epoch 31/200\n",
            "121/121 [==============================] - 8s 67ms/step - loss: 0.0015\n",
            "Epoch 32/200\n",
            "121/121 [==============================] - 7s 57ms/step - loss: 0.0014\n",
            "Epoch 33/200\n",
            "121/121 [==============================] - 8s 68ms/step - loss: 0.0014\n",
            "Epoch 34/200\n",
            "121/121 [==============================] - 8s 65ms/step - loss: 0.0014\n",
            "Epoch 35/200\n",
            "121/121 [==============================] - 7s 60ms/step - loss: 0.0014\n",
            "Epoch 36/200\n",
            "121/121 [==============================] - 8s 68ms/step - loss: 0.0014\n",
            "Epoch 37/200\n",
            "121/121 [==============================] - 7s 57ms/step - loss: 0.0014\n",
            "Epoch 38/200\n",
            "121/121 [==============================] - 8s 67ms/step - loss: 0.0014\n",
            "Epoch 39/200\n",
            "121/121 [==============================] - 7s 59ms/step - loss: 0.0014\n",
            "Epoch 40/200\n",
            "121/121 [==============================] - 8s 67ms/step - loss: 0.0014\n",
            "Epoch 41/200\n",
            "121/121 [==============================] - 8s 68ms/step - loss: 0.0014\n",
            "Epoch 42/200\n",
            "121/121 [==============================] - 7s 57ms/step - loss: 0.0014\n",
            "Epoch 43/200\n",
            "121/121 [==============================] - 8s 67ms/step - loss: 0.0014\n",
            "Epoch 44/200\n",
            "121/121 [==============================] - 7s 58ms/step - loss: 0.0014\n",
            "Epoch 45/200\n",
            "121/121 [==============================] - 8s 69ms/step - loss: 0.0014\n",
            "Epoch 46/200\n",
            "121/121 [==============================] - 8s 65ms/step - loss: 0.0013\n",
            "Epoch 47/200\n",
            "121/121 [==============================] - 7s 60ms/step - loss: 0.0014\n",
            "Epoch 48/200\n",
            "121/121 [==============================] - 9s 73ms/step - loss: 0.0014\n",
            "Epoch 49/200\n",
            "121/121 [==============================] - 13s 107ms/step - loss: 0.0014\n",
            "Epoch 50/200\n",
            "121/121 [==============================] - 9s 74ms/step - loss: 0.0014\n",
            "Epoch 51/200\n",
            "121/121 [==============================] - 11s 92ms/step - loss: 0.0014\n",
            "Epoch 52/200\n",
            "121/121 [==============================] - 13s 110ms/step - loss: 0.0014\n",
            "Epoch 53/200\n",
            "121/121 [==============================] - 10s 86ms/step - loss: 0.0014\n",
            "Epoch 54/200\n",
            "121/121 [==============================] - 9s 76ms/step - loss: 0.0014\n",
            "Epoch 55/200\n",
            "121/121 [==============================] - 7s 57ms/step - loss: 0.0013\n",
            "Epoch 56/200\n",
            "121/121 [==============================] - 8s 67ms/step - loss: 0.0013\n",
            "Epoch 57/200\n",
            "121/121 [==============================] - 8s 62ms/step - loss: 0.0014\n",
            "Epoch 58/200\n",
            "121/121 [==============================] - 9s 74ms/step - loss: 0.0013\n",
            "Epoch 59/200\n",
            "121/121 [==============================] - 8s 67ms/step - loss: 0.0014\n",
            "Epoch 60/200\n",
            "121/121 [==============================] - 7s 58ms/step - loss: 0.0013\n",
            "Epoch 61/200\n",
            "121/121 [==============================] - 8s 68ms/step - loss: 0.0014\n",
            "Epoch 62/200\n",
            "121/121 [==============================] - 8s 63ms/step - loss: 0.0013\n",
            "Epoch 63/200\n",
            "121/121 [==============================] - 9s 70ms/step - loss: 0.0013\n",
            "Epoch 64/200\n",
            "121/121 [==============================] - 10s 86ms/step - loss: 0.0014\n",
            "Epoch 65/200\n",
            "121/121 [==============================] - 7s 62ms/step - loss: 0.0013\n",
            "Epoch 66/200\n",
            "121/121 [==============================] - 10s 85ms/step - loss: 0.0013\n",
            "Epoch 67/200\n",
            "121/121 [==============================] - 11s 88ms/step - loss: 0.0014\n",
            "Epoch 68/200\n",
            "121/121 [==============================] - 8s 68ms/step - loss: 0.0013\n",
            "Epoch 69/200\n",
            "121/121 [==============================] - 7s 58ms/step - loss: 0.0013\n",
            "Epoch 70/200\n",
            "121/121 [==============================] - 8s 68ms/step - loss: 0.0013\n",
            "Epoch 71/200\n",
            "121/121 [==============================] - 7s 57ms/step - loss: 0.0013\n",
            "Epoch 72/200\n",
            "121/121 [==============================] - 9s 73ms/step - loss: 0.0013\n",
            "Epoch 73/200\n",
            "121/121 [==============================] - 8s 68ms/step - loss: 0.0013\n",
            "Epoch 74/200\n",
            "121/121 [==============================] - 7s 58ms/step - loss: 0.0013\n",
            "Epoch 75/200\n",
            "121/121 [==============================] - 8s 68ms/step - loss: 0.0013\n",
            "Epoch 76/200\n",
            "121/121 [==============================] - 7s 57ms/step - loss: 0.0013\n",
            "Epoch 77/200\n",
            "121/121 [==============================] - 9s 73ms/step - loss: 0.0013\n",
            "Epoch 78/200\n",
            "121/121 [==============================] - 8s 67ms/step - loss: 0.0013\n",
            "Epoch 79/200\n",
            "121/121 [==============================] - 7s 59ms/step - loss: 0.0013\n",
            "Epoch 80/200\n",
            "121/121 [==============================] - 9s 77ms/step - loss: 0.0013\n",
            "Epoch 81/200\n",
            "121/121 [==============================] - 8s 69ms/step - loss: 0.0014\n",
            "Epoch 82/200\n",
            "121/121 [==============================] - 8s 64ms/step - loss: 0.0013\n",
            "Epoch 83/200\n",
            "121/121 [==============================] - 9s 71ms/step - loss: 0.0013\n",
            "Epoch 84/200\n",
            "121/121 [==============================] - 7s 60ms/step - loss: 0.0013\n",
            "Epoch 85/200\n",
            "121/121 [==============================] - 9s 73ms/step - loss: 0.0013\n",
            "Epoch 86/200\n",
            "121/121 [==============================] - 9s 71ms/step - loss: 0.0013\n",
            "Epoch 87/200\n",
            "121/121 [==============================] - 8s 66ms/step - loss: 0.0013\n",
            "Epoch 88/200\n",
            "121/121 [==============================] - 8s 68ms/step - loss: 0.0013\n",
            "Epoch 89/200\n",
            "121/121 [==============================] - 7s 58ms/step - loss: 0.0013\n",
            "Epoch 90/200\n",
            "121/121 [==============================] - 9s 74ms/step - loss: 0.0013\n",
            "Epoch 91/200\n",
            "121/121 [==============================] - 11s 93ms/step - loss: 0.0013\n",
            "Epoch 92/200\n",
            "121/121 [==============================] - 9s 75ms/step - loss: 0.0013\n",
            "Epoch 93/200\n",
            "121/121 [==============================] - 8s 64ms/step - loss: 0.0013\n",
            "Epoch 94/200\n",
            "121/121 [==============================] - 8s 69ms/step - loss: 0.0013\n",
            "Epoch 95/200\n",
            "121/121 [==============================] - 7s 59ms/step - loss: 0.0013\n",
            "Epoch 96/200\n",
            "121/121 [==============================] - 8s 68ms/step - loss: 0.0013\n",
            "Epoch 97/200\n",
            "121/121 [==============================] - 7s 61ms/step - loss: 0.0013\n",
            "Epoch 98/200\n",
            "121/121 [==============================] - 8s 68ms/step - loss: 0.0013\n",
            "Epoch 99/200\n",
            "121/121 [==============================] - 8s 68ms/step - loss: 0.0013\n",
            "Epoch 100/200\n",
            "121/121 [==============================] - 7s 57ms/step - loss: 0.0013\n",
            "Epoch 101/200\n",
            "121/121 [==============================] - 8s 68ms/step - loss: 0.0013\n",
            "Epoch 102/200\n",
            "121/121 [==============================] - 7s 57ms/step - loss: 0.0013\n",
            "Epoch 103/200\n",
            "121/121 [==============================] - 8s 68ms/step - loss: 0.0013\n",
            "Epoch 104/200\n",
            "121/121 [==============================] - 8s 67ms/step - loss: 0.0013\n",
            "Epoch 105/200\n",
            "121/121 [==============================] - 8s 63ms/step - loss: 0.0013\n",
            "Epoch 106/200\n",
            "121/121 [==============================] - 8s 67ms/step - loss: 0.0013\n",
            "Epoch 107/200\n",
            "121/121 [==============================] - 7s 57ms/step - loss: 0.0012\n",
            "Epoch 108/200\n",
            "121/121 [==============================] - 8s 67ms/step - loss: 0.0012\n",
            "Epoch 109/200\n",
            "121/121 [==============================] - 8s 63ms/step - loss: 0.0013\n",
            "Epoch 110/200\n",
            "121/121 [==============================] - 7s 61ms/step - loss: 0.0012\n",
            "Epoch 111/200\n",
            "121/121 [==============================] - 8s 67ms/step - loss: 0.0012\n",
            "Epoch 112/200\n",
            "121/121 [==============================] - 7s 57ms/step - loss: 0.0013\n",
            "Epoch 113/200\n",
            "121/121 [==============================] - 8s 68ms/step - loss: 0.0012\n",
            "Epoch 114/200\n",
            "121/121 [==============================] - 7s 57ms/step - loss: 0.0012\n",
            "Epoch 115/200\n",
            "121/121 [==============================] - 8s 67ms/step - loss: 0.0012\n",
            "Epoch 116/200\n",
            "121/121 [==============================] - 8s 65ms/step - loss: 0.0013\n",
            "Epoch 117/200\n",
            "121/121 [==============================] - 7s 60ms/step - loss: 0.0012\n",
            "Epoch 118/200\n",
            "121/121 [==============================] - 8s 67ms/step - loss: 0.0012\n",
            "Epoch 119/200\n",
            "121/121 [==============================] - 7s 57ms/step - loss: 0.0012\n",
            "Epoch 120/200\n",
            "121/121 [==============================] - 8s 68ms/step - loss: 0.0012\n",
            "Epoch 121/200\n",
            "121/121 [==============================] - 7s 58ms/step - loss: 0.0014\n",
            "Epoch 122/200\n",
            "121/121 [==============================] - 8s 65ms/step - loss: 0.0015\n",
            "Epoch 123/200\n",
            "121/121 [==============================] - 8s 67ms/step - loss: 0.0013\n",
            "Epoch 124/200\n",
            "121/121 [==============================] - 7s 57ms/step - loss: 0.0012\n",
            "Epoch 125/200\n",
            "121/121 [==============================] - 8s 67ms/step - loss: 0.0012\n",
            "Epoch 126/200\n",
            "121/121 [==============================] - 7s 57ms/step - loss: 0.0014\n",
            "Epoch 127/200\n",
            "121/121 [==============================] - 8s 67ms/step - loss: 0.0014\n",
            "Epoch 128/200\n",
            "121/121 [==============================] - 7s 60ms/step - loss: 0.0013\n",
            "Epoch 129/200\n",
            "121/121 [==============================] - 8s 63ms/step - loss: 0.0013\n",
            "Epoch 130/200\n",
            "121/121 [==============================] - 8s 67ms/step - loss: 0.0013\n",
            "Epoch 131/200\n",
            "121/121 [==============================] - 7s 57ms/step - loss: 0.0012\n",
            "Epoch 132/200\n",
            "121/121 [==============================] - 8s 67ms/step - loss: 0.0012\n",
            "Epoch 133/200\n",
            "121/121 [==============================] - 7s 57ms/step - loss: 0.0012\n",
            "Epoch 134/200\n",
            "121/121 [==============================] - 8s 67ms/step - loss: 0.0012\n",
            "Epoch 135/200\n",
            "121/121 [==============================] - 8s 69ms/step - loss: 0.0012\n",
            "Epoch 136/200\n",
            "121/121 [==============================] - 7s 58ms/step - loss: 0.0012\n",
            "Epoch 137/200\n",
            "121/121 [==============================] - 8s 68ms/step - loss: 0.0013\n",
            "Epoch 138/200\n",
            "121/121 [==============================] - 7s 57ms/step - loss: 0.0013\n",
            "Epoch 139/200\n",
            "121/121 [==============================] - 8s 70ms/step - loss: 0.0013\n",
            "Epoch 140/200\n",
            "121/121 [==============================] - 7s 60ms/step - loss: 0.0013\n",
            "Epoch 141/200\n",
            "121/121 [==============================] - 8s 64ms/step - loss: 0.0013\n",
            "Epoch 142/200\n",
            "121/121 [==============================] - 8s 67ms/step - loss: 0.0013\n",
            "Epoch 143/200\n",
            "121/121 [==============================] - 7s 57ms/step - loss: 0.0012\n",
            "Epoch 144/200\n",
            "121/121 [==============================] - 8s 67ms/step - loss: 0.0013\n",
            "Epoch 145/200\n",
            "121/121 [==============================] - 7s 57ms/step - loss: 0.0012\n",
            "Epoch 146/200\n",
            "121/121 [==============================] - 8s 68ms/step - loss: 0.0012\n",
            "Epoch 147/200\n",
            "121/121 [==============================] - 8s 63ms/step - loss: 0.0013\n",
            "Epoch 148/200\n",
            "121/121 [==============================] - 8s 62ms/step - loss: 0.0012\n",
            "Epoch 149/200\n",
            "121/121 [==============================] - 8s 68ms/step - loss: 0.0013\n",
            "Epoch 150/200\n",
            "121/121 [==============================] - 7s 58ms/step - loss: 0.0013\n",
            "Epoch 151/200\n",
            "121/121 [==============================] - 8s 68ms/step - loss: 0.0013\n",
            "Epoch 152/200\n",
            "121/121 [==============================] - 7s 57ms/step - loss: 0.0012\n",
            "Epoch 153/200\n",
            "121/121 [==============================] - 8s 67ms/step - loss: 0.0013\n",
            "Epoch 154/200\n",
            "121/121 [==============================] - 8s 67ms/step - loss: 0.0012\n",
            "Epoch 155/200\n",
            "121/121 [==============================] - 7s 57ms/step - loss: 0.0012\n",
            "Epoch 156/200\n",
            "121/121 [==============================] - 8s 67ms/step - loss: 0.0012\n",
            "Epoch 157/200\n",
            "121/121 [==============================] - 7s 57ms/step - loss: 0.0012\n",
            "Epoch 158/200\n",
            "121/121 [==============================] - 8s 68ms/step - loss: 0.0012\n",
            "Epoch 159/200\n",
            "121/121 [==============================] - 7s 60ms/step - loss: 0.0012\n",
            "Epoch 160/200\n",
            "121/121 [==============================] - 8s 66ms/step - loss: 0.0013\n",
            "Epoch 161/200\n",
            "121/121 [==============================] - 8s 69ms/step - loss: 0.0012\n",
            "Epoch 162/200\n",
            "121/121 [==============================] - 7s 58ms/step - loss: 0.0012\n",
            "Epoch 163/200\n",
            "121/121 [==============================] - 8s 68ms/step - loss: 0.0012\n",
            "Epoch 164/200\n",
            "121/121 [==============================] - 7s 57ms/step - loss: 0.0012\n",
            "Epoch 165/200\n",
            "121/121 [==============================] - 8s 67ms/step - loss: 0.0012\n",
            "Epoch 166/200\n",
            "121/121 [==============================] - 8s 64ms/step - loss: 0.0012\n",
            "Epoch 167/200\n",
            "121/121 [==============================] - 7s 60ms/step - loss: 0.0012\n",
            "Epoch 168/200\n",
            "121/121 [==============================] - 8s 68ms/step - loss: 0.0012\n",
            "Epoch 169/200\n",
            "121/121 [==============================] - 7s 57ms/step - loss: 0.0013\n",
            "Epoch 170/200\n",
            "121/121 [==============================] - 8s 67ms/step - loss: 0.0012\n",
            "Epoch 171/200\n",
            "121/121 [==============================] - 7s 58ms/step - loss: 0.0012\n",
            "Epoch 172/200\n",
            "121/121 [==============================] - 8s 68ms/step - loss: 0.0012\n",
            "Epoch 173/200\n",
            "121/121 [==============================] - 8s 68ms/step - loss: 0.0012\n",
            "Epoch 174/200\n",
            "121/121 [==============================] - 7s 58ms/step - loss: 0.0012\n",
            "Epoch 175/200\n",
            "121/121 [==============================] - 8s 67ms/step - loss: 0.0012\n",
            "Epoch 176/200\n",
            "121/121 [==============================] - 7s 58ms/step - loss: 0.0012\n",
            "Epoch 177/200\n",
            "121/121 [==============================] - 8s 68ms/step - loss: 0.0011\n",
            "Epoch 178/200\n",
            "121/121 [==============================] - 8s 62ms/step - loss: 0.0014\n",
            "Epoch 179/200\n",
            "121/121 [==============================] - 8s 63ms/step - loss: 0.0013\n",
            "Epoch 180/200\n",
            "121/121 [==============================] - 8s 69ms/step - loss: 0.0013\n",
            "Epoch 181/200\n",
            "121/121 [==============================] - 7s 58ms/step - loss: 0.0013\n",
            "Epoch 182/200\n",
            "121/121 [==============================] - 8s 68ms/step - loss: 0.0013\n",
            "Epoch 183/200\n",
            "121/121 [==============================] - 7s 58ms/step - loss: 0.0012\n",
            "Epoch 184/200\n",
            "121/121 [==============================] - 8s 68ms/step - loss: 0.0012\n",
            "Epoch 185/200\n",
            "121/121 [==============================] - 8s 67ms/step - loss: 0.0012\n",
            "Epoch 186/200\n",
            "121/121 [==============================] - 7s 59ms/step - loss: 0.0012\n",
            "Epoch 187/200\n",
            "121/121 [==============================] - 8s 68ms/step - loss: 0.0012\n",
            "Epoch 188/200\n",
            "121/121 [==============================] - 7s 58ms/step - loss: 0.0012\n",
            "Epoch 189/200\n",
            "121/121 [==============================] - 8s 69ms/step - loss: 0.0014\n",
            "Epoch 190/200\n",
            "121/121 [==============================] - 8s 64ms/step - loss: 0.0013\n",
            "Epoch 191/200\n",
            "121/121 [==============================] - 8s 63ms/step - loss: 0.0013\n",
            "Epoch 192/200\n",
            "121/121 [==============================] - 8s 69ms/step - loss: 0.0013\n",
            "Epoch 193/200\n",
            "121/121 [==============================] - 7s 58ms/step - loss: 0.0013\n",
            "Epoch 194/200\n",
            "121/121 [==============================] - 8s 69ms/step - loss: 0.0012\n",
            "Epoch 195/200\n",
            "121/121 [==============================] - 7s 62ms/step - loss: 0.0013\n",
            "Epoch 196/200\n",
            "121/121 [==============================] - 8s 65ms/step - loss: 0.0013\n",
            "Epoch 197/200\n",
            "121/121 [==============================] - 8s 69ms/step - loss: 0.0012\n",
            "Epoch 198/200\n",
            "121/121 [==============================] - 7s 59ms/step - loss: 0.0012\n",
            "Epoch 199/200\n",
            "121/121 [==============================] - 8s 69ms/step - loss: 0.0012\n",
            "Epoch 200/200\n",
            "121/121 [==============================] - 7s 61ms/step - loss: 0.0012\n"
          ]
        }
      ]
    },
    {
      "cell_type": "code",
      "source": [
        "y_pred_lstm = lstm_model.predict(testX)\n",
        "y_pred_gru = gru_model.predict(testX)\n",
        "y_baseline = baselinef(testX,f)\n",
        "testY = np.reshape(testY, (testY.shape[0],testY.shape[1]))\n",
        "print(testY.shape)\n",
        "np.sqrt(mean_squared_error(testY, y_pred_lstm))\n"
      ],
      "metadata": {
        "colab": {
          "base_uri": "https://localhost:8080/"
        },
        "id": "-CS9TDJnTAkZ",
        "outputId": "db474aaa-376e-4d17-cc5d-ed90cea8e4cc"
      },
      "execution_count": 221,
      "outputs": [
        {
          "output_type": "stream",
          "name": "stdout",
          "text": [
            "8/8 [==============================] - 0s 28ms/step\n",
            "8/8 [==============================] - 0s 16ms/step\n",
            "(232, 20)\n"
          ]
        },
        {
          "output_type": "execute_result",
          "data": {
            "text/plain": [
              "0.041568875640886835"
            ]
          },
          "metadata": {},
          "execution_count": 221
        }
      ]
    },
    {
      "cell_type": "code",
      "source": [
        "np.sqrt(mean_squared_error(testY, y_pred_gru))\n"
      ],
      "metadata": {
        "colab": {
          "base_uri": "https://localhost:8080/"
        },
        "id": "TmWAZ4VodLk6",
        "outputId": "b0c48ba8-1bff-495d-ad3e-75b16a64f37a"
      },
      "execution_count": 115,
      "outputs": [
        {
          "output_type": "execute_result",
          "data": {
            "text/plain": [
              "0.03751910692011515"
            ]
          },
          "metadata": {},
          "execution_count": 115
        }
      ]
    },
    {
      "cell_type": "code",
      "source": [
        "np.sqrt(mean_squared_error(testY, y_baseline))"
      ],
      "metadata": {
        "colab": {
          "base_uri": "https://localhost:8080/"
        },
        "id": "1gYiDOQ-dO--",
        "outputId": "f1fbcaa4-bd72-4f87-e043-43b325e6a7e4"
      },
      "execution_count": 113,
      "outputs": [
        {
          "output_type": "execute_result",
          "data": {
            "text/plain": [
              "0.03758518527305382"
            ]
          },
          "metadata": {},
          "execution_count": 113
        }
      ]
    },
    {
      "cell_type": "code",
      "source": [
        "mda(testY, y_pred_lstm)\n"
      ],
      "metadata": {
        "colab": {
          "base_uri": "https://localhost:8080/"
        },
        "id": "l2M0f3ZWjSJu",
        "outputId": "f0eadecb-6a85-4654-db17-77cb3f946d59"
      },
      "execution_count": 116,
      "outputs": [
        {
          "output_type": "execute_result",
          "data": {
            "text/plain": [
              "0.5043290043290043"
            ]
          },
          "metadata": {},
          "execution_count": 116
        }
      ]
    },
    {
      "cell_type": "code",
      "source": [
        "mda(testY, y_pred_gru)\n"
      ],
      "metadata": {
        "colab": {
          "base_uri": "https://localhost:8080/"
        },
        "id": "o_6KRDlxjV9R",
        "outputId": "8a64fc63-6c1a-4882-88c9-81e0d6ffaec8"
      },
      "execution_count": 117,
      "outputs": [
        {
          "output_type": "execute_result",
          "data": {
            "text/plain": [
              "0.4958874458874459"
            ]
          },
          "metadata": {},
          "execution_count": 117
        }
      ]
    },
    {
      "cell_type": "code",
      "source": [
        "mda(testY, y_baseline)"
      ],
      "metadata": {
        "colab": {
          "base_uri": "https://localhost:8080/"
        },
        "id": "bGTvfQvDjX7u",
        "outputId": "72e76c9b-0a2f-4831-a0aa-a2576bf732f7"
      },
      "execution_count": 118,
      "outputs": [
        {
          "output_type": "execute_result",
          "data": {
            "text/plain": [
              "0.4997835497835498"
            ]
          },
          "metadata": {},
          "execution_count": 118
        }
      ]
    },
    {
      "cell_type": "code",
      "source": [
        "s=(1,6)\n",
        "s=np.ones(s)  #for the results\n",
        "s[0,0]=np.sqrt(mean_squared_error(testY, y_pred_lstm))\n",
        "s[0,1]=np.sqrt(mean_squared_error(testY, y_pred_gru))\n",
        "s[0,2]=np.sqrt(mean_squared_error(testY, y_baseline))\n",
        "s[0,3]=mda(testY, y_pred_lstm)\n",
        "s[0,4]=mda(testY, y_pred_gru)\n",
        "s[0,5]=mda(testY, y_baseline)\n",
        "s\n"
      ],
      "metadata": {
        "colab": {
          "base_uri": "https://localhost:8080/"
        },
        "id": "3_v7TeFFj-sk",
        "outputId": "32100211-ea46-441c-90e0-45141453209a"
      },
      "execution_count": 121,
      "outputs": [
        {
          "output_type": "execute_result",
          "data": {
            "text/plain": [
              "array([[0.04156888, 0.03751911, 0.03758519, 0.504329  , 0.49588745,\n",
              "        0.49978355]])"
            ]
          },
          "metadata": {},
          "execution_count": 121
        }
      ]
    },
    {
      "cell_type": "code",
      "source": [
        "statisticaltests(s)"
      ],
      "metadata": {
        "colab": {
          "base_uri": "https://localhost:8080/"
        },
        "id": "GME2kbz8juX4",
        "outputId": "10fc9a06-d055-4faf-8f36-1c4092962bbe"
      },
      "execution_count": 122,
      "outputs": [
        {
          "output_type": "stream",
          "name": "stdout",
          "text": [
            "LSTM and Baseline (RMSE)\n",
            "U=1.0. p = 1.0\n",
            "GRU and Baseline (RMSE)\n",
            "U=0.0. p = 1.0\n",
            "LSTM and GRU (RMSE)\n",
            "U=1.0. p = 1.0\n",
            "LSTM and Baseline (DA)\n",
            "U=1.0. p = 1.0\n",
            "GRU and Baseline (DA)\n",
            "U=0.0. p = 1.0\n",
            "LSTM and GRU (DA)\n",
            "U=1.0. p = 1.0\n"
          ]
        }
      ]
    },
    {
      "cell_type": "code",
      "source": [
        "# To return the original data from the scaled data\n",
        "original_data_y_pred_lstm = scaler.inverse_transform(y_pred_lstm)\n",
        "original_data_y_pred_lstm"
      ],
      "metadata": {
        "colab": {
          "base_uri": "https://localhost:8080/"
        },
        "id": "sa5pvRi-liCT",
        "outputId": "8ef10f31-6aee-4588-93ad-677ebf063f62"
      },
      "execution_count": 123,
      "outputs": [
        {
          "output_type": "execute_result",
          "data": {
            "text/plain": [
              "array([[113636.76 , 114107.62 , 113932.02 , ..., 108290.414, 108074.36 ,\n",
              "        108175.33 ],\n",
              "       [111309.64 , 111658.01 , 111393.33 , ..., 105499.75 , 105254.99 ,\n",
              "        105513.3  ],\n",
              "       [112302.9  , 112621.07 , 112180.33 , ..., 106125.17 , 105921.2  ,\n",
              "        106367.47 ],\n",
              "       ...,\n",
              "       [117477.39 , 117812.914, 117489.04 , ..., 113156.59 , 112826.93 ,\n",
              "        113068.69 ],\n",
              "       [118637.38 , 118985.016, 118650.51 , ..., 114407.016, 114088.12 ,\n",
              "        114271.09 ],\n",
              "       [118196.23 , 118517.23 , 118222.04 , ..., 114137.875, 113801.99 ,\n",
              "        113863.9  ]], dtype=float32)"
            ]
          },
          "metadata": {},
          "execution_count": 123
        }
      ]
    },
    {
      "cell_type": "code",
      "source": [
        "# To return the original data from the scaled data\n",
        "original_data_y_pred_gru = scaler.inverse_transform(y_pred_gru)\n",
        "original_data_y_pred_gru"
      ],
      "metadata": {
        "colab": {
          "base_uri": "https://localhost:8080/"
        },
        "id": "EhY4ialtlqn6",
        "outputId": "a3bf9ac5-4391-4401-9e25-205f3bf9491c"
      },
      "execution_count": 124,
      "outputs": [
        {
          "output_type": "execute_result",
          "data": {
            "text/plain": [
              "array([[113507.65 , 113452.17 , 113028.414, ..., 109287.85 , 109641.54 ,\n",
              "        109701.8  ],\n",
              "       [111470.125, 111238.484, 110826.81 , ..., 106600.375, 106816.305,\n",
              "        107094.73 ],\n",
              "       [113165.81 , 112892.13 , 112419.164, ..., 107773.55 , 107847.13 ,\n",
              "        108393.77 ],\n",
              "       ...,\n",
              "       [116599.12 , 116014.98 , 116503.45 , ..., 115289.23 , 115567.76 ,\n",
              "        116014.91 ],\n",
              "       [117745.89 , 117273.58 , 117731.78 , ..., 116686.94 , 116873.1  ,\n",
              "        117517.52 ],\n",
              "       [117370.14 , 116844.86 , 117315.11 , ..., 116376.68 , 116617.24 ,\n",
              "        117224.62 ]], dtype=float32)"
            ]
          },
          "metadata": {},
          "execution_count": 124
        }
      ]
    },
    {
      "cell_type": "code",
      "source": [
        "# To return the original data from the scaled data\n",
        "original_data_y_pred_bsline = scaler.inverse_transform(y_baseline)\n",
        "original_data_y_pred_bsline"
      ],
      "metadata": {
        "colab": {
          "base_uri": "https://localhost:8080/"
        },
        "id": "ug4JdYYnlw-I",
        "outputId": "9873be53-9878-44af-b02b-2daaf3c858af"
      },
      "execution_count": 125,
      "outputs": [
        {
          "output_type": "execute_result",
          "data": {
            "text/plain": [
              "array([[114300., 114300., 114300., ..., 114300., 114300., 114300.],\n",
              "       [112072., 112072., 112072., ..., 112072., 112072., 112072.],\n",
              "       [113624., 113624., 113624., ..., 113624., 113624., 113624.],\n",
              "       ...,\n",
              "       [118176., 118176., 118176., ..., 118176., 118176., 118176.],\n",
              "       [119392., 119392., 119392., ..., 119392., 119392., 119392.],\n",
              "       [118758., 118758., 118758., ..., 118758., 118758., 118758.]])"
            ]
          },
          "metadata": {},
          "execution_count": 125
        }
      ]
    },
    {
      "cell_type": "code",
      "source": [
        "!pip install SHAP\n"
      ],
      "metadata": {
        "colab": {
          "base_uri": "https://localhost:8080/"
        },
        "id": "uNzbPE18l3Uq",
        "outputId": "5f6afd1c-5915-4026-9394-09cb248bb570"
      },
      "execution_count": 126,
      "outputs": [
        {
          "output_type": "stream",
          "name": "stdout",
          "text": [
            "Collecting SHAP\n",
            "  Downloading shap-0.43.0-cp310-cp310-manylinux_2_12_x86_64.manylinux2010_x86_64.manylinux_2_17_x86_64.manylinux2014_x86_64.whl (532 kB)\n",
            "\u001b[?25l     \u001b[90m━━━━━━━━━━━━━━━━━━━━━━━━━━━━━━━━━━━━━━━━\u001b[0m \u001b[32m0.0/532.9 kB\u001b[0m \u001b[31m?\u001b[0m eta \u001b[36m-:--:--\u001b[0m\r\u001b[2K     \u001b[91m━━━━\u001b[0m\u001b[91m╸\u001b[0m\u001b[90m━━━━━━━━━━━━━━━━━━━━━━━━━━━━━━━━━━━\u001b[0m \u001b[32m61.4/532.9 kB\u001b[0m \u001b[31m1.9 MB/s\u001b[0m eta \u001b[36m0:00:01\u001b[0m\r\u001b[2K     \u001b[91m━━━━━━━━━━━━━━━━━━━━━━━━━━━━━━━━━━━━━━━\u001b[0m\u001b[91m╸\u001b[0m \u001b[32m532.5/532.9 kB\u001b[0m \u001b[31m8.3 MB/s\u001b[0m eta \u001b[36m0:00:01\u001b[0m\r\u001b[2K     \u001b[90m━━━━━━━━━━━━━━━━━━━━━━━━━━━━━━━━━━━━━━━━\u001b[0m \u001b[32m532.9/532.9 kB\u001b[0m \u001b[31m7.1 MB/s\u001b[0m eta \u001b[36m0:00:00\u001b[0m\n",
            "\u001b[?25hRequirement already satisfied: numpy in /usr/local/lib/python3.10/dist-packages (from SHAP) (1.23.5)\n",
            "Requirement already satisfied: scipy in /usr/local/lib/python3.10/dist-packages (from SHAP) (1.11.3)\n",
            "Requirement already satisfied: scikit-learn in /usr/local/lib/python3.10/dist-packages (from SHAP) (1.2.2)\n",
            "Requirement already satisfied: pandas in /usr/local/lib/python3.10/dist-packages (from SHAP) (1.5.3)\n",
            "Requirement already satisfied: tqdm>=4.27.0 in /usr/local/lib/python3.10/dist-packages (from SHAP) (4.66.1)\n",
            "Requirement already satisfied: packaging>20.9 in /usr/local/lib/python3.10/dist-packages (from SHAP) (23.2)\n",
            "Collecting slicer==0.0.7 (from SHAP)\n",
            "  Downloading slicer-0.0.7-py3-none-any.whl (14 kB)\n",
            "Requirement already satisfied: numba in /usr/local/lib/python3.10/dist-packages (from SHAP) (0.56.4)\n",
            "Requirement already satisfied: cloudpickle in /usr/local/lib/python3.10/dist-packages (from SHAP) (2.2.1)\n",
            "Requirement already satisfied: llvmlite<0.40,>=0.39.0dev0 in /usr/local/lib/python3.10/dist-packages (from numba->SHAP) (0.39.1)\n",
            "Requirement already satisfied: setuptools in /usr/local/lib/python3.10/dist-packages (from numba->SHAP) (67.7.2)\n",
            "Requirement already satisfied: python-dateutil>=2.8.1 in /usr/local/lib/python3.10/dist-packages (from pandas->SHAP) (2.8.2)\n",
            "Requirement already satisfied: pytz>=2020.1 in /usr/local/lib/python3.10/dist-packages (from pandas->SHAP) (2023.3.post1)\n",
            "Requirement already satisfied: joblib>=1.1.1 in /usr/local/lib/python3.10/dist-packages (from scikit-learn->SHAP) (1.3.2)\n",
            "Requirement already satisfied: threadpoolctl>=2.0.0 in /usr/local/lib/python3.10/dist-packages (from scikit-learn->SHAP) (3.2.0)\n",
            "Requirement already satisfied: six>=1.5 in /usr/local/lib/python3.10/dist-packages (from python-dateutil>=2.8.1->pandas->SHAP) (1.16.0)\n",
            "Installing collected packages: slicer, SHAP\n",
            "Successfully installed SHAP-0.43.0 slicer-0.0.7\n"
          ]
        }
      ]
    },
    {
      "cell_type": "code",
      "source": [
        "g = 230 #Chooses one of the tests samples\n",
        "\n",
        "plt.plot(testY[g,:], label = 'Actual')\n",
        "plt.plot(y_baseline[g,:], label = 'Baseline prediction')\n",
        "plt.plot(y_pred_lstm[g,:], label = 'LSTM prediction')\n",
        "plt.plot(y_pred_gru[g,:], label = 'GRU prediction')\n",
        "plt.legend()\n",
        "plt.xlabel('Days')\n",
        "days = np.arange(testY.shape[1]+1)\n",
        "new_list = range(math.floor(min(days)), math.ceil(max(days))+1)\n",
        "plt.xticks(new_list)\n",
        "plt.ylabel('Value')"
      ],
      "metadata": {
        "colab": {
          "base_uri": "https://localhost:8080/",
          "height": 466
        },
        "id": "r-SiPoEpvyRZ",
        "outputId": "9038b6ed-4a90-43be-e241-396c458bbc48"
      },
      "execution_count": 176,
      "outputs": [
        {
          "output_type": "execute_result",
          "data": {
            "text/plain": [
              "Text(0, 0.5, 'Value')"
            ]
          },
          "metadata": {},
          "execution_count": 176
        },
        {
          "output_type": "display_data",
          "data": {
            "text/plain": [
              "<Figure size 640x480 with 1 Axes>"
            ],
            "image/png": "[encoded data removed]"
          },
          "metadata": {}
        }
      ]
    },
    {
      "cell_type": "code",
      "source": [
        "#\"\"\"Plot loss function and Predictions\"\"\"\n",
        "plt.plot(lstm_trained.history['loss'], label = 'LSTM')\n",
        "plt.plot(gru_trained.history['loss'], label = 'GRU los')\n",
        "plt.legend()\n",
        "plt.xlabel('Epochs')\n",
        "plt.ylabel('MSE Loss')"
      ],
      "metadata": {
        "colab": {
          "base_uri": "https://localhost:8080/",
          "height": 466
        },
        "id": "88-_OUMmwPPR",
        "outputId": "1cb62433-157b-4a58-e14d-5ef70d3fe611"
      },
      "execution_count": 177,
      "outputs": [
        {
          "output_type": "execute_result",
          "data": {
            "text/plain": [
              "Text(0, 0.5, 'MSE Loss')"
            ]
          },
          "metadata": {},
          "execution_count": 177
        },
        {
          "output_type": "display_data",
          "data": {
            "text/plain": [
              "<Figure size 640x480 with 1 Axes>"
            ],
            "image/png": "[encoded data removed]"
          },
          "metadata": {}
        }
      ]
    },
    {
      "cell_type": "code",
      "source": [
        "# Choose a specific input sequence to explain\n",
        "input_sequence = testX[230, :, 0]  # Assuming your input_sequence is (60,) shape\n",
        "\n",
        "# Predict using your LSTM model\n",
        "forecast = y_pred_lstm\n",
        "\n",
        "# Ensure that forecast has the same number of time steps as input_sequence\n",
        "forecast = forecast[[1,2,3],:]\n",
        "\n",
        "forecast=forecast.reshape(60)"
      ],
      "metadata": {
        "id": "UG75cIdOw6OY"
      },
      "execution_count": 252,
      "outputs": []
    },
    {
      "cell_type": "code",
      "source": [
        "# Calculate the correlation between each lag and the forecast\n",
        "correlations = [np.corrcoef(input_sequence[i:], forecast[i:])[0, 1] for i in range(len(input_sequence))]\n",
        "\n",
        "# Plot the correlations to visualize the importance of each lag\n",
        "plt.bar(range(len(input_sequence)), correlations)\n",
        "plt.xlabel('Lag (Time Step)')\n",
        "plt.ylabel('Correlation with Forecast')\n",
        "plt.title('Feature Importance Analysis for testX')\n",
        "plt.show()"
      ],
      "metadata": {
        "colab": {
          "base_uri": "https://localhost:8080/",
          "height": 524
        },
        "id": "TRoLAR2Q59Yy",
        "outputId": "5a67c9df-4563-45cd-803b-918fb90cb912"
      },
      "execution_count": 253,
      "outputs": [
        {
          "output_type": "stream",
          "name": "stderr",
          "text": [
            "Degrees of freedom <= 0 for slice\n",
            "divide by zero encountered in divide\n",
            "invalid value encountered in multiply\n"
          ]
        },
        {
          "output_type": "display_data",
          "data": {
            "text/plain": [
              "<Figure size 640x480 with 1 Axes>"
            ],
            "image/png": "[encoded data removed]"
          },
          "metadata": {}
        }
      ]
    }
  ]
}