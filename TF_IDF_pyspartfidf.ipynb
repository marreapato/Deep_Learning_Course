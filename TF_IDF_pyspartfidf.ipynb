{
  "nbformat": 4,
  "nbformat_minor": 0,
  "metadata": {
    "colab": {
      "provenance": [],
      "include_colab_link": true
    },
    "kernelspec": {
      "name": "python3",
      "display_name": "Python 3"
    },
    "language_info": {
      "name": "python"
    }
  },
  "cells": [
    {
      "cell_type": "markdown",
      "metadata": {
        "id": "view-in-github",
        "colab_type": "text"
      },
      "source": [
        "<a href=\"https://colab.research.google.com/github/marreapato/Deep_Learning_Course/blob/main/TF_IDF_pyspartfidf.ipynb\" target=\"_parent\"><img src=\"https://colab.research.google.com/assets/colab-badge.svg\" alt=\"Open In Colab\"/></a>"
      ]
    },
    {
      "cell_type": "code",
      "source": [
        "from google.colab import drive\n",
        "drive.mount('/content/gdrive', force_remount=True)"
      ],
      "metadata": {
        "colab": {
          "base_uri": "https://localhost:8080/"
        },
        "id": "uJ2yHaWVhXDT",
        "outputId": "ee19f886-f3c8-4bda-cf47-331f8de45203"
      },
      "execution_count": 1,
      "outputs": [
        {
          "output_type": "stream",
          "name": "stdout",
          "text": [
            "Mounted at /content/gdrive\n"
          ]
        }
      ]
    },
    {
      "cell_type": "code",
      "source": [
        "%cd /content/gdrive/MyDrive/mlcrs/\n",
        "\n",
        "!ls"
      ],
      "metadata": {
        "colab": {
          "base_uri": "https://localhost:8080/"
        },
        "id": "lgmm6PxbhXZy",
        "outputId": "2003cea1-3296-479e-a62a-35cc16c589c1"
      },
      "execution_count": 2,
      "outputs": [
        {
          "output_type": "stream",
          "name": "stdout",
          "text": [
            "/content/gdrive/MyDrive/mlcrs\n",
            "access_log.txt\t\t\t      KFoldCrossValidation.ipynb     Percentiles.ipynb\n",
            "breakfast.jpg\t\t\t      KMeans.ipynb\t\t     PoliticsExercise.ipynb\n",
            "bridge.jpg\t\t\t      LinearRegression.ipynb\t     PolynomialRegression.ipynb\n",
            "bunny.jpg\t\t\t      mammographic_masses.data.txt   Python101.ipynb\n",
            "castle.jpg\t\t\t      mammographic_masses.names.txt  regression.txt\n",
            "ConditionalProbabilityExercise.ipynb  mammo_masses_project.ipynb     Seaborn.ipynb\n",
            "ConditionalProbabilitySolution.ipynb  MatPlotLib.ipynb\t\t     SparkDecisionTree.py\n",
            "CovarianceCorrelation.ipynb\t      MeanMedianExercise.ipynb\t     SparkKMeans.py\n",
            "DecisionTree.ipynb\t\t      MeanMedianMode.ipynb\t     SparkLinearRegression.py\n",
            "DeepLearningProject.ipynb\t      ml-100k\t\t\t     SparkPCA.py\n",
            "DeepLearningProject-Solution.ipynb    MLCourse.zip\t\t     StdDevVariance.ipynb\n",
            "distancerecomendation-KNN.ipynb       mlcrsItemBasedCF.ipynb\t     subset-small.tsv\n",
            "Distributions.ipynb\t\t      mlcrsQ-Learning.ipynb\t     SVC.ipynb\n",
            "emails\t\t\t\t      mlcrs_SimilarMovies.ipynb      Tensorflow.ipynb\n",
            "fighterjet.jpg\t\t\t      MNIST_data\t\t     TF-IDF.py\n",
            "FinalProjectAssignment.ipynb\t      Moments.ipynb\t\t     TopPages.ipynb\n",
            "firetruck.jpg\t\t\t      MultipleRegression.ipynb\t     TrainTest.ipynb\n",
            "GAN_on_Fashion_MNIST.ipynb\t      MyPlot.png\t\t     TransferLearning.ipynb\n",
            "GenAI\t\t\t\t      NaiveBayes.ipynb\t\t     TTest.ipynb\n",
            "house-votes-84.data.txt\t\t      Outliers.ipynb\t\t     VariationalAutoEncoders.ipynb\n",
            "house-votes-84.names.txt\t      PandasTutorial.ipynb\t     VLA.jpg\n",
            "Keras-CNN.ipynb\t\t\t      PastHires.csv\t\t     XGBoost.ipynb\n",
            "Keras.ipynb\t\t\t      PCA.ipynb\n",
            "Keras-RNN.ipynb\t\t\t      peek.jpg\n"
          ]
        }
      ]
    },
    {
      "cell_type": "code",
      "source": [
        "data_dir = \"/content/gdrive/MyDrive/mlcrs/subset-small.tsv\""
      ],
      "metadata": {
        "id": "CVprrAAZhZUT"
      },
      "execution_count": 4,
      "outputs": []
    },
    {
      "cell_type": "code",
      "source": [
        "!sudo apt update\n",
        "!apt-get install openjdk-8-jdk-headless -qq > /dev/null\n",
        "#Check this site for the latest download link https://www.apache.org/dyn/closer.lua/spark/spark-3.2.1/spark-3.2.1-bin-hadoop3.2.tgz\n",
        "!wget -q https://dlcdn.apache.org/spark/spark-3.2.1/spark-3.2.1-bin-hadoop3.2.tgz\n",
        "!tar xf spark-3.2.1-bin-hadoop3.2.tgz\n",
        "!pip install -q findspark\n",
        "!pip install pyspark\n",
        "!pip install py4j\n",
        "\n",
        "import os\n",
        "import sys\n",
        "# os.environ[\"JAVA_HOME\"] = \"/usr/lib/jvm/java-8-openjdk-amd64\"\n",
        "# os.environ[\"SPARK_HOME\"] = \"/content/spark-3.2.1-bin-hadoop3.2\"\n",
        "\n",
        "\n",
        "import findspark\n",
        "findspark.init()\n",
        "findspark.find()\n",
        "\n",
        "import pyspark\n",
        "\n",
        "from pyspark.sql import DataFrame, SparkSession\n",
        "from typing import List\n",
        "import pyspark.sql.types as T\n",
        "import pyspark.sql.functions as F\n",
        "\n",
        "spark= SparkSession \\\n",
        "       .builder \\\n",
        "       .appName(\"Our First Spark Example\") \\\n",
        "       .getOrCreate()\n",
        "\n",
        "spark"
      ],
      "metadata": {
        "colab": {
          "base_uri": "https://localhost:8080/",
          "height": 914
        },
        "id": "RsHhiNT4bvSH",
        "outputId": "9fd22374-c956-4300-88b8-5a8796a708cb"
      },
      "execution_count": 5,
      "outputs": [
        {
          "output_type": "stream",
          "name": "stdout",
          "text": [
            "\u001b[33m\r0% [Working]\u001b[0m\r            \rGet:1 https://cloud.r-project.org/bin/linux/ubuntu jammy-cran40/ InRelease [3,626 B]\n",
            "\u001b[33m\r0% [Connecting to archive.ubuntu.com (185.125.190.39)] [Waiting for headers] [1\u001b[0m\u001b[33m\r0% [Connecting to archive.ubuntu.com (185.125.190.39)] [Waiting for headers] [C\u001b[0m\r                                                                               \rGet:2 http://security.ubuntu.com/ubuntu jammy-security InRelease [110 kB]\n",
            "Get:3 https://developer.download.nvidia.com/compute/cuda/repos/ubuntu2204/x86_64  InRelease [1,581 B]\n",
            "Hit:4 http://archive.ubuntu.com/ubuntu jammy InRelease\n",
            "Get:5 http://archive.ubuntu.com/ubuntu jammy-updates InRelease [119 kB]\n",
            "Get:6 https://developer.download.nvidia.com/compute/cuda/repos/ubuntu2204/x86_64  Packages [662 kB]\n",
            "Get:7 https://ppa.launchpadcontent.net/c2d4u.team/c2d4u4.0+/ubuntu jammy InRelease [18.1 kB]\n",
            "Hit:8 https://ppa.launchpadcontent.net/deadsnakes/ppa/ubuntu jammy InRelease\n",
            "Get:9 http://security.ubuntu.com/ubuntu jammy-security/restricted amd64 Packages [1,600 kB]\n",
            "Hit:10 http://archive.ubuntu.com/ubuntu jammy-backports InRelease\n",
            "Hit:11 https://ppa.launchpadcontent.net/graphics-drivers/ppa/ubuntu jammy InRelease\n",
            "Hit:12 https://ppa.launchpadcontent.net/ubuntugis/ppa/ubuntu jammy InRelease\n",
            "Get:13 https://ppa.launchpadcontent.net/c2d4u.team/c2d4u4.0+/ubuntu jammy/main Sources [2,263 kB]\n",
            "Get:14 http://security.ubuntu.com/ubuntu jammy-security/main amd64 Packages [1,344 kB]\n",
            "Get:15 http://security.ubuntu.com/ubuntu jammy-security/universe amd64 Packages [1,053 kB]\n",
            "Get:16 http://archive.ubuntu.com/ubuntu jammy-updates/restricted amd64 Packages [1,635 kB]\n",
            "Get:17 http://archive.ubuntu.com/ubuntu jammy-updates/universe amd64 Packages [1,313 kB]\n",
            "Get:18 http://archive.ubuntu.com/ubuntu jammy-updates/multiverse amd64 Packages [50.4 kB]\n",
            "Get:19 http://archive.ubuntu.com/ubuntu jammy-updates/main amd64 Packages [1,621 kB]\n",
            "Get:20 https://ppa.launchpadcontent.net/c2d4u.team/c2d4u4.0+/ubuntu jammy/main amd64 Packages [1,161 kB]\n",
            "Fetched 13.0 MB in 6s (2,151 kB/s)\n",
            "Reading package lists... Done\n",
            "Building dependency tree... Done\n",
            "Reading state information... Done\n",
            "27 packages can be upgraded. Run 'apt list --upgradable' to see them.\n",
            "tar: spark-3.2.1-bin-hadoop3.2.tgz: Cannot open: No such file or directory\n",
            "tar: Error is not recoverable: exiting now\n",
            "Collecting pyspark\n",
            "  Downloading pyspark-3.5.0.tar.gz (316.9 MB)\n",
            "\u001b[2K     \u001b[90m━━━━━━━━━━━━━━━━━━━━━━━━━━━━━━━━━━━━━━━━\u001b[0m \u001b[32m316.9/316.9 MB\u001b[0m \u001b[31m3.4 MB/s\u001b[0m eta \u001b[36m0:00:00\u001b[0m\n",
            "\u001b[?25h  Preparing metadata (setup.py) ... \u001b[?25l\u001b[?25hdone\n",
            "Requirement already satisfied: py4j==0.10.9.7 in /usr/local/lib/python3.10/dist-packages (from pyspark) (0.10.9.7)\n",
            "Building wheels for collected packages: pyspark\n",
            "  Building wheel for pyspark (setup.py) ... \u001b[?25l\u001b[?25hdone\n",
            "  Created wheel for pyspark: filename=pyspark-3.5.0-py2.py3-none-any.whl size=317425345 sha256=eab89a3f3b85a163ea8735eb1d340dbb68c5eefe3db2005a6bbc7056009d2290\n",
            "  Stored in directory: /root/.cache/pip/wheels/41/4e/10/c2cf2467f71c678cfc8a6b9ac9241e5e44a01940da8fbb17fc\n",
            "Successfully built pyspark\n",
            "Installing collected packages: pyspark\n",
            "Successfully installed pyspark-3.5.0\n",
            "Requirement already satisfied: py4j in /usr/local/lib/python3.10/dist-packages (0.10.9.7)\n"
          ]
        },
        {
          "output_type": "execute_result",
          "data": {
            "text/plain": [
              "<pyspark.sql.session.SparkSession at 0x7a5d0c3fa680>"
            ],
            "text/html": [
              "\n",
              "            <div>\n",
              "                <p><b>SparkSession - in-memory</b></p>\n",
              "                \n",
              "        <div>\n",
              "            <p><b>SparkContext</b></p>\n",
              "\n",
              "            <p><a href=\"http://09e6835dec91:4040\">Spark UI</a></p>\n",
              "\n",
              "            <dl>\n",
              "              <dt>Version</dt>\n",
              "                <dd><code>v3.5.0</code></dd>\n",
              "              <dt>Master</dt>\n",
              "                <dd><code>local[*]</code></dd>\n",
              "              <dt>AppName</dt>\n",
              "                <dd><code>Our First Spark Example</code></dd>\n",
              "            </dl>\n",
              "        </div>\n",
              "        \n",
              "            </div>\n",
              "        "
            ]
          },
          "metadata": {},
          "execution_count": 5
        }
      ]
    },
    {
      "cell_type": "code",
      "execution_count": 7,
      "metadata": {
        "id": "WKfbkTqPVk-L"
      },
      "outputs": [],
      "source": [
        "from pyspark import SparkConf, SparkContext\n",
        "from pyspark.mllib.feature import HashingTF\n",
        "from pyspark.mllib.feature import IDF\n",
        "\n",
        "# Boilerplate Spark stuff:\n",
        "conf = SparkConf().setMaster(\"local\").setAppName(\"SparkTFIDF\")\n",
        "sc = SparkContext.getOrCreate(conf = conf)\n",
        "\n",
        "# Load documents (one per line).\n",
        "rawData = sc.textFile(data_dir)\n",
        "fields = rawData.map(lambda x: x.split(\"\\t\"))\n",
        "documents = fields.map(lambda x: x[3].split(\" \"))\n",
        "\n"
      ]
    },
    {
      "cell_type": "code",
      "source": [
        "rawData"
      ],
      "metadata": {
        "colab": {
          "base_uri": "https://localhost:8080/"
        },
        "id": "9rruR3kHbqDJ",
        "outputId": "18298835-5d92-4964-b44f-2288f384cfcc"
      },
      "execution_count": 8,
      "outputs": [
        {
          "output_type": "execute_result",
          "data": {
            "text/plain": [
              "/content/gdrive/MyDrive/mlcrs/subset-small.tsv MapPartitionsRDD[1] at textFile at NativeMethodAccessorImpl.java:0"
            ]
          },
          "metadata": {},
          "execution_count": 8
        }
      ]
    },
    {
      "cell_type": "code",
      "source": [
        "# Store the document names for later:\n",
        "documentNames = fields.map(lambda x: x[1])\n",
        "\n",
        "# Now hash the words in each document to their term frequencies:\n",
        "hashingTF = HashingTF(100000)  #100K hash buckets just to save some memory\n",
        "tf = hashingTF.transform(documents)\n",
        "\n"
      ],
      "metadata": {
        "id": "8NvmC1-bbqYO"
      },
      "execution_count": 9,
      "outputs": []
    },
    {
      "cell_type": "code",
      "source": [
        "tf"
      ],
      "metadata": {
        "colab": {
          "base_uri": "https://localhost:8080/"
        },
        "id": "pieV8nQVtBa9",
        "outputId": "b073bc31-8f15-4dde-d90b-38073d674a74"
      },
      "execution_count": 10,
      "outputs": [
        {
          "output_type": "execute_result",
          "data": {
            "text/plain": [
              "PythonRDD[2] at RDD at PythonRDD.scala:53"
            ]
          },
          "metadata": {},
          "execution_count": 10
        }
      ]
    },
    {
      "cell_type": "code",
      "source": [
        "# At this point we have an RDD of sparse vectors representing each document,\n",
        "# where each value maps to the term frequency of each unique hash value.\n",
        "\n",
        "# Let's compute the TF*IDF of each term in each document:\n",
        "tf.cache()\n",
        "idf = IDF(minDocFreq=2).fit(tf)\n",
        "tfidf = idf.transform(tf)\n",
        "\n",
        "# Now we have an RDD of sparse vectors, where each value is the TFxIDF\n",
        "# of each unique hash value for each document.\n",
        "\n",
        "# I happen to know that the article for \"Abraham Lincoln\" is in our data\n",
        "# set, so let's search for \"Gettysburg\" (Lincoln gave a famous speech there):\n",
        "\n",
        "# First, let's figure out what hash value \"Gettysburg\" maps to by finding the\n",
        "# index a sparse vector from HashingTF gives us back:\n",
        "gettysburgTF = hashingTF.transform([\"Gettysburg\"])\n",
        "gettysburgHashValue = int(gettysburgTF.indices[0])\n",
        "\n",
        "# Now we will extract the TF*IDF score for Gettsyburg's hash value into\n",
        "# a new RDD for each document:\n",
        "gettysburgRelevance = tfidf.map(lambda x: x[gettysburgHashValue])\n",
        "\n",
        "# We'll zip in the document names so we can see which is which:\n",
        "zippedResults = gettysburgRelevance.zip(documentNames)\n",
        "\n",
        "# And, print the document with the maximum TF*IDF value:\n",
        "print(\"Best document for Gettysburg is:\")\n",
        "print(zippedResults.max())"
      ],
      "metadata": {
        "colab": {
          "base_uri": "https://localhost:8080/"
        },
        "id": "4dnTkSFns-5i",
        "outputId": "7657d356-5dd6-4715-a9e2-99934f2be837"
      },
      "execution_count": 11,
      "outputs": [
        {
          "output_type": "stream",
          "name": "stdout",
          "text": [
            "Best document for Gettysburg is:\n",
            "(0.0, 'Ælle of Sussex')\n"
          ]
        }
      ]
    }
  ]
}