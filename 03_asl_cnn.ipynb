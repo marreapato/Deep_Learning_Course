{
  "cells": [
    {
      "cell_type": "markdown",
      "metadata": {
        "id": "view-in-github",
        "colab_type": "text"
      },
      "source": [
        "<a href=\"https://colab.research.google.com/github/marreapato/Deep_Learning_Course/blob/main/03_asl_cnn.ipynb\" target=\"_parent\"><img src=\"https://colab.research.google.com/assets/colab-badge.svg\" alt=\"Open In Colab\"/></a>"
      ]
    },
    {
      "cell_type": "markdown",
      "metadata": {
        "id": "rfQLdwVLfahD"
      },
      "source": [
        "<center><a href=\"https://www.nvidia.com/dli\"> <img src=\"https://drive.google.com/uc?id=1J3bpGyJcz-7uOFkUNhvOBiReBCk-sUwR\" width=\"200\" </a></center>"
      ]
    },
    {
      "cell_type": "markdown",
      "source": [
        "#Connect with Google Drive"
      ],
      "metadata": {
        "id": "JacysjUcfmde"
      }
    },
    {
      "cell_type": "code",
      "source": [
        "from google.colab import drive\n",
        "drive.mount('/content/gdrive', force_remount=True)"
      ],
      "metadata": {
        "id": "eTfKpA66frJJ",
        "colab": {
          "base_uri": "https://localhost:8080/"
        },
        "outputId": "4ef89720-4a8b-4dd8-ef06-4d2d5498f913"
      },
      "execution_count": 4,
      "outputs": [
        {
          "output_type": "stream",
          "name": "stdout",
          "text": [
            "Mounted at /content/gdrive\n"
          ]
        }
      ]
    },
    {
      "cell_type": "code",
      "source": [
        "%cd /content/gdrive/MyDrive/Fundamentals_Deep_Learning\n",
        "\n",
        "!ls"
      ],
      "metadata": {
        "id": "RnT98EqwftY5",
        "colab": {
          "base_uri": "https://localhost:8080/"
        },
        "outputId": "3d1bf482-ea67-440d-b1f2-651485d17f81"
      },
      "execution_count": 5,
      "outputs": [
        {
          "output_type": "stream",
          "name": "stdout",
          "text": [
            "/content/gdrive/MyDrive/Fundamentals_Deep_Learning\n",
            "001_tensorflow.ipynb  04a_asl_augmentation.ipynb\t asl_model\n",
            "00_jupyterlab.ipynb   04b_asl_predictions.ipynb\t\t data\n",
            "01_mnist.ipynb\t      05a_doggy_door.ipynb\t\t images\n",
            "02_asl.ipynb\t      05b_presidential_doggy_door.ipynb\n",
            "03_asl_cnn.ipynb      06_headline_generator.ipynb\n"
          ]
        }
      ]
    },
    {
      "cell_type": "markdown",
      "metadata": {
        "id": "Cu0vN-QIfahI"
      },
      "source": [
        "# Convolutional Neural Networks"
      ]
    },
    {
      "cell_type": "markdown",
      "metadata": {
        "id": "3hfTHQfgfahK"
      },
      "source": [
        "In the previous section, we built and trained a simple model to classify ASL images. The model was able to learn how to correctly classify the training dataset with very high accuracy, but, it did not perform nearly as well on validation dataset. This behavior of not generalizing well to non-training data is called [overfitting](https://scikit-learn.org/stable/auto_examples/model_selection/plot_underfitting_overfitting.html), and in this section, we will introduce a popular kind of model called a [convolutional neural network](https://towardsdatascience.com/a-comprehensive-guide-to-convolutional-neural-networks-the-eli5-way-3bd2b1164a53) that is especially good for reading images and classifying them."
      ]
    },
    {
      "cell_type": "markdown",
      "metadata": {
        "id": "u6Nw-o39fahL"
      },
      "source": [
        "## Objectives"
      ]
    },
    {
      "cell_type": "markdown",
      "metadata": {
        "id": "3u5gYYaBfahL"
      },
      "source": [
        "* Prep data specifically for a CNN\n",
        "* Create a more sophisticated CNN model, understanding a greater variety of model layers\n",
        "* Train a CNN model and observe its performance"
      ]
    },
    {
      "cell_type": "markdown",
      "metadata": {
        "id": "ooGDTzq6fahM"
      },
      "source": [
        "## Loading and Preparing the Data"
      ]
    },
    {
      "cell_type": "markdown",
      "metadata": {
        "id": "hex8Mx8KfahN"
      },
      "source": [
        "The below cell contains the data preprocessing techniques we learned in the previous labs. Review it and execute it before moving on:"
      ]
    },
    {
      "cell_type": "code",
      "execution_count": 6,
      "metadata": {
        "id": "6n2etmX9fahO"
      },
      "outputs": [],
      "source": [
        "import tensorflow.keras as keras\n",
        "import pandas as pd\n",
        "\n",
        "# Load in our data from CSV files\n",
        "train_df = pd.read_csv(\"data/asl_data/sign_mnist_train.csv\")\n",
        "valid_df = pd.read_csv(\"data/asl_data/sign_mnist_valid.csv\")\n",
        "\n",
        "# Separate out our target values\n",
        "y_train = train_df['label']\n",
        "y_valid = valid_df['label']\n",
        "del train_df['label']\n",
        "del valid_df['label']\n",
        "\n",
        "# Separate out our image vectors\n",
        "x_train = train_df.values\n",
        "x_valid = valid_df.values\n",
        "\n",
        "# Turn our scalar targets into binary categories\n",
        "num_classes = 24\n",
        "y_train = keras.utils.to_categorical(y_train, num_classes)\n",
        "y_valid = keras.utils.to_categorical(y_valid, num_classes)\n",
        "\n",
        "# Normalize our image data\n",
        "x_train = x_train / 255\n",
        "x_valid = x_valid / 255"
      ]
    },
    {
      "cell_type": "code",
      "source": [
        "print(x_train)"
      ],
      "metadata": {
        "colab": {
          "base_uri": "https://localhost:8080/"
        },
        "id": "MZ5U6ILs2ceG",
        "outputId": "e9f665a6-120f-4474-b0a2-eb52d951ee8a"
      },
      "execution_count": 7,
      "outputs": [
        {
          "output_type": "stream",
          "name": "stdout",
          "text": [
            "[[0.41960784 0.4627451  0.49803922 ... 0.8        0.79607843 0.79215686]\n",
            " [0.60784314 0.61568627 0.61176471 ... 0.40392157 0.52941176 0.58431373]\n",
            " [0.73333333 0.7372549  0.7372549  ... 0.76470588 0.76078431 0.76470588]\n",
            " ...\n",
            " [0.68235294 0.68235294 0.68235294 ... 0.79215686 0.78431373 0.78431373]\n",
            " [0.69411765 0.70980392 0.72156863 ... 0.25098039 0.34117647 0.36470588]\n",
            " [0.70196078 0.70588235 0.70588235 ... 0.80392157 0.81960784 0.84313725]]\n"
          ]
        }
      ]
    },
    {
      "cell_type": "markdown",
      "metadata": {
        "id": "fOmD22_7fahQ"
      },
      "source": [
        "## Reshaping Images for a CNN"
      ]
    },
    {
      "cell_type": "markdown",
      "metadata": {
        "id": "GrFa7VDtfahQ"
      },
      "source": [
        "In the last exercise, the individual pictures in our dataset are in the format of long lists of 784 pixels:"
      ]
    },
    {
      "cell_type": "code",
      "execution_count": 8,
      "metadata": {
        "id": "pqmjUMV6fahR",
        "colab": {
          "base_uri": "https://localhost:8080/"
        },
        "outputId": "a367a217-a0ca-4c0f-9136-e35ad70fdb4b"
      },
      "outputs": [
        {
          "output_type": "execute_result",
          "data": {
            "text/plain": [
              "((27455, 784), (7172, 784))"
            ]
          },
          "metadata": {},
          "execution_count": 8
        }
      ],
      "source": [
        "x_train.shape, x_valid.shape"
      ]
    },
    {
      "cell_type": "markdown",
      "metadata": {
        "id": "7EnwsZ7TfahR"
      },
      "source": [
        "In this format, we don't have all the information about which pixels are near each other. Because of this, we can't apply convolutions that will detect features. Let's reshape our dataset so that they are in a 28x28 pixel format. This will allow our convolutions to associate groups of pixels and detect important features.\n",
        "\n",
        "Note that for the first convolutional layer of our model, we need to have not only the height and width of the image, but also the number of [color channels](https://www.photoshopessentials.com/essentials/rgb/). Our images are grayscale, so we'll just have 1 channel.\n",
        "\n",
        "That means that we need to convert the current shape `(27455, 784)` to `(27455, 28, 28, 1)`. As a convenience, we can pass the [reshape](https://numpy.org/doc/stable/reference/generated/numpy.reshape.html#numpy.reshape) method a `-1` for any dimension we wish to remain the same, therefore:"
      ]
    },
    {
      "cell_type": "code",
      "execution_count": 7,
      "metadata": {
        "id": "dFEOljivfahS"
      },
      "outputs": [],
      "source": [
        "x_train = x_train.reshape(-1,28,28,1)\n",
        "x_valid = x_valid.reshape(-1,28,28,1)"
      ]
    },
    {
      "cell_type": "code",
      "execution_count": 10,
      "metadata": {
        "id": "kzc9LxlRfahS",
        "colab": {
          "base_uri": "https://localhost:8080/"
        },
        "outputId": "fb905a28-835b-47ad-92f8-fab28f824937"
      },
      "outputs": [
        {
          "output_type": "execute_result",
          "data": {
            "text/plain": [
              "(27455, 28, 28, 1)"
            ]
          },
          "metadata": {},
          "execution_count": 10
        }
      ],
      "source": [
        "x_train.shape"
      ]
    },
    {
      "cell_type": "code",
      "execution_count": 11,
      "metadata": {
        "id": "gah5lzsXfahT",
        "colab": {
          "base_uri": "https://localhost:8080/"
        },
        "outputId": "1e6879da-8b2e-4c81-abd7-251527371483"
      },
      "outputs": [
        {
          "output_type": "execute_result",
          "data": {
            "text/plain": [
              "(7172, 28, 28, 1)"
            ]
          },
          "metadata": {},
          "execution_count": 11
        }
      ],
      "source": [
        "x_valid.shape"
      ]
    },
    {
      "cell_type": "code",
      "execution_count": 12,
      "metadata": {
        "id": "IwFAtwl0fahT",
        "colab": {
          "base_uri": "https://localhost:8080/"
        },
        "outputId": "9f294454-8f21-4be6-fdaf-6db9bbfd15a5"
      },
      "outputs": [
        {
          "output_type": "execute_result",
          "data": {
            "text/plain": [
              "((27455, 28, 28, 1), (7172, 28, 28, 1))"
            ]
          },
          "metadata": {},
          "execution_count": 12
        }
      ],
      "source": [
        "x_train.shape, x_valid.shape"
      ]
    },
    {
      "cell_type": "code",
      "source": [
        "print(x_train)"
      ],
      "metadata": {
        "colab": {
          "base_uri": "https://localhost:8080/"
        },
        "id": "JoKkv-5T1pdh",
        "outputId": "3c0c2189-e306-44e5-f712-6aa79c341321"
      },
      "execution_count": 13,
      "outputs": [
        {
          "output_type": "stream",
          "name": "stdout",
          "text": [
            "[[[[0.41960784]\n",
            "   [0.4627451 ]\n",
            "   [0.49803922]\n",
            "   ...\n",
            "   [0.66666667]\n",
            "   [0.66666667]\n",
            "   [0.6627451 ]]\n",
            "\n",
            "  [[0.43529412]\n",
            "   [0.4745098 ]\n",
            "   [0.50588235]\n",
            "   ...\n",
            "   [0.67058824]\n",
            "   [0.67058824]\n",
            "   [0.66666667]]\n",
            "\n",
            "  [[0.44313725]\n",
            "   [0.48235294]\n",
            "   [0.51372549]\n",
            "   ...\n",
            "   [0.67058824]\n",
            "   [0.67058824]\n",
            "   [0.67058824]]\n",
            "\n",
            "  ...\n",
            "\n",
            "  [[0.55686275]\n",
            "   [0.58823529]\n",
            "   [0.62352941]\n",
            "   ...\n",
            "   [0.79215686]\n",
            "   [0.78823529]\n",
            "   [0.78431373]]\n",
            "\n",
            "  [[0.55686275]\n",
            "   [0.59215686]\n",
            "   [0.62745098]\n",
            "   ...\n",
            "   [0.8       ]\n",
            "   [0.79607843]\n",
            "   [0.79215686]]\n",
            "\n",
            "  [[0.55686275]\n",
            "   [0.59215686]\n",
            "   [0.62745098]\n",
            "   ...\n",
            "   [0.8       ]\n",
            "   [0.79607843]\n",
            "   [0.79215686]]]\n",
            "\n",
            "\n",
            " [[[0.60784314]\n",
            "   [0.61568627]\n",
            "   [0.61176471]\n",
            "   ...\n",
            "   [0.54117647]\n",
            "   [0.36078431]\n",
            "   [0.42352941]]\n",
            "\n",
            "  [[0.61960784]\n",
            "   [0.62352941]\n",
            "   [0.62352941]\n",
            "   ...\n",
            "   [0.55686275]\n",
            "   [0.45490196]\n",
            "   [0.56078431]]\n",
            "\n",
            "  [[0.63137255]\n",
            "   [0.63137255]\n",
            "   [0.63137255]\n",
            "   ...\n",
            "   [0.57647059]\n",
            "   [0.49019608]\n",
            "   [0.54901961]]\n",
            "\n",
            "  ...\n",
            "\n",
            "  [[0.63529412]\n",
            "   [0.62352941]\n",
            "   [0.56862745]\n",
            "   ...\n",
            "   [0.35686275]\n",
            "   [0.39607843]\n",
            "   [0.36862745]]\n",
            "\n",
            "  [[0.6       ]\n",
            "   [0.54509804]\n",
            "   [0.45098039]\n",
            "   ...\n",
            "   [0.38039216]\n",
            "   [0.37254902]\n",
            "   [0.47058824]]\n",
            "\n",
            "  [[0.52941176]\n",
            "   [0.45490196]\n",
            "   [0.37254902]\n",
            "   ...\n",
            "   [0.40392157]\n",
            "   [0.52941176]\n",
            "   [0.58431373]]]\n",
            "\n",
            "\n",
            " [[[0.73333333]\n",
            "   [0.7372549 ]\n",
            "   [0.7372549 ]\n",
            "   ...\n",
            "   [0.25882353]\n",
            "   [0.30196078]\n",
            "   [0.3254902 ]]\n",
            "\n",
            "  [[0.7372549 ]\n",
            "   [0.74117647]\n",
            "   [0.74117647]\n",
            "   ...\n",
            "   [0.28627451]\n",
            "   [0.28627451]\n",
            "   [0.27843137]]\n",
            "\n",
            "  [[0.74509804]\n",
            "   [0.74509804]\n",
            "   [0.74509804]\n",
            "   ...\n",
            "   [0.29019608]\n",
            "   [0.26666667]\n",
            "   [0.23921569]]\n",
            "\n",
            "  ...\n",
            "\n",
            "  [[0.83137255]\n",
            "   [0.77647059]\n",
            "   [0.68627451]\n",
            "   ...\n",
            "   [0.76470588]\n",
            "   [0.75686275]\n",
            "   [0.75294118]]\n",
            "\n",
            "  [[0.79215686]\n",
            "   [0.70196078]\n",
            "   [0.59607843]\n",
            "   ...\n",
            "   [0.76470588]\n",
            "   [0.76078431]\n",
            "   [0.75686275]]\n",
            "\n",
            "  [[0.77647059]\n",
            "   [0.65098039]\n",
            "   [0.51764706]\n",
            "   ...\n",
            "   [0.76470588]\n",
            "   [0.76078431]\n",
            "   [0.76470588]]]\n",
            "\n",
            "\n",
            " ...\n",
            "\n",
            "\n",
            " [[[0.68235294]\n",
            "   [0.68235294]\n",
            "   [0.68235294]\n",
            "   ...\n",
            "   [0.62745098]\n",
            "   [0.61960784]\n",
            "   [0.61176471]]\n",
            "\n",
            "  [[0.69803922]\n",
            "   [0.69803922]\n",
            "   [0.69411765]\n",
            "   ...\n",
            "   [0.63529412]\n",
            "   [0.62745098]\n",
            "   [0.61960784]]\n",
            "\n",
            "  [[0.70980392]\n",
            "   [0.70588235]\n",
            "   [0.70588235]\n",
            "   ...\n",
            "   [0.64313725]\n",
            "   [0.63529412]\n",
            "   [0.63137255]]\n",
            "\n",
            "  ...\n",
            "\n",
            "  [[0.84313725]\n",
            "   [0.84705882]\n",
            "   [0.84705882]\n",
            "   ...\n",
            "   [0.78823529]\n",
            "   [0.78039216]\n",
            "   [0.77647059]]\n",
            "\n",
            "  [[0.84705882]\n",
            "   [0.85098039]\n",
            "   [0.85098039]\n",
            "   ...\n",
            "   [0.78823529]\n",
            "   [0.78431373]\n",
            "   [0.77647059]]\n",
            "\n",
            "  [[0.85098039]\n",
            "   [0.85098039]\n",
            "   [0.85098039]\n",
            "   ...\n",
            "   [0.79215686]\n",
            "   [0.78431373]\n",
            "   [0.78431373]]]\n",
            "\n",
            "\n",
            " [[[0.69411765]\n",
            "   [0.70980392]\n",
            "   [0.72156863]\n",
            "   ...\n",
            "   [0.70980392]\n",
            "   [0.70196078]\n",
            "   [0.69411765]]\n",
            "\n",
            "  [[0.70196078]\n",
            "   [0.71372549]\n",
            "   [0.7254902 ]\n",
            "   ...\n",
            "   [0.71764706]\n",
            "   [0.70980392]\n",
            "   [0.70196078]]\n",
            "\n",
            "  [[0.70980392]\n",
            "   [0.72156863]\n",
            "   [0.73333333]\n",
            "   ...\n",
            "   [0.7254902 ]\n",
            "   [0.71764706]\n",
            "   [0.71372549]]\n",
            "\n",
            "  ...\n",
            "\n",
            "  [[0.50588235]\n",
            "   [0.51764706]\n",
            "   [0.5254902 ]\n",
            "   ...\n",
            "   [0.36862745]\n",
            "   [0.4       ]\n",
            "   [0.2745098 ]]\n",
            "\n",
            "  [[0.51372549]\n",
            "   [0.5254902 ]\n",
            "   [0.51764706]\n",
            "   ...\n",
            "   [0.30588235]\n",
            "   [0.39215686]\n",
            "   [0.3372549 ]]\n",
            "\n",
            "  [[0.53333333]\n",
            "   [0.52941176]\n",
            "   [0.52941176]\n",
            "   ...\n",
            "   [0.25098039]\n",
            "   [0.34117647]\n",
            "   [0.36470588]]]\n",
            "\n",
            "\n",
            " [[[0.70196078]\n",
            "   [0.70588235]\n",
            "   [0.70588235]\n",
            "   ...\n",
            "   [0.18431373]\n",
            "   [0.11764706]\n",
            "   [0.15294118]]\n",
            "\n",
            "  [[0.70588235]\n",
            "   [0.71372549]\n",
            "   [0.71764706]\n",
            "   ...\n",
            "   [0.30980392]\n",
            "   [0.09411765]\n",
            "   [0.13333333]]\n",
            "\n",
            "  [[0.72156863]\n",
            "   [0.72156863]\n",
            "   [0.7254902 ]\n",
            "   ...\n",
            "   [0.45098039]\n",
            "   [0.09803922]\n",
            "   [0.11372549]]\n",
            "\n",
            "  ...\n",
            "\n",
            "  [[0.35294118]\n",
            "   [0.36862745]\n",
            "   [0.29803922]\n",
            "   ...\n",
            "   [0.42745098]\n",
            "   [0.58823529]\n",
            "   [0.6745098 ]]\n",
            "\n",
            "  [[0.36862745]\n",
            "   [0.36470588]\n",
            "   [0.34901961]\n",
            "   ...\n",
            "   [0.79215686]\n",
            "   [0.83529412]\n",
            "   [0.84313725]]\n",
            "\n",
            "  [[0.37647059]\n",
            "   [0.34509804]\n",
            "   [0.42745098]\n",
            "   ...\n",
            "   [0.80392157]\n",
            "   [0.81960784]\n",
            "   [0.84313725]]]]\n"
          ]
        }
      ]
    },
    {
      "cell_type": "markdown",
      "metadata": {
        "id": "YKbYaOccfahT"
      },
      "source": [
        "## Creating a Convolutional Model"
      ]
    },
    {
      "cell_type": "markdown",
      "metadata": {
        "id": "bXJf7seqfahT"
      },
      "source": [
        "These days, many data scientists start their projects by borrowing model properties from a similar project. Assuming the problem is not totally unique, there's a great chance that people have created models that will perform well which are posted in online repositories like [TensorFlow Hub](https://www.tensorflow.org/hub) and the [NGC Catalog](https://ngc.nvidia.com/catalog/models). Today, we'll provide a model that will work well for this problem.\n",
        "\n",
        "<img src=\"https://drive.google.com/uc?id=1WeMvcGJiRLmXCsp6kwozb-7slhHboooq\" width=180 />\n",
        "\n",
        "We covered many of the different kinds of layers in the lecture, and we will go over them all here with links to their documentation. When in doubt, read the official documentation (or ask [stackoverflow](https://stackoverflow.com/))."
      ]
    },
    {
      "cell_type": "code",
      "execution_count": 8,
      "metadata": {
        "id": "tKGJEG1MfahU"
      },
      "outputs": [],
      "source": [
        "from tensorflow.keras.models import Sequential\n",
        "from tensorflow.keras.layers import (\n",
        "    Dense,\n",
        "    Conv2D,\n",
        "    MaxPool2D,\n",
        "    Flatten,\n",
        "    Dropout,\n",
        "    BatchNormalization,\n",
        ")\n",
        "\n",
        "model = Sequential()\n",
        "model.add(Conv2D(75, (3, 3), strides=1, padding=\"same\", activation=\"relu\",\n",
        "                 input_shape=(28, 28, 1)))\n",
        "model.add(BatchNormalization())\n",
        "model.add(MaxPool2D((2, 2), strides=2, padding=\"same\"))\n",
        "model.add(Conv2D(50, (3, 3), strides=1, padding=\"same\", activation=\"relu\"))\n",
        "model.add(Dropout(0.2))\n",
        "model.add(BatchNormalization())\n",
        "model.add(MaxPool2D((2, 2), strides=2, padding=\"same\"))\n",
        "model.add(Conv2D(25, (3, 3), strides=1, padding=\"same\", activation=\"relu\"))\n",
        "model.add(BatchNormalization())\n",
        "model.add(MaxPool2D((2, 2), strides=2, padding=\"same\"))\n",
        "model.add(Flatten())\n",
        "model.add(Dense(units=512, activation=\"relu\"))\n",
        "model.add(Dropout(0.3))\n",
        "model.add(Dense(units=num_classes, activation=\"softmax\"))"
      ]
    },
    {
      "cell_type": "markdown",
      "metadata": {
        "id": "Vi3sOVBSfahU"
      },
      "source": [
        "### [Conv2D](https://www.tensorflow.org/api_docs/python/tf/keras/layers/Conv2D)"
      ]
    },
    {
      "cell_type": "markdown",
      "metadata": {
        "id": "L9CBgAX6fahV"
      },
      "source": [
        "<img src=\"https://drive.google.com/uc?id=1f4iuQX4IBOKW1bCAs9O_MTP-bqBlj-aQ\" width=300 />\n",
        "\n",
        "These are our 2D convolutional layers. Small kernels will go over the input image and detect features that are important for classification. Earlier convolutions in the model will detect simple features such as lines. Later convolutions will detect more complex features. Let's look at our first Conv2D layer:\n",
        "```Python\n",
        "model.add(Conv2D(75 , (3,3) , strides = 1 , padding = 'same'...)\n",
        "```\n",
        "75 refers to the number of filters that will be learned. (3,3) refers to the size of those filters. Strides refer to the step size that the filter will take as it passes over the image. Padding refers to whether the output image that's created from the filter will match the size of the input image."
      ]
    },
    {
      "cell_type": "markdown",
      "metadata": {
        "id": "Uia33jJnfahV"
      },
      "source": [
        "### [BatchNormalization](https://www.tensorflow.org/api_docs/python/tf/keras/layers/BatchNormalization)"
      ]
    },
    {
      "cell_type": "markdown",
      "metadata": {
        "id": "_7bMyq71fahV"
      },
      "source": [
        "Like normalizing our inputs, batch normalization scales the values in the hidden layers to improve training. [Read more about it in detail here](https://blog.paperspace.com/busting-the-myths-about-batch-normalization/)."
      ]
    },
    {
      "cell_type": "markdown",
      "metadata": {
        "id": "m-2jg3POfahW"
      },
      "source": [
        "### [MaxPool2D](https://www.tensorflow.org/api_docs/python/tf/keras/layers/MaxPool2D)"
      ]
    },
    {
      "cell_type": "markdown",
      "metadata": {
        "id": "ive0XBTPfahW"
      },
      "source": [
        "<img src=\"https://drive.google.com/uc?id=1V0KkSlK9mSrJJLSt6dZM-dN1ciUJJYH2\" width=300 />\n",
        "\n",
        "Max pooling takes an image and essentially shrinks it to a lower resolution. It does this to help the model be robust to translation (objects moving side to side), and also makes our model faster."
      ]
    },
    {
      "cell_type": "markdown",
      "metadata": {
        "id": "CnBWEMaxfahW"
      },
      "source": [
        "### [Dropout](https://www.tensorflow.org/api_docs/python/tf/keras/layers/Dropout)"
      ]
    },
    {
      "cell_type": "markdown",
      "metadata": {
        "id": "fGJdMxNyfahW"
      },
      "source": [
        "<img src=\"https://drive.google.com/uc?id=1Xd4HFauuDicUANuPu-sgTuUOjJ_Rhnat\" width=360 />\n",
        "\n",
        "Dropout is a technique for preventing overfitting. Dropout randomly selects a subset of neurons and turns them off, so that they do not participate in forward or backward propagation in that particular pass. This helps to make sure that the network is robust and redundant, and does not rely on any one area to come up with answers.    "
      ]
    },
    {
      "cell_type": "markdown",
      "metadata": {
        "id": "tapGTZ9NfahW"
      },
      "source": [
        "### [Flatten](https://www.tensorflow.org/api_docs/python/tf/keras/layers/Flatten)"
      ]
    },
    {
      "cell_type": "markdown",
      "metadata": {
        "id": "MkpwuO-TfahW"
      },
      "source": [
        "Flatten takes the output of one layer which is multidimensional, and flattens it into a one-dimensional array. The output is called a feature vector and will be connected to the final classification layer."
      ]
    },
    {
      "cell_type": "markdown",
      "metadata": {
        "id": "aZhmmz69fahW"
      },
      "source": [
        "### [Dense](https://www.tensorflow.org/api_docs/python/tf/keras/layers/Dense)"
      ]
    },
    {
      "cell_type": "markdown",
      "metadata": {
        "id": "Zn6e53mOfahX"
      },
      "source": [
        "We have seen dense layers before in our earlier models. Our first dense layer (512 units) takes the feature vector as input and learns which features will contribute to a particular classification. The second dense layer (24 units) is the final classification layer that outputs our prediction."
      ]
    },
    {
      "cell_type": "markdown",
      "metadata": {
        "id": "LE5-AfR6fahX"
      },
      "source": [
        "## Summarizing the Model"
      ]
    },
    {
      "cell_type": "markdown",
      "metadata": {
        "id": "QPdk8DOPfahX"
      },
      "source": [
        "This may feel like a lot of information, but don't worry. It's not critical that to understand everything right now in order to effectively train convolutional models. Most importantly we know that they can help with extracting useful information from images, and can be used in classification tasks."
      ]
    },
    {
      "cell_type": "markdown",
      "metadata": {
        "id": "0H22JvBKfahX"
      },
      "source": [
        "Here, we summarize the model we just created. Notice how it has fewer trainable parameters than the model in the previous notebook:"
      ]
    },
    {
      "cell_type": "code",
      "execution_count": 9,
      "metadata": {
        "id": "qh9rB2rDfahX",
        "colab": {
          "base_uri": "https://localhost:8080/"
        },
        "outputId": "fe0afe44-e870-4da5-fb33-fb3993f7d9e0"
      },
      "outputs": [
        {
          "output_type": "stream",
          "name": "stdout",
          "text": [
            "Model: \"sequential\"\n",
            "_________________________________________________________________\n",
            " Layer (type)                Output Shape              Param #   \n",
            "=================================================================\n",
            " conv2d (Conv2D)             (None, 28, 28, 75)        750       \n",
            "                                                                 \n",
            " batch_normalization (Batch  (None, 28, 28, 75)        300       \n",
            " Normalization)                                                  \n",
            "                                                                 \n",
            " max_pooling2d (MaxPooling2  (None, 14, 14, 75)        0         \n",
            " D)                                                              \n",
            "                                                                 \n",
            " conv2d_1 (Conv2D)           (None, 14, 14, 50)        33800     \n",
            "                                                                 \n",
            " dropout (Dropout)           (None, 14, 14, 50)        0         \n",
            "                                                                 \n",
            " batch_normalization_1 (Bat  (None, 14, 14, 50)        200       \n",
            " chNormalization)                                                \n",
            "                                                                 \n",
            " max_pooling2d_1 (MaxPoolin  (None, 7, 7, 50)          0         \n",
            " g2D)                                                            \n",
            "                                                                 \n",
            " conv2d_2 (Conv2D)           (None, 7, 7, 25)          11275     \n",
            "                                                                 \n",
            " batch_normalization_2 (Bat  (None, 7, 7, 25)          100       \n",
            " chNormalization)                                                \n",
            "                                                                 \n",
            " max_pooling2d_2 (MaxPoolin  (None, 4, 4, 25)          0         \n",
            " g2D)                                                            \n",
            "                                                                 \n",
            " flatten (Flatten)           (None, 400)               0         \n",
            "                                                                 \n",
            " dense (Dense)               (None, 512)               205312    \n",
            "                                                                 \n",
            " dropout_1 (Dropout)         (None, 512)               0         \n",
            "                                                                 \n",
            " dense_1 (Dense)             (None, 24)                12312     \n",
            "                                                                 \n",
            "=================================================================\n",
            "Total params: 264049 (1.01 MB)\n",
            "Trainable params: 263749 (1.01 MB)\n",
            "Non-trainable params: 300 (1.17 KB)\n",
            "_________________________________________________________________\n"
          ]
        }
      ],
      "source": [
        "model.summary()"
      ]
    },
    {
      "cell_type": "markdown",
      "metadata": {
        "id": "XTbpzgLdfahX"
      },
      "source": [
        "## Compiling the Model"
      ]
    },
    {
      "cell_type": "markdown",
      "metadata": {
        "id": "BQNbCeH5fahY"
      },
      "source": [
        "We'll compile the model just like before:"
      ]
    },
    {
      "cell_type": "code",
      "execution_count": 10,
      "metadata": {
        "id": "FKB-v2GjfahY"
      },
      "outputs": [],
      "source": [
        "model.compile(loss=\"categorical_crossentropy\", metrics=[\"accuracy\"])"
      ]
    },
    {
      "cell_type": "markdown",
      "metadata": {
        "id": "bue-WIwafahY"
      },
      "source": [
        "## Training the Model"
      ]
    },
    {
      "cell_type": "markdown",
      "metadata": {
        "id": "LMLYGlM0fahY"
      },
      "source": [
        "Despite the very different model architecture, the training looks exactly the same. Run the cell below to train for 20 epochs and let's see if the accuracy improves:"
      ]
    },
    {
      "cell_type": "code",
      "execution_count": 11,
      "metadata": {
        "id": "sk96bRTAfahY",
        "colab": {
          "base_uri": "https://localhost:8080/"
        },
        "outputId": "4e589863-7431-4a39-e79d-88d5cf08da78"
      },
      "outputs": [
        {
          "output_type": "stream",
          "name": "stdout",
          "text": [
            "Epoch 1/20\n",
            "858/858 [==============================] - 18s 8ms/step - loss: 0.2897 - accuracy: 0.9110 - val_loss: 0.2302 - val_accuracy: 0.9324\n",
            "Epoch 2/20\n",
            "858/858 [==============================] - 5s 6ms/step - loss: 0.0184 - accuracy: 0.9942 - val_loss: 1.2061 - val_accuracy: 0.7395\n",
            "Epoch 3/20\n",
            "858/858 [==============================] - 6s 7ms/step - loss: 0.0107 - accuracy: 0.9968 - val_loss: 0.2369 - val_accuracy: 0.9378\n",
            "Epoch 4/20\n",
            "858/858 [==============================] - 5s 6ms/step - loss: 0.0037 - accuracy: 0.9989 - val_loss: 0.1362 - val_accuracy: 0.9643\n",
            "Epoch 5/20\n",
            "858/858 [==============================] - 6s 7ms/step - loss: 0.0040 - accuracy: 0.9987 - val_loss: 0.3161 - val_accuracy: 0.9201\n",
            "Epoch 6/20\n",
            "858/858 [==============================] - 6s 6ms/step - loss: 0.0034 - accuracy: 0.9988 - val_loss: 0.1389 - val_accuracy: 0.9696\n",
            "Epoch 7/20\n",
            "858/858 [==============================] - 5s 6ms/step - loss: 0.0023 - accuracy: 0.9995 - val_loss: 0.2086 - val_accuracy: 0.9491\n",
            "Epoch 8/20\n",
            "858/858 [==============================] - 6s 7ms/step - loss: 3.6981e-04 - accuracy: 0.9998 - val_loss: 0.1663 - val_accuracy: 0.9576\n",
            "Epoch 9/20\n",
            "858/858 [==============================] - 5s 6ms/step - loss: 1.1165e-04 - accuracy: 1.0000 - val_loss: 0.1723 - val_accuracy: 0.9699\n",
            "Epoch 10/20\n",
            "858/858 [==============================] - 7s 8ms/step - loss: 2.7906e-04 - accuracy: 0.9999 - val_loss: 0.1359 - val_accuracy: 0.9619\n",
            "Epoch 11/20\n",
            "858/858 [==============================] - 5s 6ms/step - loss: 6.7582e-04 - accuracy: 0.9999 - val_loss: 0.3903 - val_accuracy: 0.9151\n",
            "Epoch 12/20\n",
            "858/858 [==============================] - 6s 7ms/step - loss: 7.7320e-05 - accuracy: 1.0000 - val_loss: 0.2517 - val_accuracy: 0.9484\n",
            "Epoch 13/20\n",
            "858/858 [==============================] - 5s 6ms/step - loss: 7.4338e-05 - accuracy: 1.0000 - val_loss: 0.1547 - val_accuracy: 0.9632\n",
            "Epoch 14/20\n",
            "858/858 [==============================] - 5s 6ms/step - loss: 1.2886e-05 - accuracy: 1.0000 - val_loss: 0.1884 - val_accuracy: 0.9557\n",
            "Epoch 15/20\n",
            "858/858 [==============================] - 6s 7ms/step - loss: 4.4599e-04 - accuracy: 0.9998 - val_loss: 0.2737 - val_accuracy: 0.9460\n",
            "Epoch 16/20\n",
            "858/858 [==============================] - 5s 6ms/step - loss: 3.1177e-05 - accuracy: 1.0000 - val_loss: 0.1161 - val_accuracy: 0.9748\n",
            "Epoch 17/20\n",
            "858/858 [==============================] - 6s 7ms/step - loss: 1.4773e-04 - accuracy: 0.9999 - val_loss: 0.1089 - val_accuracy: 0.9810\n",
            "Epoch 18/20\n",
            "858/858 [==============================] - 5s 6ms/step - loss: 2.6253e-04 - accuracy: 0.9999 - val_loss: 0.0729 - val_accuracy: 0.9784\n",
            "Epoch 19/20\n",
            "858/858 [==============================] - 5s 6ms/step - loss: 1.4633e-04 - accuracy: 1.0000 - val_loss: 0.1717 - val_accuracy: 0.9686\n",
            "Epoch 20/20\n",
            "858/858 [==============================] - 6s 7ms/step - loss: 1.4590e-04 - accuracy: 0.9999 - val_loss: 0.0956 - val_accuracy: 0.9816\n"
          ]
        },
        {
          "output_type": "execute_result",
          "data": {
            "text/plain": [
              "<keras.src.callbacks.History at 0x79ef3c1d6440>"
            ]
          },
          "metadata": {},
          "execution_count": 11
        }
      ],
      "source": [
        "model.fit(x_train, y_train, epochs=20, verbose=1, validation_data=(x_valid, y_valid))"
      ]
    },
    {
      "cell_type": "markdown",
      "metadata": {
        "id": "7sGiDc1_fahY"
      },
      "source": [
        "## Discussion of Results"
      ]
    },
    {
      "cell_type": "markdown",
      "metadata": {
        "id": "WORBhqOKfahY"
      },
      "source": [
        "It looks like this model is significantly improved! The training accuracy is very high, and the validation accuracy has improved as well. This is a great result, as all we had to do was swap in a new model.\n",
        "\n",
        "You may have noticed the validation accuracy jumping around. This is an indication that our model is still not generalizing perfectly. Fortunately, there's more that we can do. Let's talk about it in the next lecture."
      ]
    },
    {
      "cell_type": "markdown",
      "metadata": {
        "id": "7hGNIQb6fahZ"
      },
      "source": [
        "## Summary"
      ]
    },
    {
      "cell_type": "markdown",
      "metadata": {
        "id": "omki6mm0fahZ"
      },
      "source": [
        "In this section, we utilized several new kinds of layers to implement a CNN, which performed better than the more simple model used in the last section. Hopefully the overall process of creating and training a model with prepared data is starting to become even more familiar."
      ]
    },
    {
      "cell_type": "markdown",
      "metadata": {
        "id": "MHmmxFqxfahZ"
      },
      "source": [
        "## Clear the Memory\n",
        "Before moving on, please execute the following cell to clear up the GPU memory. This is required to move on to the next notebook."
      ]
    },
    {
      "cell_type": "code",
      "execution_count": 12,
      "metadata": {
        "id": "Noz4lGWffahZ",
        "colab": {
          "base_uri": "https://localhost:8080/"
        },
        "outputId": "5489ff38-6951-4cee-b175-71d6a585594e"
      },
      "outputs": [
        {
          "output_type": "execute_result",
          "data": {
            "text/plain": [
              "{'status': 'ok', 'restart': True}"
            ]
          },
          "metadata": {},
          "execution_count": 12
        }
      ],
      "source": [
        "import IPython\n",
        "app = IPython.Application.instance()\n",
        "app.kernel.do_shutdown(True)"
      ]
    },
    {
      "cell_type": "markdown",
      "metadata": {
        "id": "QilTlVcrfahZ"
      },
      "source": [
        "## Next"
      ]
    },
    {
      "cell_type": "markdown",
      "metadata": {
        "id": "XKTvBLF6fahZ"
      },
      "source": [
        "In the last several sections you have focused on the creation and training of models. In order to further improve performance, you will now turn your attention to *data augmentation*, a collection of techniques that will allow your models to train on more and better data than what you might have originally at your disposal."
      ]
    }
  ],
  "metadata": {
    "kernelspec": {
      "display_name": "Python 3 (ipykernel)",
      "language": "python",
      "name": "python3"
    },
    "language_info": {
      "codemirror_mode": {
        "name": "ipython",
        "version": 3
      },
      "file_extension": ".py",
      "mimetype": "text/x-python",
      "name": "python",
      "nbconvert_exporter": "python",
      "pygments_lexer": "ipython3",
      "version": "3.8.10"
    },
    "colab": {
      "provenance": [],
      "machine_shape": "hm",
      "include_colab_link": true
    },
    "accelerator": "GPU"
  },
  "nbformat": 4,
  "nbformat_minor": 0
}