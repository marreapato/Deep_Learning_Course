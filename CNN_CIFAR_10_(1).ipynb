{
  "cells": [
    {
      "cell_type": "markdown",
      "metadata": {
        "id": "view-in-github",
        "colab_type": "text"
      },
      "source": [
        "<a href=\"https://colab.research.google.com/github/marreapato/Deep_Learning_Course/blob/main/CNN_CIFAR_10_(1).ipynb\" target=\"_parent\"><img src=\"https://colab.research.google.com/assets/colab-badge.svg\" alt=\"Open In Colab\"/></a>"
      ]
    },
    {
      "cell_type": "markdown",
      "source": [
        "Discente: Lucas Rabelo"
      ],
      "metadata": {
        "id": "ZubmV0-vmqga"
      }
    },
    {
      "cell_type": "markdown",
      "metadata": {
        "id": "gQjHFyQvYlQf"
      },
      "source": [
        "# CIFAR-10 Dataset\n",
        "\n"
      ]
    },
    {
      "cell_type": "markdown",
      "metadata": {
        "id": "vdAKVs5UYlQg"
      },
      "source": [
        "O conjunto de dados CIFAR-10 consiste em um total de 60.000 imagens coloridas de baixa resolução, distribuídas em 10 classes distintas. Cada imagem tem dimensões de 32x32 pixels, totalizando 1.024 pixels por imagem. Essas 60.000 imagens são divididas em dois conjuntos: 50.000 para treinamento e 10.000 para teste. Cada uma das 10 classes contém 5.000 imagens de treinamento e 1.000 imagens de teste. As classes do CIFAR-10 representam categorias amplas, incluindo objetos do mundo real como carros, aviões, gatos, cachorros, entre outros. Este conjunto de dados é frequentemente usado como um benchmark para avaliar algoritmos de aprendizado de máquina e redes neurais convolucionais em tarefas de classificação de imagens. É um dos conjuntos de dados mais populares na área de visão computacional e aprendizado profundo.\n",
        "\n",
        "\n",
        "\n",
        "\n",
        "O significado de cada Label também está na figura abaixo:"
      ]
    },
    {
      "cell_type": "markdown",
      "metadata": {
        "id": "TwMPXy-eYlQk"
      },
      "source": [
        "<img src=\"https://production-media.paperswithcode.com/datasets/4fdf2b82-2bc3-4f97-ba51-400322b228b1.png\" style=\"width: 600px;\">"
      ]
    },
    {
      "cell_type": "markdown",
      "source": [
        "A primeira etapa é similar ao notebook da FeedForward NN, onde os dados são separados em 80% treinamento e 20% teste"
      ],
      "metadata": {
        "id": "h5vcunhU8CGC"
      }
    },
    {
      "cell_type": "code",
      "execution_count": null,
      "metadata": {
        "colab": {
          "base_uri": "https://localhost:8080/"
        },
        "id": "nhCtyJV6YlQq",
        "outputId": "3c12d09f-49c9-406a-f864-6316c4520b9f"
      },
      "outputs": [
        {
          "output_type": "stream",
          "name": "stdout",
          "text": [
            "Downloading data from https://www.cs.toronto.edu/~kriz/cifar-10-python.tar.gz\n",
            "170498071/170498071 [==============================] - 14s 0us/step\n"
          ]
        }
      ],
      "source": [
        "import pandas as pd\n",
        "import tensorflow as tf\n",
        "import tensorflow.keras.datasets\n",
        "from sklearn.model_selection import train_test_split\n",
        "import numpy as np\n",
        "\n",
        "\n",
        "\n",
        "\n",
        "\n",
        "(x_train, y_train), (x_valid, y_valid) = tf.keras.datasets.cifar10.load_data()\n",
        "X = np.concatenate([x_train, x_valid],axis=0)\n",
        "y = np.concatenate([y_train, y_valid],axis=0)\n",
        "\n",
        "# Divisão 80 - 20\n",
        "\n",
        "x_train, x_valid, y_train, y_valid = train_test_split(X, y, test_size=0.2,shuffle=True, random_state=11) # random_state permite controlar a aleatoriedade e tornar o código mais previsível e reprodutível."
      ]
    },
    {
      "cell_type": "markdown",
      "source": [
        "O Estado aleatório é o mesmo, para garantir que o modelo feedforward nn e a cnn estão recebendo a mesma entrada."
      ],
      "metadata": {
        "id": "rPQ_V2OK8NCU"
      }
    },
    {
      "cell_type": "code",
      "execution_count": null,
      "metadata": {
        "colab": {
          "base_uri": "https://localhost:8080/",
          "height": 447
        },
        "id": "Zp-TuHhmCjjs",
        "outputId": "d0423948-fd8c-4a79-c799-119a2fd618ad"
      },
      "outputs": [
        {
          "output_type": "execute_result",
          "data": {
            "text/plain": [
              "<matplotlib.image.AxesImage at 0x78e6924a1660>"
            ]
          },
          "metadata": {},
          "execution_count": 2
        },
        {
          "output_type": "display_data",
          "data": {
            "text/plain": [
              "<Figure size 640x480 with 1 Axes>"
            ],
            "image/png": "[encoded data removed]"
          },
          "metadata": {}
        }
      ],
      "source": [
        "import matplotlib.pyplot as plt\n",
        "\n",
        "image = x_train[0]\n",
        "plt.imshow(image)#boat\n"
      ]
    },
    {
      "cell_type": "code",
      "execution_count": null,
      "metadata": {
        "colab": {
          "base_uri": "https://localhost:8080/"
        },
        "id": "HVZRnoLlDHsh",
        "outputId": "90808ab0-2359-4aa6-a172-30e0eb948ddd"
      },
      "outputs": [
        {
          "output_type": "stream",
          "name": "stdout",
          "text": [
            "[8]\n"
          ]
        }
      ],
      "source": [
        "print(y_train[0])# Barco"
      ]
    },
    {
      "cell_type": "markdown",
      "metadata": {
        "id": "MeyBCqhEYlQq"
      },
      "source": [
        "### Pré-Processamento\n",
        "\n"
      ]
    },
    {
      "cell_type": "markdown",
      "metadata": {
        "id": "IYbHQtgGYlQr"
      },
      "source": [
        "A Normalização é aplicada, no entanto não existe a necessidade de realizar o flattening no pré-processamento, já que a rede cnn aceita a entrada em tensores\n"
      ]
    },
    {
      "cell_type": "code",
      "execution_count": null,
      "metadata": {
        "id": "DkZXx0mLYlQr"
      },
      "outputs": [],
      "source": [
        "x_train = x_train / 255\n",
        "x_valid = x_valid / 255"
      ]
    },
    {
      "cell_type": "markdown",
      "metadata": {
        "id": "MDRrEf7BH6fh"
      },
      "source": [
        "Categorical Enconding (Ortogonalização) é aplicada nas labels"
      ]
    },
    {
      "cell_type": "code",
      "execution_count": null,
      "metadata": {
        "colab": {
          "base_uri": "https://localhost:8080/"
        },
        "id": "5NBobdFqH5kG",
        "outputId": "911c7ec9-eef0-4108-89df-a5262b5bf37c"
      },
      "outputs": [
        {
          "output_type": "execute_result",
          "data": {
            "text/plain": [
              "array([[8],\n",
              "       [6],\n",
              "       [6],\n",
              "       ...,\n",
              "       [9],\n",
              "       [3],\n",
              "       [3]], dtype=uint8)"
            ]
          },
          "metadata": {},
          "execution_count": 5
        }
      ],
      "source": [
        "y_train"
      ]
    },
    {
      "cell_type": "code",
      "execution_count": null,
      "metadata": {
        "id": "XwrIjswvIszq"
      },
      "outputs": [],
      "source": [
        "import tensorflow.keras as keras\n",
        "num_categories = 10 # categorias de 0 a 9\n",
        "\n",
        "y_train = keras.utils.to_categorical(y_train, num_categories)\n",
        "y_valid = keras.utils.to_categorical(y_valid, num_categories)"
      ]
    },
    {
      "cell_type": "code",
      "execution_count": null,
      "metadata": {
        "colab": {
          "base_uri": "https://localhost:8080/"
        },
        "id": "TgPLVqvwKBgL",
        "outputId": "08f0566e-08af-4a41-fb0d-a44efa4a5d5f"
      },
      "outputs": [
        {
          "output_type": "execute_result",
          "data": {
            "text/plain": [
              "array([[0., 0., 0., ..., 0., 1., 0.],\n",
              "       [0., 0., 0., ..., 0., 0., 0.],\n",
              "       [0., 0., 0., ..., 0., 0., 0.],\n",
              "       ...,\n",
              "       [0., 0., 0., ..., 0., 0., 1.],\n",
              "       [0., 0., 0., ..., 0., 0., 0.],\n",
              "       [0., 0., 0., ..., 0., 0., 0.]], dtype=float32)"
            ]
          },
          "metadata": {},
          "execution_count": 7
        }
      ],
      "source": [
        "y_train"
      ]
    },
    {
      "cell_type": "markdown",
      "metadata": {
        "id": "z41JAZjMqJwJ"
      },
      "source": [
        "### Construindo o modelo"
      ]
    },
    {
      "cell_type": "markdown",
      "metadata": {
        "id": "xZG6iHQOqJwJ"
      },
      "source": [
        "Primeiramente é adicionada uma camada convolucional (Conv2d) ao modelo, com filtros de janelas 3x3 e volume de 32, o stride selecionado é de 1 (ou seja o filtro é aplicado pulando apenas uma  coluna de pixel), o parametro padding é \"same\" ou seja a reolução da imagem será mantida durante a aplicação da camada convolucional.\n",
        "\n",
        "A camada de MaxPooling2d 2x2 com stride 2 diminui a resolução da imagem pela metade (no final teremos a matriz de 8x8, lembrando que iniciamos com 32x32), tornando o modelo mais robusto e dinâmico\n",
        "\n",
        "Antes da camada Fully Connected é aplicada uma cada de Flatten para que as operações sejam realizadas pela camada fully connected (seguindo a mesma lógica do flattening na feedforward do script anterior)\n",
        "\n",
        "As camadas de normalização (BatchNormalization) aplicam a normalização dentro do modelo e a camada de Dropout desliga algumas conexões da camada anterior, na arquitetura escolhida foram aplicadas duas camadas de dropout desligando aleatoriamente 25% das conexões das camadas antecessoras\n"
      ]
    },
    {
      "cell_type": "code",
      "execution_count": null,
      "metadata": {
        "id": "AUXpoAXPqJwK"
      },
      "outputs": [],
      "source": [
        "from tensorflow.keras.layers import Dense\n",
        "from tensorflow.keras.models import Sequential\n",
        "from tensorflow.keras.layers import (\n",
        "    Dense,\n",
        "    Conv2D,\n",
        "    MaxPool2D,\n",
        "    Flatten,\n",
        "    Dropout,\n",
        "    BatchNormalization,\n",
        ")\n",
        "\n",
        "model = Sequential()\n",
        "model.add(Conv2D(32, (3, 3), strides=1, activation='relu', padding=\"same\", input_shape=(32,32, 3)))\n",
        "model.add(BatchNormalization())\n",
        "model.add(Conv2D(32, (3, 3), strides=1, activation='relu', padding=\"same\"))\n",
        "model.add(MaxPool2D((2, 2), strides=2, padding=\"same\"))\n",
        "model.add(Dropout(0.25))\n",
        "model.add(Conv2D(32, (3, 3), strides=1, activation='relu', padding=\"same\"))\n",
        "model.add(MaxPool2D((2, 2), strides=2, padding=\"same\"))\n",
        "model.add(Flatten())\n",
        "model.add(Dense(420, activation='relu'))\n",
        "model.add(Dropout(0.25))\n",
        "model.add(Dense(10, activation='softmax'))\n"
      ]
    },
    {
      "cell_type": "markdown",
      "metadata": {
        "id": "6rRXIj6TqJwN"
      },
      "source": [
        "### Sumário do Modelo (Será comentado no final junto com a performance e comparação com o modelo do primeiro script)"
      ]
    },
    {
      "cell_type": "code",
      "execution_count": null,
      "metadata": {
        "colab": {
          "base_uri": "https://localhost:8080/"
        },
        "id": "mvEs89JOqJwO",
        "outputId": "8b58b6fe-b3d5-4fe2-c86d-6d24dc5c0185"
      },
      "outputs": [
        {
          "output_type": "stream",
          "name": "stdout",
          "text": [
            "Model: \"sequential\"\n",
            "_________________________________________________________________\n",
            " Layer (type)                Output Shape              Param #   \n",
            "=================================================================\n",
            " conv2d (Conv2D)             (None, 32, 32, 32)        896       \n",
            "                                                                 \n",
            " batch_normalization (Batch  (None, 32, 32, 32)        128       \n",
            " Normalization)                                                  \n",
            "                                                                 \n",
            " conv2d_1 (Conv2D)           (None, 32, 32, 32)        9248      \n",
            "                                                                 \n",
            " max_pooling2d (MaxPooling2  (None, 16, 16, 32)        0         \n",
            " D)                                                              \n",
            "                                                                 \n",
            " dropout (Dropout)           (None, 16, 16, 32)        0         \n",
            "                                                                 \n",
            " conv2d_2 (Conv2D)           (None, 16, 16, 32)        9248      \n",
            "                                                                 \n",
            " max_pooling2d_1 (MaxPoolin  (None, 8, 8, 32)          0         \n",
            " g2D)                                                            \n",
            "                                                                 \n",
            " flatten (Flatten)           (None, 2048)              0         \n",
            "                                                                 \n",
            " dense (Dense)               (None, 420)               860580    \n",
            "                                                                 \n",
            " dropout_1 (Dropout)         (None, 420)               0         \n",
            "                                                                 \n",
            " dense_1 (Dense)             (None, 10)                4210      \n",
            "                                                                 \n",
            "=================================================================\n",
            "Total params: 884310 (3.37 MB)\n",
            "Trainable params: 884246 (3.37 MB)\n",
            "Non-trainable params: 64 (256.00 Byte)\n",
            "_________________________________________________________________\n"
          ]
        }
      ],
      "source": [
        "model.summary()"
      ]
    },
    {
      "cell_type": "markdown",
      "metadata": {
        "id": "cOBZkDoFqJwP"
      },
      "source": [
        "### Ajuste do modelo"
      ]
    },
    {
      "cell_type": "code",
      "execution_count": null,
      "metadata": {
        "id": "5QdhjvDXqJwP"
      },
      "outputs": [],
      "source": [
        "model.compile(loss='categorical_crossentropy', metrics=['accuracy'])"
      ]
    },
    {
      "cell_type": "code",
      "execution_count": null,
      "metadata": {
        "colab": {
          "base_uri": "https://localhost:8080/"
        },
        "id": "eDTuiKREqJwQ",
        "outputId": "25611637-382d-499b-fc32-cf5faa0c733e"
      },
      "outputs": [
        {
          "output_type": "stream",
          "name": "stdout",
          "text": [
            "Epoch 1/10\n",
            "1500/1500 [==============================] - 20s 6ms/step - loss: 1.4056 - accuracy: 0.5001 - val_loss: 1.4321 - val_accuracy: 0.5116\n",
            "Epoch 2/10\n",
            "1500/1500 [==============================] - 9s 6ms/step - loss: 1.0496 - accuracy: 0.6333 - val_loss: 1.0007 - val_accuracy: 0.6513\n",
            "Epoch 3/10\n",
            "1500/1500 [==============================] - 9s 6ms/step - loss: 0.9235 - accuracy: 0.6818 - val_loss: 1.0173 - val_accuracy: 0.6436\n",
            "Epoch 4/10\n",
            "1500/1500 [==============================] - 8s 6ms/step - loss: 0.8524 - accuracy: 0.7099 - val_loss: 0.9472 - val_accuracy: 0.6743\n",
            "Epoch 5/10\n",
            "1500/1500 [==============================] - 9s 6ms/step - loss: 0.7997 - accuracy: 0.7309 - val_loss: 0.9057 - val_accuracy: 0.6917\n",
            "Epoch 6/10\n",
            "1500/1500 [==============================] - 9s 6ms/step - loss: 0.7712 - accuracy: 0.7413 - val_loss: 0.9644 - val_accuracy: 0.6938\n",
            "Epoch 7/10\n",
            "1500/1500 [==============================] - 9s 6ms/step - loss: 0.7411 - accuracy: 0.7499 - val_loss: 1.0019 - val_accuracy: 0.6837\n",
            "Epoch 8/10\n",
            "1500/1500 [==============================] - 8s 6ms/step - loss: 0.7095 - accuracy: 0.7637 - val_loss: 0.9308 - val_accuracy: 0.6951\n",
            "Epoch 9/10\n",
            "1500/1500 [==============================] - 9s 6ms/step - loss: 0.6925 - accuracy: 0.7679 - val_loss: 0.8568 - val_accuracy: 0.7163\n",
            "Epoch 10/10\n",
            "1500/1500 [==============================] - 8s 5ms/step - loss: 0.6572 - accuracy: 0.7802 - val_loss: 0.8776 - val_accuracy: 0.7114\n"
          ]
        }
      ],
      "source": [
        "history = model.fit(\n",
        "    x_train, y_train, epochs=10, verbose=1, validation_data=(x_valid, y_valid)\n",
        ")"
      ]
    },
    {
      "cell_type": "markdown",
      "source": [
        "\n",
        "A Acurácia no conjunto de treinamento começa em torno de 50.01% e aumenta para cerca de 78.02% após 10 épocas. Isso indica que o modelo está aprendendo bem os padrões nos dados de treinamento, visto que a loss também diminui ao longo das épocas, indicando que o modelo está otimizando seus pesos para se ajustar melhor aos dados de treinamento.\n",
        "\n",
        "Já no conjunto de validação a acurácia começa em torno de 51.16% e aumenta para cerca de 71.14% após 10 épocas. Mostrando que o modelo está generalizando bem e evitando overfitting. A loss no conjunto de validação também diminui de forma constante, o que é positivo, pois mostra que o modelo está melhorando sua capacidade de generalização.\n"
      ],
      "metadata": {
        "id": "HkAZaBUNFyi0"
      }
    },
    {
      "cell_type": "markdown",
      "metadata": {
        "id": "xlluCyqHYlQ1"
      },
      "source": [
        "## Discussão do Sumário do modelo (Comparação com FeedForward NN)"
      ]
    },
    {
      "cell_type": "markdown",
      "metadata": {
        "id": "hoQudS7iYlQ1"
      },
      "source": [
        "Este modelo tem consideravelmente menos parâmetros (cerca de 884.310) em comparação com o modelo anterior (aproximadamente 1.471.690). A redução na quantidade de parâmetros pode tornar o modelo menos propenso ao overfitting, a adição de camadas de Batch Normalization e Dropout também contribui para a regularização e pode ajudar a controlar o overfitting (possivelmente verificado no modelo anterior).\n",
        "\n",
        "No geral, esse modelo parece ser mais eficiente em termos de parâmetros (houve uma diminuição de 39% no número de parâmetros em comparação a Rede Neural Simples e possui componentes de regularização que podem melhorar o desempenho em relação ao modelo anterior."
      ]
    },
    {
      "cell_type": "markdown",
      "metadata": {
        "id": "zphtHUE2C3Is"
      },
      "source": [
        "## Discussão da performance do modelo (Comparação com FeedForward NN)\n",
        "\n",
        "\n",
        "Este modelo CNN parece ser mais eficaz, com uma acurácia de validação mais alta em comparação com o modelo feedforward anterior, que estava sofrendo de overfitting. A introdução de camadas convolucionais, max-pooling e dropout, com uma arquitetura de CNN, parece ter sido mais apropriada para previsão, visto que o número de neurônios da camada fully connected do modelo foi o mesmo (420 neurônios) para os dois modelos\n",
        "\n",
        "Apesar do desempenho do modelo CNN poder ser ainda mais otimizado, a acurácia no conjunto de validação sugere que o modelo está generalizando bem para dados não vistos.\n",
        "\n"
      ]
    }
  ],
  "metadata": {
    "accelerator": "GPU",
    "colab": {
      "machine_shape": "hm",
      "provenance": [],
      "include_colab_link": true
    },
    "kernelspec": {
      "display_name": "Python 3 (ipykernel)",
      "language": "python",
      "name": "python3"
    },
    "language_info": {
      "codemirror_mode": {
        "name": "ipython",
        "version": 3
      },
      "file_extension": ".py",
      "mimetype": "text/x-python",
      "name": "python",
      "nbconvert_exporter": "python",
      "pygments_lexer": "ipython3",
      "version": "3.8.10"
    }
  },
  "nbformat": 4,
  "nbformat_minor": 0
}