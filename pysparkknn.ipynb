{
  "nbformat": 4,
  "nbformat_minor": 0,
  "metadata": {
    "colab": {
      "provenance": [],
      "include_colab_link": true
    },
    "kernelspec": {
      "name": "python3",
      "display_name": "Python 3"
    },
    "language_info": {
      "name": "python"
    }
  },
  "cells": [
    {
      "cell_type": "markdown",
      "metadata": {
        "id": "view-in-github",
        "colab_type": "text"
      },
      "source": [
        "<a href=\"https://colab.research.google.com/github/marreapato/Deep_Learning_Course/blob/main/pysparkknn.ipynb\" target=\"_parent\"><img src=\"https://colab.research.google.com/assets/colab-badge.svg\" alt=\"Open In Colab\"/></a>"
      ]
    },
    {
      "cell_type": "code",
      "source": [
        "from google.colab import drive\n",
        "drive.mount('/content/gdrive', force_remount=True)"
      ],
      "metadata": {
        "colab": {
          "base_uri": "https://localhost:8080/"
        },
        "id": "uJ2yHaWVhXDT",
        "outputId": "cbed3414-db6b-431e-e288-532fc40e85b7"
      },
      "execution_count": 1,
      "outputs": [
        {
          "output_type": "stream",
          "name": "stdout",
          "text": [
            "Mounted at /content/gdrive\n"
          ]
        }
      ]
    },
    {
      "cell_type": "code",
      "source": [
        "%cd /content/gdrive/MyDrive/mlcrs/\n",
        "\n",
        "!ls"
      ],
      "metadata": {
        "colab": {
          "base_uri": "https://localhost:8080/"
        },
        "id": "lgmm6PxbhXZy",
        "outputId": "53edc86c-c6c0-4d25-98ab-5559f38948fe"
      },
      "execution_count": 2,
      "outputs": [
        {
          "output_type": "stream",
          "name": "stdout",
          "text": [
            "/content/gdrive/MyDrive/mlcrs\n",
            "access_log.txt\t\t\t      KFoldCrossValidation.ipynb     Percentiles.ipynb\n",
            "breakfast.jpg\t\t\t      KMeans.ipynb\t\t     PoliticsExercise.ipynb\n",
            "bridge.jpg\t\t\t      LinearRegression.ipynb\t     PolynomialRegression.ipynb\n",
            "bunny.jpg\t\t\t      mammographic_masses.data.txt   Python101.ipynb\n",
            "castle.jpg\t\t\t      mammographic_masses.names.txt  regression.txt\n",
            "ConditionalProbabilityExercise.ipynb  mammo_masses_project.ipynb     Seaborn.ipynb\n",
            "ConditionalProbabilitySolution.ipynb  MatPlotLib.ipynb\t\t     SparkDecisionTree.py\n",
            "CovarianceCorrelation.ipynb\t      MeanMedianExercise.ipynb\t     SparkKMeans.py\n",
            "DecisionTree.ipynb\t\t      MeanMedianMode.ipynb\t     SparkLinearRegression.py\n",
            "DeepLearningProject.ipynb\t      ml-100k\t\t\t     SparkPCA.py\n",
            "DeepLearningProject-Solution.ipynb    MLCourse.zip\t\t     StdDevVariance.ipynb\n",
            "distancerecomendation-KNN.ipynb       mlcrsItemBasedCF.ipynb\t     subset-small.tsv\n",
            "Distributions.ipynb\t\t      mlcrsQ-Learning.ipynb\t     SVC.ipynb\n",
            "emails\t\t\t\t      mlcrs_SimilarMovies.ipynb      Tensorflow.ipynb\n",
            "fighterjet.jpg\t\t\t      MNIST_data\t\t     TF-IDF.py\n",
            "FinalProjectAssignment.ipynb\t      Moments.ipynb\t\t     TopPages.ipynb\n",
            "firetruck.jpg\t\t\t      MultipleRegression.ipynb\t     TrainTest.ipynb\n",
            "GAN_on_Fashion_MNIST.ipynb\t      MyPlot.png\t\t     TransferLearning.ipynb\n",
            "GenAI\t\t\t\t      NaiveBayes.ipynb\t\t     TTest.ipynb\n",
            "house-votes-84.data.txt\t\t      Outliers.ipynb\t\t     VariationalAutoEncoders.ipynb\n",
            "house-votes-84.names.txt\t      PandasTutorial.ipynb\t     VLA.jpg\n",
            "Keras-CNN.ipynb\t\t\t      PastHires.csv\t\t     XGBoost.ipynb\n",
            "Keras.ipynb\t\t\t      PCA.ipynb\n",
            "Keras-RNN.ipynb\t\t\t      peek.jpg\n"
          ]
        }
      ]
    },
    {
      "cell_type": "code",
      "source": [
        "data_dir = \"/content/gdrive/MyDrive/mlcrs/PastHires.csv\""
      ],
      "metadata": {
        "id": "CVprrAAZhZUT"
      },
      "execution_count": 3,
      "outputs": []
    },
    {
      "cell_type": "code",
      "source": [
        "!sudo apt update\n",
        "!apt-get install openjdk-8-jdk-headless -qq > /dev/null\n",
        "#Check this site for the latest download link https://www.apache.org/dyn/closer.lua/spark/spark-3.2.1/spark-3.2.1-bin-hadoop3.2.tgz\n",
        "!wget -q https://dlcdn.apache.org/spark/spark-3.2.1/spark-3.2.1-bin-hadoop3.2.tgz\n",
        "!tar xf spark-3.2.1-bin-hadoop3.2.tgz\n",
        "!pip install -q findspark\n",
        "!pip install pyspark\n",
        "!pip install py4j\n",
        "\n",
        "import os\n",
        "import sys\n",
        "# os.environ[\"JAVA_HOME\"] = \"/usr/lib/jvm/java-8-openjdk-amd64\"\n",
        "# os.environ[\"SPARK_HOME\"] = \"/content/spark-3.2.1-bin-hadoop3.2\"\n",
        "\n",
        "\n",
        "import findspark\n",
        "findspark.init()\n",
        "findspark.find()\n",
        "\n",
        "import pyspark\n",
        "\n",
        "from pyspark.sql import DataFrame, SparkSession\n",
        "from typing import List\n",
        "import pyspark.sql.types as T\n",
        "import pyspark.sql.functions as F\n",
        "\n",
        "spark= SparkSession \\\n",
        "       .builder \\\n",
        "       .appName(\"Our First Spark Example\") \\\n",
        "       .getOrCreate()\n",
        "\n",
        "spark"
      ],
      "metadata": {
        "colab": {
          "base_uri": "https://localhost:8080/",
          "height": 914
        },
        "id": "RsHhiNT4bvSH",
        "outputId": "0a9f6210-d007-4f00-dcbc-737c924a86af"
      },
      "execution_count": 4,
      "outputs": [
        {
          "output_type": "stream",
          "name": "stdout",
          "text": [
            "\u001b[33m\r0% [Working]\u001b[0m\r            \rGet:1 https://cloud.r-project.org/bin/linux/ubuntu jammy-cran40/ InRelease [3,626 B]\n",
            "\u001b[33m\r0% [Connecting to archive.ubuntu.com (91.189.91.81)] [Connecting to security.ub\u001b[0m\u001b[33m\r0% [Connecting to archive.ubuntu.com (91.189.91.81)] [Connecting to security.ub\u001b[0m\r                                                                               \rGet:2 https://developer.download.nvidia.com/compute/cuda/repos/ubuntu2204/x86_64  InRelease [1,581 B]\n",
            "\u001b[33m\r0% [Waiting for headers] [Waiting for headers] [Connecting to ppa.launchpadcont\u001b[0m\u001b[33m\r0% [Waiting for headers] [Waiting for headers] [Connecting to ppa.launchpadcont\u001b[0m\r                                                                               \rGet:3 http://security.ubuntu.com/ubuntu jammy-security InRelease [110 kB]\n",
            "Hit:4 http://archive.ubuntu.com/ubuntu jammy InRelease\n",
            "Get:5 http://archive.ubuntu.com/ubuntu jammy-updates InRelease [119 kB]\n",
            "Get:6 https://developer.download.nvidia.com/compute/cuda/repos/ubuntu2204/x86_64  Packages [662 kB]\n",
            "Hit:7 http://archive.ubuntu.com/ubuntu jammy-backports InRelease\n",
            "Get:8 https://ppa.launchpadcontent.net/c2d4u.team/c2d4u4.0+/ubuntu jammy InRelease [18.1 kB]\n",
            "Get:9 http://security.ubuntu.com/ubuntu jammy-security/universe amd64 Packages [1,053 kB]\n",
            "Get:10 http://archive.ubuntu.com/ubuntu jammy-updates/main amd64 Packages [1,621 kB]\n",
            "Hit:11 https://ppa.launchpadcontent.net/deadsnakes/ppa/ubuntu jammy InRelease\n",
            "Get:12 http://security.ubuntu.com/ubuntu jammy-security/main amd64 Packages [1,344 kB]\n",
            "Hit:13 https://ppa.launchpadcontent.net/graphics-drivers/ppa/ubuntu jammy InRelease\n",
            "Get:14 http://security.ubuntu.com/ubuntu jammy-security/restricted amd64 Packages [1,600 kB]\n",
            "Get:15 http://archive.ubuntu.com/ubuntu jammy-updates/multiverse amd64 Packages [50.4 kB]\n",
            "Get:16 http://archive.ubuntu.com/ubuntu jammy-updates/universe amd64 Packages [1,313 kB]\n",
            "Hit:17 https://ppa.launchpadcontent.net/ubuntugis/ppa/ubuntu jammy InRelease\n",
            "Get:18 http://archive.ubuntu.com/ubuntu jammy-updates/restricted amd64 Packages [1,635 kB]\n",
            "Get:19 https://ppa.launchpadcontent.net/c2d4u.team/c2d4u4.0+/ubuntu jammy/main Sources [2,263 kB]\n",
            "Get:20 https://ppa.launchpadcontent.net/c2d4u.team/c2d4u4.0+/ubuntu jammy/main amd64 Packages [1,161 kB]\n",
            "Fetched 13.0 MB in 6s (2,075 kB/s)\n",
            "Reading package lists... Done\n",
            "Building dependency tree... Done\n",
            "Reading state information... Done\n",
            "27 packages can be upgraded. Run 'apt list --upgradable' to see them.\n",
            "tar: spark-3.2.1-bin-hadoop3.2.tgz: Cannot open: No such file or directory\n",
            "tar: Error is not recoverable: exiting now\n",
            "Collecting pyspark\n",
            "  Downloading pyspark-3.5.0.tar.gz (316.9 MB)\n",
            "\u001b[2K     \u001b[90m━━━━━━━━━━━━━━━━━━━━━━━━━━━━━━━━━━━━━━━━\u001b[0m \u001b[32m316.9/316.9 MB\u001b[0m \u001b[31m2.2 MB/s\u001b[0m eta \u001b[36m0:00:00\u001b[0m\n",
            "\u001b[?25h  Preparing metadata (setup.py) ... \u001b[?25l\u001b[?25hdone\n",
            "Requirement already satisfied: py4j==0.10.9.7 in /usr/local/lib/python3.10/dist-packages (from pyspark) (0.10.9.7)\n",
            "Building wheels for collected packages: pyspark\n",
            "  Building wheel for pyspark (setup.py) ... \u001b[?25l\u001b[?25hdone\n",
            "  Created wheel for pyspark: filename=pyspark-3.5.0-py2.py3-none-any.whl size=317425345 sha256=4eb55fb660dfeed00450d74f85bd3b3cdee65c7d6dfbfcd1d193c36d28d8d286\n",
            "  Stored in directory: /root/.cache/pip/wheels/41/4e/10/c2cf2467f71c678cfc8a6b9ac9241e5e44a01940da8fbb17fc\n",
            "Successfully built pyspark\n",
            "Installing collected packages: pyspark\n",
            "Successfully installed pyspark-3.5.0\n",
            "Requirement already satisfied: py4j in /usr/local/lib/python3.10/dist-packages (0.10.9.7)\n"
          ]
        },
        {
          "output_type": "execute_result",
          "data": {
            "text/plain": [
              "<pyspark.sql.session.SparkSession at 0x7ac7b8d4a800>"
            ],
            "text/html": [
              "\n",
              "            <div>\n",
              "                <p><b>SparkSession - in-memory</b></p>\n",
              "                \n",
              "        <div>\n",
              "            <p><b>SparkContext</b></p>\n",
              "\n",
              "            <p><a href=\"http://cdd9c5d643d9:4040\">Spark UI</a></p>\n",
              "\n",
              "            <dl>\n",
              "              <dt>Version</dt>\n",
              "                <dd><code>v3.5.0</code></dd>\n",
              "              <dt>Master</dt>\n",
              "                <dd><code>local[*]</code></dd>\n",
              "              <dt>AppName</dt>\n",
              "                <dd><code>Our First Spark Example</code></dd>\n",
              "            </dl>\n",
              "        </div>\n",
              "        \n",
              "            </div>\n",
              "        "
            ]
          },
          "metadata": {},
          "execution_count": 4
        }
      ]
    },
    {
      "cell_type": "code",
      "execution_count": 5,
      "metadata": {
        "id": "WKfbkTqPVk-L"
      },
      "outputs": [],
      "source": [
        "from pyspark.mllib.clustering import KMeans\n",
        "from numpy import array, random\n",
        "from math import sqrt\n",
        "from pyspark import SparkConf, SparkContext\n",
        "from sklearn.preprocessing import scale\n",
        "\n",
        "K = 5\n",
        "\n",
        "# Boilerplate Spark stuff:\n",
        "conf = SparkConf().setMaster(\"local\").setAppName(\"SparkKMeans\")\n",
        "sc = SparkContext.getOrCreate(conf=conf)\n",
        "\n",
        "#Create fake income/age clusters for N people in k clusters\n",
        "def createClusteredData(N, k):\n",
        "    random.seed(10)\n",
        "    pointsPerCluster = float(N)/k\n",
        "    X = []\n",
        "    for i in range (k):\n",
        "        incomeCentroid = random.uniform(20000.0, 200000.0)\n",
        "        ageCentroid = random.uniform(20.0, 70.0)\n",
        "        for j in range(int(pointsPerCluster)):\n",
        "            X.append([random.normal(incomeCentroid, 10000.0), random.normal(ageCentroid, 2.0)])\n",
        "    X = array(X)\n",
        "    return X\n",
        "\n",
        "random.seed(0)\n",
        "\n",
        "# Load the data; note I am normalizing it with scale() - very important!\n",
        "data = sc.parallelize(scale(createClusteredData(100, K)))\n",
        "\n"
      ]
    },
    {
      "cell_type": "code",
      "source": [
        "data"
      ],
      "metadata": {
        "colab": {
          "base_uri": "https://localhost:8080/"
        },
        "id": "9rruR3kHbqDJ",
        "outputId": "c8a87dbe-5dd4-40c0-cf63-4f7a8d060c0d"
      },
      "execution_count": 6,
      "outputs": [
        {
          "output_type": "execute_result",
          "data": {
            "text/plain": [
              "ParallelCollectionRDD[0] at readRDDFromFile at PythonRDD.scala:289"
            ]
          },
          "metadata": {},
          "execution_count": 6
        }
      ]
    },
    {
      "cell_type": "code",
      "source": [
        "# Build the model (cluster the data)\n",
        "clusters = KMeans.train(data, K, maxIterations=10,\n",
        "        initializationMode=\"random\")\n",
        "\n",
        "# Print out the cluster assignments\n",
        "resultRDD = data.map(lambda point: clusters.predict(point)).cache()\n",
        "\n",
        "print(\"Counts by value:\")\n",
        "counts = resultRDD.countByValue()\n",
        "print(counts)\n",
        "\n",
        "print(\"Cluster assignments:\")\n",
        "results = resultRDD.collect()\n",
        "print(results)\n",
        "\n",
        "\n",
        "# Evaluate clustering by computing Within Set Sum of Squared Errors\n",
        "def error(point):\n",
        "    center = clusters.centers[clusters.predict(point)]\n",
        "    return sqrt(sum([x**2 for x in (point - center)]))\n",
        "\n",
        "WSSSE = data.map(lambda point: error(point)).reduce(lambda x, y: x + y)\n",
        "print(\"Within Set Sum of Squared Error = \" + str(WSSSE))\n",
        "\n",
        "# Things to try:\n",
        "# What happens to WSSSE as you increase or decrease K? Why?\n",
        "# What happens if you don't normalize the input data before clustering?\n",
        "# What happens if you change the maxIterations parameter?\n",
        "# What happens if you change initializationMode to \"k-means||\""
      ],
      "metadata": {
        "colab": {
          "base_uri": "https://localhost:8080/"
        },
        "id": "8NvmC1-bbqYO",
        "outputId": "e9d05e93-fd29-4356-bb8d-05b9163c9320"
      },
      "execution_count": 7,
      "outputs": [
        {
          "output_type": "stream",
          "name": "stdout",
          "text": [
            "Counts by value:\n",
            "defaultdict(<class 'int'>, {1: 6, 2: 14, 4: 40, 0: 29, 3: 11})\n",
            "Cluster assignments:\n",
            "[1, 2, 1, 2, 2, 2, 2, 2, 2, 1, 2, 2, 1, 2, 2, 2, 2, 1, 2, 1, 4, 4, 4, 4, 4, 4, 4, 4, 4, 4, 4, 4, 4, 4, 4, 4, 4, 4, 4, 4, 0, 0, 0, 3, 0, 3, 0, 3, 0, 0, 0, 0, 3, 0, 3, 0, 0, 0, 0, 3, 4, 4, 4, 4, 4, 4, 4, 4, 4, 4, 4, 4, 4, 4, 4, 4, 4, 4, 4, 4, 0, 0, 0, 3, 0, 0, 3, 0, 0, 3, 0, 0, 0, 0, 0, 3, 3, 0, 0, 0]\n",
            "Within Set Sum of Squared Error = 35.273951620627756\n"
          ]
        }
      ]
    }
  ]
}