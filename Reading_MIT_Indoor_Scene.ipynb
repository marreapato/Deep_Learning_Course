{
  "nbformat": 4,
  "nbformat_minor": 0,
  "metadata": {
    "colab": {
      "provenance": [],
      "authorship_tag": "ABX9TyOjLIhxEAu2NjCnGczGDGlw",
      "include_colab_link": true
    },
    "kernelspec": {
      "name": "python3",
      "display_name": "Python 3"
    },
    "language_info": {
      "name": "python"
    }
  },
  "cells": [
    {
      "cell_type": "markdown",
      "metadata": {
        "id": "view-in-github",
        "colab_type": "text"
      },
      "source": [
        "<a href=\"https://colab.research.google.com/github/marreapato/Deep_Learning_Course/blob/main/Reading_MIT_Indoor_Scene.ipynb\" target=\"_parent\"><img src=\"https://colab.research.google.com/assets/colab-badge.svg\" alt=\"Open In Colab\"/></a>"
      ]
    },
    {
      "cell_type": "code",
      "execution_count": 3,
      "metadata": {
        "colab": {
          "base_uri": "https://localhost:8080/"
        },
        "id": "9pdGZdoJn2GB",
        "outputId": "1ef219a3-6df8-400c-8c0a-409d6713c114"
      },
      "outputs": [
        {
          "output_type": "stream",
          "name": "stdout",
          "text": [
            "Downloaded the dataset to mit_indoor_scene_dataset/indoorCVPR_09.tar.gz\n"
          ]
        }
      ],
      "source": [
        "import requests\n",
        "import os\n",
        "\n",
        "# Define the URL of the dataset\n",
        "url = \"http://groups.csail.mit.edu/vision/LabelMe/NewImages/indoorCVPR_09.tar\"\n",
        "\n",
        "# Define the directory where you want to save the dataset\n",
        "save_dir = \"mit_indoor_scene_dataset\"\n",
        "\n",
        "# Create the directory if it doesn't exist\n",
        "if not os.path.exists(save_dir):\n",
        "    os.makedirs(save_dir)\n",
        "\n",
        "# Define the path where you want to save the downloaded file\n",
        "save_path = os.path.join(save_dir, \"indoorCVPR_09.tar.gz\")\n",
        "\n",
        "# Send an HTTP GET request to download the dataset\n",
        "response = requests.get(url, stream=True)\n",
        "\n",
        "# Check if the request was successful (status code 200)\n",
        "if response.status_code == 200:\n",
        "    # Open the file in binary write mode and write the content of the response\n",
        "    with open(save_path, 'wb') as file:\n",
        "        for chunk in response.iter_content(chunk_size=1024):\n",
        "            file.write(chunk)\n",
        "\n",
        "    print(f\"Downloaded the dataset to {save_path}\")\n",
        "else:\n",
        "    print(f\"Failed to download the dataset. Status code: {response.status_code}\")\n",
        "\n",
        "# You can now extract the contents of the downloaded tar.gz file using Python's tarfile module if needed.\n"
      ]
    },
    {
      "cell_type": "code",
      "source": [
        "from tensorflow import keras\n",
        "from tensorflow.keras.preprocessing.image import ImageDataGenerator\n",
        "\n",
        "# For separating train and test sets\n",
        "from sklearn.model_selection import train_test_split\n",
        "\n",
        "# For visualizations\n",
        "import matplotlib.pyplot as plt\n",
        "import matplotlib.image as img\n",
        "import cv2\n",
        "import numpy as np\n",
        "import pathlib"
      ],
      "metadata": {
        "id": "39S02-I-puUI"
      },
      "execution_count": 9,
      "outputs": []
    },
    {
      "cell_type": "code",
      "source": [
        "from PIL import Image\n",
        "import os\n",
        "import tarfile\n",
        "import os\n",
        "\n",
        "# Define the path to an example image\n",
        "image_path = \"/content/mit_indoor_scene_dataset/indoorCVPR_09.tar.gz\"\n",
        "\n",
        "\n",
        "\n",
        "t = tarfile.open(image_path, 'r')\n",
        "for member in t.getmembers():\n",
        "    if \".jpg\" in member.name:\n",
        "        t.extract(member, \"outdir\")\n",
        "\n",
        "print(os.listdir('outdir'))"
      ],
      "metadata": {
        "colab": {
          "base_uri": "https://localhost:8080/"
        },
        "id": "q1_Viwsapd9O",
        "outputId": "e596679c-c7e1-4648-a4f2-feb57883afd3"
      },
      "execution_count": 15,
      "outputs": [
        {
          "output_type": "stream",
          "name": "stdout",
          "text": [
            "['Images']\n"
          ]
        }
      ]
    }
  ]
}