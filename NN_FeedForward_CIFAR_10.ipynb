{
  "cells": [
    {
      "cell_type": "markdown",
      "metadata": {
        "id": "view-in-github",
        "colab_type": "text"
      },
      "source": [
        "<a href=\"https://colab.research.google.com/github/marreapato/Deep_Learning_Course/blob/main/NN_FeedForward_CIFAR_10.ipynb\" target=\"_parent\"><img src=\"https://colab.research.google.com/assets/colab-badge.svg\" alt=\"Open In Colab\"/></a>"
      ]
    },
    {
      "cell_type": "markdown",
      "source": [
        "Discente: Lucas Rabelo de Araujo Morais\n",
        "\n"
      ],
      "metadata": {
        "id": "ldWCvX1QpaBn"
      }
    },
    {
      "cell_type": "markdown",
      "metadata": {
        "id": "gQjHFyQvYlQf"
      },
      "source": [
        "# CIFAR-10 Dataset\n",
        "\n"
      ]
    },
    {
      "cell_type": "markdown",
      "metadata": {
        "id": "vdAKVs5UYlQg"
      },
      "source": [
        "O conjunto de dados CIFAR-10 consiste em um total de 60.000 imagens coloridas de baixa resolução, distribuídas em 10 classes distintas. Cada imagem tem dimensões de 32x32 pixels, totalizando 1.024 pixels por imagem. Essas 60.000 imagens são divididas em dois conjuntos: 50.000 para treinamento e 10.000 para teste. Cada uma das 10 classes contém 5.000 imagens de treinamento e 1.000 imagens de teste. As classes do CIFAR-10 representam categorias amplas, incluindo objetos do mundo real como carros, aviões, gatos, cachorros, entre outros. Este conjunto de dados é frequentemente usado como um benchmark para avaliar algoritmos de aprendizado de máquina e redes neurais convolucionais em tarefas de classificação de imagens. É um dos conjuntos de dados mais populares na área de visão computacional e aprendizado profundo.\n",
        "\n",
        "## Motivo da Escolha\n",
        "\n",
        "\n",
        "Anteriormente outra tentativa foi realizada com o Cow Lumpy Disease Dataset, [neste notebook com ANN](https://colab.research.google.com/drive/1473BJylSXEbVwf8bGGZjp4SrAaCZopYh#scrollTo=hxLK1tTdZFLd) e [neste notebook com CNN](https://colab.research.google.com/drive/1NyeMYUU5EaIlBqBeEJrAJ-2KjPv83GgT#scrollTo=b77pONC0YlQz), mas o modelo cnn entrou em overfitting, pela pequena quantidade de dados, provavelmente seria exigido muito mais tempo e esforço da GPU para realizar a previsão deste dataset com um modelo que não é pré-treinado, estratégias como data augmentation, etc. Portanto, o Cifar-10 foi escolhido por seu volume de elementos e sua questão mais didática referente a aplicação da atividade.\n",
        "\n",
        "\n",
        "Mais informações sobre o CIFAR-10 estão na [documentação](https://www.tensorflow.org/datasets/catalog/cifar10?hl=pt-br) do tensorflow.\n",
        "\n",
        "\n",
        "\n",
        "\n",
        "O significado de cada Label (que será categorizada de 0 a 9) também está na figura abaixo:"
      ]
    },
    {
      "cell_type": "markdown",
      "metadata": {
        "id": "TwMPXy-eYlQk"
      },
      "source": [
        "<img src=\"https://production-media.paperswithcode.com/datasets/4fdf2b82-2bc3-4f97-ba51-400322b228b1.png\" style=\"width: 600px;\">"
      ]
    },
    {
      "cell_type": "code",
      "execution_count": null,
      "metadata": {
        "id": "nhCtyJV6YlQq"
      },
      "outputs": [],
      "source": [
        "import pandas as pd\n",
        "import tensorflow as tf\n",
        "import tensorflow.keras.datasets\n",
        "#chamando os dados subdivididos entre treinamento e teste\n",
        "\n",
        "\n",
        "(x_train, y_train), (x_valid, y_valid) = tf.keras.datasets.cifar10.load_data()"
      ]
    },
    {
      "cell_type": "code",
      "source": [
        "x_train.shape"
      ],
      "metadata": {
        "id": "0PsVLg4V9Wva",
        "colab": {
          "base_uri": "https://localhost:8080/"
        },
        "outputId": "5a0aacfb-c997-4c4b-ddb0-01371a5a55ea"
      },
      "execution_count": null,
      "outputs": [
        {
          "output_type": "execute_result",
          "data": {
            "text/plain": [
              "(50000, 32, 32, 3)"
            ]
          },
          "metadata": {},
          "execution_count": 2
        }
      ]
    },
    {
      "cell_type": "code",
      "source": [
        "x_valid.shape"
      ],
      "metadata": {
        "id": "CurqRXfo_X0i",
        "colab": {
          "base_uri": "https://localhost:8080/"
        },
        "outputId": "56c2437f-a56f-4715-8545-6d2dc91891f8"
      },
      "execution_count": null,
      "outputs": [
        {
          "output_type": "execute_result",
          "data": {
            "text/plain": [
              "(10000, 32, 32, 3)"
            ]
          },
          "metadata": {},
          "execution_count": 3
        }
      ]
    },
    {
      "cell_type": "markdown",
      "source": [
        "Quero uma divisão 80% para treinamento e 20% validação. O parâmetro shuffle da função train_test_split, randomiza o dataset para realizar a separação."
      ],
      "metadata": {
        "id": "tSuR_ccheaSG"
      }
    },
    {
      "cell_type": "code",
      "source": [
        "from sklearn.model_selection import train_test_split\n",
        "import numpy as np\n",
        "\n",
        "\n",
        "X = np.concatenate([x_train, x_valid],axis=0)\n",
        "y = np.concatenate([y_train, y_valid],axis=0)"
      ],
      "metadata": {
        "id": "r73GVcqYezVP"
      },
      "execution_count": null,
      "outputs": []
    },
    {
      "cell_type": "code",
      "source": [
        "# Divisão 80 - 20\n",
        "\n",
        "x_train, x_valid, y_train, y_valid = train_test_split(X, y, test_size=0.2,shuffle=True, random_state=11) # random_state permite controlar a aleatoriedade e tornar o código mais previsível e reprodutível."
      ],
      "metadata": {
        "id": "dqDce1aEe-CS"
      },
      "execution_count": null,
      "outputs": []
    },
    {
      "cell_type": "code",
      "source": [
        "print(x_train.shape)\n",
        "print(x_valid.shape)"
      ],
      "metadata": {
        "colab": {
          "base_uri": "https://localhost:8080/"
        },
        "id": "OO80kvWvfhFG",
        "outputId": "7c66d3a8-48c5-45f3-8aa6-339d80af47ba"
      },
      "execution_count": null,
      "outputs": [
        {
          "output_type": "stream",
          "name": "stdout",
          "text": [
            "(48000, 32, 32, 3)\n",
            "(12000, 32, 32, 3)\n"
          ]
        }
      ]
    },
    {
      "cell_type": "code",
      "source": [
        "import matplotlib.pyplot as plt\n",
        "\n",
        "image = x_train[0]\n",
        "plt.imshow(image)#boot\n"
      ],
      "metadata": {
        "id": "Zp-TuHhmCjjs",
        "colab": {
          "base_uri": "https://localhost:8080/",
          "height": 447
        },
        "outputId": "e2d58f05-d034-4785-b38f-645a066903aa"
      },
      "execution_count": null,
      "outputs": [
        {
          "output_type": "execute_result",
          "data": {
            "text/plain": [
              "<matplotlib.image.AxesImage at 0x7fe4edc96500>"
            ]
          },
          "metadata": {},
          "execution_count": 7
        },
        {
          "output_type": "display_data",
          "data": {
            "text/plain": [
              "<Figure size 640x480 with 1 Axes>"
            ],
            "image/png": "[encoded data removed]"
          },
          "metadata": {}
        }
      ]
    },
    {
      "cell_type": "code",
      "source": [
        "print(y_train[0])# 8 = Barco"
      ],
      "metadata": {
        "id": "HVZRnoLlDHsh",
        "colab": {
          "base_uri": "https://localhost:8080/"
        },
        "outputId": "84a06137-b105-4150-ff97-ae4d826e8529"
      },
      "execution_count": null,
      "outputs": [
        {
          "output_type": "stream",
          "name": "stdout",
          "text": [
            "[8]\n"
          ]
        }
      ]
    },
    {
      "cell_type": "markdown",
      "metadata": {
        "id": "MeyBCqhEYlQq"
      },
      "source": [
        "### Pré-Processamento\n",
        "\n"
      ]
    },
    {
      "cell_type": "markdown",
      "source": [
        "*Flattening* (Necessário para o input da rede neural, no caso do CIFAR-10 teremos que cada imagem será um vetor de $32\\cdot32\\cdot3$ onde $3$ corresponde o número de canais da imagem (RGB)."
      ],
      "metadata": {
        "id": "uHXye_mRMNIx"
      }
    },
    {
      "cell_type": "code",
      "source": [
        "x_train = x_train.reshape(len(x_train), 32*32*3)\n",
        "x_valid = x_valid.reshape(len(x_valid), 32*32*3)"
      ],
      "metadata": {
        "id": "86UvVsmkMMYH"
      },
      "execution_count": null,
      "outputs": []
    },
    {
      "cell_type": "markdown",
      "metadata": {
        "id": "IYbHQtgGYlQr"
      },
      "source": [
        "**Normalização** - Cada canal RGB contém pixels de 0 até 255, os valores são normalizados para garantir propriedades como convergência mais rápida, estabilidade númerica e redução do efeito de outliers\n"
      ]
    },
    {
      "cell_type": "code",
      "execution_count": null,
      "metadata": {
        "id": "DkZXx0mLYlQr"
      },
      "outputs": [],
      "source": [
        "x_train = x_train / 255\n",
        "x_valid = x_valid / 255"
      ]
    },
    {
      "cell_type": "markdown",
      "source": [
        "**Categorical Enconding (Ortogonalização)**\n",
        "\n",
        "Essa etapa é necessária pois temos mais de uma variável categórica, no vetor abaixo temos as labels antes do Hot Encoding aplicado\n"
      ],
      "metadata": {
        "id": "MDRrEf7BH6fh"
      }
    },
    {
      "cell_type": "code",
      "source": [
        "y_train"
      ],
      "metadata": {
        "id": "5NBobdFqH5kG",
        "colab": {
          "base_uri": "https://localhost:8080/"
        },
        "outputId": "3bcaa860-2999-42c7-cfb7-6c39f84468d1"
      },
      "execution_count": null,
      "outputs": [
        {
          "output_type": "execute_result",
          "data": {
            "text/plain": [
              "array([[8],\n",
              "       [6],\n",
              "       [6],\n",
              "       ...,\n",
              "       [9],\n",
              "       [3],\n",
              "       [3]], dtype=uint8)"
            ]
          },
          "metadata": {},
          "execution_count": 11
        }
      ]
    },
    {
      "cell_type": "code",
      "source": [
        "import tensorflow.keras as keras\n",
        "num_categories = 10 # categorias de 0 a 9\n",
        "\n",
        "y_train = keras.utils.to_categorical(y_train, num_categories)# a função aplica o hot encoding\n",
        "y_valid = keras.utils.to_categorical(y_valid, num_categories)"
      ],
      "metadata": {
        "id": "XwrIjswvIszq"
      },
      "execution_count": null,
      "outputs": []
    },
    {
      "cell_type": "markdown",
      "source": [
        "Por fim as labels estão em um formato apropriado para treinamento de redes neurais:\n"
      ],
      "metadata": {
        "id": "qaOm3h9fiH-m"
      }
    },
    {
      "cell_type": "code",
      "source": [
        "y_train"
      ],
      "metadata": {
        "id": "TgPLVqvwKBgL",
        "colab": {
          "base_uri": "https://localhost:8080/"
        },
        "outputId": "9fa2a658-2882-40e9-d54b-3678d094d9f5"
      },
      "execution_count": null,
      "outputs": [
        {
          "output_type": "execute_result",
          "data": {
            "text/plain": [
              "array([[0., 0., 0., ..., 0., 1., 0.],\n",
              "       [0., 0., 0., ..., 0., 0., 0.],\n",
              "       [0., 0., 0., ..., 0., 0., 0.],\n",
              "       ...,\n",
              "       [0., 0., 0., ..., 0., 0., 1.],\n",
              "       [0., 0., 0., ..., 0., 0., 0.],\n",
              "       [0., 0., 0., ..., 0., 0., 0.]], dtype=float32)"
            ]
          },
          "metadata": {},
          "execution_count": 13
        }
      ]
    },
    {
      "cell_type": "markdown",
      "metadata": {
        "id": "z41JAZjMqJwJ"
      },
      "source": [
        "### Modelo de Rede Neural FeedForward\n",
        "\n"
      ]
    },
    {
      "cell_type": "markdown",
      "metadata": {
        "id": "xZG6iHQOqJwJ"
      },
      "source": [
        "Usamos o modelo sequential do keras, indicando que estamos em uma estrutura feedforward, na camada inicial incluímos os neurônios de entrada (totalmente conectados) com um input vetorial de tamanho $32\\cdot32\\cdot3$. Na camada escondida temos 420 neurônios e na camada de saída temos 10 neurônios, que correspondem a quantidade de categorias do dataset."
      ]
    },
    {
      "cell_type": "code",
      "execution_count": null,
      "metadata": {
        "id": "AUXpoAXPqJwK"
      },
      "outputs": [],
      "source": [
        "from tensorflow.keras.layers import Dense\n",
        "from tensorflow.keras.models import Sequential\n",
        "\n",
        "model = Sequential()\n",
        "model.add(Dense(units=420, activation='relu', input_shape=(32*32*3,)))#camada de entrada\n",
        "model.add(Dense(units = 420, activation='relu'))#camada escondida\n",
        "model.add(Dense(units = 10, activation='softmax'))#camada de saída"
      ]
    },
    {
      "cell_type": "markdown",
      "metadata": {
        "id": "6rRXIj6TqJwN"
      },
      "source": [
        "### Sumário do Modelo (Será comentado no final, junto com a performance)"
      ]
    },
    {
      "cell_type": "code",
      "execution_count": null,
      "metadata": {
        "colab": {
          "base_uri": "https://localhost:8080/"
        },
        "id": "mvEs89JOqJwO",
        "outputId": "88179854-49ef-4dc6-d234-f63c3b6aaf9f"
      },
      "outputs": [
        {
          "output_type": "stream",
          "name": "stdout",
          "text": [
            "Model: \"sequential\"\n",
            "_________________________________________________________________\n",
            " Layer (type)                Output Shape              Param #   \n",
            "=================================================================\n",
            " dense (Dense)               (None, 420)               1290660   \n",
            "                                                                 \n",
            " dense_1 (Dense)             (None, 420)               176820    \n",
            "                                                                 \n",
            " dense_2 (Dense)             (None, 10)                4210      \n",
            "                                                                 \n",
            "=================================================================\n",
            "Total params: 1471690 (5.61 MB)\n",
            "Trainable params: 1471690 (5.61 MB)\n",
            "Non-trainable params: 0 (0.00 Byte)\n",
            "_________________________________________________________________\n"
          ]
        }
      ],
      "source": [
        "model.summary()"
      ]
    },
    {
      "cell_type": "markdown",
      "metadata": {
        "id": "cOBZkDoFqJwP"
      },
      "source": [
        "### Compilação do modelo"
      ]
    },
    {
      "cell_type": "markdown",
      "metadata": {
        "id": "P1-zgdiHqJwP"
      },
      "source": [
        "A métrica utilizada é a acurácia e a função de perda é a categorical_crossentropy, pois ela calcula a diferença entre as probabilidades previstas pelo modelo para cada classe e as classes reais (representadas em codificação one-hot), penalizando o modelo de acordo com a discrepância entre as previsões e os rótulos reais. A 'categorical_crossentropy' é uma função de perda apropriada para problemas de classificação multiclasse."
      ]
    },
    {
      "cell_type": "code",
      "execution_count": null,
      "metadata": {
        "id": "5QdhjvDXqJwP"
      },
      "outputs": [],
      "source": [
        "model.compile(loss='categorical_crossentropy', metrics=['accuracy'])"
      ]
    },
    {
      "cell_type": "code",
      "execution_count": null,
      "metadata": {
        "id": "eDTuiKREqJwQ",
        "colab": {
          "base_uri": "https://localhost:8080/"
        },
        "outputId": "57cef7a4-5015-4e11-bc94-ba0b55ab9e2b"
      },
      "outputs": [
        {
          "output_type": "stream",
          "name": "stdout",
          "text": [
            "Epoch 1/10\n",
            "1500/1500 [==============================] - 24s 15ms/step - loss: 1.9168 - accuracy: 0.3125 - val_loss: 1.8129 - val_accuracy: 0.3364\n",
            "Epoch 2/10\n",
            "1500/1500 [==============================] - 21s 14ms/step - loss: 1.7132 - accuracy: 0.3871 - val_loss: 1.6699 - val_accuracy: 0.4004\n",
            "Epoch 3/10\n",
            "1500/1500 [==============================] - 18s 12ms/step - loss: 1.6438 - accuracy: 0.4151 - val_loss: 1.6112 - val_accuracy: 0.4251\n",
            "Epoch 4/10\n",
            "1500/1500 [==============================] - 16s 10ms/step - loss: 1.6084 - accuracy: 0.4311 - val_loss: 1.6040 - val_accuracy: 0.4416\n",
            "Epoch 5/10\n",
            "1500/1500 [==============================] - 15s 10ms/step - loss: 1.5780 - accuracy: 0.4424 - val_loss: 1.6365 - val_accuracy: 0.4181\n",
            "Epoch 6/10\n",
            "1500/1500 [==============================] - 16s 11ms/step - loss: 1.5651 - accuracy: 0.4504 - val_loss: 1.5909 - val_accuracy: 0.4343\n",
            "Epoch 7/10\n",
            "1500/1500 [==============================] - 15s 10ms/step - loss: 1.5491 - accuracy: 0.4551 - val_loss: 1.5660 - val_accuracy: 0.4479\n",
            "Epoch 8/10\n",
            "1500/1500 [==============================] - 15s 10ms/step - loss: 1.5425 - accuracy: 0.4551 - val_loss: 1.5874 - val_accuracy: 0.4510\n",
            "Epoch 9/10\n",
            "1500/1500 [==============================] - 15s 10ms/step - loss: 1.5376 - accuracy: 0.4571 - val_loss: 1.5732 - val_accuracy: 0.4431\n",
            "Epoch 10/10\n",
            "1500/1500 [==============================] - 16s 10ms/step - loss: 1.5382 - accuracy: 0.4597 - val_loss: 1.5721 - val_accuracy: 0.4552\n"
          ]
        }
      ],
      "source": [
        "history = model.fit(\n",
        "    x_train, y_train, epochs=10, verbose=1, validation_data=(x_valid, y_valid)\n",
        ")"
      ]
    },
    {
      "cell_type": "markdown",
      "source": [
        "A função de perda no conjunto de treinamento dimunyi ao longo das épocas, e a acurácia aumenta. Isso indica que o modelo está aprendendo a se ajustar cada vez melhor aos dados de treinamento.\n",
        "\n",
        "A perda no conjunto de validação (val_loss) está diminuindo nas primeiras épocas, mas parece começar a aumentar novamente a partir da época 3 ou 4, enquanto a acurácia parece estabilizar ou diminuir ligeiramente após esse ponto.\n",
        "\n",
        "Com base nessas observações, é possível que o modelo esteja começando a sofrer de overfitting."
      ],
      "metadata": {
        "id": "_ZcMZjRonyRk"
      }
    },
    {
      "cell_type": "markdown",
      "metadata": {
        "id": "xlluCyqHYlQ1"
      },
      "source": [
        "## Comentário Final"
      ]
    },
    {
      "cell_type": "markdown",
      "metadata": {
        "id": "hoQudS7iYlQ1"
      },
      "source": [
        "O total de Parâmetros no Modelo foi de 1.471.690 (aproximadamente 5.61 MB)\n",
        "\n",
        "A quantidade de parâmetros em uma rede neural está diretamente relacionada à sua capacidade de aprender a partir dos dados. Modelos com mais parâmetros têm maior capacidade de aprendizado, mas também são mais propensos ao overfitting se não forem adequadamente regularizados, correspondendo ao caso do modelo que foi ajustado nos dados do CIFAR-10.\n",
        "\n",
        "O comentário em relação a CNN (e a comparação de performance dos modelos) estará no notebook de CNN."
      ]
    }
  ],
  "metadata": {
    "accelerator": "GPU",
    "colab": {
      "machine_shape": "hm",
      "provenance": [],
      "include_colab_link": true
    },
    "kernelspec": {
      "display_name": "Python 3 (ipykernel)",
      "language": "python",
      "name": "python3"
    },
    "language_info": {
      "codemirror_mode": {
        "name": "ipython",
        "version": 3
      },
      "file_extension": ".py",
      "mimetype": "text/x-python",
      "name": "python",
      "nbconvert_exporter": "python",
      "pygments_lexer": "ipython3",
      "version": "3.8.10"
    }
  },
  "nbformat": 4,
  "nbformat_minor": 0
}